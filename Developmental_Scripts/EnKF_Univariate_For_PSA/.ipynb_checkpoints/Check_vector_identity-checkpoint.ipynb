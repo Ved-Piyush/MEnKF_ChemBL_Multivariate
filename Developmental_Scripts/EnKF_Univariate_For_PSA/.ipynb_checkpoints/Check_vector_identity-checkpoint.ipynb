{
 "cells": [
  {
   "cell_type": "code",
   "execution_count": 2,
   "id": "bb347560-b77f-4ee6-b8bf-7ef73c89891d",
   "metadata": {},
   "outputs": [],
   "source": [
    "import numpy as np"
   ]
  },
  {
   "cell_type": "code",
   "execution_count": 4,
   "id": "04f75357-7f1d-431d-86c9-1ed7f3d78f1f",
   "metadata": {},
   "outputs": [],
   "source": [
    "Y1 = np.random.random((32, 2))"
   ]
  },
  {
   "cell_type": "code",
   "execution_count": 5,
   "id": "af610be7-1b02-4430-a2f2-064ef06e17a3",
   "metadata": {},
   "outputs": [],
   "source": [
    "Y2 = np.random.random((32, 2))"
   ]
  },
  {
   "cell_type": "code",
   "execution_count": 6,
   "id": "eb9f9fb7-67e2-4ea6-a9f2-48cffbd94aa0",
   "metadata": {},
   "outputs": [],
   "source": [
    "Ws = np.random.random((64, 4))"
   ]
  },
  {
   "cell_type": "code",
   "execution_count": 7,
   "id": "81d4423b-0e1c-4f8f-98c9-e0e6a4bd60aa",
   "metadata": {},
   "outputs": [],
   "source": [
    "X_fr = np.hstack((Y1, Y2))"
   ]
  },
  {
   "cell_type": "code",
   "execution_count": 8,
   "id": "387ef73a-3fda-4067-b4c0-7f429893161d",
   "metadata": {},
   "outputs": [
    {
     "data": {
      "text/plain": [
       "(32, 4)"
      ]
     },
     "execution_count": 8,
     "metadata": {},
     "output_type": "execute_result"
    }
   ],
   "source": [
    "X_fr.shape"
   ]
  },
  {
   "cell_type": "code",
   "execution_count": 9,
   "id": "582a925a-59e7-46cd-805b-78d4b90474c9",
   "metadata": {},
   "outputs": [],
   "source": [
    "X = np.vstack((X_fr, Ws))"
   ]
  },
  {
   "cell_type": "code",
   "execution_count": 10,
   "id": "18fd21bb-12e5-40f6-93d0-1fb54ceb8798",
   "metadata": {},
   "outputs": [
    {
     "data": {
      "text/plain": [
       "(96, 4)"
      ]
     },
     "execution_count": 10,
     "metadata": {},
     "output_type": "execute_result"
    }
   ],
   "source": [
    "X.shape"
   ]
  },
  {
   "cell_type": "code",
   "execution_count": 17,
   "id": "09801de3-ac3c-4679-9e41-0659354b2b55",
   "metadata": {},
   "outputs": [],
   "source": [
    "H = np.hstack((np.identity(32), np.zeros((32, 64))))"
   ]
  },
  {
   "cell_type": "code",
   "execution_count": 18,
   "id": "8a759081-1a8d-46b7-85d1-9d0a60532a09",
   "metadata": {},
   "outputs": [
    {
     "data": {
      "text/plain": [
       "(32, 96)"
      ]
     },
     "execution_count": 18,
     "metadata": {},
     "output_type": "execute_result"
    }
   ],
   "source": [
    "H.shape"
   ]
  },
  {
   "cell_type": "code",
   "execution_count": 19,
   "id": "c02976cf-8805-4bdf-a201-77e304cde95b",
   "metadata": {},
   "outputs": [],
   "source": [
    "G_t = [[1, 0, 1, 0], [0,1,0,1]]"
   ]
  },
  {
   "cell_type": "code",
   "execution_count": 22,
   "id": "c56d0434-8fea-4d9b-aba0-dfa85c7cd0a3",
   "metadata": {},
   "outputs": [],
   "source": [
    "G_t = np.array(G_t).T"
   ]
  },
  {
   "cell_type": "code",
   "execution_count": 23,
   "id": "79ea62db-c475-4c29-8786-c3dd74bb5573",
   "metadata": {},
   "outputs": [
    {
     "data": {
      "text/plain": [
       "array([[1, 0],\n",
       "       [0, 1],\n",
       "       [1, 0],\n",
       "       [0, 1]])"
      ]
     },
     "execution_count": 23,
     "metadata": {},
     "output_type": "execute_result"
    }
   ],
   "source": [
    "G_t"
   ]
  },
  {
   "cell_type": "code",
   "execution_count": 21,
   "id": "5efea87e-5085-4801-856c-dbd519acef5e",
   "metadata": {},
   "outputs": [
    {
     "data": {
      "text/plain": [
       "(2, 4)"
      ]
     },
     "execution_count": 21,
     "metadata": {},
     "output_type": "execute_result"
    }
   ],
   "source": [
    "G_t.shape"
   ]
  },
  {
   "cell_type": "code",
   "execution_count": 24,
   "id": "1d6cd97c-477a-4b69-b757-9ea9df60d061",
   "metadata": {},
   "outputs": [],
   "source": [
    "product = H@X@G_t"
   ]
  },
  {
   "cell_type": "code",
   "execution_count": 25,
   "id": "4b9e3dc1-c40a-43df-8519-d3f82ecd6c98",
   "metadata": {},
   "outputs": [
    {
     "data": {
      "text/plain": [
       "(32, 2)"
      ]
     },
     "execution_count": 25,
     "metadata": {},
     "output_type": "execute_result"
    }
   ],
   "source": [
    "product.shape"
   ]
  },
  {
   "cell_type": "code",
   "execution_count": 28,
   "id": "2af439bc-8809-4602-8c23-638e0b3d1746",
   "metadata": {},
   "outputs": [
    {
     "data": {
      "text/plain": [
       "array([0.92037318, 0.81566868, 0.72609856, 0.24610441])"
      ]
     },
     "execution_count": 28,
     "metadata": {},
     "output_type": "execute_result"
    }
   ],
   "source": [
    "X[0,:]"
   ]
  },
  {
   "cell_type": "code",
   "execution_count": 29,
   "id": "fb7ba2fd-14bb-4f43-a1bf-a885c6e4d3cc",
   "metadata": {},
   "outputs": [
    {
     "data": {
      "text/plain": [
       "1.646471740834253"
      ]
     },
     "execution_count": 29,
     "metadata": {},
     "output_type": "execute_result"
    }
   ],
   "source": [
    "X[0,0] + X[0,2]"
   ]
  },
  {
   "cell_type": "code",
   "execution_count": 30,
   "id": "89b88551-7a9e-41cf-bca3-e2d4cddf6bd9",
   "metadata": {},
   "outputs": [
    {
     "data": {
      "text/plain": [
       "1.0617730930988587"
      ]
     },
     "execution_count": 30,
     "metadata": {},
     "output_type": "execute_result"
    }
   ],
   "source": [
    "X[0,1] + X[0,3]"
   ]
  },
  {
   "cell_type": "code",
   "execution_count": 31,
   "id": "dfe59051-0ae7-4b98-b099-c291cd114109",
   "metadata": {},
   "outputs": [],
   "source": [
    "# product"
   ]
  },
  {
   "cell_type": "code",
   "execution_count": 34,
   "id": "4392d5f8-bb58-402a-8a92-fe39ad239507",
   "metadata": {},
   "outputs": [],
   "source": [
    "vec_product = product.T.ravel()"
   ]
  },
  {
   "cell_type": "code",
   "execution_count": 36,
   "id": "4f67778f-6885-4b79-828a-88c4388a7cc2",
   "metadata": {},
   "outputs": [],
   "source": [
    "rhs= np.kron(G_t.T, H)@(X.T.ravel())"
   ]
  },
  {
   "cell_type": "code",
   "execution_count": 37,
   "id": "d52d82f8-b116-4e00-a8bc-d09d3865bd00",
   "metadata": {},
   "outputs": [
    {
     "data": {
      "text/plain": [
       "array([ True,  True,  True,  True,  True,  True,  True,  True,  True,\n",
       "        True,  True,  True,  True,  True,  True,  True,  True,  True,\n",
       "        True,  True,  True,  True,  True,  True,  True,  True,  True,\n",
       "        True,  True,  True,  True,  True,  True,  True,  True,  True,\n",
       "        True,  True,  True,  True,  True,  True,  True,  True,  True,\n",
       "        True,  True,  True,  True,  True,  True,  True,  True,  True,\n",
       "        True,  True,  True,  True,  True,  True,  True,  True,  True,\n",
       "        True])"
      ]
     },
     "execution_count": 37,
     "metadata": {},
     "output_type": "execute_result"
    }
   ],
   "source": [
    "vec_product == rhs"
   ]
  }
 ],
 "metadata": {
  "kernelspec": {
   "display_name": "enkf",
   "language": "python",
   "name": "enkf"
  },
  "language_info": {
   "codemirror_mode": {
    "name": "ipython",
    "version": 3
   },
   "file_extension": ".py",
   "mimetype": "text/x-python",
   "name": "python",
   "nbconvert_exporter": "python",
   "pygments_lexer": "ipython3",
   "version": "3.11.3"
  }
 },
 "nbformat": 4,
 "nbformat_minor": 5
}

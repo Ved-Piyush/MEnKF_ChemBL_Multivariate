{
 "cells": [
  {
   "cell_type": "code",
   "execution_count": 2,
   "id": "aa53e19a-64db-4b1d-9378-c19c8efacd62",
   "metadata": {},
   "outputs": [
    {
     "name": "stderr",
     "output_type": "stream",
     "text": [
      "2023-06-09 18:16:00.453438: I tensorflow/core/util/port.cc:110] oneDNN custom operations are on. You may see slightly different numerical results due to floating-point round-off errors from different computation orders. To turn them off, set the environment variable `TF_ENABLE_ONEDNN_OPTS=0`.\n",
      "2023-06-09 18:16:00.455778: I tensorflow/tsl/cuda/cudart_stub.cc:28] Could not find cuda drivers on your machine, GPU will not be used.\n",
      "2023-06-09 18:16:00.493670: I tensorflow/tsl/cuda/cudart_stub.cc:28] Could not find cuda drivers on your machine, GPU will not be used.\n",
      "2023-06-09 18:16:00.494462: I tensorflow/core/platform/cpu_feature_guard.cc:182] This TensorFlow binary is optimized to use available CPU instructions in performance-critical operations.\n",
      "To enable the following instructions: AVX2 AVX512F AVX512_VNNI FMA, in other operations, rebuild TensorFlow with the appropriate compiler flags.\n",
      "2023-06-09 18:16:02.262370: W tensorflow/compiler/tf2tensorrt/utils/py_utils.cc:38] TF-TRT Warning: Could not find TensorRT\n"
     ]
    }
   ],
   "source": [
    "import pandas as pd\n",
    "import numpy as np\n",
    "from sklearn.model_selection import KFold\n",
    "from sklearn.feature_selection import VarianceThreshold\n",
    "import random\n",
    "import pickle\n",
    "from sklearn.preprocessing import StandardScaler\n",
    "import os\n",
    "import tensorflow as tf\n",
    "from tqdm.notebook import tqdm\n",
    "from scipy.stats import multivariate_normal as mvn\n",
    "import matplotlib.pyplot as plt\n",
    "from joblib import Parallel, delayed"
   ]
  },
  {
   "cell_type": "code",
   "execution_count": 3,
   "id": "1df669ac-cde2-4008-b431-0903f21dce58",
   "metadata": {},
   "outputs": [],
   "source": [
    "def get_targets_with_weights(batch_data, batch_data1, initial_ensembles, size_ens): \n",
    "\n",
    "    weights_ann_1 = ann_15.get_weights()\n",
    "    weights_ann_2 = ann_20.get_weights()\n",
    "    \n",
    "    n_hidden_1 = len(weights_ann_1[0].ravel())\n",
    "    \n",
    "    hidden_weights_1 = initial_ensembles[:,:n_hidden_1].reshape( size_ens, batch_data.shape[1], h1)\n",
    "    \n",
    "    \n",
    "    hidden_output_1 = np.einsum('ij,kjl->kil', batch_data, hidden_weights_1)\n",
    "\n",
    "    \n",
    "    hidden_layer_bias_1 = initial_ensembles[:,n_hidden_1:(n_hidden_1 + h1)].reshape(size_ens, 1,  h1)\n",
    "\n",
    "\n",
    "    hidden_output_1 = hidden_output_1 + hidden_layer_bias_1\n",
    "\n",
    "    n_pred_weights_1 = len(weights_ann_1[2].ravel())\n",
    "\n",
    "    output_weights_1 = initial_ensembles[:,(n_hidden_1 + h1):(n_hidden_1 + h1 + n_pred_weights_1) ].reshape(size_ens, h1, target_dim)\n",
    "\n",
    "\n",
    "    output_1 = np.einsum('ijk,ikl->ijl', hidden_output_1, output_weights_1)\n",
    "\n",
    "\n",
    "    output_layer_bias_1 = initial_ensembles[:,(n_hidden_1 + h1 + n_pred_weights_1):(n_hidden_1 + h1 + n_pred_weights_1 + target_dim)].reshape(size_ens, 1, target_dim)\n",
    "\n",
    "\n",
    "    final_output_1 = output_1 + output_layer_bias_1\n",
    "\n",
    "\n",
    "\n",
    "    n_hidden_2 = len(weights_ann_2[0].ravel())\n",
    "\n",
    "    initial_ensembles_1 = initial_ensembles.copy()[:, total_weights_1:(total_weights_1+ total_weights_2)]\n",
    "\n",
    "    hidden_weights_2 = initial_ensembles_1[:,:n_hidden_2].reshape(size_ens, batch_data1.shape[1], h2)\n",
    "\n",
    "\n",
    "\n",
    "    hidden_output_2 = np.einsum('ij,kjl->kil', batch_data1, hidden_weights_2)\n",
    "\n",
    "    hidden_layer_bias_2 = initial_ensembles_1[:,n_hidden_2:(n_hidden_2 + h2)].reshape(size_ens, 1,  h2)\n",
    "\n",
    "\n",
    "    # hidden_layer_bias_2 = np.expand_dims(hidden_layer_bias_2, 0)\n",
    "\n",
    "    hidden_output_2 = hidden_output_2+ hidden_layer_bias_2\n",
    "#     hidden_layer_bias_2 = hidden_layer_bias_2 + hidden_layer_bias_2\n",
    "\n",
    "\n",
    "    n_pred_weights_2 = len(weights_ann_2[2].ravel())\n",
    "\n",
    "    output_weights_2 = initial_ensembles_1[:,(n_hidden_2 + h2):(n_hidden_2 + h2 + n_pred_weights_2) ].reshape(size_ens, h2, target_dim)\n",
    "\n",
    "\n",
    "    output_2 = np.einsum('ijk,ikl->ijl', hidden_output_2, output_weights_2)\n",
    "\n",
    "\n",
    "    output_layer_bias_2 = initial_ensembles_1[:,(n_hidden_2 + h2 + n_pred_weights_2):(n_hidden_2 + h2 + n_pred_weights_2 + target_dim)].reshape(size_ens, 1, target_dim)\n",
    "\n",
    "    # output_layer_bias_2 = np.expand_dims(output_layer_bias_2, 0)\n",
    "\n",
    "\n",
    "    final_output_2 = output_2 + output_layer_bias_2\n",
    "\n",
    "\n",
    "    weights_1 = initial_ensembles[:, :total_weights_1]\n",
    "\n",
    "    weights_2 = initial_ensembles[:, total_weights_1:(total_weights_1 + total_weights_2)]\n",
    "\n",
    "#     print(weights_1.shape)\n",
    "    \n",
    "    # print(weights_2.shape)\n",
    "\n",
    "    avg_weights = initial_ensembles[:, -7].reshape(-1,1)\n",
    "    \n",
    "    # cov_matrix_parms =  initial_ensembles[:, -3:].reshape(-1,1)\n",
    "    \n",
    "    # avg_weights_not_sig = avg_weights.reshape(avg_weights.shape[0], 1, avg_weights.shape[1])\n",
    "    \n",
    "    \n",
    "    avg_weights_sig = expit(avg_weights)\n",
    "    \n",
    "    avg_weights_sig = avg_weights_sig.reshape(avg_weights_sig.shape[0], 1, avg_weights_sig.shape[1])\n",
    "    \n",
    "    \n",
    "    complement_weights_sig = 1 - expit(avg_weights)\n",
    "    \n",
    "    complement_weights_sig = complement_weights_sig.reshape(complement_weights_sig.shape[0], 1, complement_weights_sig.shape[1])\n",
    "    \n",
    "\n",
    "    final_output_1 = final_output_1*complement_weights_sig\n",
    "    \n",
    "    final_output_2 = final_output_2*avg_weights_sig\n",
    "    \n",
    "    return final_output_1 + final_output_2"
   ]
  },
  {
   "cell_type": "code",
   "execution_count": 4,
   "id": "2a66ee4c-4112-4dca-a9cc-68a60d4e316f",
   "metadata": {},
   "outputs": [],
   "source": [
    "def ann(hidden = 32, input_shape = 256, output_shape = 2): \n",
    "    input_layer = tf.keras.layers.Input(shape = (input_shape))\n",
    "    hidden_layer = tf.keras.layers.Dense(hidden)\n",
    "    hidden_output = hidden_layer(input_layer)\n",
    "    pred_layer = tf.keras.layers.Dense(output_shape, activation = \"relu\")\n",
    "    pred_output = pred_layer(hidden_output)\n",
    "#     pred_output = tf.keras.layers.Activation(\"softmax\")(pred_output)\n",
    "    model = tf.keras.models.Model(input_layer, pred_output)\n",
    "    return model"
   ]
  },
  {
   "cell_type": "code",
   "execution_count": 5,
   "id": "809d88a0-ecd2-44b9-9b94-2ece04ebc3b6",
   "metadata": {},
   "outputs": [],
   "source": [
    "def expit(x):\n",
    "    \"\"\"Compute softmax values for each sets of scores in x.\"\"\"\n",
    "#     e_x = np.exp(x - np.max(x))\n",
    "    return 1 / (1 + np.exp(-x))"
   ]
  },
  {
   "cell_type": "code",
   "execution_count": 6,
   "id": "8f382d3e-e4dc-4e19-b19a-0eb954236a16",
   "metadata": {},
   "outputs": [],
   "source": [
    "alogp_bottleneck = np.load(\"..//Data/small_mol_phase_3_features_for_both.npy\")"
   ]
  },
  {
   "cell_type": "code",
   "execution_count": 7,
   "id": "76ccbcd4-20bd-4772-ac63-3aaef7ab95d8",
   "metadata": {},
   "outputs": [],
   "source": [
    "# y_valid"
   ]
  },
  {
   "cell_type": "code",
   "execution_count": 8,
   "id": "94e5e3f5-e4c6-40f8-ac40-b487543e3711",
   "metadata": {},
   "outputs": [],
   "source": [
    "y_valid = pd.read_csv(\"..//Data/smiles_with_rdkit_with_small_phase_3_outputs.csv\")"
   ]
  },
  {
   "cell_type": "code",
   "execution_count": 9,
   "id": "de38304b-6569-4387-8868-0837b195e462",
   "metadata": {},
   "outputs": [],
   "source": [
    "# y_valid"
   ]
  },
  {
   "cell_type": "code",
   "execution_count": 10,
   "id": "b697b7f9-3d50-4d71-a436-cdc6434909a5",
   "metadata": {},
   "outputs": [
    {
     "name": "stderr",
     "output_type": "stream",
     "text": [
      "/home/statgrads/vpiyush2/.conda/envs/enkf/lib/python3.11/site-packages/sklearn/base.py:318: UserWarning: Trying to unpickle estimator StandardScaler from version 1.1.2 when using version 1.2.2. This might lead to breaking code or invalid results. Use at your own risk. For more info please refer to:\n",
      "https://scikit-learn.org/stable/model_persistence.html#security-maintainability-limitations\n",
      "  warnings.warn(\n"
     ]
    }
   ],
   "source": [
    "std_targets = pickle.load( open('..//Data//target_scaler.pkl', 'rb'))"
   ]
  },
  {
   "cell_type": "code",
   "execution_count": 11,
   "id": "40aa1581-02a9-4c7f-a348-db236a77f6a7",
   "metadata": {},
   "outputs": [],
   "source": [
    "# y_valid"
   ]
  },
  {
   "cell_type": "code",
   "execution_count": 12,
   "id": "1ad7f00f-1bd3-40bc-b50b-de0406c72655",
   "metadata": {},
   "outputs": [],
   "source": [
    "y_train = y_valid.values[:,1:]"
   ]
  },
  {
   "cell_type": "code",
   "execution_count": 13,
   "id": "e3fe10a7-fcc3-430f-8ade-356a7f7b85b2",
   "metadata": {},
   "outputs": [
    {
     "name": "stderr",
     "output_type": "stream",
     "text": [
      "/home/statgrads/vpiyush2/.conda/envs/enkf/lib/python3.11/site-packages/sklearn/base.py:439: UserWarning: X does not have valid feature names, but StandardScaler was fitted with feature names\n",
      "  warnings.warn(\n"
     ]
    }
   ],
   "source": [
    "y_train = std_targets.transform(y_train)"
   ]
  },
  {
   "cell_type": "code",
   "execution_count": 14,
   "id": "a77fe79e-61fc-40f4-a7d9-62de18572b1e",
   "metadata": {},
   "outputs": [],
   "source": [
    "# R_t = np.cov(y_train.T)"
   ]
  },
  {
   "cell_type": "code",
   "execution_count": 15,
   "id": "6dfffa08-081b-4b5f-8181-ae94a920c932",
   "metadata": {},
   "outputs": [],
   "source": [
    "from sklearn.model_selection import train_test_split"
   ]
  },
  {
   "cell_type": "code",
   "execution_count": 16,
   "id": "f03896e4-b7c8-4237-a0a8-7af9ed6b1f0d",
   "metadata": {},
   "outputs": [],
   "source": [
    "x_train, x_valid, y_train, y_valid = train_test_split(alogp_bottleneck, y_train, test_size = 0.25, shuffle = True, \n",
    "                                                     random_state = 42)"
   ]
  },
  {
   "cell_type": "code",
   "execution_count": 17,
   "id": "e2ed02ca-e8a1-4767-8152-4fc17b1afe61",
   "metadata": {},
   "outputs": [
    {
     "data": {
      "text/plain": [
       "(719, 64)"
      ]
     },
     "execution_count": 17,
     "metadata": {},
     "output_type": "execute_result"
    }
   ],
   "source": [
    "x_train.shape"
   ]
  },
  {
   "cell_type": "code",
   "execution_count": 18,
   "id": "88095659-0253-45ce-bdd9-ba45331b0b55",
   "metadata": {},
   "outputs": [],
   "source": [
    "from scipy.linalg import block_diag"
   ]
  },
  {
   "cell_type": "code",
   "execution_count": 19,
   "id": "94c22e16-b500-4fcb-89af-2a6d221910a7",
   "metadata": {},
   "outputs": [
    {
     "data": {
      "text/plain": [
       "(240, 64)"
      ]
     },
     "execution_count": 19,
     "metadata": {},
     "output_type": "execute_result"
    }
   ],
   "source": [
    "x_valid.shape"
   ]
  },
  {
   "cell_type": "code",
   "execution_count": 20,
   "id": "a0781f87-7679-4c4f-9c8d-ff491086a37d",
   "metadata": {},
   "outputs": [
    {
     "data": {
      "text/plain": [
       "((719, 2), (240, 2))"
      ]
     },
     "execution_count": 20,
     "metadata": {},
     "output_type": "execute_result"
    }
   ],
   "source": [
    "y_train.shape, y_valid.shape"
   ]
  },
  {
   "cell_type": "code",
   "execution_count": 21,
   "id": "aa0c9cb8-85f5-4bcb-96a2-cb8f9b917689",
   "metadata": {},
   "outputs": [],
   "source": [
    "# n = x_train.shape[0]\n",
    "# R_t = block_diag(*([R_t] * n))"
   ]
  },
  {
   "cell_type": "code",
   "execution_count": 22,
   "id": "0e064cec-711a-451b-b99d-d9ae5fb164e7",
   "metadata": {},
   "outputs": [],
   "source": [
    "# R_t.shape"
   ]
  },
  {
   "cell_type": "code",
   "execution_count": 23,
   "id": "7b98c57b-e85d-46f9-92b4-09f2a1b179a8",
   "metadata": {},
   "outputs": [],
   "source": [
    "smiles_feats_train = x_train[:, :32]"
   ]
  },
  {
   "cell_type": "code",
   "execution_count": 24,
   "id": "3b91f4be-60b4-44ee-b992-80da2cbe5395",
   "metadata": {},
   "outputs": [],
   "source": [
    "rdkit_feats_train = x_train[:, 32:]"
   ]
  },
  {
   "cell_type": "code",
   "execution_count": 25,
   "id": "dfe0b04f-b7c9-4f72-ac4b-4ba7e50d128b",
   "metadata": {},
   "outputs": [],
   "source": [
    "smiles_feats_valid = x_valid[:, :32]\n",
    "rdkit_feats_valid = x_valid[:, 32:]"
   ]
  },
  {
   "cell_type": "code",
   "execution_count": 26,
   "id": "c77cd415-1b34-404b-8280-b1de094e2ce9",
   "metadata": {},
   "outputs": [],
   "source": [
    "h1, h2 = 16, 16"
   ]
  },
  {
   "cell_type": "code",
   "execution_count": 27,
   "id": "72ab4c85-9ab7-485e-a96f-7fad3109beee",
   "metadata": {},
   "outputs": [
    {
     "name": "stderr",
     "output_type": "stream",
     "text": [
      "2023-06-09 18:16:05.103621: E tensorflow/compiler/xla/stream_executor/cuda/cuda_driver.cc:266] failed call to cuInit: CUDA_ERROR_NO_DEVICE: no CUDA-capable device is detected\n",
      "2023-06-09 18:16:05.103673: I tensorflow/compiler/xla/stream_executor/cuda/cuda_diagnostics.cc:168] retrieving CUDA diagnostic information for host: c3101.swan.hcc.unl.edu\n",
      "2023-06-09 18:16:05.103686: I tensorflow/compiler/xla/stream_executor/cuda/cuda_diagnostics.cc:175] hostname: c3101.swan.hcc.unl.edu\n",
      "2023-06-09 18:16:05.103835: I tensorflow/compiler/xla/stream_executor/cuda/cuda_diagnostics.cc:199] libcuda reported version is: 525.85.5\n",
      "2023-06-09 18:16:05.103865: I tensorflow/compiler/xla/stream_executor/cuda/cuda_diagnostics.cc:203] kernel reported version is: 525.85.5\n",
      "2023-06-09 18:16:05.103876: I tensorflow/compiler/xla/stream_executor/cuda/cuda_diagnostics.cc:309] kernel version seems to match DSO: 525.85.5\n"
     ]
    }
   ],
   "source": [
    "ann_15 = ann(h1, 32, 2)"
   ]
  },
  {
   "cell_type": "code",
   "execution_count": 28,
   "id": "e39d6d9b-f407-4b9a-89c3-c7443d076c95",
   "metadata": {},
   "outputs": [],
   "source": [
    "ann_20 = ann(h2, 32, 2)"
   ]
  },
  {
   "cell_type": "code",
   "execution_count": 29,
   "id": "e9f13bf6-b578-4c5e-a919-a7793ed67af2",
   "metadata": {},
   "outputs": [],
   "source": [
    "total_weights_1 = ann_15.count_params()"
   ]
  },
  {
   "cell_type": "code",
   "execution_count": 30,
   "id": "578be109-9a6c-4644-a20f-9842c75803e9",
   "metadata": {},
   "outputs": [],
   "source": [
    "total_weights_2 = ann_20.count_params()"
   ]
  },
  {
   "cell_type": "code",
   "execution_count": 31,
   "id": "2b76859a-1021-4391-bb40-8c052dcb5fd3",
   "metadata": {},
   "outputs": [],
   "source": [
    "total_weights = total_weights_1 + total_weights_2 + 1 + 4 + 2"
   ]
  },
  {
   "cell_type": "code",
   "execution_count": 32,
   "id": "2025cd79-c8c6-4ce5-bcc6-59d72b2b8711",
   "metadata": {},
   "outputs": [
    {
     "data": {
      "text/plain": [
       "1131"
      ]
     },
     "execution_count": 32,
     "metadata": {},
     "output_type": "execute_result"
    }
   ],
   "source": [
    "total_weights"
   ]
  },
  {
   "cell_type": "code",
   "execution_count": 33,
   "id": "b074ab35-2e83-44f1-a96f-3679b7da5329",
   "metadata": {},
   "outputs": [],
   "source": [
    "# generate MVN from 0 and some var\n",
    "initial_ensembles_mean = np.zeros((total_weights,))"
   ]
  },
  {
   "cell_type": "code",
   "execution_count": 34,
   "id": "83507ac0-1118-4fa6-8dc9-22c0aa978589",
   "metadata": {},
   "outputs": [],
   "source": [
    "lambda1 = 1"
   ]
  },
  {
   "cell_type": "code",
   "execution_count": 35,
   "id": "1f4120c3-5c1c-4471-b28d-3fefc0e55516",
   "metadata": {},
   "outputs": [],
   "source": [
    "initial_ensembles_cov = lambda1*np.identity(total_weights)"
   ]
  },
  {
   "cell_type": "code",
   "execution_count": 36,
   "id": "bea39262-6961-4750-841e-d25a8a2f3c27",
   "metadata": {},
   "outputs": [],
   "source": [
    "reduction = 4"
   ]
  },
  {
   "cell_type": "code",
   "execution_count": 37,
   "id": "e5fbaaf7-afae-4008-a26c-e0691ef9b3f9",
   "metadata": {},
   "outputs": [],
   "source": [
    "size_ens = total_weights//reduction"
   ]
  },
  {
   "cell_type": "code",
   "execution_count": 38,
   "id": "6b3b2f4d-263d-434f-b813-f7d7f3958816",
   "metadata": {},
   "outputs": [],
   "source": [
    "initial_ensembles = mvn(initial_ensembles_mean, initial_ensembles_cov).rvs(size_ens)"
   ]
  },
  {
   "cell_type": "code",
   "execution_count": 39,
   "id": "d0f2e620-c01f-43fa-b476-9b7001581f6e",
   "metadata": {},
   "outputs": [
    {
     "data": {
      "text/plain": [
       "(282, 1131)"
      ]
     },
     "execution_count": 39,
     "metadata": {},
     "output_type": "execute_result"
    }
   ],
   "source": [
    "initial_ensembles.shape"
   ]
  },
  {
   "cell_type": "code",
   "execution_count": 40,
   "id": "81ca5b70-e126-4f02-a4f3-66b544e9dce1",
   "metadata": {},
   "outputs": [],
   "source": [
    "# cov_mat_final"
   ]
  },
  {
   "cell_type": "code",
   "execution_count": 41,
   "id": "2d30c167-563e-4b69-8307-d90cc2127bd2",
   "metadata": {},
   "outputs": [],
   "source": [
    "def is_pos_def(x):\n",
    "    return np.all(np.linalg.eigvals(x) > 0)"
   ]
  },
  {
   "cell_type": "code",
   "execution_count": 42,
   "id": "acbfdb49-61c3-4228-b8ab-908713f605b3",
   "metadata": {},
   "outputs": [],
   "source": [
    "# is_pos_def(cov_mat_final)"
   ]
  },
  {
   "cell_type": "code",
   "execution_count": 43,
   "id": "9674c3af-3299-4556-884b-18c26dddf88c",
   "metadata": {},
   "outputs": [],
   "source": [
    "def create_cov(shape, initial_ensembles):\n",
    "    cov_part = initial_ensembles[:, -6:-2]\n",
    "    cov_part = cov_part.mean(0)\n",
    "    # variances = tf.math.softplus(cov_part[:2]).numpy()\n",
    "    variances = cov_part[:2]\n",
    "    covariances = cov_part[2:]\n",
    "    base_cov = np.identity(target_dim)\n",
    "    base_cov[0,0] = variances[0]\n",
    "    base_cov[1,1] = variances[1]\n",
    "    base_cov[0,1] = covariances[0]\n",
    "    base_cov[1,0] = covariances[1]\n",
    "    \n",
    "    variances1 = tf.math.softplus(initial_ensembles[:, -2:]).numpy()\n",
    "    variances1 = variances1.mean(0)\n",
    "    base_variances = np.identity(target_dim)\n",
    "    base_variances[0,0] = variances1[0]\n",
    "    base_variances[1,1] = variances1[1]\n",
    "    \n",
    "    final = np.linalg.cholesky(base_cov@base_cov.T + base_variances)\n",
    "    cov_mat = final@final.T\n",
    "    cov_mat_final = cov_mat\n",
    "    # cov_mat_final = cov_mat@cov_mat.T\n",
    "    \n",
    "    if is_pos_def(cov_mat_final) != True:\n",
    "        print(\"resulting cov matrix is not positive semi definite\")\n",
    "        pass\n",
    "    \n",
    "    # print(np.linalg.det(cov_mat_final))\n",
    "    \n",
    "    n = shape\n",
    "    R_t = block_diag(*([cov_mat_final] * n))\n",
    "    \n",
    "    lambda_inv = np.linalg.inv(R_t)\n",
    "    \n",
    "    return lambda_inv\n",
    "    "
   ]
  },
  {
   "cell_type": "code",
   "execution_count": 44,
   "id": "3eee3439-189c-4324-b40e-ccb9ace83e1c",
   "metadata": {},
   "outputs": [],
   "source": [
    "# create_cov(smiles_feats_train.shape[0], initial_ensembles)"
   ]
  },
  {
   "cell_type": "code",
   "execution_count": 45,
   "id": "9956a3bb-dee9-4616-a93c-390acafda339",
   "metadata": {},
   "outputs": [],
   "source": [
    "# np.linalg.det(np.array(all_covs))"
   ]
  },
  {
   "cell_type": "code",
   "execution_count": 46,
   "id": "22464d8a-8440-45fc-a02e-17b1d58a4386",
   "metadata": {},
   "outputs": [],
   "source": [
    "# tf.math.softplus(-0.2043372)"
   ]
  },
  {
   "cell_type": "code",
   "execution_count": 47,
   "id": "325c2c9f-61c3-41eb-8518-72772303d0e8",
   "metadata": {},
   "outputs": [],
   "source": [
    "# initial_ensembles[:, -3:-1]"
   ]
  },
  {
   "cell_type": "code",
   "execution_count": 48,
   "id": "8cfec67f-202d-4aaf-ab01-58298b60140a",
   "metadata": {},
   "outputs": [],
   "source": [
    "# all_covs = np.array(all_covs)"
   ]
  },
  {
   "cell_type": "code",
   "execution_count": 49,
   "id": "301947d7-fe9f-4635-ab07-a2fa2e7fe949",
   "metadata": {},
   "outputs": [],
   "source": [
    "# all_covs.shape"
   ]
  },
  {
   "cell_type": "code",
   "execution_count": 50,
   "id": "3af0a9b9-6202-40e2-911f-3c890213099f",
   "metadata": {},
   "outputs": [],
   "source": [
    "def calculate_mu_bar_G_bar(data1, data2, initial_ensembles):\n",
    "    mu_bar = initial_ensembles.mean(0)\n",
    "    G_u = get_targets_with_weights(data1, data2, initial_ensembles, size_ens = size_ens)\n",
    "    G_u = G_u.reshape(G_u.shape[0], G_u.shape[1]*G_u.shape[2])\n",
    "    G_bar = (G_u.mean(0)).ravel()\n",
    "    return mu_bar.reshape(-1,1), G_bar.reshape(-1,1), G_u"
   ]
  },
  {
   "cell_type": "code",
   "execution_count": 51,
   "id": "7334c80c-cfcd-4d5b-b844-11cfb8c137df",
   "metadata": {},
   "outputs": [],
   "source": [
    "def calculate_C_u(initial_ensembles, mu_bar, G_bar, G_u): \n",
    "    u_j_minus_u_bar = initial_ensembles - mu_bar.reshape(1,-1)\n",
    "    G_u_minus_G_bar = G_u -  G_bar.reshape(1,-1)\n",
    "    c = np.zeros((total_weights, G_bar.shape[0]))\n",
    "    for i in range(0, size_ens): \n",
    "        c += np.kron(u_j_minus_u_bar[i, :].T.reshape(-1,1), G_u_minus_G_bar[i,:].reshape(-1,1).T)\n",
    "    return c/size_ens, G_u_minus_G_bar"
   ]
  },
  {
   "cell_type": "code",
   "execution_count": 52,
   "id": "9148779c-1a3f-455d-a6ad-00fc1bf69c1f",
   "metadata": {},
   "outputs": [],
   "source": [
    "def calculate_D_u( G_bar, G_u): \n",
    "    G_u_minus_G_bar = G_u -  G_bar.reshape(1,-1)\n",
    "    d = np.zeros((G_bar.shape[0], G_bar.shape[0]))\n",
    "    for i in range(0, size_ens): \n",
    "        d += np.kron(G_u_minus_G_bar[i,:].T.reshape(-1,1), G_u_minus_G_bar[i,:].reshape(-1,1).T)\n",
    "    return d/size_ens"
   ]
  },
  {
   "cell_type": "code",
   "execution_count": 53,
   "id": "6e8459b0-68c1-4d1f-851e-3d7b99f0ffc5",
   "metadata": {},
   "outputs": [],
   "source": [
    "def get_updated_ensemble(data1, data2, initial_ensembles):\n",
    "    mu_bar, G_bar, G_u = calculate_mu_bar_G_bar(data1, data2, initial_ensembles)\n",
    "    C, G_u_minus_G_bar = calculate_C_u(initial_ensembles, mu_bar, G_bar, G_u)\n",
    "    D = calculate_D_u( G_bar, G_u)\n",
    "    all_covs = create_cov(data1.shape[0],initial_ensembles)\n",
    "    # all_covs = np.array(all_covs)\n",
    "    D_plus_cov = (D + all_covs)\n",
    "    D_plus_cov_inv = np.linalg.inv(D_plus_cov)\n",
    "    mid_quant = C@D_plus_cov_inv\n",
    "    # mid_quant = C@np.linalg.inv(D + lambda_inv)\n",
    "    right_quant = y_train.ravel().reshape(-1,1) - G_u.T\n",
    "    mid_times_right = mid_quant@right_quant\n",
    "    updated_ensemble = (initial_ensembles.T + mid_times_right)\n",
    "    # updated_ensemble = updated_ensemble.mean(0)\n",
    "    return updated_ensemble.T"
   ]
  },
  {
   "cell_type": "code",
   "execution_count": 54,
   "id": "c14b236d-6ebf-40e3-9085-97afd2990e4d",
   "metadata": {},
   "outputs": [],
   "source": [
    "target_dim = 2"
   ]
  },
  {
   "cell_type": "code",
   "execution_count": 55,
   "id": "346d07bc-5b61-4e75-a816-a6e22ffe9d76",
   "metadata": {},
   "outputs": [],
   "source": [
    "lambda_D = 1"
   ]
  },
  {
   "cell_type": "code",
   "execution_count": 56,
   "id": "18b0d48e-f557-4d11-acb8-8905f403e2fe",
   "metadata": {},
   "outputs": [],
   "source": [
    "u_bar, G_bar, G_u = calculate_mu_bar_G_bar(smiles_feats_train, rdkit_feats_train, initial_ensembles)"
   ]
  },
  {
   "cell_type": "code",
   "execution_count": 57,
   "id": "9183ef8c-1730-4074-a982-680af10c67f8",
   "metadata": {},
   "outputs": [
    {
     "data": {
      "text/plain": [
       "(1438, 1)"
      ]
     },
     "execution_count": 57,
     "metadata": {},
     "output_type": "execute_result"
    }
   ],
   "source": [
    "G_bar.shape"
   ]
  },
  {
   "cell_type": "code",
   "execution_count": 58,
   "id": "dc3a216a-4dbb-474d-8219-5f6c071250a4",
   "metadata": {},
   "outputs": [],
   "source": [
    "def inverse_transform(data, idx):\n",
    "    data_cur = data[idx, :, :]\n",
    "    inv_data_cur = std_targets.inverse_transform(data_cur)\n",
    "    return inv_data_cur"
   ]
  },
  {
   "cell_type": "code",
   "execution_count": 59,
   "id": "7f151faf-ada0-4d56-87b8-6c96aa4eb0c6",
   "metadata": {},
   "outputs": [],
   "source": [
    "# catch = Parallel(n_jobs = 15, verbose = 3)(delayed(inverse_transform)(G_u_test, i)  for i in range(G_u_test.shape[0]))"
   ]
  },
  {
   "cell_type": "code",
   "execution_count": 60,
   "id": "65bf21e9-92c6-4824-93c3-87274b072afa",
   "metadata": {},
   "outputs": [
    {
     "name": "stdout",
     "output_type": "stream",
     "text": [
      "[ 3.12839044 78.54382898] [1. 1.] [ 101.62203586 2373.29103412]\n",
      "[ 2.79220869 70.05625545] [1. 1.] [ 100.37968892 2327.28897299]\n",
      "0.4575284397028065 0.18273157365514517\n",
      "[ 2.24431    51.33590649] [1. 1.] [  76.52372107 1805.45221041]\n",
      "[ 2.21720991 45.65990288] [1. 1.] [  76.04081188 1783.40196817]\n",
      "0.43313827127491755 0.16450485560260253\n",
      "[ 2.38894527 58.52004265] [1. 1.] [  63.12737806 1501.08025431]\n",
      "[ 2.37868692 51.91946072] [1. 1.] [  61.98478579 1481.52910751]\n",
      "0.42149243427878513 0.1526900293492157\n",
      "[ 2.36169797 55.12348653] [1. 1.] [  58.44288785 1396.1466285 ]\n",
      "[ 2.39695151 49.54829376] [1. 1.] [  58.29591897 1379.03394424]\n",
      "0.4228912893518376 0.14551642546305557\n",
      "[ 1.73481635 57.47144309] [1. 1.] [  52.1861551  1232.59894732]\n",
      "[ 1.73064825 51.35635207] [1. 1.] [  51.65643569 1219.58367835]\n",
      "0.4197466724472272 0.1407722249811491\n",
      "[ 1.94739628 56.79006256] [1. 1.] [  46.95613189 1133.90494333]\n",
      "[ 1.99044991 51.0868677 ] [1. 1.] [  46.47898378 1125.67216247]\n",
      "0.4114250786271972 0.13695837823314863\n",
      "[ 1.91417597 54.76696308] [1. 1.] [  43.78567655 1036.49686294]\n",
      "[ 1.84294105 49.07910784] [1. 1.] [  43.16131346 1028.76308098]\n",
      "0.4030944785273972 0.1316971012351758\n",
      "[ 2.07970667 53.63713518] [1. 1.] [ 41.68578224 953.99965233]\n",
      "[ 2.04625717 48.45227134] [1. 1.] [ 41.64328872 948.15694762]\n",
      "0.4047944117939604 0.12936484446352187\n",
      "[ 1.91524541 48.2068934 ] [1. 1.] [ 40.4993135  927.74058696]\n",
      "[ 1.87187322 43.68478945] [1. 1.] [ 40.11987139 921.21093152]\n",
      "0.40727774325393323 0.12768705699246694\n",
      "[ 2.02680231 48.10697833] [1. 1.] [ 38.10632423 862.56507479]\n",
      "[ 2.03525266 42.87650466] [1. 1.] [ 37.95585806 852.5115204 ]\n",
      "0.3975092736185265 0.12523109778587224\n",
      "[ 2.00201366 48.26517212] [1. 1.] [ 34.62027619 795.9391225 ]\n",
      "[ 2.03292288 42.84555849] [1. 1.] [ 34.49060729 791.80918312]\n",
      "0.38428778878442255 0.12177845064414379\n",
      "[ 1.95194672 48.25649488] [1. 1.] [ 31.89979123 750.7592619 ]\n",
      "[ 1.98851827 42.53851189] [1. 1.] [ 31.76942717 741.20875409]\n",
      "0.37221895965217244 0.11839101131540676\n",
      "[ 1.85172427 44.18167134] [1. 1.] [ 29.38709611 688.26396773]\n",
      "[ 1.90392061 38.87313617] [1. 1.] [ 29.0602275  679.98638046]\n",
      "0.360607982623429 0.11512460520801064\n",
      "[ 1.88416688 46.48567142] [1. 1.] [ 26.18919084 630.49350695]\n",
      "[ 1.89786191 41.10509856] [1. 1.] [ 26.01171949 621.92862068]\n",
      "0.3479216659208876 0.11024337208369812\n",
      "[ 1.77220096 43.25059057] [1. 1.] [ 23.92748842 594.9532308 ]\n",
      "[ 1.78999281 37.95833368] [1. 1.] [ 23.62123469 587.74460853]\n",
      "0.34630755964163684 0.10811212456882568\n",
      "[ 1.66196844 39.33595052] [1. 1.] [ 22.12919477 545.4062139 ]\n",
      "[ 1.67722261 34.36908402] [1. 1.] [ 21.96556196 543.10213832]\n",
      "0.34343091202391507 0.10524987378616765\n",
      "[ 1.59875926 35.55482148] [1. 1.] [ 20.72046202 498.82761199]\n",
      "[ 1.6029887  30.97451035] [1. 1.] [ 20.62436845 494.55329776]\n",
      "0.3344493362300744 0.10121297374893656\n",
      "[ 1.48700574 34.22526619] [1. 1.] [ 19.09649648 453.95981974]\n",
      "[ 1.49274264 30.09727226] [1. 1.] [ 19.1715537  447.75037892]\n",
      "0.32749043147249257 0.09709890520969285\n",
      "[ 1.54659692 35.78495297] [1. 1.] [ 17.48178984 404.31971853]\n",
      "[ 1.56984283 31.30232871] [1. 1.] [ 17.4300238  400.42964671]\n",
      "0.31969971682067505 0.0927733166495638\n",
      "[ 1.46599491 35.4489714 ] [1. 1.] [ 15.91809286 351.43331484]\n",
      "[ 1.48951906 30.82062381] [1. 1.] [ 15.89557705 348.11257724]\n",
      "0.31208624379477656 0.08907397287749468\n",
      "[ 1.47676913 30.8255281 ] [1. 1.] [ 13.93309213 315.32420919]\n",
      "[ 1.49650447 27.06584555] [1. 1.] [ 13.93954296 312.33019095]\n",
      "0.3120917995979763 0.08688631239384823\n",
      "[ 1.2178251  28.58417954] [1. 1.] [ 12.6729713  283.57148188]\n",
      "[ 1.2400643  24.86206476] [1. 1.] [ 12.67632606 281.95853844]\n",
      "0.3060555689912911 0.08245564146362201\n",
      "[ 1.08813737 26.70856997] [1. 1.] [ 11.36965809 256.50622303]\n",
      "[ 1.10234778 23.73037804] [1. 1.] [ 11.35641484 256.58792894]\n",
      "0.30324043676470286 0.07694107014206907\n",
      "[ 1.05653545 25.95160463] [1. 1.] [  9.8831292  236.79696141]\n",
      "[ 1.07016267 23.3704191 ] [1. 1.] [  9.85172588 237.93205035]\n",
      "0.30059997513317666 0.0733241477491545\n",
      "[ 1.09653597 20.74322892] [1. 1.] [  8.52479418 217.07137617]\n",
      "[ 1.11284435 19.35552504] [1. 1.] [  8.50499756 218.26692814]\n",
      "0.301945236863048 0.07079626951976141\n",
      "[ 1.20393028 17.7374038 ] [1. 1.] [  7.43222336 191.30473828]\n",
      "[ 1.22733096 16.57620543] [1. 1.] [  7.433443   191.92986377]\n",
      "0.3063451664977622 0.06856079833042165\n",
      "[ 1.25528386 17.44958058] [1. 1.] [  6.61671657 167.87597298]\n",
      "[ 1.28675937 16.15531529] [1. 1.] [  6.60953655 168.59357689]\n",
      "0.3066488049163355 0.06610964674574797\n",
      "[ 1.09440077 15.48869908] [1. 1.] [  5.74189787 141.3085636 ]\n",
      "[ 1.11485076 14.33648759] [1. 1.] [  5.70977584 141.36677566]\n",
      "0.30412842191710876 0.06299414241955689\n",
      "[ 0.93105004 16.52239606] [1. 1.] [  5.0648877  121.30452524]\n",
      "[ 0.94445664 15.29567219] [1. 1.] [  5.02973767 120.54252798]\n",
      "0.3059551897589477 0.06043528152785259\n",
      "[ 0.66190677 14.10806262] [1. 1.] [  4.49933053 107.25414495]\n",
      "[ 0.66824401 13.10981791] [1. 1.] [  4.48570487 107.21209178]\n",
      "0.30946319634978064 0.057983554576853946\n",
      "[ 0.5267657  11.67430519] [1. 1.] [ 4.00057781 95.55385671]\n",
      "[ 0.53353235 11.07779688] [1. 1.] [ 4.02002832 95.46431801]\n",
      "0.30984303941504554 0.0547868266996152\n",
      "[ 0.43035785 10.01871973] [1. 1.] [ 3.41623545 83.96176747]\n",
      "[0.43613113 9.52811792] [1. 1.] [ 3.42273108 83.83196471]\n",
      "0.30863288678460465 0.05235091409149295\n",
      "[ 0.41996478 12.31907252] [1. 1.] [ 3.04960984 74.57378319]\n",
      "[ 0.41964294 11.23410373] [1. 1.] [ 3.03805419 75.27585062]\n",
      "0.3122776220548326 0.050235039429085415\n",
      "[ 0.3578472  12.06275468] [1. 1.] [ 2.60072433 66.28881294]\n",
      "[ 0.35832361 11.16758792] [1. 1.] [ 2.61792075 66.8023234 ]\n",
      "0.31302440676492144 0.04818663660381607\n",
      "[ 0.32331483 11.8699628 ] [1. 1.] [ 2.39579986 59.67478635]\n",
      "[ 0.31947546 10.83563255] [1. 1.] [ 2.41249601 59.29290578]\n",
      "0.31394627774500433 0.046165696458353084\n",
      "[ 0.24070685 10.73512717] [1. 1.] [ 2.10037658 49.82392748]\n",
      "[ 0.24295427 10.02637787] [1. 1.] [ 2.10670728 49.31044222]\n",
      "0.3117178302321881 0.04395995399285259\n",
      "[0.19356876 8.82697499] [1. 1.] [ 1.96004727 40.71475252]\n",
      "[0.19808756 8.32004984] [0.99583333 1.        ] [ 1.96917492 40.27428396]\n",
      "0.3123762193088084 0.04234201588935158\n",
      "[0.1527582  8.11963061] [1. 1.] [ 1.77858834 37.07728436]\n",
      "[0.15781583 7.39825694] [0.99583333 1.        ] [ 1.79085441 36.6621319 ]\n",
      "0.31711678246270125 0.04113627963238167\n",
      "[0.18432046 5.77979824] [1. 1.] [ 1.59383747 30.33322488]\n",
      "[0.18648107 5.16109336] [0.99583333 1.        ] [ 1.59977295 30.14253711]\n",
      "0.3149867960801582 0.039429458118462976\n",
      "[0.160612   5.58090103] [0.99860918 1.        ] [ 1.3640017  26.97534486]\n",
      "[0.16699122 4.92673541] [0.99583333 1.        ] [ 1.3649141  26.71324398]\n",
      "0.31575710631679704 0.038350018237173544\n",
      "[0.14332432 3.35200676] [0.99860918 1.        ] [ 1.24119266 23.44265095]\n",
      "[0.15069336 2.8024602 ] [0.99583333 1.        ] [ 1.23994924 23.35426596]\n",
      "0.31763512330072513 0.0371285620134547\n",
      "[0.10783514 2.98604188] [0.99860918 1.        ] [ 1.09743038 22.52214486]\n",
      "[0.11491571 2.79445561] [0.99583333 1.        ] [ 1.09837322 22.33587995]\n",
      "0.31741970605181136 0.03582058211728555\n",
      "[0.1004052 1.8078085] [0.99721836 1.        ] [ 0.99609292 19.24243262]\n",
      "[0.10599702 1.79339606] [0.99583333 1.        ] [ 1.00509067 19.0804303 ]\n",
      "0.31748922517047046 0.03479909058640665\n",
      "[0.08873431 1.65105563] [0.99721836 1.        ] [ 0.88500984 16.82238643]\n",
      "[0.09488773 1.67336627] [0.99583333 1.        ] [ 0.89685516 16.98524402]\n",
      "0.3167308597672069 0.03408720750734061\n",
      "[0.0832072  1.50913574] [0.99721836 1.        ] [ 0.79087151 15.03599367]\n",
      "[0.08770116 1.54053737] [0.99583333 1.        ] [ 0.80424259 15.07484169]\n",
      "0.3164946266698891 0.03341203978264655\n",
      "[0.08117238 1.45031678] [0.99721836 0.99860918] [ 0.73455848 13.73813372]\n",
      "[0.08480094 1.45004468] [0.99583333 1.        ] [ 0.74928257 13.86785476]\n",
      "0.31617680072673504 0.032731077049467504\n",
      "[0.07902585 1.40118381] [0.99443672 0.99860918] [ 0.68942475 12.58640359]\n",
      "[0.08224515 1.38802061] [0.99583333 1.        ] [ 0.70491612 12.68579806]\n",
      "0.3162860084266294 0.03224029594118464\n",
      "[0.07781547 1.37659147] [0.99443672 0.99860918] [ 0.65089641 12.12213022]\n",
      "[0.08083886 1.33876209] [0.99583333 1.        ] [ 0.6618875  12.29425223]\n",
      "0.3163731012025302 0.031811290987373037\n",
      "[0.0768187  1.34850149] [0.9930459  0.99721836] [ 0.6263458  11.69565327]\n",
      "[0.07986732 1.29787281] [0.99583333 1.        ] [ 0.63849709 11.87313045]\n",
      "0.31641167895479094 0.031437873681777445\n",
      "[0.07600328 1.32278078] [0.9930459  0.99721836] [ 0.6084496  11.34072465]\n",
      "[0.07909785 1.25973731] [0.99583333 1.        ] [ 0.61743513 11.53902534]\n",
      "0.3164334141123892 0.031109987896681957\n",
      "[0.07527833 1.29815463] [0.99443672 0.99721836] [ 0.5936334  11.01050022]\n",
      "[0.07848689 1.22296345] [0.99583333 1.        ] [ 0.60232224 11.21479778]\n",
      "0.3164234159447785 0.030814406553437628\n",
      "[0.07467376 1.27365453] [0.9930459  0.99721836] [ 0.58104467 10.68729918]\n",
      "[0.07803508 1.18768852] [0.99583333 1.        ] [ 0.59095606 10.89137264]\n",
      "0.3163666960593178 0.03053502806154953\n",
      "[0.07424213 1.25086723] [0.9930459  0.99721836] [ 0.56951453 10.37060989]\n",
      "[0.07773615 1.15568823] [0.99583333 1.        ] [ 0.57873592 10.5829699 ]\n",
      "0.3162683607344282 0.030263166004651988\n",
      "[0.07395453 1.23218079] [0.9930459  0.99721836] [ 0.55829811 10.05970462]\n",
      "[0.07753447 1.12849574] [0.99583333 1.        ] [ 0.56787741 10.26069447]\n",
      "0.3161543105525283 0.03000116683421289\n",
      "[0.07373792 1.21789742] [0.9930459  0.99721836] [0.54914865 9.77616058]\n",
      "[0.07737324 1.10576596] [0.99583333 1.        ] [0.55700097 9.94039639]\n",
      "0.3160458569837163 0.029753691993241585\n",
      "[0.07350233 1.20637992] [0.9930459  0.99582754] [0.53793427 9.49732654]\n",
      "[0.07719172 1.08561075] [0.99583333 1.        ] [0.54396731 9.63896412]\n",
      "0.3159514763836545 0.02952363296486138\n",
      "[0.07315767 1.19550716] [0.9930459  0.99582754] [0.52828432 9.21464887]\n",
      "[0.07692472 1.06586668] [0.99583333 1.        ] [0.53358206 9.35013864]\n",
      "0.3158739156041558 0.029312091273673714\n",
      "[0.07265174 1.18392   ] [0.9930459  0.99582754] [0.51774616 8.94774931]\n",
      "[0.0765361  1.04526146] [0.99166667 1.        ] [0.52249172 9.057296  ]\n",
      "0.31581327542986554 0.029117642729060242\n",
      "[0.07198943 1.17149143] [0.9930459  0.99582754] [0.5062731  8.71834409]\n",
      "[0.07603915 1.02392336] [0.99583333 1.        ] [0.51154895 8.81318085]\n",
      "0.3157678265443765 0.028936989707161992\n",
      "[0.0712177  1.15888987] [0.9930459  0.99443672] [0.49484246 8.4945213 ]\n",
      "[0.07548134 1.00300832] [0.99583333 1.        ] [0.49932812 8.5948856 ]\n",
      "0.3157353506694881 0.02876693544832749\n",
      "[0.0704011 1.1467922] [0.9930459  0.99443672] [0.48374958 8.31942276]\n",
      "[0.07491486 0.98375364] [0.99166667 1.        ] [0.48796435 8.44305503]\n",
      "0.31571406005854 0.028605482148240904\n",
      "[0.06960235 1.13547388] [0.9930459  0.99443672] [0.47224437 8.18819355]\n",
      "[0.07437835 0.96679218] [0.99166667 1.        ] [0.47716094 8.31336395]\n",
      "0.315703494325668 0.028451679555689263\n",
      "[0.06886933 1.12487508] [0.9930459  0.99443672] [0.4618561  8.08773725]\n",
      "[0.07389361 0.95206735] [0.99166667 1.        ] [0.46714675 8.21013983]\n",
      "0.3157057285160042 0.028305189447625757\n",
      "[0.06822772 1.11479789] [0.99165508 0.99443672] [0.45399146 8.00566821]\n",
      "[0.07346894 0.93908922] [0.99166667 1.        ] [0.45874615 8.13269799]\n",
      "0.31572519356811557 0.028165700253746685\n",
      "[0.06767942 1.10505636] [0.9930459  0.99443672] [0.44661958 7.96129059]\n",
      "[0.07310233 0.92725356] [0.99166667 1.        ] [0.45143448 8.10317629]\n",
      "0.31576602503713974 0.02803217440315588\n",
      "[0.06720647 1.09553952] [0.9930459  0.99443672] [0.43961438 7.91418073]\n",
      "[0.07278299 0.91606997] [0.99166667 1.        ] [0.44437917 8.05575869]\n",
      "0.3158287244606099 0.027902650562269062\n",
      "[0.06678016 1.0861999 ] [0.9930459  0.99443672] [0.43308317 7.85263632]\n",
      "[0.07249405 0.90524922] [0.99166667 1.        ] [0.43708235 7.98706245]\n",
      "0.31590896809675084 0.02777498424451935\n",
      "[0.06637224 1.07703921] [0.99165508 0.99443672] [0.42656735 7.7996979 ]\n",
      "[0.07221854 0.89467647] [0.99166667 1.        ] [0.42996711 7.92431715]\n",
      "0.3159992396842619 0.027647941242410146\n",
      "[0.06596351 1.06810881] [0.99165508 0.99443672] [0.42039064 7.7462428 ]\n",
      "[0.07194519 0.88432602] [0.99166667 1.        ] [0.42435017 7.86393164]\n",
      "0.316091865762268 0.027521773995669612\n",
      "[0.06554646 1.05948424] [0.99165508 0.99443672] [0.41467518 7.7130357 ]\n",
      "[0.07167037 0.87417603] [0.99166667 1.        ] [0.41951483 7.81018831]\n",
      "0.3161816213138165 0.02739782628342017\n",
      "[0.06512201 1.05122191] [0.99165508 0.99443672] [0.40959923 7.67744999]\n",
      "[0.07139609 0.86417473] [0.99166667 1.        ] [0.41429911 7.77817108]\n",
      "0.31626676637679196 0.027277545040608503\n",
      "[0.06469379 1.04334247] [0.9930459  0.99443672] [0.40401411 7.63959375]\n",
      "[0.07112633 0.85426837] [0.99166667 1.        ] [0.40844313 7.73578273]\n",
      "0.3163485644651382 0.027161763339418013\n",
      "[0.06426451 1.03584845] [0.9930459  0.99443672] [0.39945972 7.59232609]\n",
      "[0.07086464 0.84444557] [0.9875 1.    ] [0.40273043 7.68488377]\n",
      "0.31643019192272587 0.027050654187058938\n",
      "[0.06383594 1.02874383] [0.9930459  0.99443672] [0.39474753 7.56460323]\n",
      "[0.07061377 0.83474787] [0.99166667 1.        ] [0.39807651 7.63387739]\n",
      "0.3165158354338547 0.026944066281075336\n"
     ]
    },
    {
     "name": "stderr",
     "output_type": "stream",
     "text": [
      "\n",
      "KeyboardInterrupt\n",
      "\n"
     ]
    }
   ],
   "source": [
    "for i in range(0,10000):\n",
    "    \n",
    "    initial_ensembles = get_updated_ensemble(smiles_feats_train, rdkit_feats_train, initial_ensembles)\n",
    "    \n",
    "    G_u_train = get_targets_with_weights(smiles_feats_train, rdkit_feats_train, initial_ensembles, size_ens = size_ens)\n",
    "    catch = Parallel(n_jobs = 15, verbose = 0)(delayed(inverse_transform)(G_u_train, i)  for i in range(G_u_train.shape[0]))\n",
    "    G_u_train = np.array(catch)\n",
    "    \n",
    "    y_train_cur = std_targets.inverse_transform(y_train)\n",
    "    \n",
    "    li_train = np.percentile(G_u_train, axis = 0, q = (2.5, 97.5))[0,:,:]   \n",
    "    ui_train = np.percentile(G_u_train, axis = 0, q = (2.5, 97.5))[1,:,:]\n",
    "    \n",
    "    width_train = ui_train - li_train\n",
    "    avg_width_train = width_train.mean(0)\n",
    "    \n",
    "    ind_train = (y_train_cur >= li_train) & (y_train_cur <= ui_train)\n",
    "    coverage_train= ind_train.mean(0)\n",
    "    \n",
    "    averaged_targets_train = G_u_train.mean(0)\n",
    "    rmse_train = np.sqrt(((y_train_cur -averaged_targets_train)**2).mean(0))\n",
    "    print(rmse_train, coverage_train, avg_width_train)\n",
    "    \n",
    "    G_u_test = get_targets_with_weights(smiles_feats_valid, rdkit_feats_valid, initial_ensembles, size_ens = size_ens)\n",
    "    \n",
    "    catch = Parallel(n_jobs = 15, verbose = 0)(delayed(inverse_transform)(G_u_test, i)  for i in range(G_u_test.shape[0]))\n",
    "    G_u_test = np.array(catch)\n",
    "    \n",
    "    y_valid_cur = std_targets.inverse_transform(y_valid)    \n",
    "    \n",
    "    li_test = np.percentile(G_u_test, axis = 0, q = (2.5, 97.5))[0,:,:]   \n",
    "    ui_test = np.percentile(G_u_test, axis = 0, q = (2.5, 97.5))[1,:,:]\n",
    "    \n",
    "    width_test = ui_test - li_test\n",
    "    avg_width_test = width_test.mean(0)\n",
    "    \n",
    "    ind_test = (y_valid_cur >= li_test) & (y_valid_cur <= ui_test)\n",
    "    coverage_test= ind_test.mean(0)\n",
    "    \n",
    "    averaged_targets_test = G_u_test.mean(0)\n",
    "    rmse_test = np.sqrt(((y_valid_cur -averaged_targets_test)**2).mean(0))    \n",
    "    \n",
    "    # plt.scatter(y_valid[:, 0], averaged_targets_test[:,0])\n",
    "    # plt.axline((0,0), slope = 1, c= \"black\")\n",
    "    # plt.show()\n",
    "    # plt.scatter(y_valid[:,1], averaged_targets_test[:, 1])\n",
    "    # plt.axline((0,0), slope = 1, c= \"black\")\n",
    "    # plt.show()\n",
    "    \n",
    "    avg_weights = initial_ensembles[:, -7].reshape(-1,1)\n",
    "    \n",
    "    # print(avg_weights.mean(), avg_weights.std())\n",
    "    \n",
    "    \n",
    "    if coverage_train.mean() < 0.95:\n",
    "        break\n",
    "    \n",
    "    print(rmse_test, coverage_test, avg_width_test)\n",
    "    \n",
    "    print(expit(avg_weights).mean(), expit(avg_weights).std())"
   ]
  },
  {
   "cell_type": "code",
   "execution_count": 61,
   "id": "a81eb6c3-e084-4e43-aa5e-3f9b0f5ee016",
   "metadata": {},
   "outputs": [
    {
     "data": {
      "text/plain": [
       "(282, 240, 2)"
      ]
     },
     "execution_count": 61,
     "metadata": {},
     "output_type": "execute_result"
    }
   ],
   "source": [
    "G_u_test.shape"
   ]
  },
  {
   "cell_type": "code",
   "execution_count": 62,
   "id": "96d8df43-9ae3-47f6-9c69-ac77c38a6eb6",
   "metadata": {},
   "outputs": [],
   "source": [
    "import random"
   ]
  },
  {
   "cell_type": "code",
   "execution_count": 63,
   "id": "47207771-df91-48f0-9963-9a78989bcfe3",
   "metadata": {},
   "outputs": [],
   "source": [
    "random_idx = random.sample(range(y_valid_cur.shape[0]), k = 8)"
   ]
  },
  {
   "cell_type": "code",
   "execution_count": 64,
   "id": "af5f17ea-a47c-421d-bd32-7a0dc0f1af60",
   "metadata": {},
   "outputs": [
    {
     "data": {
      "image/png": "[encoded data removed]",
      "text/plain": [
       "<Figure size 1500x1500 with 16 Axes>"
      ]
     },
     "metadata": {},
     "output_type": "display_data"
    }
   ],
   "source": [
    "fig, axs = plt.subplots(8, 2,figsize=(15, 15))\n",
    "# axs = axs.ravel()\n",
    "# counter = 0\n",
    "for idx, i in enumerate(random_idx):\n",
    "    # print(counter)\n",
    "    truth = y_valid_cur[i,:]\n",
    "    preds = G_u_test[:, i,:]\n",
    "    percts = np.percentile(preds, axis = 0, q = (2.5, 97.5))\n",
    "    lis = percts[0,:]\n",
    "    uis = percts[1,:]\n",
    "    \n",
    "    \n",
    "    axs[idx, 0].hist(preds[:,0])\n",
    "    axs[idx, 0].axvline(truth[0], color='green', linewidth=2)\n",
    "    axs[idx, 0].axvline(lis[0], color='red', linewidth=2)\n",
    "    axs[idx, 0].axvline(uis[0], color='red', linewidth=2)\n",
    "    \n",
    "    axs[idx, 1].hist(preds[:,1])\n",
    "    axs[idx, 1].axvline(truth[1], color='green', linewidth=2)\n",
    "    axs[idx, 1].axvline(lis[1], color='red', linewidth=2)\n",
    "    axs[idx, 1].axvline(uis[1], color='red', linewidth=2)\n",
    "    \n",
    "    # counter+=2\n",
    "    # print(counter)\n",
    "    \n",
    "    # plt.show()\n",
    "plt.savefig('prediction_intervals.png', bbox_inches='tight')"
   ]
  },
  {
   "cell_type": "code",
   "execution_count": 65,
   "id": "3230a62b-f36f-4ec0-9c7d-0ba75c9de369",
   "metadata": {},
   "outputs": [
    {
     "data": {
      "image/png": "[encoded data removed]",
      "text/plain": [
       "<Figure size 640x480 with 1 Axes>"
      ]
     },
     "metadata": {},
     "output_type": "display_data"
    },
    {
     "data": {
      "image/png": "[encoded data removed]",
      "text/plain": [
       "<Figure size 640x480 with 1 Axes>"
      ]
     },
     "metadata": {},
     "output_type": "display_data"
    }
   ],
   "source": [
    "plt.scatter(y_valid_cur[:, 0], averaged_targets_test[:,0])\n",
    "plt.axline((0,0), slope = 1, c= \"black\")\n",
    "plt.show()\n",
    "plt.scatter(y_valid_cur[:,1], averaged_targets_test[:, 1])\n",
    "plt.axline((0,0), slope = 1, c= \"black\")\n",
    "plt.show()"
   ]
  },
  {
   "cell_type": "code",
   "execution_count": 66,
   "id": "414ee852-3625-4e7a-982b-f37e9f995a5e",
   "metadata": {},
   "outputs": [
    {
     "data": {
      "text/plain": [
       "(282, 1131)"
      ]
     },
     "execution_count": 66,
     "metadata": {},
     "output_type": "execute_result"
    }
   ],
   "source": [
    "initial_ensembles.shape"
   ]
  },
  {
   "cell_type": "code",
   "execution_count": 67,
   "id": "2ba6f0b2-e71e-4cd8-808b-62270f2ecce3",
   "metadata": {},
   "outputs": [
    {
     "data": {
      "text/plain": [
       "array([[ 2.00883439, -0.73234091],\n",
       "       [-0.73234091,  1.65672997]])"
      ]
     },
     "execution_count": 67,
     "metadata": {},
     "output_type": "execute_result"
    }
   ],
   "source": [
    "np.cov(y_train.T)"
   ]
  },
  {
   "cell_type": "code",
   "execution_count": 68,
   "id": "febb1ea8-1262-4814-97eb-445947172ed8",
   "metadata": {},
   "outputs": [],
   "source": [
    "cov_part = initial_ensembles[:, -6:-2]\n",
    "cov_part = cov_part.mean(0)\n",
    "# variances = tf.math.softplus(cov_part[:2]).numpy()\n",
    "variances = cov_part[:2]\n",
    "covariances = cov_part[2:]\n",
    "base_cov = np.identity(target_dim)\n",
    "base_cov[0,0] = variances[0]\n",
    "base_cov[1,1] = variances[1]\n",
    "base_cov[0,1] = covariances[0]\n",
    "base_cov[1,0] = covariances[1]\n",
    "    \n",
    "variances1 = tf.math.softplus(initial_ensembles[:, -2:]).numpy()\n",
    "variances1 = variances1.mean(0)\n",
    "base_variances = np.identity(target_dim)\n",
    "base_variances[0,0] = variances1[0]\n",
    "base_variances[1,1] = variances1[1]\n",
    "    \n",
    "final = np.linalg.cholesky(base_cov@base_cov.T + base_variances)\n",
    "cov_mat = final@final.T\n",
    "cov_mat_final = cov_mat"
   ]
  },
  {
   "cell_type": "code",
   "execution_count": 69,
   "id": "932b24cb-8c16-44e8-9b29-0289f130609a",
   "metadata": {},
   "outputs": [
    {
     "data": {
      "text/plain": [
       "array([[0.55378164, 0.00655497],\n",
       "       [0.00655497, 1.24317458]])"
      ]
     },
     "execution_count": 69,
     "metadata": {},
     "output_type": "execute_result"
    }
   ],
   "source": [
    "cov_mat_final"
   ]
  },
  {
   "cell_type": "code",
   "execution_count": 70,
   "id": "b52682c0-d18e-4e52-bc9b-e5a49fd84fd7",
   "metadata": {},
   "outputs": [],
   "source": [
    "# np.linalg.inv(cov_mat_final)"
   ]
  }
 ],
 "metadata": {
  "kernelspec": {
   "display_name": "enkf",
   "language": "python",
   "name": "enkf"
  },
  "language_info": {
   "codemirror_mode": {
    "name": "ipython",
    "version": 3
   },
   "file_extension": ".py",
   "mimetype": "text/x-python",
   "name": "python",
   "nbconvert_exporter": "python",
   "pygments_lexer": "ipython3",
   "version": "3.11.3"
  }
 },
 "nbformat": 4,
 "nbformat_minor": 5
}

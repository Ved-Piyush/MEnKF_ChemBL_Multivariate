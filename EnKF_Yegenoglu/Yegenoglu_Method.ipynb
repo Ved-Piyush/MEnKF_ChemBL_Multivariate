{
 "cells": [
  {
   "cell_type": "code",
   "execution_count": 1,
   "id": "aa53e19a-64db-4b1d-9378-c19c8efacd62",
   "metadata": {},
   "outputs": [
    {
     "name": "stderr",
     "output_type": "stream",
     "text": [
      "2023-06-06 21:04:56.589152: I tensorflow/core/util/port.cc:110] oneDNN custom operations are on. You may see slightly different numerical results due to floating-point round-off errors from different computation orders. To turn them off, set the environment variable `TF_ENABLE_ONEDNN_OPTS=0`.\n",
      "2023-06-06 21:04:56.592442: I tensorflow/tsl/cuda/cudart_stub.cc:28] Could not find cuda drivers on your machine, GPU will not be used.\n",
      "2023-06-06 21:04:56.629862: I tensorflow/tsl/cuda/cudart_stub.cc:28] Could not find cuda drivers on your machine, GPU will not be used.\n",
      "2023-06-06 21:04:56.631034: I tensorflow/core/platform/cpu_feature_guard.cc:182] This TensorFlow binary is optimized to use available CPU instructions in performance-critical operations.\n",
      "To enable the following instructions: AVX2 AVX512F AVX512_VNNI FMA, in other operations, rebuild TensorFlow with the appropriate compiler flags.\n",
      "2023-06-06 21:04:57.443133: W tensorflow/compiler/tf2tensorrt/utils/py_utils.cc:38] TF-TRT Warning: Could not find TensorRT\n"
     ]
    }
   ],
   "source": [
    "import pandas as pd\n",
    "import numpy as np\n",
    "from sklearn.model_selection import KFold\n",
    "from sklearn.feature_selection import VarianceThreshold\n",
    "import random\n",
    "import pickle\n",
    "from sklearn.preprocessing import StandardScaler\n",
    "import os\n",
    "import tensorflow as tf\n",
    "from tqdm.notebook import tqdm\n",
    "from scipy.stats import multivariate_normal as mvn\n",
    "import matplotlib.pyplot as plt"
   ]
  },
  {
   "cell_type": "code",
   "execution_count": 2,
   "id": "1df669ac-cde2-4008-b431-0903f21dce58",
   "metadata": {},
   "outputs": [],
   "source": [
    "def get_targets_with_weights(batch_data, batch_data1, initial_ensembles, size_ens): \n",
    "\n",
    "    weights_ann_1 = ann_15.get_weights()\n",
    "    weights_ann_2 = ann_20.get_weights()\n",
    "    \n",
    "    n_hidden_1 = len(weights_ann_1[0].ravel())\n",
    "    \n",
    "    hidden_weights_1 = initial_ensembles[:,:n_hidden_1].reshape( size_ens, batch_data.shape[1], h1)\n",
    "    \n",
    "    \n",
    "    hidden_output_1 = np.einsum('ij,kjl->kil', batch_data, hidden_weights_1)\n",
    "\n",
    "    \n",
    "    hidden_layer_bias_1 = initial_ensembles[:,n_hidden_1:(n_hidden_1 + h1)].reshape(size_ens, 1,  h1)\n",
    "\n",
    "\n",
    "    hidden_output_1 = hidden_output_1 + hidden_layer_bias_1\n",
    "\n",
    "    n_pred_weights_1 = len(weights_ann_1[2].ravel())\n",
    "\n",
    "    output_weights_1 = initial_ensembles[:,(n_hidden_1 + h1):(n_hidden_1 + h1 + n_pred_weights_1) ].reshape(size_ens, h1, target_dim)\n",
    "\n",
    "\n",
    "    output_1 = np.einsum('ijk,ikl->ijl', hidden_output_1, output_weights_1)\n",
    "\n",
    "\n",
    "    output_layer_bias_1 = initial_ensembles[:,(n_hidden_1 + h1 + n_pred_weights_1):(n_hidden_1 + h1 + n_pred_weights_1 + target_dim)].reshape(size_ens, 1, target_dim)\n",
    "\n",
    "\n",
    "    final_output_1 = output_1 + output_layer_bias_1\n",
    "\n",
    "\n",
    "\n",
    "    n_hidden_2 = len(weights_ann_2[0].ravel())\n",
    "\n",
    "    initial_ensembles_1 = initial_ensembles.copy()[:, total_weights_1:(total_weights_1+ total_weights_2)]\n",
    "\n",
    "    hidden_weights_2 = initial_ensembles_1[:,:n_hidden_2].reshape(size_ens, batch_data1.shape[1], h2)\n",
    "\n",
    "\n",
    "\n",
    "    hidden_output_2 = np.einsum('ij,kjl->kil', batch_data1, hidden_weights_2)\n",
    "\n",
    "    hidden_layer_bias_2 = initial_ensembles_1[:,n_hidden_2:(n_hidden_2 + h2)].reshape(size_ens, 1,  h2)\n",
    "\n",
    "\n",
    "    # hidden_layer_bias_2 = np.expand_dims(hidden_layer_bias_2, 0)\n",
    "\n",
    "    hidden_output_2 = hidden_output_2+ hidden_layer_bias_2\n",
    "#     hidden_layer_bias_2 = hidden_layer_bias_2 + hidden_layer_bias_2\n",
    "\n",
    "\n",
    "    n_pred_weights_2 = len(weights_ann_2[2].ravel())\n",
    "\n",
    "    output_weights_2 = initial_ensembles_1[:,(n_hidden_2 + h2):(n_hidden_2 + h2 + n_pred_weights_2) ].reshape(size_ens, h2, target_dim)\n",
    "\n",
    "\n",
    "    output_2 = np.einsum('ijk,ikl->ijl', hidden_output_2, output_weights_2)\n",
    "\n",
    "\n",
    "    output_layer_bias_2 = initial_ensembles_1[:,(n_hidden_2 + h2 + n_pred_weights_2):(n_hidden_2 + h2 + n_pred_weights_2 + target_dim)].reshape(size_ens, 1, target_dim)\n",
    "\n",
    "    # output_layer_bias_2 = np.expand_dims(output_layer_bias_2, 0)\n",
    "\n",
    "\n",
    "    final_output_2 = output_2 + output_layer_bias_2\n",
    "\n",
    "\n",
    "    weights_1 = initial_ensembles[:, :total_weights_1]\n",
    "\n",
    "    weights_2 = initial_ensembles[:, total_weights_1:(total_weights_1 + total_weights_2)]\n",
    "\n",
    "#     print(weights_1.shape)\n",
    "    \n",
    "    # print(weights_2.shape)\n",
    "\n",
    "    avg_weights = initial_ensembles[:, -1].reshape(-1,1)\n",
    "    \n",
    "    # avg_weights_not_sig = avg_weights.reshape(avg_weights.shape[0], 1, avg_weights.shape[1])\n",
    "    \n",
    "    \n",
    "    avg_weights_sig = expit(avg_weights)\n",
    "    \n",
    "    avg_weights_sig = avg_weights_sig.reshape(avg_weights_sig.shape[0], 1, avg_weights_sig.shape[1])\n",
    "    \n",
    "    \n",
    "    complement_weights_sig = 1 - expit(avg_weights)\n",
    "    \n",
    "    complement_weights_sig = complement_weights_sig.reshape(complement_weights_sig.shape[0], 1, complement_weights_sig.shape[1])\n",
    "    \n",
    "\n",
    "    final_output_1 = final_output_1*complement_weights_sig\n",
    "    \n",
    "    final_output_2 = final_output_2*avg_weights_sig\n",
    "    \n",
    "    return final_output_1 + final_output_2"
   ]
  },
  {
   "cell_type": "code",
   "execution_count": 3,
   "id": "2a66ee4c-4112-4dca-a9cc-68a60d4e316f",
   "metadata": {},
   "outputs": [],
   "source": [
    "def ann(hidden = 32, input_shape = 256, output_shape = 2): \n",
    "    input_layer = tf.keras.layers.Input(shape = (input_shape))\n",
    "    hidden_layer = tf.keras.layers.Dense(hidden)\n",
    "    hidden_output = hidden_layer(input_layer)\n",
    "    pred_layer = tf.keras.layers.Dense(output_shape, activation = \"relu\")\n",
    "    pred_output = pred_layer(hidden_output)\n",
    "#     pred_output = tf.keras.layers.Activation(\"softmax\")(pred_output)\n",
    "    model = tf.keras.models.Model(input_layer, pred_output)\n",
    "    return model"
   ]
  },
  {
   "cell_type": "code",
   "execution_count": 4,
   "id": "809d88a0-ecd2-44b9-9b94-2ece04ebc3b6",
   "metadata": {},
   "outputs": [],
   "source": [
    "def expit(x):\n",
    "    \"\"\"Compute softmax values for each sets of scores in x.\"\"\"\n",
    "#     e_x = np.exp(x - np.max(x))\n",
    "    return 1 / (1 + np.exp(-x))"
   ]
  },
  {
   "cell_type": "code",
   "execution_count": 5,
   "id": "8f382d3e-e4dc-4e19-b19a-0eb954236a16",
   "metadata": {},
   "outputs": [],
   "source": [
    "alogp_bottleneck = np.load(\"..//Data/small_mol_phase_3_features_for_both.npy\")"
   ]
  },
  {
   "cell_type": "code",
   "execution_count": 6,
   "id": "76ccbcd4-20bd-4772-ac63-3aaef7ab95d8",
   "metadata": {},
   "outputs": [],
   "source": [
    "# y_valid"
   ]
  },
  {
   "cell_type": "code",
   "execution_count": 7,
   "id": "94e5e3f5-e4c6-40f8-ac40-b487543e3711",
   "metadata": {},
   "outputs": [],
   "source": [
    "y_valid = pd.read_csv(\"..//Data/smiles_with_rdkit_with_small_phase_3_outputs.csv\")"
   ]
  },
  {
   "cell_type": "code",
   "execution_count": 8,
   "id": "de38304b-6569-4387-8868-0837b195e462",
   "metadata": {},
   "outputs": [],
   "source": [
    "# y_valid"
   ]
  },
  {
   "cell_type": "code",
   "execution_count": 9,
   "id": "b697b7f9-3d50-4d71-a436-cdc6434909a5",
   "metadata": {},
   "outputs": [
    {
     "name": "stderr",
     "output_type": "stream",
     "text": [
      "/home/statgrads/vpiyush2/.conda/envs/enkf/lib/python3.11/site-packages/sklearn/base.py:318: UserWarning: Trying to unpickle estimator StandardScaler from version 1.1.2 when using version 1.2.2. This might lead to breaking code or invalid results. Use at your own risk. For more info please refer to:\n",
      "https://scikit-learn.org/stable/model_persistence.html#security-maintainability-limitations\n",
      "  warnings.warn(\n"
     ]
    }
   ],
   "source": [
    "std_targets = pickle.load( open('..//Data//target_scaler.pkl', 'rb'))"
   ]
  },
  {
   "cell_type": "code",
   "execution_count": 10,
   "id": "40aa1581-02a9-4c7f-a348-db236a77f6a7",
   "metadata": {},
   "outputs": [],
   "source": [
    "# y_valid"
   ]
  },
  {
   "cell_type": "code",
   "execution_count": 11,
   "id": "1ad7f00f-1bd3-40bc-b50b-de0406c72655",
   "metadata": {},
   "outputs": [],
   "source": [
    "y_train = y_valid.values[:,1:]"
   ]
  },
  {
   "cell_type": "code",
   "execution_count": 12,
   "id": "e3fe10a7-fcc3-430f-8ade-356a7f7b85b2",
   "metadata": {},
   "outputs": [
    {
     "name": "stderr",
     "output_type": "stream",
     "text": [
      "/home/statgrads/vpiyush2/.conda/envs/enkf/lib/python3.11/site-packages/sklearn/base.py:439: UserWarning: X does not have valid feature names, but StandardScaler was fitted with feature names\n",
      "  warnings.warn(\n"
     ]
    }
   ],
   "source": [
    "y_train = std_targets.transform(y_train)"
   ]
  },
  {
   "cell_type": "code",
   "execution_count": 13,
   "id": "6dfffa08-081b-4b5f-8181-ae94a920c932",
   "metadata": {},
   "outputs": [],
   "source": [
    "from sklearn.model_selection import train_test_split"
   ]
  },
  {
   "cell_type": "code",
   "execution_count": 14,
   "id": "f03896e4-b7c8-4237-a0a8-7af9ed6b1f0d",
   "metadata": {},
   "outputs": [],
   "source": [
    "x_train, x_valid, y_train, y_valid = train_test_split(alogp_bottleneck, y_train, test_size = 0.25, shuffle = True, \n",
    "                                                     random_state = 42)"
   ]
  },
  {
   "cell_type": "code",
   "execution_count": 15,
   "id": "7b98c57b-e85d-46f9-92b4-09f2a1b179a8",
   "metadata": {},
   "outputs": [],
   "source": [
    "smiles_feats_train = x_train[:, :32]"
   ]
  },
  {
   "cell_type": "code",
   "execution_count": 16,
   "id": "3b91f4be-60b4-44ee-b992-80da2cbe5395",
   "metadata": {},
   "outputs": [],
   "source": [
    "rdkit_feats_train = x_train[:, 32:]"
   ]
  },
  {
   "cell_type": "code",
   "execution_count": 17,
   "id": "dfe0b04f-b7c9-4f72-ac4b-4ba7e50d128b",
   "metadata": {},
   "outputs": [],
   "source": [
    "smiles_feats_valid = x_valid[:, :32]\n",
    "rdkit_feats_valid = x_valid[:, 32:]"
   ]
  },
  {
   "cell_type": "code",
   "execution_count": 18,
   "id": "c77cd415-1b34-404b-8280-b1de094e2ce9",
   "metadata": {},
   "outputs": [],
   "source": [
    "h1, h2 = 16, 16"
   ]
  },
  {
   "cell_type": "code",
   "execution_count": 19,
   "id": "72ab4c85-9ab7-485e-a96f-7fad3109beee",
   "metadata": {},
   "outputs": [
    {
     "name": "stderr",
     "output_type": "stream",
     "text": [
      "2023-06-06 21:04:58.668575: W tensorflow/core/common_runtime/gpu/gpu_device.cc:1956] Cannot dlopen some GPU libraries. Please make sure the missing libraries mentioned above are installed properly if you would like to use GPU. Follow the guide at https://www.tensorflow.org/install/gpu for how to download and setup the required libraries for your platform.\n",
      "Skipping registering GPU devices...\n"
     ]
    }
   ],
   "source": [
    "ann_15 = ann(h1, 32, 2)"
   ]
  },
  {
   "cell_type": "code",
   "execution_count": 20,
   "id": "e39d6d9b-f407-4b9a-89c3-c7443d076c95",
   "metadata": {},
   "outputs": [],
   "source": [
    "ann_20 = ann(h2, 32, 2)"
   ]
  },
  {
   "cell_type": "code",
   "execution_count": 21,
   "id": "e9f13bf6-b578-4c5e-a919-a7793ed67af2",
   "metadata": {},
   "outputs": [],
   "source": [
    "total_weights_1 = ann_15.count_params()"
   ]
  },
  {
   "cell_type": "code",
   "execution_count": 22,
   "id": "578be109-9a6c-4644-a20f-9842c75803e9",
   "metadata": {},
   "outputs": [],
   "source": [
    "total_weights_2 = ann_20.count_params()"
   ]
  },
  {
   "cell_type": "code",
   "execution_count": 23,
   "id": "2b76859a-1021-4391-bb40-8c052dcb5fd3",
   "metadata": {},
   "outputs": [],
   "source": [
    "total_weights = total_weights_1 + total_weights_2 + 1 "
   ]
  },
  {
   "cell_type": "code",
   "execution_count": 24,
   "id": "2025cd79-c8c6-4ce5-bcc6-59d72b2b8711",
   "metadata": {},
   "outputs": [
    {
     "data": {
      "text/plain": [
       "1125"
      ]
     },
     "execution_count": 24,
     "metadata": {},
     "output_type": "execute_result"
    }
   ],
   "source": [
    "total_weights"
   ]
  },
  {
   "cell_type": "code",
   "execution_count": 25,
   "id": "b074ab35-2e83-44f1-a96f-3679b7da5329",
   "metadata": {},
   "outputs": [],
   "source": [
    "# generate MVN from 0 and some var\n",
    "initial_ensembles_mean = np.zeros((total_weights,))"
   ]
  },
  {
   "cell_type": "code",
   "execution_count": 26,
   "id": "83507ac0-1118-4fa6-8dc9-22c0aa978589",
   "metadata": {},
   "outputs": [],
   "source": [
    "lambda1 = 1"
   ]
  },
  {
   "cell_type": "code",
   "execution_count": 27,
   "id": "1f4120c3-5c1c-4471-b28d-3fefc0e55516",
   "metadata": {},
   "outputs": [],
   "source": [
    "initial_ensembles_cov = lambda1*np.identity(total_weights)"
   ]
  },
  {
   "cell_type": "code",
   "execution_count": 28,
   "id": "bea39262-6961-4750-841e-d25a8a2f3c27",
   "metadata": {},
   "outputs": [],
   "source": [
    "reduction = 4"
   ]
  },
  {
   "cell_type": "code",
   "execution_count": 29,
   "id": "e5fbaaf7-afae-4008-a26c-e0691ef9b3f9",
   "metadata": {},
   "outputs": [],
   "source": [
    "size_ens = total_weights//reduction"
   ]
  },
  {
   "cell_type": "code",
   "execution_count": 30,
   "id": "6b3b2f4d-263d-434f-b813-f7d7f3958816",
   "metadata": {},
   "outputs": [],
   "source": [
    "initial_ensembles = mvn(initial_ensembles_mean, initial_ensembles_cov).rvs(size_ens)"
   ]
  },
  {
   "cell_type": "code",
   "execution_count": 31,
   "id": "d0f2e620-c01f-43fa-b476-9b7001581f6e",
   "metadata": {},
   "outputs": [
    {
     "data": {
      "text/plain": [
       "(281, 1125)"
      ]
     },
     "execution_count": 31,
     "metadata": {},
     "output_type": "execute_result"
    }
   ],
   "source": [
    "initial_ensembles.shape"
   ]
  },
  {
   "cell_type": "code",
   "execution_count": 32,
   "id": "3af0a9b9-6202-40e2-911f-3c890213099f",
   "metadata": {},
   "outputs": [],
   "source": [
    "def calculate_mu_bar_G_bar(data1, data2, initial_ensembles):\n",
    "    mu_bar = initial_ensembles.mean(0)\n",
    "    G_u = get_targets_with_weights(data1, data2, initial_ensembles, size_ens = size_ens)\n",
    "    G_u = G_u.reshape(G_u.shape[0], G_u.shape[1]*G_u.shape[2])\n",
    "    G_bar = (G_u.mean(0)).ravel()\n",
    "    return mu_bar.reshape(-1,1), G_bar.reshape(-1,1), G_u"
   ]
  },
  {
   "cell_type": "code",
   "execution_count": 33,
   "id": "7334c80c-cfcd-4d5b-b844-11cfb8c137df",
   "metadata": {},
   "outputs": [],
   "source": [
    "def calculate_C_u(initial_ensembles, mu_bar, G_bar, G_u): \n",
    "    u_j_minus_u_bar = initial_ensembles - mu_bar.reshape(1,-1)\n",
    "    G_u_minus_G_bar = G_u -  G_bar.reshape(1,-1)\n",
    "    c = np.zeros((total_weights, G_bar.shape[0]))\n",
    "    for i in range(0, size_ens): \n",
    "        c += np.kron(u_j_minus_u_bar[i, :].T.reshape(-1,1), G_u_minus_G_bar[i,:].reshape(-1,1).T)\n",
    "    return c/size_ens, G_u_minus_G_bar"
   ]
  },
  {
   "cell_type": "code",
   "execution_count": 34,
   "id": "9148779c-1a3f-455d-a6ad-00fc1bf69c1f",
   "metadata": {},
   "outputs": [],
   "source": [
    "def calculate_D_u( G_bar, G_u): \n",
    "    G_u_minus_G_bar = G_u -  G_bar.reshape(1,-1)\n",
    "    d = np.zeros((G_bar.shape[0], G_bar.shape[0]))\n",
    "    for i in range(0, size_ens): \n",
    "        d += np.kron(G_u_minus_G_bar[i,:].T.reshape(-1,1), G_u_minus_G_bar[i,:].reshape(-1,1).T)\n",
    "    return d/size_ens"
   ]
  },
  {
   "cell_type": "code",
   "execution_count": 35,
   "id": "6e8459b0-68c1-4d1f-851e-3d7b99f0ffc5",
   "metadata": {},
   "outputs": [],
   "source": [
    "def get_updated_ensemble(data1, data2, initial_ensembles):\n",
    "    mu_bar, G_bar, G_u = calculate_mu_bar_G_bar(data1, data2, initial_ensembles)\n",
    "    C, G_u_minus_G_bar = calculate_C_u(initial_ensembles, mu_bar, G_bar, G_u)\n",
    "    D = calculate_D_u( G_bar, G_u)\n",
    "    mid_quant = C@np.linalg.inv(D + lambda_inv)\n",
    "    right_quant = y_train.ravel().reshape(-1,1) - G_u.T\n",
    "    mid_times_right = mid_quant@right_quant\n",
    "    updated_ensemble = (initial_ensembles.T + mid_times_right)\n",
    "    return updated_ensemble.T"
   ]
  },
  {
   "cell_type": "code",
   "execution_count": 36,
   "id": "c14b236d-6ebf-40e3-9085-97afd2990e4d",
   "metadata": {},
   "outputs": [],
   "source": [
    "target_dim = 2"
   ]
  },
  {
   "cell_type": "code",
   "execution_count": 37,
   "id": "346d07bc-5b61-4e75-a816-a6e22ffe9d76",
   "metadata": {},
   "outputs": [],
   "source": [
    "lambda_D = 1"
   ]
  },
  {
   "cell_type": "code",
   "execution_count": 38,
   "id": "18b0d48e-f557-4d11-acb8-8905f403e2fe",
   "metadata": {},
   "outputs": [],
   "source": [
    "u_bar, G_bar, G_u = calculate_mu_bar_G_bar(smiles_feats_train, rdkit_feats_train, initial_ensembles)"
   ]
  },
  {
   "cell_type": "code",
   "execution_count": 39,
   "id": "9183ef8c-1730-4074-a982-680af10c67f8",
   "metadata": {},
   "outputs": [
    {
     "data": {
      "text/plain": [
       "(1438, 1)"
      ]
     },
     "execution_count": 39,
     "metadata": {},
     "output_type": "execute_result"
    }
   ],
   "source": [
    "G_bar.shape"
   ]
  },
  {
   "cell_type": "code",
   "execution_count": 40,
   "id": "15db8fc2-fc1a-4090-a6cd-851a93fc8ae5",
   "metadata": {},
   "outputs": [],
   "source": [
    "lambda_inv = np.linalg.inv(lambda_D*np.identity(G_bar.shape[0]))"
   ]
  },
  {
   "cell_type": "code",
   "execution_count": 41,
   "id": "13b223f8-0ecb-40e9-bfce-78439876cabc",
   "metadata": {},
   "outputs": [
    {
     "data": {
      "text/plain": [
       "(281, 1438)"
      ]
     },
     "execution_count": 41,
     "metadata": {},
     "output_type": "execute_result"
    }
   ],
   "source": [
    "G_u.shape"
   ]
  },
  {
   "cell_type": "code",
   "execution_count": 42,
   "id": "dc3a216a-4dbb-474d-8219-5f6c071250a4",
   "metadata": {},
   "outputs": [],
   "source": [
    "def inverse_transform(data, idx):\n",
    "    data_cur = data[idx, :, :]\n",
    "    inv_data_cur = std_targets.inverse_transform(data_cur)\n",
    "    return inv_data_cur"
   ]
  },
  {
   "cell_type": "code",
   "execution_count": 43,
   "id": "5abd35fb-ea92-449d-894a-162ed1f4aaec",
   "metadata": {},
   "outputs": [],
   "source": [
    "from joblib import Parallel, delayed"
   ]
  },
  {
   "cell_type": "code",
   "execution_count": 44,
   "id": "7f151faf-ada0-4d56-87b8-6c96aa4eb0c6",
   "metadata": {},
   "outputs": [],
   "source": [
    "# catch = Parallel(n_jobs = 15, verbose = 3)(delayed(inverse_transform)(G_u_test, i)  for i in range(G_u_test.shape[0]))"
   ]
  },
  {
   "cell_type": "code",
   "execution_count": 45,
   "id": "65bf21e9-92c6-4824-93c3-87274b072afa",
   "metadata": {},
   "outputs": [
    {
     "name": "stdout",
     "output_type": "stream",
     "text": [
      "[ 3.1051163  60.55913727] [1. 1.] [ 116.41131147 2506.44896486]\n",
      "[ 3.05732003 60.16792826] [1. 1.] [ 115.18755116 2459.90755072]\n",
      "[ 2.17844875 41.25827476] [1. 1.] [  89.48664151 1914.20445548]\n",
      "[ 2.09346684 40.9691746 ] [1. 1.] [  88.25040322 1883.21061607]\n",
      "[ 2.18854485 33.10747459] [1. 1.] [  73.5818114  1638.00256515]\n",
      "[ 2.19458501 32.66348853] [1. 1.] [  73.17758895 1612.2026226 ]\n",
      "[ 2.37708947 31.98608451] [1. 1.] [  66.03378062 1407.83363829]\n",
      "[ 2.32305381 31.31714652] [1. 1.] [  65.97360198 1394.68244761]\n",
      "[ 2.01013523 29.0044091 ] [1. 1.] [  56.50728869 1263.01797673]\n",
      "[ 1.95125138 28.62905248] [1. 1.] [  56.23956604 1245.5331262 ]\n",
      "[ 2.01794431 27.44507713] [1. 1.] [  49.73717965 1110.46426092]\n",
      "[ 1.92739271 24.73209984] [1. 1.] [  49.86517999 1098.81649768]\n",
      "[ 1.53384723 31.65865822] [1. 1.] [  45.16130227 1062.9889988 ]\n",
      "[ 1.42739478 28.56658545] [1. 1.] [  45.35660967 1044.63379524]\n",
      "[ 1.42182681 32.66779213] [1. 1.] [ 39.89619891 933.64313401]\n",
      "[ 1.33341756 29.79283512] [1. 1.] [ 39.82443275 922.35260492]\n",
      "[ 1.33850323 36.22976402] [1. 1.] [ 34.82588179 811.80984397]\n",
      "[ 1.25806171 32.6288212 ] [1. 1.] [ 34.68938167 800.04899469]\n",
      "[ 1.21155017 42.1955844 ] [1. 1.] [ 31.34327349 729.97636942]\n",
      "[ 1.2210629  37.86894172] [1. 1.] [ 31.0419346  722.04452755]\n",
      "[ 0.91532508 43.5613737 ] [1. 1.] [ 26.52295515 629.07534392]\n",
      "[ 0.90818856 39.96409537] [1. 1.] [ 26.30640173 625.01634345]\n",
      "[ 0.93051486 45.31175701] [1. 1.] [ 22.86096767 545.34567426]\n",
      "[ 0.86737957 42.10602324] [1. 1.] [ 22.63478824 542.28165497]\n",
      "[ 0.79908365 47.60793402] [1. 1.] [ 18.48779623 461.48838818]\n",
      "[ 0.65614258 44.3586264 ] [1. 1.] [ 18.32712581 457.74575664]\n",
      "[ 0.71303154 37.43873902] [1. 1.] [ 15.42524598 364.19313451]\n",
      "[ 0.63654511 35.01301694] [1. 1.] [ 15.22298309 360.16230849]\n",
      "[ 0.73532402 19.97058833] [1. 1.] [ 12.67497797 283.08925996]\n",
      "[ 0.63650509 17.80262185] [1. 1.] [ 12.50490375 280.32421831]\n",
      "[ 0.84819139 16.85107834] [1. 1.] [ 10.30033122 226.08835201]\n",
      "[ 0.77618927 14.88410801] [1. 1.] [ 10.17991071 223.91165494]\n",
      "[ 0.91811255 11.57638261] [1. 1.] [  8.74981836 195.20766549]\n",
      "[ 0.85554323 10.06693689] [1. 1.] [  8.61006284 194.30543014]\n",
      "[1.01412105 8.30745546] [1. 1.] [  7.26059265 162.32438943]\n",
      "[0.95233191 7.68588022] [1. 1.] [  7.14403779 160.59917967]\n",
      "[0.73914576 7.49130884] [1. 1.] [  5.81372331 134.65702439]\n",
      "[0.6880352  6.84574268] [1. 1.] [  5.77689479 133.9118983 ]\n",
      "[0.65771984 5.63708484] [1. 1.] [  4.73540248 112.83916154]\n",
      "[0.59730138 5.28175177] [1. 1.] [  4.68696384 112.60998722]\n",
      "[0.46707909 5.56730371] [1. 1.] [ 4.11103426 96.47090561]\n",
      "[0.41469383 4.89654823] [1. 1.] [ 4.07898164 96.28714279]\n",
      "[0.31353873 5.74652517] [1. 1.] [ 3.33344739 82.323075  ]\n",
      "[0.25036647 5.14815375] [1. 1.] [ 3.29080077 81.54933855]\n",
      "[0.31937409 5.16388367] [1. 1.] [ 2.88943461 65.63026758]\n",
      "[0.2817795  4.71084176] [1. 1.] [ 2.88602844 65.24612138]\n",
      "[0.23466215 3.76800692] [1. 1.] [ 2.32962844 55.96596772]\n",
      "[0.20126992 3.43209915] [1. 1.] [ 2.29735342 55.58288677]\n",
      "[0.19676921 3.59479573] [1. 1.] [ 1.91900866 47.56224921]\n",
      "[0.16182406 3.32214874] [1. 1.] [ 1.87625398 46.97982511]\n",
      "[0.15672285 3.43191818] [1. 1.] [ 1.59117699 40.85479469]\n",
      "[0.13408456 3.18702137] [1. 1.] [ 1.56758874 40.37239557]\n",
      "[0.13789202 3.52081058] [1. 1.] [ 1.53358698 35.55054352]\n",
      "[0.12687119 3.28322992] [1. 1.] [ 1.5179486  35.13657736]\n",
      "[0.12537846 2.91429528] [1. 1.] [ 1.34742424 31.7585188 ]\n",
      "[0.11829313 2.71302173] [0.99583333 1.        ] [ 1.33754377 31.4821045 ]\n",
      "[0.11915511 2.72033832] [1. 1.] [ 1.21419888 28.71172748]\n",
      "[0.11737885 2.51904615] [0.99583333 1.        ] [ 1.19861742 28.27564586]\n",
      "[0.10133133 2.91668231] [1. 1.] [ 1.13116634 26.21541226]\n",
      "[0.10574398 2.72674731] [0.99583333 1.        ] [ 1.11748716 25.84907845]\n",
      "[0.09762541 2.62259921] [1. 1.] [ 1.0235414  23.66655187]\n",
      "[0.10433244 2.47319959] [0.99583333 1.        ] [ 1.01269116 23.45339956]\n",
      "[0.09398259 2.3486616 ] [0.99721836 1.        ] [ 0.91542123 21.35427009]\n",
      "[0.10065773 2.2017576 ] [0.99583333 1.        ] [ 0.91435542 21.42800349]\n",
      "[0.08809541 2.12027471] [0.99721836 1.        ] [ 0.79948045 20.14367447]\n",
      "[0.09544105 1.964716  ] [0.99583333 1.        ] [ 0.80399383 20.19589979]\n",
      "[0.0821049  1.89976636] [0.99721836 1.        ] [ 0.74071485 18.8136986 ]\n",
      "[0.09151942 1.72774496] [0.99583333 1.        ] [ 0.74989589 18.81473074]\n",
      "[0.08038858 1.83496565] [0.99721836 0.99860918] [ 0.71085224 17.34318444]\n",
      "[0.09011466 1.64579709] [0.99583333 1.        ] [ 0.71712563 17.43991648]\n",
      "[0.0785234  1.69962786] [0.99721836 0.99860918] [ 0.69817645 15.96837747]\n",
      "[0.08877804 1.52603025] [0.99583333 1.        ] [ 0.70786723 16.12641573]\n",
      "[0.07511108 1.61289513] [0.99721836 0.99721836] [ 0.66819266 15.0895055 ]\n",
      "[0.0856187 1.4425735] [0.99583333 1.        ] [ 0.67683938 15.2282169 ]\n",
      "[0.07196352 1.56627774] [0.99582754 0.99721836] [ 0.63600652 14.67147332]\n",
      "[0.0828036  1.39991682] [0.99583333 1.        ] [ 0.64392001 14.8018499 ]\n",
      "[0.06997917 1.53513109] [0.99582754 0.99721836] [ 0.6074417  14.58236972]\n",
      "[0.08092131 1.37763349] [0.99583333 1.        ] [ 0.61533154 14.69242814]\n",
      "[0.0690085  1.44692943] [0.99582754 0.99721836] [ 0.58674356 14.48452773]\n",
      "[0.07986155 1.31036045] [0.99583333 1.        ] [ 0.59158536 14.65547848]\n",
      "[0.06875494 1.34544416] [0.99443672 0.99721836] [ 0.57353115 14.30254097]\n",
      "[0.07938764 1.2253287 ] [0.99583333 1.        ] [ 0.57378371 14.55636624]\n",
      "[0.06889188 1.2699951 ] [0.9930459  0.99721836] [ 0.56448604 14.04464137]\n",
      "[0.07923873 1.15536381] [0.99583333 1.        ] [ 0.56744472 14.30265889]\n",
      "[0.06865729 1.22272015] [0.9930459  0.99721836] [ 0.55742676 13.69117386]\n",
      "[0.07878345 1.10410057] [0.99583333 1.        ] [ 0.56217492 13.92223299]\n",
      "[0.06780621 1.19368252] [0.9930459  0.99721836] [ 0.54417011 13.20645441]\n",
      "[0.07781001 1.06784239] [0.99583333 1.        ] [ 0.54852379 13.34612503]\n",
      "[0.0666442  1.17207652] [0.9930459  0.99721836] [ 0.52560062 12.64635097]\n",
      "[0.07655958 1.03892369] [0.99166667 1.        ] [ 0.52881437 12.77552661]\n",
      "[0.06567142 1.15134559] [0.9930459  0.99721836] [ 0.50749822 12.10901691]\n",
      "[0.07546005 1.01139329] [0.99166667 1.        ] [ 0.51050444 12.2016594 ]\n",
      "[0.06503611 1.1299457 ] [0.9930459  0.99582754] [ 0.49140004 11.65538738]\n",
      "[0.07468639 0.98364129] [0.99166667 1.        ] [ 0.49347649 11.7540289 ]\n",
      "[0.06459076 1.10998191] [0.9930459  0.99582754] [ 0.47897713 11.26767598]\n",
      "[0.07415928 0.95777959] [0.99166667 1.        ] [ 0.48317249 11.37154523]\n",
      "[0.06419759 1.09315857] [0.9930459  0.99582754] [ 0.46899646 10.96424672]\n",
      "[0.07375895 0.93568853] [0.99166667 1.        ] [ 0.47427343 11.07131618]\n",
      "[0.06380716 1.07913621] [0.9930459  0.99582754] [ 0.46403482 10.70907272]\n",
      "[0.07341843 0.91703266] [0.99166667 1.        ] [ 0.46955014 10.83382862]\n",
      "[0.06342008 1.06692351] [0.9930459  0.99582754] [ 0.46185609 10.49553066]\n",
      "[0.07311974 0.9004645 ] [0.99166667 1.        ] [ 0.46642904 10.62161417]\n",
      "[0.06306368 1.05589149] [0.9930459  0.99582754] [ 0.46118374 10.2846384 ]\n",
      "[0.07286884 0.88498913] [0.99166667 1.        ] [ 0.46321188 10.44686564]\n",
      "[0.06276541 1.04580844] [0.9930459  0.99582754] [ 0.46005725 10.09446817]\n",
      "[0.0726692 0.8703242] [0.99166667 1.        ] [ 0.46239547 10.27039036]\n",
      "[0.06253116 1.03650308] [0.9930459  0.99582754] [0.45875432 9.92841729]\n",
      "[0.07251061 0.85646803] [0.99166667 1.        ] [ 0.4629233  10.09993022]\n",
      "[0.06234834 1.02756058] [0.9930459  0.99582754] [0.45760767 9.76271832]\n",
      "[0.07237667 0.84312373] [0.99166667 1.        ] [0.46163154 9.93081394]\n",
      "[0.06220012 1.01843091] [0.9930459  0.99582754] [0.45462927 9.59962585]\n",
      "[0.0722566  0.82969496] [0.99166667 1.        ] [0.45849916 9.78439494]\n",
      "[0.06207137 1.00877912] [0.9930459  0.99582754] [0.45110559 9.43852885]\n",
      "[0.07214844 0.81569707] [0.99166667 1.        ] [0.45540819 9.65296016]\n",
      "[0.06194503 0.99862985] [0.9930459  0.99582754] [0.44777188 9.29221717]\n",
      "[0.07205017 0.80100322] [0.99166667 1.        ] [0.4520063  9.49460786]\n",
      "[0.06179842 0.98827283] [0.9930459  0.99582754] [0.44417605 9.15388799]\n",
      "[0.07194712 0.78584726] [0.99166667 1.        ] [0.44760916 9.37613527]\n",
      "[0.06160533 0.97814989] [0.9930459  0.99582754] [0.44077229 9.01917443]\n",
      "[0.07180849 0.77076943] [0.99166667 1.        ] [0.44305685 9.26009313]\n",
      "[0.06134435 0.96878905] [0.9930459  0.99582754] [0.43787745 8.89359733]\n",
      "[0.07160062 0.75650928] [0.99166667 1.        ] [0.43965902 9.12819891]\n",
      "[0.06100958 0.96067705] [0.9930459  0.99443672] [0.43553822 8.76738934]\n",
      "[0.07130728 0.74375628] [0.99166667 1.        ] [0.43638289 9.010366  ]\n",
      "[0.06061548 0.95406105] [0.9930459  0.99443672] [0.43368114 8.66154696]\n",
      "[0.070939   0.73285404] [0.99166667 1.        ] [0.43335904 8.92589595]\n",
      "[0.06019057 0.94886233] [0.9930459  0.99582754] [0.43195031 8.55754906]\n",
      "[0.0705254  0.72371258] [0.99166667 1.        ] [0.43196523 8.83803436]\n",
      "[0.05976551 0.94478757] [0.9930459  0.99582754] [0.4302672  8.45661074]\n",
      "[0.0701001  0.71597312] [0.99166667 1.        ] [0.43072254 8.74425126]\n",
      "[0.05936382 0.94149918] [0.9930459  0.99443672] [0.42767138 8.38555257]\n",
      "[0.06968988 0.70921323] [0.99166667 1.        ] [0.42831834 8.67000183]\n",
      "[0.05899896 0.93871461] [0.9930459  0.99443672] [0.42548246 8.32993335]\n",
      "[0.06931138 0.70305747] [0.99166667 1.        ] [0.42575504 8.58311697]\n",
      "[0.05867603 0.93623389] [0.9930459  0.99443672] [0.42321537 8.28788429]\n",
      "[0.0689725  0.69722361] [0.99166667 1.        ] [0.42405308 8.52934056]\n",
      "[0.05839485 0.93393828] [0.9930459  0.99443672] [0.42033017 8.26677758]\n",
      "[0.06867493 0.69155227] [0.99166667 1.        ] [0.42082191 8.50048775]\n",
      "[0.05815226 0.9317826 ] [0.9930459  0.99443672] [0.41741704 8.26616718]\n",
      "[0.06841603 0.68602672] [0.99166667 1.        ] [0.41821034 8.48238655]\n",
      "[0.05794371 0.92978351] [0.9930459  0.99443672] [0.41450937 8.26797127]\n",
      "[0.06819073 0.6807659 ] [0.99166667 1.        ] [0.41449268 8.48632969]\n",
      "[0.05776447 0.92799552] [0.9930459  0.99443672] [0.41069375 8.28320982]\n",
      "[0.06799365 0.67596971] [0.99166667 1.        ] [0.41159345 8.50277648]\n",
      "[0.05761049 0.92647536] [0.9930459  0.99443672] [0.40709435 8.27796184]\n",
      "[0.06782083 0.67182504] [0.99166667 1.        ] [0.40814934 8.51324659]\n",
      "[0.05747843 0.92525207] [0.9930459  0.99443672] [0.40392638 8.26627997]\n",
      "[0.06766982 0.66842316] [0.99166667 1.        ] [0.40527868 8.50113413]\n",
      "[0.05736525 0.92431719] [0.9930459  0.99443672] [0.40138772 8.25079643]\n",
      "[0.06753893 0.66573107] [0.99166667 1.        ] [0.40146799 8.4650517 ]\n",
      "[0.05726788 0.92363033] [0.9930459  0.99443672] [0.39817572 8.21696914]\n",
      "[0.06742652 0.66361241] [0.99166667 1.        ] [0.39934462 8.44167535]\n",
      "[0.05718339 0.9231281 ] [0.9930459  0.99443672] [0.39485275 8.18060896]\n",
      "[0.06733078 0.66186622] [0.99166667 1.        ] [0.39625841 8.37897287]\n",
      "[0.05710947 0.92273206] [0.9930459  0.99443672] [0.39223008 8.13710411]\n",
      "[0.06725007 0.66026237] [0.99166667 1.        ] [0.3942219  8.32681515]\n"
     ]
    },
    {
     "ename": "KeyboardInterrupt",
     "evalue": "",
     "output_type": "error",
     "traceback": [
      "\u001b[0;31m---------------------------------------------------------------------------\u001b[0m",
      "\u001b[0;31mKeyboardInterrupt\u001b[0m                         Traceback (most recent call last)",
      "Cell \u001b[0;32mIn[45], line 3\u001b[0m\n\u001b[1;32m      1\u001b[0m \u001b[38;5;28;01mfor\u001b[39;00m i \u001b[38;5;129;01min\u001b[39;00m \u001b[38;5;28mrange\u001b[39m(\u001b[38;5;241m0\u001b[39m,\u001b[38;5;241m10000\u001b[39m):\n\u001b[0;32m----> 3\u001b[0m     initial_ensembles \u001b[38;5;241m=\u001b[39m \u001b[43mget_updated_ensemble\u001b[49m\u001b[43m(\u001b[49m\u001b[43msmiles_feats_train\u001b[49m\u001b[43m,\u001b[49m\u001b[43m \u001b[49m\u001b[43mrdkit_feats_train\u001b[49m\u001b[43m,\u001b[49m\u001b[43m \u001b[49m\u001b[43minitial_ensembles\u001b[49m\u001b[43m)\u001b[49m\n\u001b[1;32m      5\u001b[0m     G_u_train \u001b[38;5;241m=\u001b[39m get_targets_with_weights(smiles_feats_train, rdkit_feats_train, initial_ensembles, size_ens \u001b[38;5;241m=\u001b[39m size_ens)\n\u001b[1;32m      6\u001b[0m     catch \u001b[38;5;241m=\u001b[39m Parallel(n_jobs \u001b[38;5;241m=\u001b[39m \u001b[38;5;241m15\u001b[39m, verbose \u001b[38;5;241m=\u001b[39m \u001b[38;5;241m0\u001b[39m)(delayed(inverse_transform)(G_u_train, i)  \u001b[38;5;28;01mfor\u001b[39;00m i \u001b[38;5;129;01min\u001b[39;00m \u001b[38;5;28mrange\u001b[39m(G_u_train\u001b[38;5;241m.\u001b[39mshape[\u001b[38;5;241m0\u001b[39m]))\n",
      "Cell \u001b[0;32mIn[35], line 3\u001b[0m, in \u001b[0;36mget_updated_ensemble\u001b[0;34m(data1, data2, initial_ensembles)\u001b[0m\n\u001b[1;32m      1\u001b[0m \u001b[38;5;28;01mdef\u001b[39;00m \u001b[38;5;21mget_updated_ensemble\u001b[39m(data1, data2, initial_ensembles):\n\u001b[1;32m      2\u001b[0m     mu_bar, G_bar, G_u \u001b[38;5;241m=\u001b[39m calculate_mu_bar_G_bar(data1, data2, initial_ensembles)\n\u001b[0;32m----> 3\u001b[0m     C, G_u_minus_G_bar \u001b[38;5;241m=\u001b[39m \u001b[43mcalculate_C_u\u001b[49m\u001b[43m(\u001b[49m\u001b[43minitial_ensembles\u001b[49m\u001b[43m,\u001b[49m\u001b[43m \u001b[49m\u001b[43mmu_bar\u001b[49m\u001b[43m,\u001b[49m\u001b[43m \u001b[49m\u001b[43mG_bar\u001b[49m\u001b[43m,\u001b[49m\u001b[43m \u001b[49m\u001b[43mG_u\u001b[49m\u001b[43m)\u001b[49m\n\u001b[1;32m      4\u001b[0m     D \u001b[38;5;241m=\u001b[39m calculate_D_u( G_bar, G_u)\n\u001b[1;32m      5\u001b[0m     mid_quant \u001b[38;5;241m=\u001b[39m C\u001b[38;5;129m@np\u001b[39m\u001b[38;5;241m.\u001b[39mlinalg\u001b[38;5;241m.\u001b[39minv(D \u001b[38;5;241m+\u001b[39m lambda_inv)\n",
      "Cell \u001b[0;32mIn[33], line 6\u001b[0m, in \u001b[0;36mcalculate_C_u\u001b[0;34m(initial_ensembles, mu_bar, G_bar, G_u)\u001b[0m\n\u001b[1;32m      4\u001b[0m c \u001b[38;5;241m=\u001b[39m np\u001b[38;5;241m.\u001b[39mzeros((total_weights, G_bar\u001b[38;5;241m.\u001b[39mshape[\u001b[38;5;241m0\u001b[39m]))\n\u001b[1;32m      5\u001b[0m \u001b[38;5;28;01mfor\u001b[39;00m i \u001b[38;5;129;01min\u001b[39;00m \u001b[38;5;28mrange\u001b[39m(\u001b[38;5;241m0\u001b[39m, size_ens): \n\u001b[0;32m----> 6\u001b[0m     c \u001b[38;5;241m+\u001b[39m\u001b[38;5;241m=\u001b[39m \u001b[43mnp\u001b[49m\u001b[38;5;241;43m.\u001b[39;49m\u001b[43mkron\u001b[49m\u001b[43m(\u001b[49m\u001b[43mu_j_minus_u_bar\u001b[49m\u001b[43m[\u001b[49m\u001b[43mi\u001b[49m\u001b[43m,\u001b[49m\u001b[43m \u001b[49m\u001b[43m:\u001b[49m\u001b[43m]\u001b[49m\u001b[38;5;241;43m.\u001b[39;49m\u001b[43mT\u001b[49m\u001b[38;5;241;43m.\u001b[39;49m\u001b[43mreshape\u001b[49m\u001b[43m(\u001b[49m\u001b[38;5;241;43m-\u001b[39;49m\u001b[38;5;241;43m1\u001b[39;49m\u001b[43m,\u001b[49m\u001b[38;5;241;43m1\u001b[39;49m\u001b[43m)\u001b[49m\u001b[43m,\u001b[49m\u001b[43m \u001b[49m\u001b[43mG_u_minus_G_bar\u001b[49m\u001b[43m[\u001b[49m\u001b[43mi\u001b[49m\u001b[43m,\u001b[49m\u001b[43m:\u001b[49m\u001b[43m]\u001b[49m\u001b[38;5;241;43m.\u001b[39;49m\u001b[43mreshape\u001b[49m\u001b[43m(\u001b[49m\u001b[38;5;241;43m-\u001b[39;49m\u001b[38;5;241;43m1\u001b[39;49m\u001b[43m,\u001b[49m\u001b[38;5;241;43m1\u001b[39;49m\u001b[43m)\u001b[49m\u001b[38;5;241;43m.\u001b[39;49m\u001b[43mT\u001b[49m\u001b[43m)\u001b[49m\n\u001b[1;32m      7\u001b[0m \u001b[38;5;28;01mreturn\u001b[39;00m c\u001b[38;5;241m/\u001b[39msize_ens, G_u_minus_G_bar\n",
      "File \u001b[0;32m<__array_function__ internals>:180\u001b[0m, in \u001b[0;36mkron\u001b[0;34m(*args, **kwargs)\u001b[0m\n",
      "File \u001b[0;32m~/.conda/envs/enkf/lib/python3.11/site-packages/numpy/lib/shape_base.py:1179\u001b[0m, in \u001b[0;36mkron\u001b[0;34m(a, b)\u001b[0m\n\u001b[1;32m   1177\u001b[0m b_arr \u001b[38;5;241m=\u001b[39m expand_dims(b_arr, axis\u001b[38;5;241m=\u001b[39m\u001b[38;5;28mtuple\u001b[39m(\u001b[38;5;28mrange\u001b[39m(\u001b[38;5;241m0\u001b[39m, nd\u001b[38;5;241m*\u001b[39m\u001b[38;5;241m2\u001b[39m, \u001b[38;5;241m2\u001b[39m)))\n\u001b[1;32m   1178\u001b[0m \u001b[38;5;66;03m# In case of `mat`, convert result to `array`\u001b[39;00m\n\u001b[0;32m-> 1179\u001b[0m result \u001b[38;5;241m=\u001b[39m \u001b[43m_nx\u001b[49m\u001b[38;5;241;43m.\u001b[39;49m\u001b[43mmultiply\u001b[49m\u001b[43m(\u001b[49m\u001b[43ma_arr\u001b[49m\u001b[43m,\u001b[49m\u001b[43m \u001b[49m\u001b[43mb_arr\u001b[49m\u001b[43m,\u001b[49m\u001b[43m \u001b[49m\u001b[43msubok\u001b[49m\u001b[38;5;241;43m=\u001b[39;49m\u001b[43m(\u001b[49m\u001b[38;5;129;43;01mnot\u001b[39;49;00m\u001b[43m \u001b[49m\u001b[43mis_any_mat\u001b[49m\u001b[43m)\u001b[49m\u001b[43m)\u001b[49m\n\u001b[1;32m   1181\u001b[0m \u001b[38;5;66;03m# Reshape back\u001b[39;00m\n\u001b[1;32m   1182\u001b[0m result \u001b[38;5;241m=\u001b[39m result\u001b[38;5;241m.\u001b[39mreshape(_nx\u001b[38;5;241m.\u001b[39mmultiply(as_, bs))\n",
      "\u001b[0;31mKeyboardInterrupt\u001b[0m: "
     ]
    }
   ],
   "source": [
    "for i in range(0,10000):\n",
    "    \n",
    "    initial_ensembles = get_updated_ensemble(smiles_feats_train, rdkit_feats_train, initial_ensembles)\n",
    "    \n",
    "    G_u_train = get_targets_with_weights(smiles_feats_train, rdkit_feats_train, initial_ensembles, size_ens = size_ens)\n",
    "    catch = Parallel(n_jobs = 15, verbose = 0)(delayed(inverse_transform)(G_u_train, i)  for i in range(G_u_train.shape[0]))\n",
    "    G_u_train = np.array(catch)\n",
    "    \n",
    "    y_train_cur = std_targets.inverse_transform(y_train)\n",
    "    \n",
    "    li_train = np.percentile(G_u_train, axis = 0, q = (2.5, 97.5))[0,:,:]   \n",
    "    ui_train = np.percentile(G_u_train, axis = 0, q = (2.5, 97.5))[1,:,:]\n",
    "    \n",
    "    width_train = ui_train - li_train\n",
    "    avg_width_train = width_train.mean(0)\n",
    "    \n",
    "    ind_train = (y_train_cur >= li_train) & (y_train_cur <= ui_train)\n",
    "    coverage_train= ind_train.mean(0)\n",
    "    \n",
    "    averaged_targets_train = G_u_train.mean(0)\n",
    "    rmse_train = np.sqrt(((y_train_cur -averaged_targets_train)**2).mean(0))\n",
    "    print(rmse_train, coverage_train, avg_width_train)\n",
    "    \n",
    "    G_u_test = get_targets_with_weights(smiles_feats_valid, rdkit_feats_valid, initial_ensembles, size_ens = size_ens)\n",
    "    \n",
    "    catch = Parallel(n_jobs = 15, verbose = 0)(delayed(inverse_transform)(G_u_test, i)  for i in range(G_u_test.shape[0]))\n",
    "    G_u_test = np.array(catch)\n",
    "    \n",
    "    y_valid_cur = std_targets.inverse_transform(y_valid)    \n",
    "    \n",
    "    li_test = np.percentile(G_u_test, axis = 0, q = (2.5, 97.5))[0,:,:]   \n",
    "    ui_test = np.percentile(G_u_test, axis = 0, q = (2.5, 97.5))[1,:,:]\n",
    "    \n",
    "    width_test = ui_test - li_test\n",
    "    avg_width_test = width_test.mean(0)\n",
    "    \n",
    "    ind_test = (y_valid_cur >= li_test) & (y_valid_cur <= ui_test)\n",
    "    coverage_test= ind_test.mean(0)\n",
    "    \n",
    "    averaged_targets_test = G_u_test.mean(0)\n",
    "    rmse_test = np.sqrt(((y_valid_cur -averaged_targets_test)**2).mean(0))    \n",
    "    \n",
    "    # plt.scatter(y_valid[:, 0], averaged_targets_test[:,0])\n",
    "    # plt.axline((0,0), slope = 1, c= \"black\")\n",
    "    # plt.show()\n",
    "    # plt.scatter(y_valid[:,1], averaged_targets_test[:, 1])\n",
    "    # plt.axline((0,0), slope = 1, c= \"black\")\n",
    "    # plt.show()\n",
    "    \n",
    "    if coverage_train.mean() < 0.95:\n",
    "        break\n",
    "    \n",
    "    print(rmse_test, coverage_test, avg_width_test)"
   ]
  },
  {
   "cell_type": "code",
   "execution_count": 46,
   "id": "a81eb6c3-e084-4e43-aa5e-3f9b0f5ee016",
   "metadata": {},
   "outputs": [
    {
     "data": {
      "text/plain": [
       "(281, 240, 2)"
      ]
     },
     "execution_count": 46,
     "metadata": {},
     "output_type": "execute_result"
    }
   ],
   "source": [
    "G_u_test.shape"
   ]
  },
  {
   "cell_type": "code",
   "execution_count": 47,
   "id": "96d8df43-9ae3-47f6-9c69-ac77c38a6eb6",
   "metadata": {},
   "outputs": [],
   "source": [
    "import random"
   ]
  },
  {
   "cell_type": "code",
   "execution_count": 48,
   "id": "47207771-df91-48f0-9963-9a78989bcfe3",
   "metadata": {},
   "outputs": [],
   "source": [
    "random_idx = random.sample(range(y_valid_cur.shape[0]), k = 8)"
   ]
  },
  {
   "cell_type": "code",
   "execution_count": 50,
   "id": "af5f17ea-a47c-421d-bd32-7a0dc0f1af60",
   "metadata": {},
   "outputs": [
    {
     "data": {
      "image/png": "[encoded data removed]",
      "text/plain": [
       "<Figure size 1500x1500 with 16 Axes>"
      ]
     },
     "metadata": {},
     "output_type": "display_data"
    }
   ],
   "source": [
    "fig, axs = plt.subplots(8, 2,figsize=(15, 15))\n",
    "# axs = axs.ravel()\n",
    "# counter = 0\n",
    "for idx, i in enumerate(random_idx):\n",
    "    # print(counter)\n",
    "    truth = y_valid_cur[i,:]\n",
    "    preds = G_u_test[:, i,:]\n",
    "    percts = np.percentile(preds, axis = 0, q = (2.5, 97.5))\n",
    "    lis = percts[0,:]\n",
    "    uis = percts[1,:]\n",
    "    \n",
    "    \n",
    "    axs[idx, 0].hist(preds[:,0])\n",
    "    axs[idx, 0].axvline(truth[0], color='green', linewidth=2)\n",
    "    axs[idx, 0].axvline(lis[0], color='red', linewidth=2)\n",
    "    axs[idx, 0].axvline(uis[0], color='red', linewidth=2)\n",
    "    \n",
    "    axs[idx, 1].hist(preds[:,1])\n",
    "    axs[idx, 1].axvline(truth[1], color='green', linewidth=2)\n",
    "    axs[idx, 1].axvline(lis[1], color='red', linewidth=2)\n",
    "    axs[idx, 1].axvline(uis[1], color='red', linewidth=2)\n",
    "    \n",
    "    # counter+=2\n",
    "    # print(counter)\n",
    "    \n",
    "    # plt.show()\n",
    "plt.savefig('prediction_intervals.png', bbox_inches='tight')"
   ]
  },
  {
   "cell_type": "code",
   "execution_count": 51,
   "id": "3230a62b-f36f-4ec0-9c7d-0ba75c9de369",
   "metadata": {},
   "outputs": [
    {
     "data": {
      "image/png": "[encoded data removed]",
      "text/plain": [
       "<Figure size 640x480 with 1 Axes>"
      ]
     },
     "metadata": {},
     "output_type": "display_data"
    },
    {
     "data": {
      "image/png": "[encoded data removed]",
      "text/plain": [
       "<Figure size 640x480 with 1 Axes>"
      ]
     },
     "metadata": {},
     "output_type": "display_data"
    }
   ],
   "source": [
    "plt.scatter(y_valid_cur[:, 0], averaged_targets_test[:,0])\n",
    "plt.axline((0,0), slope = 1, c= \"black\")\n",
    "plt.show()\n",
    "plt.scatter(y_valid_cur[:,1], averaged_targets_test[:, 1])\n",
    "plt.axline((0,0), slope = 1, c= \"black\")\n",
    "plt.show()"
   ]
  }
 ],
 "metadata": {
  "kernelspec": {
   "display_name": "enkf",
   "language": "python",
   "name": "enkf"
  },
  "language_info": {
   "codemirror_mode": {
    "name": "ipython",
    "version": 3
   },
   "file_extension": ".py",
   "mimetype": "text/x-python",
   "name": "python",
   "nbconvert_exporter": "python",
   "pygments_lexer": "ipython3",
   "version": "3.11.3"
  }
 },
 "nbformat": 4,
 "nbformat_minor": 5
}

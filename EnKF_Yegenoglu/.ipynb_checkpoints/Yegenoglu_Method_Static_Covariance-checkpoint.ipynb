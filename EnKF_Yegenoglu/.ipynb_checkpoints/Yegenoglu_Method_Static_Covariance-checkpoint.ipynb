{
 "cells": [
  {
   "cell_type": "code",
   "execution_count": 77,
   "id": "aa53e19a-64db-4b1d-9378-c19c8efacd62",
   "metadata": {},
   "outputs": [],
   "source": [
    "import pandas as pd\n",
    "import numpy as np\n",
    "from sklearn.model_selection import KFold\n",
    "from sklearn.feature_selection import VarianceThreshold\n",
    "import random\n",
    "import pickle\n",
    "from sklearn.preprocessing import StandardScaler\n",
    "import os\n",
    "import tensorflow as tf\n",
    "from tqdm.notebook import tqdm\n",
    "from scipy.stats import multivariate_normal as mvn\n",
    "import matplotlib.pyplot as plt"
   ]
  },
  {
   "cell_type": "code",
   "execution_count": 78,
   "id": "1df669ac-cde2-4008-b431-0903f21dce58",
   "metadata": {},
   "outputs": [],
   "source": [
    "def get_targets_with_weights(batch_data, batch_data1, initial_ensembles, size_ens): \n",
    "\n",
    "    weights_ann_1 = ann_15.get_weights()\n",
    "    weights_ann_2 = ann_20.get_weights()\n",
    "    \n",
    "    n_hidden_1 = len(weights_ann_1[0].ravel())\n",
    "    \n",
    "    hidden_weights_1 = initial_ensembles[:,:n_hidden_1].reshape( size_ens, batch_data.shape[1], h1)\n",
    "    \n",
    "    \n",
    "    hidden_output_1 = np.einsum('ij,kjl->kil', batch_data, hidden_weights_1)\n",
    "\n",
    "    \n",
    "    hidden_layer_bias_1 = initial_ensembles[:,n_hidden_1:(n_hidden_1 + h1)].reshape(size_ens, 1,  h1)\n",
    "\n",
    "\n",
    "    hidden_output_1 = hidden_output_1 + hidden_layer_bias_1\n",
    "\n",
    "    n_pred_weights_1 = len(weights_ann_1[2].ravel())\n",
    "\n",
    "    output_weights_1 = initial_ensembles[:,(n_hidden_1 + h1):(n_hidden_1 + h1 + n_pred_weights_1) ].reshape(size_ens, h1, target_dim)\n",
    "\n",
    "\n",
    "    output_1 = np.einsum('ijk,ikl->ijl', hidden_output_1, output_weights_1)\n",
    "\n",
    "\n",
    "    output_layer_bias_1 = initial_ensembles[:,(n_hidden_1 + h1 + n_pred_weights_1):(n_hidden_1 + h1 + n_pred_weights_1 + target_dim)].reshape(size_ens, 1, target_dim)\n",
    "\n",
    "\n",
    "    final_output_1 = output_1 + output_layer_bias_1\n",
    "\n",
    "\n",
    "\n",
    "    n_hidden_2 = len(weights_ann_2[0].ravel())\n",
    "\n",
    "    initial_ensembles_1 = initial_ensembles.copy()[:, total_weights_1:(total_weights_1+ total_weights_2)]\n",
    "\n",
    "    hidden_weights_2 = initial_ensembles_1[:,:n_hidden_2].reshape(size_ens, batch_data1.shape[1], h2)\n",
    "\n",
    "\n",
    "\n",
    "    hidden_output_2 = np.einsum('ij,kjl->kil', batch_data1, hidden_weights_2)\n",
    "\n",
    "    hidden_layer_bias_2 = initial_ensembles_1[:,n_hidden_2:(n_hidden_2 + h2)].reshape(size_ens, 1,  h2)\n",
    "\n",
    "\n",
    "    # hidden_layer_bias_2 = np.expand_dims(hidden_layer_bias_2, 0)\n",
    "\n",
    "    hidden_output_2 = hidden_output_2+ hidden_layer_bias_2\n",
    "#     hidden_layer_bias_2 = hidden_layer_bias_2 + hidden_layer_bias_2\n",
    "\n",
    "\n",
    "    n_pred_weights_2 = len(weights_ann_2[2].ravel())\n",
    "\n",
    "    output_weights_2 = initial_ensembles_1[:,(n_hidden_2 + h2):(n_hidden_2 + h2 + n_pred_weights_2) ].reshape(size_ens, h2, target_dim)\n",
    "\n",
    "\n",
    "    output_2 = np.einsum('ijk,ikl->ijl', hidden_output_2, output_weights_2)\n",
    "\n",
    "\n",
    "    output_layer_bias_2 = initial_ensembles_1[:,(n_hidden_2 + h2 + n_pred_weights_2):(n_hidden_2 + h2 + n_pred_weights_2 + target_dim)].reshape(size_ens, 1, target_dim)\n",
    "\n",
    "    # output_layer_bias_2 = np.expand_dims(output_layer_bias_2, 0)\n",
    "\n",
    "\n",
    "    final_output_2 = output_2 + output_layer_bias_2\n",
    "\n",
    "\n",
    "    weights_1 = initial_ensembles[:, :total_weights_1]\n",
    "\n",
    "    weights_2 = initial_ensembles[:, total_weights_1:(total_weights_1 + total_weights_2)]\n",
    "\n",
    "#     print(weights_1.shape)\n",
    "    \n",
    "    # print(weights_2.shape)\n",
    "\n",
    "    avg_weights = initial_ensembles[:, -1].reshape(-1,1)\n",
    "    \n",
    "    # avg_weights_not_sig = avg_weights.reshape(avg_weights.shape[0], 1, avg_weights.shape[1])\n",
    "    \n",
    "    \n",
    "    avg_weights_sig = expit(avg_weights)\n",
    "    \n",
    "    avg_weights_sig = avg_weights_sig.reshape(avg_weights_sig.shape[0], 1, avg_weights_sig.shape[1])\n",
    "    \n",
    "    \n",
    "    complement_weights_sig = 1 - expit(avg_weights)\n",
    "    \n",
    "    complement_weights_sig = complement_weights_sig.reshape(complement_weights_sig.shape[0], 1, complement_weights_sig.shape[1])\n",
    "    \n",
    "\n",
    "    final_output_1 = final_output_1*complement_weights_sig\n",
    "    \n",
    "    final_output_2 = final_output_2*avg_weights_sig\n",
    "    \n",
    "    return final_output_1 + final_output_2"
   ]
  },
  {
   "cell_type": "code",
   "execution_count": 79,
   "id": "2a66ee4c-4112-4dca-a9cc-68a60d4e316f",
   "metadata": {},
   "outputs": [],
   "source": [
    "def ann(hidden = 32, input_shape = 256, output_shape = 2): \n",
    "    input_layer = tf.keras.layers.Input(shape = (input_shape))\n",
    "    hidden_layer = tf.keras.layers.Dense(hidden)\n",
    "    hidden_output = hidden_layer(input_layer)\n",
    "    pred_layer = tf.keras.layers.Dense(output_shape, activation = \"relu\")\n",
    "    pred_output = pred_layer(hidden_output)\n",
    "#     pred_output = tf.keras.layers.Activation(\"softmax\")(pred_output)\n",
    "    model = tf.keras.models.Model(input_layer, pred_output)\n",
    "    return model"
   ]
  },
  {
   "cell_type": "code",
   "execution_count": 80,
   "id": "809d88a0-ecd2-44b9-9b94-2ece04ebc3b6",
   "metadata": {},
   "outputs": [],
   "source": [
    "def expit(x):\n",
    "    \"\"\"Compute softmax values for each sets of scores in x.\"\"\"\n",
    "#     e_x = np.exp(x - np.max(x))\n",
    "    return 1 / (1 + np.exp(-x))"
   ]
  },
  {
   "cell_type": "code",
   "execution_count": 81,
   "id": "8f382d3e-e4dc-4e19-b19a-0eb954236a16",
   "metadata": {},
   "outputs": [],
   "source": [
    "alogp_bottleneck = np.load(\"..//Data/small_mol_phase_3_features_for_both.npy\")"
   ]
  },
  {
   "cell_type": "code",
   "execution_count": 82,
   "id": "76ccbcd4-20bd-4772-ac63-3aaef7ab95d8",
   "metadata": {},
   "outputs": [],
   "source": [
    "# y_valid"
   ]
  },
  {
   "cell_type": "code",
   "execution_count": 83,
   "id": "94e5e3f5-e4c6-40f8-ac40-b487543e3711",
   "metadata": {},
   "outputs": [],
   "source": [
    "y_valid = pd.read_csv(\"..//Data/smiles_with_rdkit_with_small_phase_3_outputs.csv\")"
   ]
  },
  {
   "cell_type": "code",
   "execution_count": 84,
   "id": "de38304b-6569-4387-8868-0837b195e462",
   "metadata": {},
   "outputs": [],
   "source": [
    "# y_valid"
   ]
  },
  {
   "cell_type": "code",
   "execution_count": 85,
   "id": "b697b7f9-3d50-4d71-a436-cdc6434909a5",
   "metadata": {},
   "outputs": [
    {
     "name": "stderr",
     "output_type": "stream",
     "text": [
      "/home/statgrads/vpiyush2/.conda/envs/enkf/lib/python3.11/site-packages/sklearn/base.py:318: UserWarning: Trying to unpickle estimator StandardScaler from version 1.1.2 when using version 1.2.2. This might lead to breaking code or invalid results. Use at your own risk. For more info please refer to:\n",
      "https://scikit-learn.org/stable/model_persistence.html#security-maintainability-limitations\n",
      "  warnings.warn(\n"
     ]
    }
   ],
   "source": [
    "std_targets = pickle.load( open('..//Data//target_scaler.pkl', 'rb'))"
   ]
  },
  {
   "cell_type": "code",
   "execution_count": 86,
   "id": "40aa1581-02a9-4c7f-a348-db236a77f6a7",
   "metadata": {},
   "outputs": [],
   "source": [
    "# y_valid"
   ]
  },
  {
   "cell_type": "code",
   "execution_count": 87,
   "id": "1ad7f00f-1bd3-40bc-b50b-de0406c72655",
   "metadata": {},
   "outputs": [],
   "source": [
    "y_train = y_valid.values[:,1:]"
   ]
  },
  {
   "cell_type": "code",
   "execution_count": 88,
   "id": "e3fe10a7-fcc3-430f-8ade-356a7f7b85b2",
   "metadata": {},
   "outputs": [
    {
     "name": "stderr",
     "output_type": "stream",
     "text": [
      "/home/statgrads/vpiyush2/.conda/envs/enkf/lib/python3.11/site-packages/sklearn/base.py:439: UserWarning: X does not have valid feature names, but StandardScaler was fitted with feature names\n",
      "  warnings.warn(\n"
     ]
    }
   ],
   "source": [
    "y_train = std_targets.transform(y_train)"
   ]
  },
  {
   "cell_type": "code",
   "execution_count": 89,
   "id": "a77fe79e-61fc-40f4-a7d9-62de18572b1e",
   "metadata": {},
   "outputs": [],
   "source": [
    "R_t = np.cov(y_train.T)"
   ]
  },
  {
   "cell_type": "code",
   "execution_count": 90,
   "id": "6dfffa08-081b-4b5f-8181-ae94a920c932",
   "metadata": {},
   "outputs": [],
   "source": [
    "from sklearn.model_selection import train_test_split"
   ]
  },
  {
   "cell_type": "code",
   "execution_count": 91,
   "id": "f03896e4-b7c8-4237-a0a8-7af9ed6b1f0d",
   "metadata": {},
   "outputs": [],
   "source": [
    "x_train, x_valid, y_train, y_valid = train_test_split(alogp_bottleneck, y_train, test_size = 0.25, shuffle = True, \n",
    "                                                     random_state = 42)"
   ]
  },
  {
   "cell_type": "code",
   "execution_count": 92,
   "id": "e2ed02ca-e8a1-4767-8152-4fc17b1afe61",
   "metadata": {},
   "outputs": [
    {
     "data": {
      "text/plain": [
       "(719, 64)"
      ]
     },
     "execution_count": 92,
     "metadata": {},
     "output_type": "execute_result"
    }
   ],
   "source": [
    "x_train.shape"
   ]
  },
  {
   "cell_type": "code",
   "execution_count": 93,
   "id": "88095659-0253-45ce-bdd9-ba45331b0b55",
   "metadata": {},
   "outputs": [],
   "source": [
    "from scipy.linalg import block_diag"
   ]
  },
  {
   "cell_type": "code",
   "execution_count": 94,
   "id": "aa0c9cb8-85f5-4bcb-96a2-cb8f9b917689",
   "metadata": {},
   "outputs": [],
   "source": [
    "n = x_train.shape[0]\n",
    "R_t = block_diag(*([R_t] * n))"
   ]
  },
  {
   "cell_type": "code",
   "execution_count": 95,
   "id": "0e064cec-711a-451b-b99d-d9ae5fb164e7",
   "metadata": {},
   "outputs": [
    {
     "data": {
      "text/plain": [
       "(1438, 1438)"
      ]
     },
     "execution_count": 95,
     "metadata": {},
     "output_type": "execute_result"
    }
   ],
   "source": [
    "R_t.shape"
   ]
  },
  {
   "cell_type": "code",
   "execution_count": 96,
   "id": "dbcb35ff-e6dc-453c-b8bc-2499cb3a8c7d",
   "metadata": {},
   "outputs": [
    {
     "data": {
      "text/plain": [
       "(1438, 1438)"
      ]
     },
     "execution_count": 96,
     "metadata": {},
     "output_type": "execute_result"
    }
   ],
   "source": [
    "R_t.shape"
   ]
  },
  {
   "cell_type": "code",
   "execution_count": 97,
   "id": "ecf65c9c-64bd-47f0-97ae-01bc28a9494d",
   "metadata": {},
   "outputs": [],
   "source": [
    "# np.linalg.slogdet(R_t)"
   ]
  },
  {
   "cell_type": "code",
   "execution_count": 98,
   "id": "7b98c57b-e85d-46f9-92b4-09f2a1b179a8",
   "metadata": {},
   "outputs": [],
   "source": [
    "smiles_feats_train = x_train[:, :32]"
   ]
  },
  {
   "cell_type": "code",
   "execution_count": 99,
   "id": "3b91f4be-60b4-44ee-b992-80da2cbe5395",
   "metadata": {},
   "outputs": [],
   "source": [
    "rdkit_feats_train = x_train[:, 32:]"
   ]
  },
  {
   "cell_type": "code",
   "execution_count": 100,
   "id": "dfe0b04f-b7c9-4f72-ac4b-4ba7e50d128b",
   "metadata": {},
   "outputs": [],
   "source": [
    "smiles_feats_valid = x_valid[:, :32]\n",
    "rdkit_feats_valid = x_valid[:, 32:]"
   ]
  },
  {
   "cell_type": "code",
   "execution_count": 101,
   "id": "c77cd415-1b34-404b-8280-b1de094e2ce9",
   "metadata": {},
   "outputs": [],
   "source": [
    "h1, h2 = 16, 16"
   ]
  },
  {
   "cell_type": "code",
   "execution_count": 102,
   "id": "72ab4c85-9ab7-485e-a96f-7fad3109beee",
   "metadata": {},
   "outputs": [],
   "source": [
    "ann_15 = ann(h1, 32, 2)"
   ]
  },
  {
   "cell_type": "code",
   "execution_count": 103,
   "id": "e39d6d9b-f407-4b9a-89c3-c7443d076c95",
   "metadata": {},
   "outputs": [],
   "source": [
    "ann_20 = ann(h2, 32, 2)"
   ]
  },
  {
   "cell_type": "code",
   "execution_count": 104,
   "id": "e9f13bf6-b578-4c5e-a919-a7793ed67af2",
   "metadata": {},
   "outputs": [],
   "source": [
    "total_weights_1 = ann_15.count_params()"
   ]
  },
  {
   "cell_type": "code",
   "execution_count": 105,
   "id": "578be109-9a6c-4644-a20f-9842c75803e9",
   "metadata": {},
   "outputs": [],
   "source": [
    "total_weights_2 = ann_20.count_params()"
   ]
  },
  {
   "cell_type": "code",
   "execution_count": 106,
   "id": "2b76859a-1021-4391-bb40-8c052dcb5fd3",
   "metadata": {},
   "outputs": [],
   "source": [
    "total_weights = total_weights_1 + total_weights_2 + 1 "
   ]
  },
  {
   "cell_type": "code",
   "execution_count": 107,
   "id": "2025cd79-c8c6-4ce5-bcc6-59d72b2b8711",
   "metadata": {},
   "outputs": [
    {
     "data": {
      "text/plain": [
       "1125"
      ]
     },
     "execution_count": 107,
     "metadata": {},
     "output_type": "execute_result"
    }
   ],
   "source": [
    "total_weights"
   ]
  },
  {
   "cell_type": "code",
   "execution_count": 108,
   "id": "b074ab35-2e83-44f1-a96f-3679b7da5329",
   "metadata": {},
   "outputs": [],
   "source": [
    "# generate MVN from 0 and some var\n",
    "initial_ensembles_mean = np.zeros((total_weights,))"
   ]
  },
  {
   "cell_type": "code",
   "execution_count": 109,
   "id": "83507ac0-1118-4fa6-8dc9-22c0aa978589",
   "metadata": {},
   "outputs": [],
   "source": [
    "lambda1 = 1"
   ]
  },
  {
   "cell_type": "code",
   "execution_count": 110,
   "id": "1f4120c3-5c1c-4471-b28d-3fefc0e55516",
   "metadata": {},
   "outputs": [],
   "source": [
    "initial_ensembles_cov = lambda1*np.identity(total_weights)"
   ]
  },
  {
   "cell_type": "code",
   "execution_count": 111,
   "id": "bea39262-6961-4750-841e-d25a8a2f3c27",
   "metadata": {},
   "outputs": [],
   "source": [
    "reduction = 4"
   ]
  },
  {
   "cell_type": "code",
   "execution_count": 112,
   "id": "e5fbaaf7-afae-4008-a26c-e0691ef9b3f9",
   "metadata": {},
   "outputs": [],
   "source": [
    "size_ens = total_weights//reduction"
   ]
  },
  {
   "cell_type": "code",
   "execution_count": 113,
   "id": "6b3b2f4d-263d-434f-b813-f7d7f3958816",
   "metadata": {},
   "outputs": [],
   "source": [
    "initial_ensembles = mvn(initial_ensembles_mean, initial_ensembles_cov).rvs(size_ens)"
   ]
  },
  {
   "cell_type": "code",
   "execution_count": 114,
   "id": "d0f2e620-c01f-43fa-b476-9b7001581f6e",
   "metadata": {},
   "outputs": [
    {
     "data": {
      "text/plain": [
       "(281, 1125)"
      ]
     },
     "execution_count": 114,
     "metadata": {},
     "output_type": "execute_result"
    }
   ],
   "source": [
    "initial_ensembles.shape"
   ]
  },
  {
   "cell_type": "code",
   "execution_count": 115,
   "id": "3af0a9b9-6202-40e2-911f-3c890213099f",
   "metadata": {},
   "outputs": [],
   "source": [
    "def calculate_mu_bar_G_bar(data1, data2, initial_ensembles):\n",
    "    mu_bar = initial_ensembles.mean(0)\n",
    "    G_u = get_targets_with_weights(data1, data2, initial_ensembles, size_ens = size_ens)\n",
    "    G_u = G_u.reshape(G_u.shape[0], G_u.shape[1]*G_u.shape[2])\n",
    "    G_bar = (G_u.mean(0)).ravel()\n",
    "    return mu_bar.reshape(-1,1), G_bar.reshape(-1,1), G_u"
   ]
  },
  {
   "cell_type": "code",
   "execution_count": 116,
   "id": "7334c80c-cfcd-4d5b-b844-11cfb8c137df",
   "metadata": {},
   "outputs": [],
   "source": [
    "def calculate_C_u(initial_ensembles, mu_bar, G_bar, G_u): \n",
    "    u_j_minus_u_bar = initial_ensembles - mu_bar.reshape(1,-1)\n",
    "    G_u_minus_G_bar = G_u -  G_bar.reshape(1,-1)\n",
    "    c = np.zeros((total_weights, G_bar.shape[0]))\n",
    "    for i in range(0, size_ens): \n",
    "        c += np.kron(u_j_minus_u_bar[i, :].T.reshape(-1,1), G_u_minus_G_bar[i,:].reshape(-1,1).T)\n",
    "    return c/size_ens, G_u_minus_G_bar"
   ]
  },
  {
   "cell_type": "code",
   "execution_count": 117,
   "id": "9148779c-1a3f-455d-a6ad-00fc1bf69c1f",
   "metadata": {},
   "outputs": [],
   "source": [
    "def calculate_D_u( G_bar, G_u): \n",
    "    G_u_minus_G_bar = G_u -  G_bar.reshape(1,-1)\n",
    "    d = np.zeros((G_bar.shape[0], G_bar.shape[0]))\n",
    "    for i in range(0, size_ens): \n",
    "        d += np.kron(G_u_minus_G_bar[i,:].T.reshape(-1,1), G_u_minus_G_bar[i,:].reshape(-1,1).T)\n",
    "    return d/size_ens"
   ]
  },
  {
   "cell_type": "code",
   "execution_count": 118,
   "id": "6e8459b0-68c1-4d1f-851e-3d7b99f0ffc5",
   "metadata": {},
   "outputs": [],
   "source": [
    "def get_updated_ensemble(data1, data2, initial_ensembles):\n",
    "    mu_bar, G_bar, G_u = calculate_mu_bar_G_bar(data1, data2, initial_ensembles)\n",
    "    C, G_u_minus_G_bar = calculate_C_u(initial_ensembles, mu_bar, G_bar, G_u)\n",
    "    D = calculate_D_u( G_bar, G_u)\n",
    "    mid_quant = C@np.linalg.inv(D + lambda_inv)\n",
    "    right_quant = y_train.ravel().reshape(-1,1) - G_u.T\n",
    "    mid_times_right = mid_quant@right_quant\n",
    "    updated_ensemble = (initial_ensembles.T + mid_times_right)\n",
    "    return updated_ensemble.T"
   ]
  },
  {
   "cell_type": "code",
   "execution_count": 119,
   "id": "c14b236d-6ebf-40e3-9085-97afd2990e4d",
   "metadata": {},
   "outputs": [],
   "source": [
    "target_dim = 2"
   ]
  },
  {
   "cell_type": "code",
   "execution_count": 120,
   "id": "346d07bc-5b61-4e75-a816-a6e22ffe9d76",
   "metadata": {},
   "outputs": [],
   "source": [
    "lambda_D = 1"
   ]
  },
  {
   "cell_type": "code",
   "execution_count": 121,
   "id": "18b0d48e-f557-4d11-acb8-8905f403e2fe",
   "metadata": {},
   "outputs": [],
   "source": [
    "u_bar, G_bar, G_u = calculate_mu_bar_G_bar(smiles_feats_train, rdkit_feats_train, initial_ensembles)"
   ]
  },
  {
   "cell_type": "code",
   "execution_count": 122,
   "id": "9183ef8c-1730-4074-a982-680af10c67f8",
   "metadata": {},
   "outputs": [
    {
     "data": {
      "text/plain": [
       "(1438, 1)"
      ]
     },
     "execution_count": 122,
     "metadata": {},
     "output_type": "execute_result"
    }
   ],
   "source": [
    "G_bar.shape"
   ]
  },
  {
   "cell_type": "code",
   "execution_count": 123,
   "id": "15db8fc2-fc1a-4090-a6cd-851a93fc8ae5",
   "metadata": {},
   "outputs": [],
   "source": [
    "# lambda_inv = np.linalg.inv(lambda_D*np.identity(G_bar.shape[0]))\n",
    "lambda_inv = np.linalg.inv(R_t)"
   ]
  },
  {
   "cell_type": "code",
   "execution_count": 124,
   "id": "3dcb7a3c-67c1-4e37-bd82-d5544d0d37a9",
   "metadata": {},
   "outputs": [
    {
     "data": {
      "text/plain": [
       "(1438, 1438)"
      ]
     },
     "execution_count": 124,
     "metadata": {},
     "output_type": "execute_result"
    }
   ],
   "source": [
    "lambda_inv.shape"
   ]
  },
  {
   "cell_type": "code",
   "execution_count": 125,
   "id": "13b223f8-0ecb-40e9-bfce-78439876cabc",
   "metadata": {},
   "outputs": [
    {
     "data": {
      "text/plain": [
       "(281, 1438)"
      ]
     },
     "execution_count": 125,
     "metadata": {},
     "output_type": "execute_result"
    }
   ],
   "source": [
    "G_u.shape"
   ]
  },
  {
   "cell_type": "code",
   "execution_count": 126,
   "id": "dc3a216a-4dbb-474d-8219-5f6c071250a4",
   "metadata": {},
   "outputs": [],
   "source": [
    "def inverse_transform(data, idx):\n",
    "    data_cur = data[idx, :, :]\n",
    "    inv_data_cur = std_targets.inverse_transform(data_cur)\n",
    "    return inv_data_cur"
   ]
  },
  {
   "cell_type": "code",
   "execution_count": 127,
   "id": "5abd35fb-ea92-449d-894a-162ed1f4aaec",
   "metadata": {},
   "outputs": [],
   "source": [
    "from joblib import Parallel, delayed"
   ]
  },
  {
   "cell_type": "code",
   "execution_count": 128,
   "id": "7f151faf-ada0-4d56-87b8-6c96aa4eb0c6",
   "metadata": {},
   "outputs": [],
   "source": [
    "# catch = Parallel(n_jobs = 15, verbose = 3)(delayed(inverse_transform)(G_u_test, i)  for i in range(G_u_test.shape[0]))"
   ]
  },
  {
   "cell_type": "code",
   "execution_count": 129,
   "id": "65bf21e9-92c6-4824-93c3-87274b072afa",
   "metadata": {},
   "outputs": [
    {
     "name": "stdout",
     "output_type": "stream",
     "text": [
      "[ 3.80205735 70.84844916] [1. 1.] [ 105.70807744 2409.53059203]\n",
      "[ 3.73584941 64.09006771] [1. 1.] [ 104.56396998 2393.63945424]\n",
      "[ 3.32940911 80.22523852] [1. 1.] [  78.39562118 1858.43781181]\n",
      "[ 3.23206835 73.21728604] [1. 1.] [  77.23755036 1840.83389093]\n",
      "[ 3.52576546 49.76176658] [1. 1.] [  63.95210133 1537.85600465]\n",
      "[ 3.5025495  44.31329767] [1. 1.] [  63.43128618 1520.62496049]\n",
      "[ 3.40284693 45.29692478] [1. 1.] [  56.55535806 1335.23992687]\n",
      "[ 3.36240981 40.52036861] [1. 1.] [  56.27525501 1323.55278538]\n",
      "[ 3.20898367 47.41952948] [1. 1.] [  51.21038122 1179.22238189]\n",
      "[ 3.19928066 41.50932625] [1. 1.] [  50.50793249 1172.29424163]\n",
      "[ 3.1890466  55.75915989] [1. 1.] [  44.94733067 1037.9275305 ]\n",
      "[ 3.17743153 48.21908207] [1. 1.] [  44.69043529 1026.66073037]\n",
      "[ 3.12743625 54.77402829] [1. 1.] [ 42.36081759 947.74892159]\n",
      "[ 3.10078653 46.54037119] [1. 1.] [ 42.03991088 936.61647761]\n",
      "[ 2.96366443 58.37474046] [1. 1.] [ 37.47791472 889.67528046]\n",
      "[ 2.93801696 51.38145482] [1. 1.] [ 37.26761206 872.19920564]\n",
      "[ 3.11809155 61.92882147] [1. 1.] [ 35.60523969 846.27830317]\n",
      "[ 3.06953894 54.79541875] [1. 1.] [ 35.38818405 832.69381531]\n",
      "[ 3.1192895  69.64556051] [1. 1.] [ 32.36421472 786.75370162]\n",
      "[ 3.07181013 62.35140043] [1. 1.] [ 32.06647796 776.90862102]\n",
      "[ 3.18495609 62.2152015 ] [1. 1.] [ 30.81258368 731.70292568]\n",
      "[ 3.12436896 55.52342792] [1. 1.] [ 30.69209826 718.17354179]\n",
      "[ 3.00726303 61.86209584] [1. 1.] [ 27.41046187 653.8667738 ]\n",
      "[ 2.92813841 55.30144942] [1. 1.] [ 27.08370783 646.11387728]\n",
      "[ 2.61155191 64.83886007] [1. 1.] [ 25.77207453 579.47010047]\n",
      "[ 2.55259739 58.08666419] [1. 1.] [ 25.24164182 570.77480862]\n",
      "[ 2.58170571 60.22812358] [1. 1.] [ 22.17127919 508.25909242]\n",
      "[ 2.50630895 53.77892288] [1. 1.] [ 21.83796073 501.06536403]\n",
      "[ 2.21509519 57.18179862] [1. 1.] [ 19.14298846 431.78417399]\n",
      "[ 2.14841053 51.18527005] [1. 1.] [ 18.9762269  425.72684079]\n",
      "[ 1.88638685 46.82902504] [1. 1.] [ 16.56319506 352.88087426]\n",
      "[ 1.85846035 42.04685595] [1. 1.] [ 16.43902673 347.89130919]\n",
      "[ 1.21063205 38.93302664] [1. 1.] [ 13.75335254 316.92232506]\n",
      "[ 1.1642389  34.18800344] [1. 1.] [ 13.70864071 311.0144574 ]\n",
      "[ 1.33799942 33.49815898] [1. 1.] [ 10.81226958 252.78156709]\n",
      "[ 1.29551961 30.11050411] [1. 1.] [ 10.69767017 249.53121134]\n",
      "[ 1.60525795 29.29644853] [1. 1.] [  8.4591862  200.63909836]\n",
      "[ 1.52894992 25.81604723] [1. 1.] [  8.39495119 198.34144968]\n",
      "[ 1.07502382 23.46614666] [1. 1.] [  6.81636879 159.7827117 ]\n",
      "[ 1.0203083  20.16605486] [1. 1.] [  6.76296308 158.28735169]\n",
      "[ 1.08906536 22.07534118] [1. 1.] [  5.20928631 121.06159148]\n",
      "[ 1.04564302 19.78995912] [1. 1.] [  5.16526025 119.25900649]\n",
      "[ 0.57230326 18.86658441] [1. 1.] [ 3.94213153 94.24006243]\n",
      "[ 0.55843835 17.90945119] [1. 1.] [ 3.88016366 93.52182285]\n",
      "[ 0.39778468 14.70521891] [1. 1.] [ 2.99185049 72.49688874]\n",
      "[ 0.36630215 13.73744812] [1. 1.] [ 2.94366348 72.0725554 ]\n",
      "[0.17708703 8.92381427] [1. 1.] [ 2.20635895 56.74106068]\n",
      "[0.16473984 8.03805713] [1. 1.] [ 2.1872073  56.07870095]\n",
      "[0.16390163 6.47453955] [1. 1.] [ 1.66240133 42.23389227]\n",
      "[0.14493036 6.10514276] [1. 1.] [ 1.65644552 42.29672426]\n",
      "[0.11678978 4.17761199] [1. 1.] [ 1.29473375 31.5024965 ]\n",
      "[0.11389356 4.02050976] [1. 1.] [ 1.28945628 31.27823281]\n",
      "[0.10261698 3.19215435] [1. 1.] [ 1.00272485 24.68025981]\n",
      "[0.09918236 2.8892496 ] [0.99583333 1.        ] [ 1.01236184 24.6166511 ]\n",
      "[0.08782112 2.20447429] [0.99860918 1.        ] [ 0.83984678 20.21606179]\n",
      "[0.08829191 2.25846327] [0.99583333 1.        ] [ 0.84800683 20.06374547]\n",
      "[0.08496982 2.04261213] [0.99721836 0.99860918] [ 0.74873168 17.59415948]\n",
      "[0.08597693 2.09509841] [0.99583333 1.        ] [ 0.75338099 17.7075337 ]\n",
      "[0.07633959 1.82193152] [0.99582754 0.99860918] [ 0.62731715 15.19897211]\n",
      "[0.08262365 1.8686662 ] [0.99583333 1.        ] [ 0.63153144 15.41906942]\n",
      "[0.07293781 1.68462279] [0.99443672 0.99721836] [ 0.5480577  13.08808944]\n",
      "[0.07871133 1.73305945] [0.99583333 1.        ] [ 0.55225027 13.15823364]\n",
      "[0.06985197 1.60583292] [0.9930459  0.99721836] [ 0.49638051 12.20510336]\n",
      "[0.07671111 1.62804879] [0.99583333 1.        ] [ 0.50149516 12.24779622]\n",
      "[0.06854712 1.54795655] [0.9930459  0.99582754] [ 0.46123408 11.3879806 ]\n",
      "[0.07518372 1.56037155] [0.99166667 1.        ] [ 0.46700331 11.43256542]\n",
      "[0.06786228 1.49239975] [0.9930459  0.99582754] [ 0.42949176 10.54190101]\n",
      "[0.07439258 1.49448895] [0.99166667 1.        ] [ 0.43403811 10.58316946]\n",
      "[0.06754721 1.44813939] [0.9930459  0.99582754] [0.40787018 9.93847632]\n",
      "[0.07371692 1.44083805] [0.99166667 1.        ] [0.41252765 9.97341569]\n",
      "[0.06761356 1.40937232] [0.9930459  0.99582754] [0.39435879 9.52065311]\n",
      "[0.07335631 1.39121922] [0.99166667 1.        ] [0.39867826 9.59675292]\n",
      "[0.06737199 1.37554809] [0.9930459  0.99582754] [0.38170594 9.2046233 ]\n",
      "[0.07311667 1.34808059] [0.99166667 1.        ] [0.38695661 9.29555314]\n",
      "[0.06701796 1.34595041] [0.9930459  0.99582754] [0.37151956 8.91972637]\n",
      "[0.07292615 1.31064674] [0.99166667 1.        ] [0.37725903 9.00832445]\n",
      "[0.06664552 1.32032307] [0.9930459  0.99582754] [0.36275818 8.69518522]\n",
      "[0.07274638 1.27857211] [0.99166667 0.99583333] [0.36872961 8.81874614]\n",
      "[0.06623018 1.2982253 ] [0.9930459  0.99443672] [0.3545299  8.55226539]\n",
      "[0.07256152 1.25074027] [0.99166667 0.99583333] [0.35943973 8.65550989]\n",
      "[0.06579277 1.27971526] [0.9930459  0.99443672] [0.34759283 8.43585781]\n",
      "[0.07240809 1.22681364] [0.99166667 0.99583333] [0.35269848 8.53500577]\n",
      "[0.0653622 1.2644826] [0.9930459  0.99582754] [0.34143996 8.33442251]\n",
      "[0.07232006 1.20649411] [0.99166667 1.        ] [0.34705115 8.43687183]\n",
      "[0.06493693 1.25169512] [0.9930459  0.99582754] [0.33630924 8.20322696]\n",
      "[0.07229159 1.18914208] [0.99166667 1.        ] [0.34078181 8.32784538]\n",
      "[0.06450955 1.24049696] [0.9930459  0.99582754] [0.33079098 8.08681311]\n",
      "[0.07229852 1.17397738] [0.99166667 1.        ] [0.33497574 8.20624799]\n",
      "[0.06408575 1.23039543] [0.9930459  0.99582754] [0.32345105 7.9643036 ]\n",
      "[0.07232116 1.16043234] [0.99166667 1.        ] [0.32944696 8.07612085]\n",
      "[0.06367829 1.22119333] [0.9930459  0.99582754] [0.31582876 7.86269544]\n",
      "[0.07234669 1.14821851] [0.99166667 1.        ] [0.32223109 7.95656003]\n",
      "[0.06328701 1.2127712 ] [0.9930459  0.99443672] [0.30835175 7.76592489]\n",
      "[0.07235857 1.13718565] [0.99166667 1.        ] [0.31334777 7.84770771]\n",
      "[0.06289334 1.20501695] [0.9930459 0.9930459] [0.30050953 7.68749234]\n",
      "[0.07233429 1.12723947] [0.99166667 1.        ] [0.30588398 7.7460592 ]\n",
      "[0.0624791  1.19784731] [0.9930459 0.9930459] [0.29455682 7.59796515]\n",
      "[0.07226002 1.11829809] [0.99166667 1.        ] [0.29902749 7.64089133]\n",
      "[0.06204691 1.19118282] [0.9930459 0.9930459] [0.28933166 7.52044547]\n",
      "[0.07214419 1.11019765] [0.99166667 0.99583333] [0.29402414 7.55262404]\n",
      "[0.06162153 1.18492458] [0.9930459 0.9930459] [0.28576236 7.44578093]\n",
      "[0.07201325 1.10267702] [0.99166667 0.99583333] [0.2899682  7.46100787]\n",
      "[0.06123726 1.17900443] [0.9930459 0.9930459] [0.28331294 7.38031628]\n",
      "[0.0718975  1.09549948] [0.99166667 0.99583333] [0.28695661 7.38980287]\n",
      "[0.06092213 1.17338465] [0.9930459 0.9930459] [0.28099608 7.32895432]\n",
      "[0.07181932 1.08848422] [0.9875     0.99583333] [0.28511444 7.34910851]\n",
      "[0.06068514 1.16789942] [0.9930459 0.9930459] [0.27890491 7.28896001]\n",
      "[0.07178609 1.08131137] [0.9875     0.99583333] [0.28227178 7.30689127]\n",
      "[0.06051475 1.16210894] [0.9930459 0.9930459] [0.27660687 7.23879219]\n",
      "[0.07179021 1.0733458 ] [0.9875     0.99583333] [0.27898266 7.24619415]\n",
      "[0.06038919 1.1554197 ] [0.9930459 0.9930459] [0.27294022 7.17003482]\n",
      "[0.07181687 1.06378915] [0.9875     0.99166667] [0.27538045 7.18150093]\n",
      "[0.06028776 1.14743078] [0.9930459 0.9930459] [0.26923066 7.07845472]\n",
      "[0.07185248 1.0521031 ] [0.9875     0.99166667] [0.27227945 7.05534115]\n",
      "[0.06019568 1.13820419] [0.9930459 0.9930459] [0.26589888 6.96943281]\n",
      "[0.07188763 1.03835161] [0.9875     0.99166667] [0.26774045 6.94224905]\n",
      "[0.06010414 1.12824704] [0.99165508 0.99443672] [0.26228956 6.85702852]\n",
      "[0.0719158  1.02320182] [0.9875     0.99166667] [0.26333146 6.85670483]\n",
      "[0.06000916 1.11824925] [0.99165508 0.99443672] [0.25875638 6.74459311]\n",
      "[0.07193237 1.0076126 ] [0.9875     0.99583333] [0.26005573 6.75581097]\n",
      "[0.05991037 1.10878963] [0.99165508 0.99443672] [0.25553991 6.65074566]\n",
      "[0.07193508 0.99245671] [0.9875     0.99583333] [0.25712589 6.64317329]\n",
      "[0.05980975 1.10018971] [0.99026426 0.99443672] [0.25247744 6.55222942]\n",
      "[0.07192442 0.97830498] [0.9875     0.99583333] [0.25449678 6.54337836]\n",
      "[0.05971019 1.09253024] [0.99026426 0.99443672] [0.24960681 6.45947179]\n",
      "[0.07190306 0.96540926] [0.9875     0.99583333] [0.251998   6.45062841]\n",
      "[0.05961436 1.08574141] [0.99026426 0.99443672] [0.24760355 6.38230919]\n",
      "[0.07187467 0.9537899 ] [0.9875     0.99583333] [0.24963041 6.37694516]\n",
      "[0.05952401 1.07968811] [0.99026426 0.99443672] [0.24608855 6.32167256]\n",
      "[0.07184274 0.94333888] [0.9875     0.99583333] [0.24853328 6.31762104]\n",
      "[0.05943986 1.07422037] [0.99026426 0.99443672] [0.24547518 6.25732178]\n",
      "[0.0718098  0.93389843] [0.9875     0.99583333] [0.24768666 6.27462121]\n",
      "[0.05936166 1.06919388] [0.99026426 0.99443672] [0.24550036 6.20601788]\n",
      "[0.0717772  0.92530717] [0.99166667 0.99583333] [0.24748227 6.22952728]\n",
      "[0.0592884  1.06447641] [0.99026426 0.99443672] [0.24597118 6.1680935 ]\n",
      "[0.07174508 0.91742027] [0.99166667 0.99583333] [0.24806993 6.20287593]\n",
      "[0.05921841 1.05995231] [0.99026426 0.99443672] [0.24732283 6.14125785]\n",
      "[0.0717125 0.9101139] [0.99166667 0.99583333] [0.24931247 6.17308425]\n",
      "[0.05914939 1.05552858] [0.99026426 0.99443672] [0.24934796 6.11157356]\n",
      "[0.07167764 0.90328292] [0.99166667 0.99583333] [0.25161378 6.12658811]\n",
      "[0.05907857 1.05113989] [0.99026426 0.99443672] [0.25171344 6.08815997]\n",
      "[0.07163793 0.89683683] [0.99166667 0.99583333] [0.25333987 6.09260555]\n",
      "[0.05900291 1.04674918] [0.99026426 0.99443672] [0.25428761 6.06634013]\n",
      "[0.07159037 0.89069558] [0.99166667 0.99583333] [0.25544826 6.07168745]\n",
      "[0.05891958 1.04234268] [0.99026426 0.99443672] [0.25712338 6.05640534]\n",
      "[0.07153185 0.88478707] [0.99166667 0.99583333] [0.25881499 6.06196034]\n",
      "[0.05882664 1.03792247] [0.99026426 0.99443672] [0.25954763 6.03886486]\n",
      "[0.07145981 0.87904817] [0.99166667 0.99583333] [0.26184691 6.05700777]\n",
      "[0.05872359 1.03350107] [0.99165508 0.99443672] [0.26127029 6.00560005]\n",
      "[0.07137285 0.87343042] [0.99166667 0.99583333] [0.26416588 6.03220617]\n",
      "[0.05861158 1.02909993] [0.99165508 0.99443672] [0.26233709 5.97241966]\n",
      "[0.07127117 0.8679082 ] [0.99166667 0.99583333] [0.26553518 6.00943185]\n",
      "[0.05849316 1.02474983] [0.99165508 0.99443672] [0.26318582 5.9371248 ]\n",
      "[0.07115659 0.86248425] [0.99166667 0.99583333] [0.26608708 5.97611483]\n",
      "[0.05837162 1.02048941] [0.99165508 0.9930459 ] [0.26325883 5.89424889]\n",
      "[0.07103211 0.85718755] [0.99166667 0.99583333] [0.26646549 5.92491832]\n",
      "[0.05825028 1.01636015] [0.99165508 0.99443672] [0.262872   5.84992344]\n",
      "[0.07090121 0.85206272] [0.99166667 0.99583333] [0.26630549 5.86773627]\n",
      "[0.05813182 1.01239925] [0.99165508 0.9930459 ] [0.26233963 5.7920272 ]\n",
      "[0.07076724 0.84715524] [0.99166667 0.99583333] [0.26571364 5.81806306]\n",
      "[0.05801803 1.00863365] [0.99165508 0.9930459 ] [0.26117112 5.73614997]\n",
      "[0.07063284 0.8424984 ] [0.99166667 0.99583333] [0.26437228 5.77195132]\n",
      "[0.05790974 1.00507731] [0.99165508 0.9930459 ] [0.25981704 5.67669252]\n",
      "[0.07049974 0.83810612] [0.99166667 0.99583333] [0.26259051 5.72061731]\n",
      "[0.05780698 1.00173185] [0.99165508 0.9930459 ] [0.25811854 5.61599476]\n",
      "[0.07036883 0.83397209] [0.99166667 0.99583333] [0.2608752  5.65304538]\n",
      "[0.05770921 0.99858941] [0.99165508 0.99443672] [0.25640562 5.54887332]\n",
      "[0.07024025 0.83007323] [0.99166667 0.99583333] [0.2587559  5.58918295]\n",
      "[0.0576156  0.99563623] [0.99165508 0.99443672] [0.25427177 5.48228222]\n",
      "[0.07011367 0.82637531] [0.99166667 0.99583333] [0.25650373 5.53852574]\n",
      "[0.0575252  0.99285591] [0.99165508 0.99443672] [0.25187871 5.42119915]\n",
      "[0.0699885  0.82283908] [0.99166667 0.99583333] [0.25402291 5.47897521]\n",
      "[0.05743711 0.99023193] [0.99165508 0.9930459 ] [0.24940058 5.35515997]\n",
      "[0.06986413 0.81942573] [0.99166667 0.99583333] [0.25174137 5.41129115]\n",
      "[0.05735061 0.98774928] [0.99165508 0.9930459 ] [0.2467561  5.29239826]\n",
      "[0.06974006 0.8161013 ] [0.99166667 0.99583333] [0.24896306 5.35142218]\n",
      "[0.05726527 0.98539535] [0.99165508 0.9930459 ] [0.24374572 5.2364738 ]\n",
      "[0.06961604 0.81283939] [0.99166667 0.99166667] [0.24633628 5.29998227]\n",
      "[0.05718092 0.98315998] [0.99165508 0.9930459 ] [0.24068698 5.18071574]\n",
      "[0.06949213 0.80962236] [0.99166667 0.99166667] [0.2435159  5.24759804]\n",
      "[0.05709767 0.98103498] [0.99026426 0.9930459 ] [0.23779108 5.12804589]\n",
      "[0.06936867 0.80644092] [0.99166667 0.99166667] [0.24080681 5.19287822]\n",
      "[0.05701588 0.97901319] [0.99026426 0.9930459 ] [0.23504937 5.08500389]\n",
      "[0.06924625 0.80329249] [0.99166667 0.99166667] [0.23799104 5.14449019]\n",
      "[0.05693601 0.97708739] [0.99026426 0.9930459 ] [0.23245233 5.04486641]\n",
      "[0.06912558 0.800179  ] [0.99166667 0.99166667] [0.23534768 5.09773671]\n",
      "[0.05685859 0.9752494 ] [0.99026426 0.9930459 ] [0.22969786 5.00089479]\n",
      "[0.06900739 0.79710446] [0.99166667 0.99166667] [0.23257567 5.05638828]\n",
      "[0.05678411 0.97348946] [0.99026426 0.9930459 ] [0.22693388 4.95945275]\n",
      "[0.06889237 0.79407297] [0.99166667 0.99166667] [0.22961197 5.01748573]\n",
      "[0.05671297 0.97179624] [0.99026426 0.9930459 ] [0.22406322 4.92499498]\n",
      "[0.06878111 0.79108743] [0.98333333 0.99166667] [0.22695624 4.97462744]\n",
      "[0.05664543 0.97015726] [0.99026426 0.9930459 ] [0.22134991 4.89330961]\n",
      "[0.068674   0.78814899] [0.9875     0.99166667] [0.22415613 4.93545666]\n",
      "[0.05658163 0.96855961] [0.99026426 0.9930459 ] [0.21884734 4.85667785]\n",
      "[0.06857132 0.78525711] [0.98333333 0.99166667] [0.22124013 4.90152572]\n",
      "[0.05652158 0.96699092] [0.99026426 0.9930459 ] [0.21640587 4.82039694]\n",
      "[0.06847316 0.78241007] [0.98333333 0.99166667] [0.21851216 4.86785299]\n",
      "[0.05646517 0.96544012] [0.99026426 0.9930459 ] [0.21400516 4.78389588]\n",
      "[0.0683795 0.7796056] [0.98333333 0.99166667] [0.21603345 4.83546966]\n",
      "[0.05641223 0.96389807] [0.98887344 0.9930459 ] [0.21145083 4.7548884 ]\n",
      "[0.06829024 0.7768414 ] [0.98333333 0.99166667] [0.21351367 4.80447179]\n",
      "[0.05636251 0.96235791] [0.98887344 0.9930459 ] [0.2090156  4.72281656]\n",
      "[0.0682052  0.77411549] [0.98333333 0.99166667] [0.21134336 4.77832755]\n",
      "[0.05631574 0.96081507] [0.98748261 0.9930459 ] [0.2068184  4.69071495]\n",
      "[0.0681242  0.77142638] [0.98333333 0.99166667] [0.20919015 4.75891293]\n",
      "[0.05627163 0.95926709] [0.98748261 0.9930459 ] [0.2047839  4.66604458]\n",
      "[0.06804704 0.76877293] [0.98333333 0.99166667] [0.2069723  4.74057543]\n",
      "[0.0562299  0.95771326] [0.98748261 0.9930459 ] [0.20277969 4.65138654]\n",
      "[0.06797354 0.76615436] [0.98333333 0.99166667] [0.20540606 4.72130761]\n",
      "[0.05619025 0.95615422] [0.98609179 0.9930459 ] [0.20110833 4.63641173]\n",
      "[0.06790352 0.76357003] [0.98333333 0.99166667] [0.20393897 4.70138966]\n",
      "[0.05615242 0.95459148] [0.98609179 0.9930459 ] [0.19947382 4.62712566]\n",
      "[0.06783683 0.76101954] [0.98333333 0.99166667] [0.20234682 4.68666893]\n",
      "[0.05611614 0.95302707] [0.98609179 0.9930459 ] [0.19822702 4.61842015]\n",
      "[0.06777334 0.75850278] [0.98333333 0.99166667] [0.2008261  4.67290477]\n",
      "[0.05608118 0.95146329] [0.98609179 0.9930459 ] [0.19707052 4.61083906]\n",
      "[0.06771289 0.75602022] [0.98333333 0.99166667] [0.19924952 4.65725873]\n",
      "[0.05604734 0.94990263] [0.98331015 0.9930459 ] [0.19595982 4.60885787]\n",
      "[0.06765533 0.75357318] [0.98333333 0.99166667] [0.19798654 4.64689689]\n",
      "[0.05601445 0.94834781] [0.98331015 0.9930459 ] [0.19490254 4.60580269]\n",
      "[0.06760046 0.75116408] [0.98333333 0.99166667] [0.19697524 4.63922759]\n",
      "[0.05598238 0.94680198] [0.98470097 0.9930459 ] [0.19380947 4.59668552]\n",
      "[0.0675481  0.74879647] [0.98333333 0.99166667] [0.19601966 4.62680772]\n",
      "[0.05595106 0.94526887] [0.98470097 0.9930459 ] [0.19274238 4.58781808]\n",
      "[0.06749802 0.7464748 ] [0.98333333 0.99166667] [0.19494409 4.61331103]\n",
      "[0.05592045 0.94375288] [0.98470097 0.9930459 ] [0.19180407 4.58249899]\n",
      "[0.06744997 0.74420404] [0.98333333 0.99166667] [0.19415539 4.59661247]\n",
      "[0.05589053 0.94225889] [0.98470097 0.9930459 ] [0.19080872 4.57763737]\n",
      "[0.0674037  0.74198903] [0.98333333 0.99166667] [0.19347959 4.58781718]\n",
      "[0.05586132 0.94079208] [0.98470097 0.9930459 ] [0.18997467 4.57061533]\n",
      "[0.06735896 0.73983397] [0.98333333 0.99166667] [0.19276098 4.58441847]\n",
      "[0.05583282 0.93935747] [0.98470097 0.9930459 ] [0.18903092 4.56041687]\n",
      "[0.06731548 0.73774208] [0.98333333 0.99166667] [0.19177234 4.5765211 ]\n",
      "[0.05580504 0.93795967] [0.98470097 0.9930459 ] [0.18810504 4.55271274]\n",
      "[0.06727304 0.73571535] [0.98333333 0.99166667] [0.19069561 4.57253471]\n",
      "[0.05577798 0.93660255] [0.98609179 0.9930459 ] [0.18722721 4.54295536]\n",
      "[0.06723141 0.73375461] [0.98333333 0.99166667] [0.1897755  4.56545184]\n",
      "[0.05575165 0.93528921] [0.98470097 0.9930459 ] [0.18638847 4.53595835]\n",
      "[0.06719041 0.73185963] [0.98333333 0.99166667] [0.18895234 4.55568918]\n",
      "[0.05572603 0.93402197] [0.98470097 0.9930459 ] [0.18554195 4.52728563]\n",
      "[0.06714989 0.73002925] [0.98333333 0.99166667] [0.18810341 4.54481278]\n",
      "[0.05570112 0.93280252] [0.98470097 0.9930459 ] [0.18464389 4.51393027]\n",
      "[0.06710973 0.72826153] [0.98333333 0.99166667] [0.18728439 4.53114271]\n",
      "[0.05567691 0.93163212] [0.98331015 0.9930459 ] [0.18382258 4.50005739]\n",
      "[0.06706989 0.72655382] [0.98333333 0.99166667] [0.18619831 4.52176823]\n",
      "[0.05565339 0.93051175] [0.98331015 0.9930459 ] [0.18299833 4.4847361 ]\n",
      "[0.06703034 0.72490279] [0.98333333 0.99166667] [0.18528969 4.51342504]\n",
      "[0.05563056 0.92944228] [0.98331015 0.9930459 ] [0.18224807 4.46480035]\n",
      "[0.0669911  0.72330452] [0.98333333 0.99166667] [0.18449495 4.49910963]\n",
      "[0.0556084  0.92842457] [0.98331015 0.9930459 ] [0.18142047 4.44392374]\n",
      "[0.06695224 0.72175451] [0.98333333 0.99166667] [0.18379912 4.48125052]\n",
      "[0.05558692 0.92745946] [0.98331015 0.9930459 ] [0.18063398 4.4253026 ]\n",
      "[0.06691382 0.72024782] [0.98333333 0.99166667] [0.18307658 4.46696359]\n",
      "[0.0555661  0.92654777] [0.98331015 0.9930459 ] [0.17987968 4.40551193]\n",
      "[0.06687596 0.71877926] [0.98333333 0.99166667] [0.18221789 4.45214476]\n",
      "[0.05554593 0.92569027] [0.98331015 0.9930459 ] [0.17918328 4.38260088]\n",
      "[0.06683876 0.71734353] [0.98333333 0.99166667] [0.18118956 4.43575937]\n",
      "[0.05552642 0.92488761] [0.98191933 0.9930459 ] [0.17858376 4.35556144]\n",
      "[0.06680232 0.71593558] [0.98333333 0.99166667] [0.18035954 4.41204736]\n"
     ]
    },
    {
     "name": "stderr",
     "output_type": "stream",
     "text": [
      "Process LokyProcess-5:\n",
      "Traceback (most recent call last):\n",
      "  File \"/home/statgrads/vpiyush2/.conda/envs/enkf/lib/python3.11/multiprocessing/process.py\", line 314, in _bootstrap\n",
      "    self.run()\n",
      "  File \"/home/statgrads/vpiyush2/.conda/envs/enkf/lib/python3.11/multiprocessing/process.py\", line 108, in run\n",
      "    self._target(*self._args, **self._kwargs)\n",
      "  File \"/home/statgrads/vpiyush2/.conda/envs/enkf/lib/python3.11/site-packages/joblib/externals/loky/process_executor.py\", line 446, in _process_worker\n",
      "    if time() - _last_memory_leak_check > _MEMORY_LEAK_CHECK_DELAY:\n",
      "       ^^^^^^\n",
      "KeyboardInterrupt\n"
     ]
    },
    {
     "ename": "KeyboardInterrupt",
     "evalue": "",
     "output_type": "error",
     "traceback": [
      "\u001b[0;31m---------------------------------------------------------------------------\u001b[0m",
      "\u001b[0;31mKeyboardInterrupt\u001b[0m                         Traceback (most recent call last)",
      "Cell \u001b[0;32mIn[129], line 6\u001b[0m\n\u001b[1;32m      3\u001b[0m initial_ensembles \u001b[38;5;241m=\u001b[39m get_updated_ensemble(smiles_feats_train, rdkit_feats_train, initial_ensembles)\n\u001b[1;32m      5\u001b[0m G_u_train \u001b[38;5;241m=\u001b[39m get_targets_with_weights(smiles_feats_train, rdkit_feats_train, initial_ensembles, size_ens \u001b[38;5;241m=\u001b[39m size_ens)\n\u001b[0;32m----> 6\u001b[0m catch \u001b[38;5;241m=\u001b[39m \u001b[43mParallel\u001b[49m\u001b[43m(\u001b[49m\u001b[43mn_jobs\u001b[49m\u001b[43m \u001b[49m\u001b[38;5;241;43m=\u001b[39;49m\u001b[43m \u001b[49m\u001b[38;5;241;43m15\u001b[39;49m\u001b[43m,\u001b[49m\u001b[43m \u001b[49m\u001b[43mverbose\u001b[49m\u001b[43m \u001b[49m\u001b[38;5;241;43m=\u001b[39;49m\u001b[43m \u001b[49m\u001b[38;5;241;43m0\u001b[39;49m\u001b[43m)\u001b[49m\u001b[43m(\u001b[49m\u001b[43mdelayed\u001b[49m\u001b[43m(\u001b[49m\u001b[43minverse_transform\u001b[49m\u001b[43m)\u001b[49m\u001b[43m(\u001b[49m\u001b[43mG_u_train\u001b[49m\u001b[43m,\u001b[49m\u001b[43m \u001b[49m\u001b[43mi\u001b[49m\u001b[43m)\u001b[49m\u001b[43m  \u001b[49m\u001b[38;5;28;43;01mfor\u001b[39;49;00m\u001b[43m \u001b[49m\u001b[43mi\u001b[49m\u001b[43m \u001b[49m\u001b[38;5;129;43;01min\u001b[39;49;00m\u001b[43m \u001b[49m\u001b[38;5;28;43mrange\u001b[39;49m\u001b[43m(\u001b[49m\u001b[43mG_u_train\u001b[49m\u001b[38;5;241;43m.\u001b[39;49m\u001b[43mshape\u001b[49m\u001b[43m[\u001b[49m\u001b[38;5;241;43m0\u001b[39;49m\u001b[43m]\u001b[49m\u001b[43m)\u001b[49m\u001b[43m)\u001b[49m\n\u001b[1;32m      7\u001b[0m G_u_train \u001b[38;5;241m=\u001b[39m np\u001b[38;5;241m.\u001b[39marray(catch)\n\u001b[1;32m      9\u001b[0m y_train_cur \u001b[38;5;241m=\u001b[39m std_targets\u001b[38;5;241m.\u001b[39minverse_transform(y_train)\n",
      "File \u001b[0;32m~/.conda/envs/enkf/lib/python3.11/site-packages/joblib/parallel.py:1098\u001b[0m, in \u001b[0;36mParallel.__call__\u001b[0;34m(self, iterable)\u001b[0m\n\u001b[1;32m   1095\u001b[0m     \u001b[38;5;28mself\u001b[39m\u001b[38;5;241m.\u001b[39m_iterating \u001b[38;5;241m=\u001b[39m \u001b[38;5;28;01mFalse\u001b[39;00m\n\u001b[1;32m   1097\u001b[0m \u001b[38;5;28;01mwith\u001b[39;00m \u001b[38;5;28mself\u001b[39m\u001b[38;5;241m.\u001b[39m_backend\u001b[38;5;241m.\u001b[39mretrieval_context():\n\u001b[0;32m-> 1098\u001b[0m     \u001b[38;5;28;43mself\u001b[39;49m\u001b[38;5;241;43m.\u001b[39;49m\u001b[43mretrieve\u001b[49m\u001b[43m(\u001b[49m\u001b[43m)\u001b[49m\n\u001b[1;32m   1099\u001b[0m \u001b[38;5;66;03m# Make sure that we get a last message telling us we are done\u001b[39;00m\n\u001b[1;32m   1100\u001b[0m elapsed_time \u001b[38;5;241m=\u001b[39m time\u001b[38;5;241m.\u001b[39mtime() \u001b[38;5;241m-\u001b[39m \u001b[38;5;28mself\u001b[39m\u001b[38;5;241m.\u001b[39m_start_time\n",
      "File \u001b[0;32m~/.conda/envs/enkf/lib/python3.11/site-packages/joblib/parallel.py:975\u001b[0m, in \u001b[0;36mParallel.retrieve\u001b[0;34m(self)\u001b[0m\n\u001b[1;32m    973\u001b[0m \u001b[38;5;28;01mtry\u001b[39;00m:\n\u001b[1;32m    974\u001b[0m     \u001b[38;5;28;01mif\u001b[39;00m \u001b[38;5;28mgetattr\u001b[39m(\u001b[38;5;28mself\u001b[39m\u001b[38;5;241m.\u001b[39m_backend, \u001b[38;5;124m'\u001b[39m\u001b[38;5;124msupports_timeout\u001b[39m\u001b[38;5;124m'\u001b[39m, \u001b[38;5;28;01mFalse\u001b[39;00m):\n\u001b[0;32m--> 975\u001b[0m         \u001b[38;5;28mself\u001b[39m\u001b[38;5;241m.\u001b[39m_output\u001b[38;5;241m.\u001b[39mextend(\u001b[43mjob\u001b[49m\u001b[38;5;241;43m.\u001b[39;49m\u001b[43mget\u001b[49m\u001b[43m(\u001b[49m\u001b[43mtimeout\u001b[49m\u001b[38;5;241;43m=\u001b[39;49m\u001b[38;5;28;43mself\u001b[39;49m\u001b[38;5;241;43m.\u001b[39;49m\u001b[43mtimeout\u001b[49m\u001b[43m)\u001b[49m)\n\u001b[1;32m    976\u001b[0m     \u001b[38;5;28;01melse\u001b[39;00m:\n\u001b[1;32m    977\u001b[0m         \u001b[38;5;28mself\u001b[39m\u001b[38;5;241m.\u001b[39m_output\u001b[38;5;241m.\u001b[39mextend(job\u001b[38;5;241m.\u001b[39mget())\n",
      "File \u001b[0;32m~/.conda/envs/enkf/lib/python3.11/site-packages/joblib/_parallel_backends.py:567\u001b[0m, in \u001b[0;36mLokyBackend.wrap_future_result\u001b[0;34m(future, timeout)\u001b[0m\n\u001b[1;32m    564\u001b[0m \u001b[38;5;250m\u001b[39m\u001b[38;5;124;03m\"\"\"Wrapper for Future.result to implement the same behaviour as\u001b[39;00m\n\u001b[1;32m    565\u001b[0m \u001b[38;5;124;03mAsyncResults.get from multiprocessing.\"\"\"\u001b[39;00m\n\u001b[1;32m    566\u001b[0m \u001b[38;5;28;01mtry\u001b[39;00m:\n\u001b[0;32m--> 567\u001b[0m     \u001b[38;5;28;01mreturn\u001b[39;00m \u001b[43mfuture\u001b[49m\u001b[38;5;241;43m.\u001b[39;49m\u001b[43mresult\u001b[49m\u001b[43m(\u001b[49m\u001b[43mtimeout\u001b[49m\u001b[38;5;241;43m=\u001b[39;49m\u001b[43mtimeout\u001b[49m\u001b[43m)\u001b[49m\n\u001b[1;32m    568\u001b[0m \u001b[38;5;28;01mexcept\u001b[39;00m CfTimeoutError \u001b[38;5;28;01mas\u001b[39;00m e:\n\u001b[1;32m    569\u001b[0m     \u001b[38;5;28;01mraise\u001b[39;00m \u001b[38;5;167;01mTimeoutError\u001b[39;00m \u001b[38;5;28;01mfrom\u001b[39;00m \u001b[38;5;21;01me\u001b[39;00m\n",
      "File \u001b[0;32m~/.conda/envs/enkf/lib/python3.11/concurrent/futures/_base.py:451\u001b[0m, in \u001b[0;36mFuture.result\u001b[0;34m(self, timeout)\u001b[0m\n\u001b[1;32m    448\u001b[0m \u001b[38;5;28;01melif\u001b[39;00m \u001b[38;5;28mself\u001b[39m\u001b[38;5;241m.\u001b[39m_state \u001b[38;5;241m==\u001b[39m FINISHED:\n\u001b[1;32m    449\u001b[0m     \u001b[38;5;28;01mreturn\u001b[39;00m \u001b[38;5;28mself\u001b[39m\u001b[38;5;241m.\u001b[39m__get_result()\n\u001b[0;32m--> 451\u001b[0m \u001b[38;5;28;43mself\u001b[39;49m\u001b[38;5;241;43m.\u001b[39;49m\u001b[43m_condition\u001b[49m\u001b[38;5;241;43m.\u001b[39;49m\u001b[43mwait\u001b[49m\u001b[43m(\u001b[49m\u001b[43mtimeout\u001b[49m\u001b[43m)\u001b[49m\n\u001b[1;32m    453\u001b[0m \u001b[38;5;28;01mif\u001b[39;00m \u001b[38;5;28mself\u001b[39m\u001b[38;5;241m.\u001b[39m_state \u001b[38;5;129;01min\u001b[39;00m [CANCELLED, CANCELLED_AND_NOTIFIED]:\n\u001b[1;32m    454\u001b[0m     \u001b[38;5;28;01mraise\u001b[39;00m CancelledError()\n",
      "File \u001b[0;32m~/.conda/envs/enkf/lib/python3.11/threading.py:320\u001b[0m, in \u001b[0;36mCondition.wait\u001b[0;34m(self, timeout)\u001b[0m\n\u001b[1;32m    318\u001b[0m \u001b[38;5;28;01mtry\u001b[39;00m:    \u001b[38;5;66;03m# restore state no matter what (e.g., KeyboardInterrupt)\u001b[39;00m\n\u001b[1;32m    319\u001b[0m     \u001b[38;5;28;01mif\u001b[39;00m timeout \u001b[38;5;129;01mis\u001b[39;00m \u001b[38;5;28;01mNone\u001b[39;00m:\n\u001b[0;32m--> 320\u001b[0m         \u001b[43mwaiter\u001b[49m\u001b[38;5;241;43m.\u001b[39;49m\u001b[43macquire\u001b[49m\u001b[43m(\u001b[49m\u001b[43m)\u001b[49m\n\u001b[1;32m    321\u001b[0m         gotit \u001b[38;5;241m=\u001b[39m \u001b[38;5;28;01mTrue\u001b[39;00m\n\u001b[1;32m    322\u001b[0m     \u001b[38;5;28;01melse\u001b[39;00m:\n",
      "\u001b[0;31mKeyboardInterrupt\u001b[0m: "
     ]
    }
   ],
   "source": [
    "for i in range(0,10000):\n",
    "    \n",
    "    initial_ensembles = get_updated_ensemble(smiles_feats_train, rdkit_feats_train, initial_ensembles)\n",
    "    \n",
    "    G_u_train = get_targets_with_weights(smiles_feats_train, rdkit_feats_train, initial_ensembles, size_ens = size_ens)\n",
    "    catch = Parallel(n_jobs = 15, verbose = 0)(delayed(inverse_transform)(G_u_train, i)  for i in range(G_u_train.shape[0]))\n",
    "    G_u_train = np.array(catch)\n",
    "    \n",
    "    y_train_cur = std_targets.inverse_transform(y_train)\n",
    "    \n",
    "    li_train = np.percentile(G_u_train, axis = 0, q = (2.5, 97.5))[0,:,:]   \n",
    "    ui_train = np.percentile(G_u_train, axis = 0, q = (2.5, 97.5))[1,:,:]\n",
    "    \n",
    "    width_train = ui_train - li_train\n",
    "    avg_width_train = width_train.mean(0)\n",
    "    \n",
    "    ind_train = (y_train_cur >= li_train) & (y_train_cur <= ui_train)\n",
    "    coverage_train= ind_train.mean(0)\n",
    "    \n",
    "    averaged_targets_train = G_u_train.mean(0)\n",
    "    rmse_train = np.sqrt(((y_train_cur -averaged_targets_train)**2).mean(0))\n",
    "    print(rmse_train, coverage_train, avg_width_train)\n",
    "    \n",
    "    G_u_test = get_targets_with_weights(smiles_feats_valid, rdkit_feats_valid, initial_ensembles, size_ens = size_ens)\n",
    "    \n",
    "    catch = Parallel(n_jobs = 15, verbose = 0)(delayed(inverse_transform)(G_u_test, i)  for i in range(G_u_test.shape[0]))\n",
    "    G_u_test = np.array(catch)\n",
    "    \n",
    "    y_valid_cur = std_targets.inverse_transform(y_valid)    \n",
    "    \n",
    "    li_test = np.percentile(G_u_test, axis = 0, q = (2.5, 97.5))[0,:,:]   \n",
    "    ui_test = np.percentile(G_u_test, axis = 0, q = (2.5, 97.5))[1,:,:]\n",
    "    \n",
    "    width_test = ui_test - li_test\n",
    "    avg_width_test = width_test.mean(0)\n",
    "    \n",
    "    ind_test = (y_valid_cur >= li_test) & (y_valid_cur <= ui_test)\n",
    "    coverage_test= ind_test.mean(0)\n",
    "    \n",
    "    averaged_targets_test = G_u_test.mean(0)\n",
    "    rmse_test = np.sqrt(((y_valid_cur -averaged_targets_test)**2).mean(0))    \n",
    "    \n",
    "    # plt.scatter(y_valid[:, 0], averaged_targets_test[:,0])\n",
    "    # plt.axline((0,0), slope = 1, c= \"black\")\n",
    "    # plt.show()\n",
    "    # plt.scatter(y_valid[:,1], averaged_targets_test[:, 1])\n",
    "    # plt.axline((0,0), slope = 1, c= \"black\")\n",
    "    # plt.show()\n",
    "    \n",
    "    if coverage_train.mean() < 0.95:\n",
    "        break\n",
    "    \n",
    "    print(rmse_test, coverage_test, avg_width_test)"
   ]
  },
  {
   "cell_type": "code",
   "execution_count": 130,
   "id": "a81eb6c3-e084-4e43-aa5e-3f9b0f5ee016",
   "metadata": {},
   "outputs": [
    {
     "data": {
      "text/plain": [
       "(281, 240, 2)"
      ]
     },
     "execution_count": 130,
     "metadata": {},
     "output_type": "execute_result"
    }
   ],
   "source": [
    "G_u_test.shape"
   ]
  },
  {
   "cell_type": "code",
   "execution_count": 131,
   "id": "96d8df43-9ae3-47f6-9c69-ac77c38a6eb6",
   "metadata": {},
   "outputs": [],
   "source": [
    "import random"
   ]
  },
  {
   "cell_type": "code",
   "execution_count": 132,
   "id": "47207771-df91-48f0-9963-9a78989bcfe3",
   "metadata": {},
   "outputs": [],
   "source": [
    "random_idx = random.sample(range(y_valid_cur.shape[0]), k = 8)"
   ]
  },
  {
   "cell_type": "code",
   "execution_count": 133,
   "id": "af5f17ea-a47c-421d-bd32-7a0dc0f1af60",
   "metadata": {},
   "outputs": [
    {
     "data": {
      "image/png": "[encoded data removed]",
      "text/plain": [
       "<Figure size 1500x1500 with 16 Axes>"
      ]
     },
     "metadata": {},
     "output_type": "display_data"
    }
   ],
   "source": [
    "fig, axs = plt.subplots(8, 2,figsize=(15, 15))\n",
    "# axs = axs.ravel()\n",
    "# counter = 0\n",
    "for idx, i in enumerate(random_idx):\n",
    "    # print(counter)\n",
    "    truth = y_valid_cur[i,:]\n",
    "    preds = G_u_test[:, i,:]\n",
    "    percts = np.percentile(preds, axis = 0, q = (2.5, 97.5))\n",
    "    lis = percts[0,:]\n",
    "    uis = percts[1,:]\n",
    "    \n",
    "    \n",
    "    axs[idx, 0].hist(preds[:,0])\n",
    "    axs[idx, 0].axvline(truth[0], color='green', linewidth=2)\n",
    "    axs[idx, 0].axvline(lis[0], color='red', linewidth=2)\n",
    "    axs[idx, 0].axvline(uis[0], color='red', linewidth=2)\n",
    "    \n",
    "    axs[idx, 1].hist(preds[:,1])\n",
    "    axs[idx, 1].axvline(truth[1], color='green', linewidth=2)\n",
    "    axs[idx, 1].axvline(lis[1], color='red', linewidth=2)\n",
    "    axs[idx, 1].axvline(uis[1], color='red', linewidth=2)\n",
    "    \n",
    "    # counter+=2\n",
    "    # print(counter)\n",
    "    \n",
    "    # plt.show()\n",
    "plt.savefig('prediction_intervals.png', bbox_inches='tight')"
   ]
  },
  {
   "cell_type": "code",
   "execution_count": 134,
   "id": "3230a62b-f36f-4ec0-9c7d-0ba75c9de369",
   "metadata": {},
   "outputs": [
    {
     "data": {
      "image/png": "[encoded data removed]",
      "text/plain": [
       "<Figure size 640x480 with 1 Axes>"
      ]
     },
     "metadata": {},
     "output_type": "display_data"
    },
    {
     "data": {
      "image/png": "[encoded data removed]",
      "text/plain": [
       "<Figure size 640x480 with 1 Axes>"
      ]
     },
     "metadata": {},
     "output_type": "display_data"
    }
   ],
   "source": [
    "plt.scatter(y_valid_cur[:, 0], averaged_targets_test[:,0])\n",
    "plt.axline((0,0), slope = 1, c= \"black\")\n",
    "plt.show()\n",
    "plt.scatter(y_valid_cur[:,1], averaged_targets_test[:, 1])\n",
    "plt.axline((0,0), slope = 1, c= \"black\")\n",
    "plt.show()"
   ]
  }
 ],
 "metadata": {
  "kernelspec": {
   "display_name": "enkf",
   "language": "python",
   "name": "enkf"
  },
  "language_info": {
   "codemirror_mode": {
    "name": "ipython",
    "version": 3
   },
   "file_extension": ".py",
   "mimetype": "text/x-python",
   "name": "python",
   "nbconvert_exporter": "python",
   "pygments_lexer": "ipython3",
   "version": "3.11.3"
  }
 },
 "nbformat": 4,
 "nbformat_minor": 5
}

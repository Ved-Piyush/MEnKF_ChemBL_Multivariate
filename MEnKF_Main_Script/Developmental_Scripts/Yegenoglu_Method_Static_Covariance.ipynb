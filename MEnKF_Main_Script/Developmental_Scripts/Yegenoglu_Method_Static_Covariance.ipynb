{
 "cells": [
  {
   "cell_type": "code",
   "execution_count": 1,
   "id": "aa53e19a-64db-4b1d-9378-c19c8efacd62",
   "metadata": {},
   "outputs": [
    {
     "name": "stderr",
     "output_type": "stream",
     "text": [
      "2023-06-08 23:27:38.580253: I tensorflow/core/util/port.cc:110] oneDNN custom operations are on. You may see slightly different numerical results due to floating-point round-off errors from different computation orders. To turn them off, set the environment variable `TF_ENABLE_ONEDNN_OPTS=0`.\n",
      "2023-06-08 23:27:38.582932: I tensorflow/tsl/cuda/cudart_stub.cc:28] Could not find cuda drivers on your machine, GPU will not be used.\n",
      "2023-06-08 23:27:38.623565: I tensorflow/tsl/cuda/cudart_stub.cc:28] Could not find cuda drivers on your machine, GPU will not be used.\n",
      "2023-06-08 23:27:38.624482: I tensorflow/core/platform/cpu_feature_guard.cc:182] This TensorFlow binary is optimized to use available CPU instructions in performance-critical operations.\n",
      "To enable the following instructions: AVX2 AVX512F AVX512_VNNI FMA, in other operations, rebuild TensorFlow with the appropriate compiler flags.\n",
      "2023-06-08 23:27:39.771568: W tensorflow/compiler/tf2tensorrt/utils/py_utils.cc:38] TF-TRT Warning: Could not find TensorRT\n"
     ]
    }
   ],
   "source": [
    "import pandas as pd\n",
    "import numpy as np\n",
    "from sklearn.model_selection import KFold\n",
    "from sklearn.feature_selection import VarianceThreshold\n",
    "import random\n",
    "import pickle\n",
    "from sklearn.preprocessing import StandardScaler\n",
    "import os\n",
    "import tensorflow as tf\n",
    "from tqdm.notebook import tqdm\n",
    "from scipy.stats import multivariate_normal as mvn\n",
    "import matplotlib.pyplot as plt\n",
    "from scipy.linalg import block_diag"
   ]
  },
  {
   "cell_type": "code",
   "execution_count": 2,
   "id": "d459b853-f520-4181-a9a9-310a6dd20de1",
   "metadata": {},
   "outputs": [],
   "source": [
    "def get_targets_with_weights(batch_data, initial_ensembles, size_ens, ann): \n",
    "    \n",
    "    target_dim = 1\n",
    "    \n",
    "    weights_ann_1 = ann.get_weights()\n",
    "    \n",
    "    h1  = ann.layers[1].output.shape[-1]\n",
    "\n",
    "    n_hidden_1 = len(weights_ann_1[0].ravel())\n",
    "    \n",
    "    hidden_weights_1 = initial_ensembles[:,:n_hidden_1].reshape( size_ens, batch_data.shape[1], h1)\n",
    "    \n",
    "    \n",
    "    hidden_output_1 = np.einsum('ij,kjl->kil', batch_data, hidden_weights_1)\n",
    "\n",
    "    \n",
    "    hidden_layer_bias_1 = initial_ensembles[:,n_hidden_1:(n_hidden_1 + h1)].reshape(size_ens, 1,  h1)\n",
    "\n",
    "\n",
    "    hidden_output_1 = hidden_output_1 + hidden_layer_bias_1\n",
    "\n",
    "    n_pred_weights_1 = len(weights_ann_1[2].ravel())\n",
    "\n",
    "    output_weights_1 = initial_ensembles[:,(n_hidden_1 + h1):(n_hidden_1 + h1 + n_pred_weights_1) ].reshape(size_ens, h1, target_dim)\n",
    "\n",
    "\n",
    "    output_1 = np.einsum('ijk,ikl->ijl', hidden_output_1, output_weights_1)\n",
    "\n",
    "\n",
    "    output_layer_bias_1 = initial_ensembles[:,(n_hidden_1 + h1 + n_pred_weights_1):(n_hidden_1 + h1 + n_pred_weights_1 + target_dim)].reshape(size_ens, 1, target_dim)\n",
    "\n",
    "\n",
    "    final_output_1 = output_1 + output_layer_bias_1\n",
    "    \n",
    "    final_output_1 = final_output_1[:,:, 0]\n",
    "    \n",
    "    # print(final_output_1.shape, initial_ensembles.shape)\n",
    "    \n",
    "    stack = np.hstack((final_output_1, initial_ensembles))\n",
    "\n",
    "    \n",
    "    return final_output_1, stack"
   ]
  },
  {
   "cell_type": "code",
   "execution_count": 3,
   "id": "2a66ee4c-4112-4dca-a9cc-68a60d4e316f",
   "metadata": {},
   "outputs": [],
   "source": [
    "def ann(hidden = 32, input_shape = 256, output_shape = 1): \n",
    "    input_layer = tf.keras.layers.Input(shape = (input_shape))\n",
    "    hidden_layer = tf.keras.layers.Dense(hidden)\n",
    "    hidden_output = hidden_layer(input_layer)\n",
    "    pred_layer = tf.keras.layers.Dense(output_shape, activation = \"relu\")\n",
    "    pred_output = pred_layer(hidden_output)\n",
    "#     pred_output = tf.keras.layers.Activation(\"softmax\")(pred_output)\n",
    "    model = tf.keras.models.Model(input_layer, pred_output)\n",
    "    return model"
   ]
  },
  {
   "cell_type": "code",
   "execution_count": 4,
   "id": "e0b9ef03-af61-4ce4-99ff-2f0b5dca639d",
   "metadata": {},
   "outputs": [],
   "source": [
    "def generate_initial_ensembles(num_weights, lambda1, size_ens):\n",
    "    mean_vec = np.zeros((num_weights,))\n",
    "    cov_matrix = lambda1*np.identity(num_weights)\n",
    "    mvn_samp = mvn(mean_vec, cov_matrix)\n",
    "    return mvn_samp.rvs(size_ens)"
   ]
  },
  {
   "cell_type": "code",
   "execution_count": 5,
   "id": "fe2ea2b5-13a4-41c4-8257-c6c18708501b",
   "metadata": {},
   "outputs": [],
   "source": [
    "def expit(x):\n",
    "    \"\"\"Compute softmax values for each sets of scores in x.\"\"\"\n",
    "#     e_x = np.exp(x - np.max(x))\n",
    "    return 1 / (1 + np.exp(-x))"
   ]
  },
  {
   "cell_type": "code",
   "execution_count": 6,
   "id": "b5f741d7-ba99-4803-8441-5bf2ad3d72f7",
   "metadata": {},
   "outputs": [],
   "source": [
    "def get_initial_X_t(data1, data2, size_ens):\n",
    "    samp_ann =  ann(hidden = 16, input_shape = 32, output_shape = 1)\n",
    "    \n",
    "    initial_ensembles1 = generate_initial_ensembles(samp_ann.count_params(), 1, size_ens)\n",
    "    data1_out1, data1_stack1 = get_targets_with_weights(data1, initial_ensembles1, size_ens = size_ens, ann = samp_ann)\n",
    "    \n",
    "    initial_ensembles2 = generate_initial_ensembles(samp_ann.count_params(), 1, size_ens)\n",
    "    data1_out2, data1_stack2 = get_targets_with_weights(data1, initial_ensembles2, size_ens = size_ens, ann = samp_ann)\n",
    "    \n",
    "    initial_ensembles3 = generate_initial_ensembles(samp_ann.count_params(), 1, size_ens)\n",
    "    data2_out1, data2_stack1 = get_targets_with_weights(data2, initial_ensembles3, size_ens = size_ens, ann = samp_ann)\n",
    "    \n",
    "    initial_ensembles4 = generate_initial_ensembles(samp_ann.count_params(), 1, size_ens)\n",
    "    data2_out2, data2_stack2 = get_targets_with_weights(data2, initial_ensembles4, size_ens = size_ens, ann = samp_ann)   \n",
    "    \n",
    "    X_t = np.concatenate((np.expand_dims(data1_stack1, -1), np.expand_dims(data1_stack2, -1), \n",
    "                         np.expand_dims(data2_stack1, -1), np.expand_dims(data2_stack2, -1)), axis = -1)\n",
    "    \n",
    "    initial_ensembles_for_weights = generate_initial_ensembles(4, 1, size_ens)\n",
    "    initial_ensembles_for_weights = np.expand_dims(initial_ensembles_for_weights,1)\n",
    "    \n",
    "    # print(X_t.shape, initial_ensembles_for_weights.shape)\n",
    "    \n",
    "    X_t = np.concatenate((X_t, initial_ensembles_for_weights), axis = 1)\n",
    "    \n",
    "    initial_ensembles = np.hstack((initial_ensembles1, initial_ensembles2, initial_ensembles3, initial_ensembles4))\n",
    "    \n",
    "    return X_t, initial_ensembles, initial_ensembles_for_weights[:,0,:]"
   ]
  },
  {
   "cell_type": "code",
   "execution_count": 7,
   "id": "6ac49c8c-6da0-4ee2-9561-e1d19365f182",
   "metadata": {},
   "outputs": [],
   "source": [
    "def get_weighted_targets_with_weights(batch_data, initial_ensembles, size_ens, ann, weights): \n",
    "    \n",
    "    target_dim = 1\n",
    "    \n",
    "    weights_ann_1 = ann.get_weights()\n",
    "    \n",
    "    h1  = ann.layers[1].output.shape[-1]\n",
    "\n",
    "    n_hidden_1 = len(weights_ann_1[0].ravel())\n",
    "    \n",
    "    hidden_weights_1 = initial_ensembles[:,:n_hidden_1].reshape( size_ens, batch_data.shape[1], h1)\n",
    "    \n",
    "    \n",
    "    hidden_output_1 = np.einsum('ij,kjl->kil', batch_data, hidden_weights_1)\n",
    "\n",
    "    \n",
    "    hidden_layer_bias_1 = initial_ensembles[:,n_hidden_1:(n_hidden_1 + h1)].reshape(size_ens, 1,  h1)\n",
    "\n",
    "\n",
    "    hidden_output_1 = hidden_output_1 + hidden_layer_bias_1\n",
    "\n",
    "    n_pred_weights_1 = len(weights_ann_1[2].ravel())\n",
    "\n",
    "    output_weights_1 = initial_ensembles[:,(n_hidden_1 + h1):(n_hidden_1 + h1 + n_pred_weights_1) ].reshape(size_ens, h1, target_dim)\n",
    "\n",
    "\n",
    "    output_1 = np.einsum('ijk,ikl->ijl', hidden_output_1, output_weights_1)\n",
    "\n",
    "\n",
    "    output_layer_bias_1 = initial_ensembles[:,(n_hidden_1 + h1 + n_pred_weights_1):(n_hidden_1 + h1 + n_pred_weights_1 + target_dim)].reshape(size_ens, 1, target_dim)\n",
    "\n",
    "\n",
    "    final_output_1 = output_1 + output_layer_bias_1\n",
    "    \n",
    "    final_output_1 = final_output_1[:,:, 0]\n",
    "    \n",
    "    final_output_1 = final_output_1*weights\n",
    "    \n",
    "    # print(final_output_1.shape, initial_ensembles.shape)\n",
    "    \n",
    "    stack = np.hstack((final_output_1, initial_ensembles))\n",
    "\n",
    "    \n",
    "    return final_output_1, stack"
   ]
  },
  {
   "cell_type": "code",
   "execution_count": 8,
   "id": "8f382d3e-e4dc-4e19-b19a-0eb954236a16",
   "metadata": {},
   "outputs": [],
   "source": [
    "alogp_bottleneck = np.load(\"..//Data/small_mol_phase_3_features_for_both.npy\")"
   ]
  },
  {
   "cell_type": "code",
   "execution_count": 9,
   "id": "76ccbcd4-20bd-4772-ac63-3aaef7ab95d8",
   "metadata": {},
   "outputs": [],
   "source": [
    "# y_valid"
   ]
  },
  {
   "cell_type": "code",
   "execution_count": 10,
   "id": "94e5e3f5-e4c6-40f8-ac40-b487543e3711",
   "metadata": {},
   "outputs": [],
   "source": [
    "y_valid = pd.read_csv(\"..//Data/smiles_with_rdkit_with_small_phase_3_outputs.csv\")"
   ]
  },
  {
   "cell_type": "code",
   "execution_count": 11,
   "id": "de38304b-6569-4387-8868-0837b195e462",
   "metadata": {},
   "outputs": [],
   "source": [
    "# y_valid"
   ]
  },
  {
   "cell_type": "code",
   "execution_count": 12,
   "id": "b697b7f9-3d50-4d71-a436-cdc6434909a5",
   "metadata": {},
   "outputs": [
    {
     "name": "stderr",
     "output_type": "stream",
     "text": [
      "/home/statgrads/vpiyush2/.conda/envs/enkf/lib/python3.11/site-packages/sklearn/base.py:318: UserWarning: Trying to unpickle estimator StandardScaler from version 1.1.2 when using version 1.2.2. This might lead to breaking code or invalid results. Use at your own risk. For more info please refer to:\n",
      "https://scikit-learn.org/stable/model_persistence.html#security-maintainability-limitations\n",
      "  warnings.warn(\n"
     ]
    }
   ],
   "source": [
    "std_targets = pickle.load( open('..//Data//target_scaler.pkl', 'rb'))"
   ]
  },
  {
   "cell_type": "code",
   "execution_count": 13,
   "id": "40aa1581-02a9-4c7f-a348-db236a77f6a7",
   "metadata": {},
   "outputs": [],
   "source": [
    "# y_valid"
   ]
  },
  {
   "cell_type": "code",
   "execution_count": 14,
   "id": "1ad7f00f-1bd3-40bc-b50b-de0406c72655",
   "metadata": {},
   "outputs": [],
   "source": [
    "y_train = y_valid.values[:,1:]"
   ]
  },
  {
   "cell_type": "code",
   "execution_count": 15,
   "id": "e3fe10a7-fcc3-430f-8ade-356a7f7b85b2",
   "metadata": {},
   "outputs": [
    {
     "name": "stderr",
     "output_type": "stream",
     "text": [
      "/home/statgrads/vpiyush2/.conda/envs/enkf/lib/python3.11/site-packages/sklearn/base.py:439: UserWarning: X does not have valid feature names, but StandardScaler was fitted with feature names\n",
      "  warnings.warn(\n"
     ]
    }
   ],
   "source": [
    "y_train = std_targets.transform(y_train)"
   ]
  },
  {
   "cell_type": "code",
   "execution_count": 16,
   "id": "6dfffa08-081b-4b5f-8181-ae94a920c932",
   "metadata": {},
   "outputs": [],
   "source": [
    "from sklearn.model_selection import train_test_split"
   ]
  },
  {
   "cell_type": "code",
   "execution_count": 17,
   "id": "f03896e4-b7c8-4237-a0a8-7af9ed6b1f0d",
   "metadata": {},
   "outputs": [],
   "source": [
    "x_train, x_valid, y_train, y_valid = train_test_split(alogp_bottleneck, y_train, test_size = 0.25, shuffle = True, \n",
    "                                                     random_state = 42)"
   ]
  },
  {
   "cell_type": "code",
   "execution_count": 18,
   "id": "e2ed02ca-e8a1-4767-8152-4fc17b1afe61",
   "metadata": {},
   "outputs": [
    {
     "data": {
      "text/plain": [
       "(719, 64)"
      ]
     },
     "execution_count": 18,
     "metadata": {},
     "output_type": "execute_result"
    }
   ],
   "source": [
    "x_train.shape"
   ]
  },
  {
   "cell_type": "code",
   "execution_count": 19,
   "id": "8660cfe1-5d14-4e88-b5ae-f5d39ec41932",
   "metadata": {},
   "outputs": [],
   "source": [
    "R_t = np.cov(y_train.T)"
   ]
  },
  {
   "cell_type": "code",
   "execution_count": 20,
   "id": "e2ea7e9a-2c5f-4603-984c-4acd309fb581",
   "metadata": {},
   "outputs": [
    {
     "data": {
      "text/plain": [
       "array([[ 2.00883439, -0.73234091],\n",
       "       [-0.73234091,  1.65672997]])"
      ]
     },
     "execution_count": 20,
     "metadata": {},
     "output_type": "execute_result"
    }
   ],
   "source": [
    "R_t"
   ]
  },
  {
   "cell_type": "code",
   "execution_count": 21,
   "id": "d156603a-c127-45b6-a74d-2735987d03ce",
   "metadata": {},
   "outputs": [],
   "source": [
    "var1 = R_t[0,0]\n",
    "var2 = R_t[1,1]\n",
    "cov = R_t[1,0]"
   ]
  },
  {
   "cell_type": "code",
   "execution_count": 22,
   "id": "cb69be39-625e-4a08-9bec-90a6d312df8d",
   "metadata": {},
   "outputs": [],
   "source": [
    "ul = var1*np.identity(x_train.shape[0])\n",
    "lr = var2*np.identity(x_train.shape[0])\n",
    "ur = cov*np.identity(x_train.shape[0])\n",
    "ll = ur.T"
   ]
  },
  {
   "cell_type": "code",
   "execution_count": 23,
   "id": "67930509-5afb-458b-90a6-a9bc5b1cb94d",
   "metadata": {},
   "outputs": [],
   "source": [
    "first_row = np.hstack((ul, ur))\n",
    "second_row = np.hstack((ll, lr))"
   ]
  },
  {
   "cell_type": "code",
   "execution_count": 24,
   "id": "534f2539-a9e7-4ab2-b84b-fcecf628d473",
   "metadata": {},
   "outputs": [
    {
     "data": {
      "text/plain": [
       "(719, 1438)"
      ]
     },
     "execution_count": 24,
     "metadata": {},
     "output_type": "execute_result"
    }
   ],
   "source": [
    "first_row.shape"
   ]
  },
  {
   "cell_type": "code",
   "execution_count": 25,
   "id": "2a9541bb-5cf5-4adb-baa8-69965781f7d2",
   "metadata": {},
   "outputs": [
    {
     "data": {
      "text/plain": [
       "(719, 1438)"
      ]
     },
     "execution_count": 25,
     "metadata": {},
     "output_type": "execute_result"
    }
   ],
   "source": [
    "second_row.shape"
   ]
  },
  {
   "cell_type": "code",
   "execution_count": 26,
   "id": "63e35567-c2b7-4e1f-9eae-9bbb1ccfd3af",
   "metadata": {},
   "outputs": [],
   "source": [
    "R_t = np.vstack((first_row, second_row))"
   ]
  },
  {
   "cell_type": "code",
   "execution_count": 27,
   "id": "2c29b851-3a1f-4d4a-a15a-e8b6bffd6de5",
   "metadata": {},
   "outputs": [
    {
     "data": {
      "text/plain": [
       "(1438, 1438)"
      ]
     },
     "execution_count": 27,
     "metadata": {},
     "output_type": "execute_result"
    }
   ],
   "source": [
    "R_t.shape"
   ]
  },
  {
   "cell_type": "code",
   "execution_count": 28,
   "id": "7b98c57b-e85d-46f9-92b4-09f2a1b179a8",
   "metadata": {},
   "outputs": [],
   "source": [
    "smiles_feats_train = x_train[:, :32]"
   ]
  },
  {
   "cell_type": "code",
   "execution_count": 29,
   "id": "3b91f4be-60b4-44ee-b992-80da2cbe5395",
   "metadata": {},
   "outputs": [],
   "source": [
    "rdkit_feats_train = x_train[:, 32:]"
   ]
  },
  {
   "cell_type": "code",
   "execution_count": 30,
   "id": "dfe0b04f-b7c9-4f72-ac4b-4ba7e50d128b",
   "metadata": {},
   "outputs": [],
   "source": [
    "smiles_feats_valid = x_valid[:, :32]\n",
    "rdkit_feats_valid = x_valid[:, 32:]"
   ]
  },
  {
   "cell_type": "code",
   "execution_count": 31,
   "id": "5932b6c7-8781-4514-8b67-1e760609c62d",
   "metadata": {},
   "outputs": [],
   "source": [
    "# size_ens = 250"
   ]
  },
  {
   "cell_type": "code",
   "execution_count": 32,
   "id": "2fc4c78d-3be7-49ef-9dc5-d754c7bf3ea0",
   "metadata": {},
   "outputs": [],
   "source": [
    "# X_t, initial_ensembles, initial_ensembles_for_weights = get_initial_X_t(smiles_feats_train, rdkit_feats_train, size_ens = size_ens)"
   ]
  },
  {
   "cell_type": "code",
   "execution_count": 33,
   "id": "ddb81461-5085-48da-8322-513d5277d09a",
   "metadata": {},
   "outputs": [],
   "source": [
    "# initial_ensembles_for_weights.shape"
   ]
  },
  {
   "cell_type": "code",
   "execution_count": 34,
   "id": "ef257e2f-de40-47cb-9439-847174516390",
   "metadata": {},
   "outputs": [],
   "source": [
    "# initial_ensembles.shape"
   ]
  },
  {
   "cell_type": "code",
   "execution_count": 35,
   "id": "4811f34b-7755-4b4b-8c7b-cab18f3cd911",
   "metadata": {},
   "outputs": [],
   "source": [
    "# initial_ensembles = np.hstack((initial_ensembles, initial_ensembles_for_weights))"
   ]
  },
  {
   "cell_type": "code",
   "execution_count": 36,
   "id": "866eefa3-0127-4307-801b-b4db3a35baad",
   "metadata": {},
   "outputs": [],
   "source": [
    "# initial_ensembles.shape"
   ]
  },
  {
   "cell_type": "code",
   "execution_count": 37,
   "id": "9d1a4f5e-7a0d-42b7-ad45-59c708b7b727",
   "metadata": {},
   "outputs": [],
   "source": [
    "def forward_operation(data1, data2, combined_ensembles , size_ens ):\n",
    "    samp_ann =  ann(hidden = 16, input_shape = 32, output_shape = 1)\n",
    "    params = samp_ann.count_params()\n",
    "    initial_ensembles1 = combined_ensembles[:, :params]\n",
    "    initial_ensembles2 = combined_ensembles[:, params:(2*params)]\n",
    "    initial_ensembles3 = combined_ensembles[:, (2*params):(3*params)]\n",
    "    initial_ensembles4 = combined_ensembles[:, (3*params):(4*params)]\n",
    "\n",
    "    \n",
    "    initial_ensembles_for_weights = combined_ensembles[:, (4*params):]\n",
    "    softmax_weights = tf.math.softmax(initial_ensembles_for_weights).numpy()\n",
    "    \n",
    "    model_1 = softmax_weights[:,:2].sum(1).reshape(-1,1)\n",
    "    \n",
    "    model_2 = softmax_weights[:,2:].sum(1).reshape(-1,1)\n",
    "    \n",
    "    data1_out1, data1_stack1 = get_weighted_targets_with_weights(data1, initial_ensembles1, size_ens = size_ens,\n",
    "                                                                 ann = samp_ann, weights=model_1)\n",
    "    \n",
    "    data1_out2, data1_stack2 = get_weighted_targets_with_weights(data1, initial_ensembles2, size_ens = size_ens,\n",
    "                                                                 ann = samp_ann, weights=model_1)\n",
    "    \n",
    "    data2_out1, data2_stack1 = get_weighted_targets_with_weights(data2, initial_ensembles3, size_ens = size_ens,\n",
    "                                                                 ann = samp_ann, weights=model_2)\n",
    "    \n",
    "    data2_out2, data2_stack2 = get_weighted_targets_with_weights(data2, initial_ensembles4, size_ens = size_ens,\n",
    "                                                                 ann = samp_ann, weights=model_2)   \n",
    "    \n",
    "    X_t = np.concatenate((np.expand_dims(data1_stack1, -1), np.expand_dims(data1_stack2, -1), \n",
    "                         np.expand_dims(data2_stack1, -1), np.expand_dims(data2_stack2, -1)), axis = -1)\n",
    "    \n",
    "    initial_ensembles = np.hstack((initial_ensembles1, initial_ensembles2, initial_ensembles3, initial_ensembles4, \n",
    "                        initial_ensembles_for_weights))\n",
    "    \n",
    "    # print(X_t.shape)\n",
    "    \n",
    "    initial_ensembles_for_weights = np.expand_dims(initial_ensembles_for_weights,1)\n",
    "    \n",
    "    # print(initial_ensembles_for_weights.shape)\n",
    "    \n",
    "    X_t = np.concatenate((X_t, initial_ensembles_for_weights), axis = 1)\n",
    "    \n",
    "    weighted_alogp = data1_out1 + data2_out1\n",
    "    \n",
    "    weighted_psa = data1_out2 + data2_out2\n",
    "    \n",
    "    return X_t, initial_ensembles, weighted_alogp, weighted_psa"
   ]
  },
  {
   "cell_type": "code",
   "execution_count": 38,
   "id": "e15b0bf7-ba00-40bc-933b-c1c3e062e98e",
   "metadata": {},
   "outputs": [
    {
     "name": "stderr",
     "output_type": "stream",
     "text": [
      "2023-06-08 23:27:41.825376: E tensorflow/compiler/xla/stream_executor/cuda/cuda_driver.cc:266] failed call to cuInit: CUDA_ERROR_NO_DEVICE: no CUDA-capable device is detected\n",
      "2023-06-08 23:27:41.825410: I tensorflow/compiler/xla/stream_executor/cuda/cuda_diagnostics.cc:168] retrieving CUDA diagnostic information for host: c3101.swan.hcc.unl.edu\n",
      "2023-06-08 23:27:41.825419: I tensorflow/compiler/xla/stream_executor/cuda/cuda_diagnostics.cc:175] hostname: c3101.swan.hcc.unl.edu\n",
      "2023-06-08 23:27:41.825546: I tensorflow/compiler/xla/stream_executor/cuda/cuda_diagnostics.cc:199] libcuda reported version is: 525.85.5\n",
      "2023-06-08 23:27:41.825567: I tensorflow/compiler/xla/stream_executor/cuda/cuda_diagnostics.cc:203] kernel reported version is: 525.85.5\n",
      "2023-06-08 23:27:41.825573: I tensorflow/compiler/xla/stream_executor/cuda/cuda_diagnostics.cc:309] kernel version seems to match DSO: 525.85.5\n"
     ]
    }
   ],
   "source": [
    "samp_ann =  ann(hidden = 16, input_shape = 32, output_shape = 1)"
   ]
  },
  {
   "cell_type": "code",
   "execution_count": 39,
   "id": "af3dd570-7ab3-4eae-bd8e-9a57a333b30a",
   "metadata": {},
   "outputs": [],
   "source": [
    "total_weights = samp_ann.count_params()*4 + 4"
   ]
  },
  {
   "cell_type": "code",
   "execution_count": 40,
   "id": "e820b010-4396-4b7a-8781-a8e6d503aad5",
   "metadata": {},
   "outputs": [],
   "source": [
    "reduction = 8"
   ]
  },
  {
   "cell_type": "code",
   "execution_count": 41,
   "id": "e5fbaaf7-afae-4008-a26c-e0691ef9b3f9",
   "metadata": {},
   "outputs": [],
   "source": [
    "size_ens = total_weights//reduction"
   ]
  },
  {
   "cell_type": "code",
   "execution_count": 42,
   "id": "a5111536-1a97-4390-9658-c9848a136a3f",
   "metadata": {},
   "outputs": [
    {
     "data": {
      "text/plain": [
       "273"
      ]
     },
     "execution_count": 42,
     "metadata": {},
     "output_type": "execute_result"
    }
   ],
   "source": [
    "size_ens"
   ]
  },
  {
   "cell_type": "code",
   "execution_count": 43,
   "id": "dad93ee9-a527-4663-9e18-d72039909c4a",
   "metadata": {},
   "outputs": [],
   "source": [
    "X_t, initial_ensembles, initial_ensembles_for_weights = get_initial_X_t(smiles_feats_train, rdkit_feats_train, size_ens = size_ens)"
   ]
  },
  {
   "cell_type": "code",
   "execution_count": 44,
   "id": "9c1bbad1-127a-4c27-8fb9-23783b072a24",
   "metadata": {},
   "outputs": [],
   "source": [
    "initial_ensembles = np.hstack((initial_ensembles, initial_ensembles_for_weights))"
   ]
  },
  {
   "cell_type": "code",
   "execution_count": 45,
   "id": "1ed41b34-97b7-4bcf-9809-340a0c7d40c4",
   "metadata": {},
   "outputs": [],
   "source": [
    "# X_t, initial_ensembles, weighted_alogp, weighted_psa = forward_operation(smiles_feats_train, rdkit_feats_train, combined_ensembles = initial_ensembles, size_ens = size_ens)"
   ]
  },
  {
   "cell_type": "code",
   "execution_count": 46,
   "id": "54e4f22f-b3f0-4442-9b70-dbf0b90286be",
   "metadata": {},
   "outputs": [],
   "source": [
    "# chk = get_predictions(smiles_feats_train, rdkit_feats_train, initial_ensembles)"
   ]
  },
  {
   "cell_type": "code",
   "execution_count": 47,
   "id": "ea555b47-82a9-4499-bdd8-4f07dc00c05a",
   "metadata": {},
   "outputs": [],
   "source": [
    "# chk.shape"
   ]
  },
  {
   "cell_type": "code",
   "execution_count": 48,
   "id": "6a5f5f6c-4005-4f0f-be12-64a103a924d5",
   "metadata": {},
   "outputs": [],
   "source": [
    "# catch = Parallel(n_jobs = 15, verbose = 0)(delayed(inverse_transform)(chk, i)  for i in range(chk.shape[0]))"
   ]
  },
  {
   "cell_type": "code",
   "execution_count": 49,
   "id": "f534dae2-3e28-4d51-8277-235829eb7d66",
   "metadata": {},
   "outputs": [],
   "source": [
    "# np.array(catch).shape"
   ]
  },
  {
   "cell_type": "code",
   "execution_count": 50,
   "id": "a84cb0e3-2f5e-4207-b092-d2768b52205a",
   "metadata": {},
   "outputs": [],
   "source": [
    "def get_predictions(data1, data2, initial_ensembles): \n",
    "    _,_, weighted_alogp, weighted_psa = forward_operation(data1, data2, initial_ensembles, size_ens = size_ens)\n",
    "    weighted_alogp = np.expand_dims(weighted_alogp,-1)\n",
    "    weighted_psa = np.expand_dims(weighted_psa,-1)\n",
    "    preds = np.concatenate((weighted_alogp, weighted_psa),-1)\n",
    "    return preds"
   ]
  },
  {
   "cell_type": "code",
   "execution_count": 51,
   "id": "3af0a9b9-6202-40e2-911f-3c890213099f",
   "metadata": {},
   "outputs": [],
   "source": [
    "def calculate_mu_bar_G_bar(data1, data2, initial_ensembles):\n",
    "    mu_bar = initial_ensembles.mean(0)\n",
    "    _,_, weighted_alogp, weighted_psa = forward_operation(data1, data2, initial_ensembles, size_ens = size_ens)\n",
    "    weighted_alogp = np.expand_dims(weighted_alogp,-1)\n",
    "    weighted_psa = np.expand_dims(weighted_psa,-1)\n",
    "    G_u = np.concatenate((weighted_alogp, weighted_psa), axis = -1)\n",
    "    G_u = G_u.transpose((0,2,1))\n",
    "    G_u = G_u.reshape(G_u.shape[0], G_u.shape[1]*G_u.shape[2])\n",
    "    # G_u\n",
    "    G_bar = (G_u.mean(0)).ravel()\n",
    "    return mu_bar.reshape(-1,1), G_bar.reshape(-1,1), G_u"
   ]
  },
  {
   "cell_type": "code",
   "execution_count": 52,
   "id": "f2b864f3-fdc7-44c3-b924-c76a36695505",
   "metadata": {},
   "outputs": [],
   "source": [
    "# mu_bar, G_bar, G_u = calculate_mu_bar_G_bar(smiles_feats_train, rdkit_feats_train, initial_ensembles)"
   ]
  },
  {
   "cell_type": "code",
   "execution_count": 53,
   "id": "5f74521e-f4d7-4227-bb3e-6e65b1c5ec12",
   "metadata": {},
   "outputs": [],
   "source": [
    "# mu_bar.shape"
   ]
  },
  {
   "cell_type": "code",
   "execution_count": 54,
   "id": "97754169-7043-4c91-90b9-e1f7c866efe2",
   "metadata": {},
   "outputs": [],
   "source": [
    "# G_bar.shape"
   ]
  },
  {
   "cell_type": "code",
   "execution_count": 55,
   "id": "69f1e2b9-d819-40d8-abdb-f7764ab6863f",
   "metadata": {},
   "outputs": [],
   "source": [
    "# G_u.shape"
   ]
  },
  {
   "cell_type": "code",
   "execution_count": 56,
   "id": "7334c80c-cfcd-4d5b-b844-11cfb8c137df",
   "metadata": {},
   "outputs": [],
   "source": [
    "def calculate_C_u(initial_ensembles, mu_bar, G_bar, G_u): \n",
    "    u_j_minus_u_bar = initial_ensembles - mu_bar.reshape(1,-1)\n",
    "    G_u_minus_G_bar = G_u -  G_bar.reshape(1,-1)\n",
    "    c = np.zeros((total_weights, G_bar.shape[0]))\n",
    "    for i in range(0, size_ens): \n",
    "        c += np.kron(u_j_minus_u_bar[i, :].T.reshape(-1,1), G_u_minus_G_bar[i,:].reshape(-1,1).T)\n",
    "    return c/size_ens, G_u_minus_G_bar"
   ]
  },
  {
   "cell_type": "code",
   "execution_count": 57,
   "id": "9148779c-1a3f-455d-a6ad-00fc1bf69c1f",
   "metadata": {},
   "outputs": [],
   "source": [
    "def calculate_D_u( G_bar, G_u): \n",
    "    G_u_minus_G_bar = G_u -  G_bar.reshape(1,-1)\n",
    "    d = np.zeros((G_bar.shape[0], G_bar.shape[0]))\n",
    "    for i in range(0, size_ens): \n",
    "        d += np.kron(G_u_minus_G_bar[i,:].T.reshape(-1,1), G_u_minus_G_bar[i,:].reshape(-1,1).T)\n",
    "    return d/size_ens"
   ]
  },
  {
   "cell_type": "code",
   "execution_count": 58,
   "id": "6e8459b0-68c1-4d1f-851e-3d7b99f0ffc5",
   "metadata": {},
   "outputs": [],
   "source": [
    "def get_updated_ensemble(data1, data2, initial_ensembles):\n",
    "    mu_bar, G_bar, G_u = calculate_mu_bar_G_bar(data1, data2, initial_ensembles)\n",
    "    C, G_u_minus_G_bar = calculate_C_u(initial_ensembles, mu_bar, G_bar, G_u)\n",
    "    D = calculate_D_u( G_bar, G_u)\n",
    "    mid_quant = C@np.linalg.inv(D + lambda_inv)\n",
    "    right_quant = y_train.T.flatten().reshape(-1,1) - G_u.T\n",
    "    mid_times_right = mid_quant@right_quant\n",
    "    updated_ensemble = (initial_ensembles.T + mid_times_right)\n",
    "    return updated_ensemble.T"
   ]
  },
  {
   "cell_type": "code",
   "execution_count": 59,
   "id": "c14b236d-6ebf-40e3-9085-97afd2990e4d",
   "metadata": {},
   "outputs": [],
   "source": [
    "target_dim = 2"
   ]
  },
  {
   "cell_type": "code",
   "execution_count": 60,
   "id": "346d07bc-5b61-4e75-a816-a6e22ffe9d76",
   "metadata": {},
   "outputs": [],
   "source": [
    "lambda_D = 1"
   ]
  },
  {
   "cell_type": "code",
   "execution_count": 61,
   "id": "18b0d48e-f557-4d11-acb8-8905f403e2fe",
   "metadata": {},
   "outputs": [],
   "source": [
    "# u_bar, G_bar, G_u = calculate_mu_bar_G_bar(smiles_feats_train, rdkit_feats_train, initial_ensembles)"
   ]
  },
  {
   "cell_type": "code",
   "execution_count": 62,
   "id": "9183ef8c-1730-4074-a982-680af10c67f8",
   "metadata": {},
   "outputs": [],
   "source": [
    "# G_bar.shape"
   ]
  },
  {
   "cell_type": "code",
   "execution_count": 63,
   "id": "15db8fc2-fc1a-4090-a6cd-851a93fc8ae5",
   "metadata": {},
   "outputs": [],
   "source": [
    "# lambda_inv = np.linalg.inv(lambda_D*np.identity(G_bar.shape[0]))\n",
    "lambda_inv = np.linalg.inv(R_t)"
   ]
  },
  {
   "cell_type": "code",
   "execution_count": 64,
   "id": "3dcb7a3c-67c1-4e37-bd82-d5544d0d37a9",
   "metadata": {},
   "outputs": [
    {
     "data": {
      "text/plain": [
       "(1438, 1438)"
      ]
     },
     "execution_count": 64,
     "metadata": {},
     "output_type": "execute_result"
    }
   ],
   "source": [
    "lambda_inv.shape"
   ]
  },
  {
   "cell_type": "code",
   "execution_count": 65,
   "id": "13b223f8-0ecb-40e9-bfce-78439876cabc",
   "metadata": {},
   "outputs": [],
   "source": [
    "# G_u.shape"
   ]
  },
  {
   "cell_type": "code",
   "execution_count": 66,
   "id": "dc3a216a-4dbb-474d-8219-5f6c071250a4",
   "metadata": {},
   "outputs": [],
   "source": [
    "def inverse_transform(data, idx):\n",
    "    data_cur = data[idx, :, :]\n",
    "    inv_data_cur = std_targets.inverse_transform(data_cur)\n",
    "    return inv_data_cur"
   ]
  },
  {
   "cell_type": "code",
   "execution_count": 67,
   "id": "5abd35fb-ea92-449d-894a-162ed1f4aaec",
   "metadata": {},
   "outputs": [],
   "source": [
    "from joblib import Parallel, delayed"
   ]
  },
  {
   "cell_type": "code",
   "execution_count": 68,
   "id": "7f151faf-ada0-4d56-87b8-6c96aa4eb0c6",
   "metadata": {},
   "outputs": [],
   "source": [
    "# catch = Parallel(n_jobs = 15, verbose = 3)(delayed(inverse_transform)(G_u_test, i)  for i in range(G_u_test.shape[0]))"
   ]
  },
  {
   "cell_type": "code",
   "execution_count": 69,
   "id": "73cc2e8b-4608-4f17-be54-d50cdb6437ac",
   "metadata": {},
   "outputs": [],
   "source": [
    "# G_u_train.shape"
   ]
  },
  {
   "cell_type": "code",
   "execution_count": 70,
   "id": "65bf21e9-92c6-4824-93c3-87274b072afa",
   "metadata": {},
   "outputs": [
    {
     "name": "stdout",
     "output_type": "stream",
     "text": [
      "[ 3.5188026  99.15835997] [1. 1.] [ 106.65839886 2419.93517664]\n",
      "[ 3.0313136  87.33899612] [1. 1.] [ 106.0052873  2390.50538007]\n",
      "[ 2.88421241 82.65482797] [1. 1.] [  76.91206274 1743.55442045]\n",
      "[ 2.5213704  73.84675122] [1. 1.] [  75.98783405 1709.91349687]\n",
      "[ 2.18517317 77.93441482] [1. 1.] [  59.83286339 1360.28308511]\n",
      "[ 2.10538473 68.88726214] [1. 1.] [  58.87857607 1348.95271609]\n",
      "[ 2.34644047 74.55845436] [1. 1.] [  52.14892616 1153.57178342]\n",
      "[ 2.15192569 65.89102093] [1. 1.] [  51.46506034 1139.99858639]\n",
      "[ 1.97802829 72.33648649] [1. 1.] [ 44.6849412  977.09597937]\n",
      "[ 1.85704463 64.50164973] [1. 1.] [ 44.16451542 963.65470905]\n",
      "[ 1.65485585 58.73204475] [1. 1.] [ 39.32787895 831.38218816]\n",
      "[ 1.51766813 52.76279827] [1. 1.] [ 38.91960929 829.51012667]\n",
      "[ 1.47938311 53.08449657] [1. 1.] [ 32.93903473 718.43966205]\n",
      "[ 1.26449885 48.18492326] [1. 1.] [ 32.5380985  712.37057212]\n",
      "[ 1.37827242 49.14297494] [1. 1.] [ 29.53965993 624.90748991]\n",
      "[ 0.97630575 44.15569597] [1. 1.] [ 29.30179276 616.63792938]\n",
      "[ 1.00268417 49.15514586] [1. 1.] [ 24.50780391 532.08012655]\n",
      "[ 0.8094818  44.04643179] [1. 1.] [ 24.3352169  526.53343384]\n",
      "[ 0.97051741 40.80729192] [1. 1.] [ 19.58740731 432.04254112]\n",
      "[ 0.83787398 36.67603946] [1. 1.] [ 19.5552937  429.86533095]\n",
      "[ 0.85044056 37.42769732] [1. 1.] [ 15.93658172 364.85560496]\n",
      "[ 0.74942547 34.01023361] [1. 1.] [ 15.80524871 364.6265734 ]\n",
      "[ 0.81133534 27.3775379 ] [1. 1.] [ 12.61247929 277.47364749]\n",
      "[ 0.64609592 25.56360117] [1. 1.] [ 12.53067189 273.27449685]\n",
      "[ 0.79446347 20.41925974] [1. 1.] [  9.65407577 216.17961034]\n",
      "[ 0.72774382 20.21113746] [1. 1.] [  9.59336204 214.62809366]\n",
      "[ 0.55694179 11.82988952] [1. 1.] [  7.33765422 167.09094963]\n",
      "[ 0.53228473 12.17769187] [1. 1.] [  7.30176676 165.49326637]\n",
      "[ 0.57011281 11.48323229] [1. 1.] [  5.47954807 121.29801302]\n",
      "[ 0.57862392 11.55587385] [1. 1.] [  5.42998175 119.64530412]\n",
      "[0.40094319 8.65011009] [1. 1.] [ 4.14368359 87.88338294]\n",
      "[0.40130816 8.77145093] [1. 1.] [ 4.06764522 86.47832556]\n",
      "[0.34113276 5.34956549] [1. 1.] [ 3.06548472 68.23397156]\n",
      "[0.34139406 5.51429707] [1. 1.] [ 3.02392696 67.40390008]\n",
      "[0.18253379 4.32858963] [1. 1.] [ 2.34023015 53.29693381]\n",
      "[0.18965942 4.4991701 ] [1. 1.] [ 2.30845851 53.33241737]\n",
      "[0.12943418 3.64488935] [1. 1.] [ 1.84399472 42.10520471]\n",
      "[0.13842624 3.84411103] [1. 1.] [ 1.815295   41.89615265]\n",
      "[0.11115008 2.74512012] [1. 1.] [ 1.50623487 31.8650002 ]\n",
      "[0.1196328  2.75991679] [1. 1.] [ 1.48959267 31.95436262]\n",
      "[0.10986461 2.8667019 ] [1. 1.] [ 1.1576086  26.53772473]\n",
      "[0.11658213 2.62076385] [0.99583333 1.        ] [ 1.16120063 26.46149768]\n",
      "[0.10311162 2.37734963] [0.99860918 1.        ] [ 0.92290113 21.89363899]\n",
      "[0.10773201 2.1230673 ] [0.99583333 1.        ] [ 0.92725969 21.892794  ]\n",
      "[0.09306917 2.17301187] [0.99721836 0.99860918] [ 0.82943674 17.69076174]\n",
      "[0.10032826 1.92753681] [0.99583333 1.        ] [ 0.83125413 17.76098218]\n",
      "[0.08626703 1.71155869] [0.9930459  0.99721836] [ 0.65137245 14.8164363 ]\n",
      "[0.09475369 1.48046307] [0.99583333 1.        ] [ 0.65867701 14.96727979]\n",
      "[0.07936558 1.57300453] [0.9930459  0.99721836] [ 0.5549248 13.104792 ]\n",
      "[0.08798446 1.31976513] [0.99583333 1.        ] [ 0.55948338 13.20664436]\n",
      "[0.07722132 1.51410996] [0.9930459  0.99721836] [ 0.50577588 12.35490109]\n",
      "[0.0859825  1.24916688] [0.99583333 1.        ] [ 0.51087575 12.41760022]\n",
      "[0.07549965 1.4923236 ] [0.9930459  0.99721836] [ 0.49050951 11.37059901]\n",
      "[0.08431126 1.21497932] [0.99166667 1.        ] [ 0.49743652 11.45735533]\n",
      "[0.07341353 1.45133664] [0.9930459  0.99721836] [ 0.45516071 10.94346355]\n",
      "[0.08195173 1.15879221] [0.99166667 1.        ] [ 0.45869082 11.06915002]\n",
      "[0.07267002 1.40661348] [0.9930459  0.99721836] [ 0.4310333  10.40270928]\n",
      "[0.08086106 1.11094484] [0.99166667 1.        ] [ 0.43511193 10.48313293]\n",
      "[0.07235739 1.37213456] [0.9930459  0.99721836] [0.42441027 9.96984703]\n",
      "[0.08033068 1.08144506] [0.99166667 1.        ] [ 0.42762688 10.05435654]\n",
      "[0.07206841 1.34087802] [0.9930459  0.99721836] [0.4216599 9.7201646]\n",
      "[0.07986892 1.05440564] [0.99166667 1.        ] [0.42465345 9.79459604]\n",
      "[0.07168465 1.31677584] [0.9930459  0.99721836] [0.41669503 9.53955642]\n",
      "[0.079301   1.03415508] [0.99166667 1.        ] [0.42020698 9.60390129]\n",
      "[0.07127204 1.29690736] [0.9930459  0.99582754] [0.40657509 9.46384398]\n",
      "[0.07866002 1.01778946] [0.99166667 1.        ] [0.41075262 9.5100563 ]\n",
      "[0.07092697 1.2799479 ] [0.9930459  0.99582754] [0.39644768 9.39837489]\n",
      "[0.07806451 1.00458781] [0.99166667 1.        ] [0.40225141 9.46188971]\n",
      "[0.07063191 1.2664954 ] [0.9930459  0.99721836] [0.3881615  9.31798455]\n",
      "[0.07754043 0.9947082 ] [0.99166667 1.        ] [0.39328271 9.36805615]\n",
      "[0.07034331 1.25544522] [0.9930459  0.99721836] [0.38228206 9.20442907]\n",
      "[0.07707619 0.98628272] [0.99166667 1.        ] [0.38624868 9.24452141]\n",
      "[0.07003195 1.24480785] [0.9930459  0.99721836] [0.37700942 9.07000186]\n",
      "[0.07666068 0.97695601] [0.99166667 1.        ] [0.38156256 9.12449545]\n",
      "[0.06967515 1.23350521] [0.9930459  0.99582754] [0.37343582 8.92696864]\n",
      "[0.07628367 0.96578914] [0.99166667 1.        ] [0.37794368 8.96584505]\n",
      "[0.06927096 1.22152407] [0.9930459  0.99582754] [0.37129351 8.76972207]\n",
      "[0.07594255 0.95292473] [0.99166667 1.        ] [0.37569153 8.83619313]\n",
      "[0.06884873 1.20953255] [0.9930459  0.99443672] [0.36920925 8.61569797]\n",
      "[0.07564417 0.9390674 ] [0.99166667 1.        ] [0.37409903 8.68745842]\n",
      "[0.06844189 1.19843316] [0.9930459  0.99443672] [0.36718797 8.47084962]\n",
      "[0.07538717 0.9253164 ] [0.99166667 1.        ] [0.37127484 8.53987291]\n",
      "[0.06805538 1.18882293] [0.9930459  0.99443672] [0.3650579  8.33375341]\n",
      "[0.07514745 0.91271349] [0.99166667 1.        ] [0.37009197 8.4034794 ]\n",
      "[0.0676727  1.18062013] [0.9930459  0.99443672] [0.36345466 8.22425072]\n",
      "[0.07489161 0.90166637] [0.99166667 1.        ] [0.36892678 8.28263619]\n",
      "[0.06728049 1.17317803] [0.99165508 0.99443672] [0.36165742 8.12372426]\n",
      "[0.07459949 0.89185991] [0.99166667 1.        ] [0.36592945 8.16055775]\n",
      "[0.06687712 1.16576582] [0.99165508 0.99443672] [0.35923371 8.01852476]\n",
      "[0.07426993 0.88271034] [0.99166667 1.        ] [0.36293292 8.06724594]\n",
      "[0.06646658 1.15794873] [0.99165508 0.99443672] [0.35555553 7.93303994]\n",
      "[0.0739117  0.87383533] [0.99166667 1.        ] [0.35931367 7.98190329]\n",
      "[0.06605341 1.14960508] [0.99165508 0.99443672] [0.35169331 7.84317394]\n",
      "[0.07353453 0.86513777] [0.99166667 1.        ] [0.35574262 7.88518405]\n",
      "[0.0656422  1.14077666] [0.9930459  0.99443672] [0.34782089 7.75581696]\n",
      "[0.07314665 0.85663976] [0.99166667 1.        ] [0.3520049  7.79452656]\n",
      "[0.06523763 1.1315794 ] [0.9930459  0.99443672] [0.3442621  7.67068746]\n",
      "[0.07275607 0.84834669] [0.99166667 1.        ] [0.34765428 7.70780836]\n",
      "[0.06484352 1.12216862] [0.99165508 0.99443672] [0.340287   7.57711747]\n",
      "[0.07237138 0.84020465] [0.99166667 1.        ] [0.34375941 7.60696079]\n",
      "[0.06446208 1.11269069] [0.99165508 0.99443672] [0.33659432 7.46787177]\n",
      "[0.0720009  0.83209231] [0.99166667 1.        ] [0.33978981 7.49853134]\n",
      "[0.06409482 1.10322123] [0.99165508 0.99443672] [0.33278072 7.35991629]\n",
      "[0.07165156 0.82381316] [0.99166667 1.        ] [0.33541034 7.39842771]\n",
      "[0.06374472 1.09373253] [0.99165508 0.99443672] [0.32859224 7.25094784]\n",
      "[0.07132871 0.81510149] [0.99166667 1.        ] [0.33151854 7.28886147]\n",
      "[0.06341702 1.08412431] [0.99165508 0.99443672] [0.32398948 7.14767524]\n",
      "[0.07103675 0.80567385] [0.99166667 1.        ] [0.32657839 7.18816002]\n",
      "[0.06311717 1.0743159 ] [0.99165508 0.99443672] [0.31876239 7.04852001]\n",
      "[0.07077892 0.79533511] [0.99166667 1.        ] [0.32127267 7.09628013]\n",
      "[0.06284739 1.06434414] [0.99165508 0.99443672] [0.31267613 6.93562757]\n",
      "[0.07055632 0.78408716] [0.99166667 0.99583333] [0.31521604 6.9991754 ]\n",
      "[0.06260487 1.05439099] [0.99165508 0.99443672] [0.30628713 6.8229139 ]\n",
      "[0.07036698 0.77215682] [0.99166667 0.99583333] [0.30910603 6.89262372]\n",
      "[0.06238267 1.04471945] [0.99165508 0.99443672] [0.30001899 6.72582929]\n",
      "[0.07020597 0.759914  ] [0.99166667 0.99583333] [0.30313088 6.77378142]\n",
      "[0.06217228 1.03556737] [0.99165508 0.99443672] [0.29311619 6.62545975]\n",
      "[0.07006674 0.74773194] [0.99166667 0.99583333] [0.29699381 6.66828697]\n",
      "[0.06196617 1.02706892] [0.99165508 0.99443672] [0.2864395  6.49956534]\n",
      "[0.0699427 0.7358716] [0.99166667 0.99583333] [0.29033831 6.55386234]\n",
      "[0.06175931 1.01923893] [0.99165508 0.99443672] [0.27982574 6.37318107]\n",
      "[0.06982825 0.72444221] [0.99166667 0.99583333] [0.28404788 6.42105013]\n",
      "[0.06154933 1.01200826] [0.99165508 0.99443672] [0.27358524 6.24460308]\n",
      "[0.06971924 0.71343327] [0.99166667 0.99583333] [0.27834101 6.29588184]\n",
      "[0.06133612 1.00527694] [0.99165508 0.99443672] [0.26766791 6.11742416]\n",
      "[0.06961307 0.70277955] [0.99166667 0.99583333] [0.27281999 6.15867319]\n",
      "[0.06112106 0.99895898] [0.99026426 0.99443672] [0.26224379 5.98693957]\n",
      "[0.06950856 0.69242187] [0.99166667 0.99583333] [0.26789561 6.03377047]\n",
      "[0.06090636 0.99300753] [0.99026426 0.99443672] [0.25748553 5.86513494]\n",
      "[0.0694057  0.68234395] [0.9875     0.99583333] [0.26326509 5.93143494]\n",
      "[0.06069439 0.98741856] [0.99026426 0.99443672] [0.25300979 5.75942126]\n",
      "[0.06930519 0.67258076] [0.9875     0.99583333] [0.25851927 5.82958209]\n",
      "[0.06048724 0.98221797] [0.99026426 0.99443672] [0.24894347 5.66645511]\n",
      "[0.06920804 0.66320393] [0.9875     0.99583333] [0.25426652 5.74146638]\n",
      "[0.06028662 0.97744057] [0.99026426 0.99443672] [0.2451401 5.5868835]\n",
      "[0.06911537 0.65429483] [0.9875     0.99583333] [0.25015325 5.65479198]\n",
      "[0.06009393 0.97311043] [0.99026426 0.99443672] [0.24183938 5.52192932]\n",
      "[0.06902835 0.64591779] [0.9875     0.99583333] [0.24643968 5.58704433]\n",
      "[0.05991053 0.96922972] [0.99026426 0.99443672] [0.23902248 5.45987451]\n",
      "[0.06894818 0.63810342] [0.9875     0.99583333] [0.24312125 5.52661418]\n",
      "[0.05973771 0.96577755] [0.98887344 0.99443672] [0.23607831 5.40919848]\n",
      "[0.06887598 0.63084583] [0.9875     0.99583333] [0.24008911 5.46812066]\n",
      "[0.05957676 0.96271557] [0.98887344 0.99443672] [0.23357486 5.36492435]\n",
      "[0.06881269 0.62411069] [0.9875     0.99583333] [0.23767613 5.41933522]\n",
      "[0.05942876 0.95999551] [0.98887344 0.99443672] [0.23134649 5.32568134]\n",
      "[0.06875894 0.61784706] [0.9875     0.99583333] [0.23563456 5.38358095]\n"
     ]
    },
    {
     "ename": "KeyboardInterrupt",
     "evalue": "",
     "output_type": "error",
     "traceback": [
      "\u001b[0;31m---------------------------------------------------------------------------\u001b[0m",
      "\u001b[0;31mKeyboardInterrupt\u001b[0m                         Traceback (most recent call last)",
      "Cell \u001b[0;32mIn[70], line 3\u001b[0m\n\u001b[1;32m      1\u001b[0m \u001b[38;5;28;01mfor\u001b[39;00m i \u001b[38;5;129;01min\u001b[39;00m \u001b[38;5;28mrange\u001b[39m(\u001b[38;5;241m0\u001b[39m,\u001b[38;5;241m10000\u001b[39m):\n\u001b[0;32m----> 3\u001b[0m     initial_ensembles \u001b[38;5;241m=\u001b[39m \u001b[43mget_updated_ensemble\u001b[49m\u001b[43m(\u001b[49m\u001b[43msmiles_feats_train\u001b[49m\u001b[43m,\u001b[49m\u001b[43m \u001b[49m\u001b[43mrdkit_feats_train\u001b[49m\u001b[43m,\u001b[49m\u001b[43m \u001b[49m\u001b[43minitial_ensembles\u001b[49m\u001b[43m)\u001b[49m\n\u001b[1;32m      4\u001b[0m     G_u_train \u001b[38;5;241m=\u001b[39m get_predictions(smiles_feats_train, rdkit_feats_train, initial_ensembles)\n\u001b[1;32m      5\u001b[0m     \u001b[38;5;66;03m# G_u_train = get_targets_with_weights(smiles_feats_train, rdkit_feats_train, initial_ensembles, size_ens = size_ens)\u001b[39;00m\n",
      "Cell \u001b[0;32mIn[58], line 4\u001b[0m, in \u001b[0;36mget_updated_ensemble\u001b[0;34m(data1, data2, initial_ensembles)\u001b[0m\n\u001b[1;32m      2\u001b[0m mu_bar, G_bar, G_u \u001b[38;5;241m=\u001b[39m calculate_mu_bar_G_bar(data1, data2, initial_ensembles)\n\u001b[1;32m      3\u001b[0m C, G_u_minus_G_bar \u001b[38;5;241m=\u001b[39m calculate_C_u(initial_ensembles, mu_bar, G_bar, G_u)\n\u001b[0;32m----> 4\u001b[0m D \u001b[38;5;241m=\u001b[39m \u001b[43mcalculate_D_u\u001b[49m\u001b[43m(\u001b[49m\u001b[43m \u001b[49m\u001b[43mG_bar\u001b[49m\u001b[43m,\u001b[49m\u001b[43m \u001b[49m\u001b[43mG_u\u001b[49m\u001b[43m)\u001b[49m\n\u001b[1;32m      5\u001b[0m mid_quant \u001b[38;5;241m=\u001b[39m C\u001b[38;5;129m@np\u001b[39m\u001b[38;5;241m.\u001b[39mlinalg\u001b[38;5;241m.\u001b[39minv(D \u001b[38;5;241m+\u001b[39m lambda_inv)\n\u001b[1;32m      6\u001b[0m right_quant \u001b[38;5;241m=\u001b[39m y_train\u001b[38;5;241m.\u001b[39mT\u001b[38;5;241m.\u001b[39mflatten()\u001b[38;5;241m.\u001b[39mreshape(\u001b[38;5;241m-\u001b[39m\u001b[38;5;241m1\u001b[39m,\u001b[38;5;241m1\u001b[39m) \u001b[38;5;241m-\u001b[39m G_u\u001b[38;5;241m.\u001b[39mT\n",
      "Cell \u001b[0;32mIn[57], line 5\u001b[0m, in \u001b[0;36mcalculate_D_u\u001b[0;34m(G_bar, G_u)\u001b[0m\n\u001b[1;32m      3\u001b[0m d \u001b[38;5;241m=\u001b[39m np\u001b[38;5;241m.\u001b[39mzeros((G_bar\u001b[38;5;241m.\u001b[39mshape[\u001b[38;5;241m0\u001b[39m], G_bar\u001b[38;5;241m.\u001b[39mshape[\u001b[38;5;241m0\u001b[39m]))\n\u001b[1;32m      4\u001b[0m \u001b[38;5;28;01mfor\u001b[39;00m i \u001b[38;5;129;01min\u001b[39;00m \u001b[38;5;28mrange\u001b[39m(\u001b[38;5;241m0\u001b[39m, size_ens): \n\u001b[0;32m----> 5\u001b[0m     d \u001b[38;5;241m+\u001b[39m\u001b[38;5;241m=\u001b[39m \u001b[43mnp\u001b[49m\u001b[38;5;241;43m.\u001b[39;49m\u001b[43mkron\u001b[49m\u001b[43m(\u001b[49m\u001b[43mG_u_minus_G_bar\u001b[49m\u001b[43m[\u001b[49m\u001b[43mi\u001b[49m\u001b[43m,\u001b[49m\u001b[43m:\u001b[49m\u001b[43m]\u001b[49m\u001b[38;5;241;43m.\u001b[39;49m\u001b[43mT\u001b[49m\u001b[38;5;241;43m.\u001b[39;49m\u001b[43mreshape\u001b[49m\u001b[43m(\u001b[49m\u001b[38;5;241;43m-\u001b[39;49m\u001b[38;5;241;43m1\u001b[39;49m\u001b[43m,\u001b[49m\u001b[38;5;241;43m1\u001b[39;49m\u001b[43m)\u001b[49m\u001b[43m,\u001b[49m\u001b[43m \u001b[49m\u001b[43mG_u_minus_G_bar\u001b[49m\u001b[43m[\u001b[49m\u001b[43mi\u001b[49m\u001b[43m,\u001b[49m\u001b[43m:\u001b[49m\u001b[43m]\u001b[49m\u001b[38;5;241;43m.\u001b[39;49m\u001b[43mreshape\u001b[49m\u001b[43m(\u001b[49m\u001b[38;5;241;43m-\u001b[39;49m\u001b[38;5;241;43m1\u001b[39;49m\u001b[43m,\u001b[49m\u001b[38;5;241;43m1\u001b[39;49m\u001b[43m)\u001b[49m\u001b[38;5;241;43m.\u001b[39;49m\u001b[43mT\u001b[49m\u001b[43m)\u001b[49m\n\u001b[1;32m      6\u001b[0m \u001b[38;5;28;01mreturn\u001b[39;00m d\u001b[38;5;241m/\u001b[39msize_ens\n",
      "File \u001b[0;32m<__array_function__ internals>:180\u001b[0m, in \u001b[0;36mkron\u001b[0;34m(*args, **kwargs)\u001b[0m\n",
      "File \u001b[0;32m~/.conda/envs/enkf/lib/python3.11/site-packages/numpy/lib/shape_base.py:1179\u001b[0m, in \u001b[0;36mkron\u001b[0;34m(a, b)\u001b[0m\n\u001b[1;32m   1177\u001b[0m b_arr \u001b[38;5;241m=\u001b[39m expand_dims(b_arr, axis\u001b[38;5;241m=\u001b[39m\u001b[38;5;28mtuple\u001b[39m(\u001b[38;5;28mrange\u001b[39m(\u001b[38;5;241m0\u001b[39m, nd\u001b[38;5;241m*\u001b[39m\u001b[38;5;241m2\u001b[39m, \u001b[38;5;241m2\u001b[39m)))\n\u001b[1;32m   1178\u001b[0m \u001b[38;5;66;03m# In case of `mat`, convert result to `array`\u001b[39;00m\n\u001b[0;32m-> 1179\u001b[0m result \u001b[38;5;241m=\u001b[39m \u001b[43m_nx\u001b[49m\u001b[38;5;241;43m.\u001b[39;49m\u001b[43mmultiply\u001b[49m\u001b[43m(\u001b[49m\u001b[43ma_arr\u001b[49m\u001b[43m,\u001b[49m\u001b[43m \u001b[49m\u001b[43mb_arr\u001b[49m\u001b[43m,\u001b[49m\u001b[43m \u001b[49m\u001b[43msubok\u001b[49m\u001b[38;5;241;43m=\u001b[39;49m\u001b[43m(\u001b[49m\u001b[38;5;129;43;01mnot\u001b[39;49;00m\u001b[43m \u001b[49m\u001b[43mis_any_mat\u001b[49m\u001b[43m)\u001b[49m\u001b[43m)\u001b[49m\n\u001b[1;32m   1181\u001b[0m \u001b[38;5;66;03m# Reshape back\u001b[39;00m\n\u001b[1;32m   1182\u001b[0m result \u001b[38;5;241m=\u001b[39m result\u001b[38;5;241m.\u001b[39mreshape(_nx\u001b[38;5;241m.\u001b[39mmultiply(as_, bs))\n",
      "\u001b[0;31mKeyboardInterrupt\u001b[0m: "
     ]
    }
   ],
   "source": [
    "for i in range(0,10000):\n",
    "    \n",
    "    initial_ensembles = get_updated_ensemble(smiles_feats_train, rdkit_feats_train, initial_ensembles)\n",
    "    G_u_train = get_predictions(smiles_feats_train, rdkit_feats_train, initial_ensembles)\n",
    "    # G_u_train = get_targets_with_weights(smiles_feats_train, rdkit_feats_train, initial_ensembles, size_ens = size_ens)\n",
    "    catch = Parallel(n_jobs = 15, verbose = 0)(delayed(inverse_transform)(G_u_train, i)  for i in range(G_u_train.shape[0]))\n",
    "    G_u_train = np.array(catch)\n",
    "    \n",
    "    y_train_cur = std_targets.inverse_transform(y_train)\n",
    "    \n",
    "    li_train = np.percentile(G_u_train, axis = 0, q = (2.5, 97.5))[0,:,:]   \n",
    "    ui_train = np.percentile(G_u_train, axis = 0, q = (2.5, 97.5))[1,:,:]\n",
    "    \n",
    "    width_train = ui_train - li_train\n",
    "    avg_width_train = width_train.mean(0)\n",
    "    \n",
    "    ind_train = (y_train_cur >= li_train) & (y_train_cur <= ui_train)\n",
    "    coverage_train= ind_train.mean(0)\n",
    "    \n",
    "    averaged_targets_train = G_u_train.mean(0)\n",
    "    rmse_train = np.sqrt(((y_train_cur -averaged_targets_train)**2).mean(0))\n",
    "    print(rmse_train, coverage_train, avg_width_train)\n",
    "    \n",
    "    G_u_test = get_predictions(smiles_feats_valid, rdkit_feats_valid, initial_ensembles)\n",
    "    \n",
    "    catch = Parallel(n_jobs = 15, verbose = 0)(delayed(inverse_transform)(G_u_test, i)  for i in range(G_u_test.shape[0]))\n",
    "    G_u_test = np.array(catch)\n",
    "    \n",
    "    y_valid_cur = std_targets.inverse_transform(y_valid)    \n",
    "    \n",
    "    li_test = np.percentile(G_u_test, axis = 0, q = (2.5, 97.5))[0,:,:]   \n",
    "    ui_test = np.percentile(G_u_test, axis = 0, q = (2.5, 97.5))[1,:,:]\n",
    "    \n",
    "    width_test = ui_test - li_test\n",
    "    avg_width_test = width_test.mean(0)\n",
    "    \n",
    "    ind_test = (y_valid_cur >= li_test) & (y_valid_cur <= ui_test)\n",
    "    coverage_test= ind_test.mean(0)\n",
    "    \n",
    "    averaged_targets_test = G_u_test.mean(0)\n",
    "    rmse_test = np.sqrt(((y_valid_cur -averaged_targets_test)**2).mean(0))    \n",
    "    \n",
    "    # plt.scatter(y_valid[:, 0], averaged_targets_test[:,0])\n",
    "    # plt.axline((0,0), slope = 1, c= \"black\")\n",
    "    # plt.show()\n",
    "    # plt.scatter(y_valid[:,1], averaged_targets_test[:, 1])\n",
    "    # plt.axline((0,0), slope = 1, c= \"black\")\n",
    "    # plt.show()\n",
    "    \n",
    "    if coverage_train.mean() < 0.95:\n",
    "        break\n",
    "    \n",
    "    print(rmse_test, coverage_test, avg_width_test)"
   ]
  },
  {
   "cell_type": "code",
   "execution_count": 71,
   "id": "a81eb6c3-e084-4e43-aa5e-3f9b0f5ee016",
   "metadata": {},
   "outputs": [
    {
     "data": {
      "text/plain": [
       "(273, 240, 2)"
      ]
     },
     "execution_count": 71,
     "metadata": {},
     "output_type": "execute_result"
    }
   ],
   "source": [
    "G_u_test.shape"
   ]
  },
  {
   "cell_type": "code",
   "execution_count": 72,
   "id": "96d8df43-9ae3-47f6-9c69-ac77c38a6eb6",
   "metadata": {},
   "outputs": [],
   "source": [
    "import random"
   ]
  },
  {
   "cell_type": "code",
   "execution_count": 73,
   "id": "47207771-df91-48f0-9963-9a78989bcfe3",
   "metadata": {},
   "outputs": [],
   "source": [
    "random_idx = random.sample(range(y_valid_cur.shape[0]), k = 8)"
   ]
  },
  {
   "cell_type": "code",
   "execution_count": 74,
   "id": "af5f17ea-a47c-421d-bd32-7a0dc0f1af60",
   "metadata": {},
   "outputs": [
    {
     "data": {
      "image/png": "[encoded data removed]",
      "text/plain": [
       "<Figure size 1500x1500 with 16 Axes>"
      ]
     },
     "metadata": {},
     "output_type": "display_data"
    }
   ],
   "source": [
    "fig, axs = plt.subplots(8, 2,figsize=(15, 15))\n",
    "# axs = axs.ravel()\n",
    "# counter = 0\n",
    "for idx, i in enumerate(random_idx):\n",
    "    # print(counter)\n",
    "    truth = y_valid_cur[i,:]\n",
    "    preds = G_u_test[:, i,:]\n",
    "    percts = np.percentile(preds, axis = 0, q = (2.5, 97.5))\n",
    "    lis = percts[0,:]\n",
    "    uis = percts[1,:]\n",
    "    \n",
    "    \n",
    "    axs[idx, 0].hist(preds[:,0])\n",
    "    axs[idx, 0].axvline(truth[0], color='green', linewidth=2)\n",
    "    axs[idx, 0].axvline(lis[0], color='red', linewidth=2)\n",
    "    axs[idx, 0].axvline(uis[0], color='red', linewidth=2)\n",
    "    \n",
    "    axs[idx, 1].hist(preds[:,1])\n",
    "    axs[idx, 1].axvline(truth[1], color='green', linewidth=2)\n",
    "    axs[idx, 1].axvline(lis[1], color='red', linewidth=2)\n",
    "    axs[idx, 1].axvline(uis[1], color='red', linewidth=2)\n",
    "    \n",
    "    # counter+=2\n",
    "    # print(counter)\n",
    "    \n",
    "    # plt.show()\n",
    "plt.savefig('prediction_intervals.png', bbox_inches='tight')"
   ]
  },
  {
   "cell_type": "code",
   "execution_count": 75,
   "id": "3230a62b-f36f-4ec0-9c7d-0ba75c9de369",
   "metadata": {},
   "outputs": [
    {
     "data": {
      "image/png": "[encoded data removed]",
      "text/plain": [
       "<Figure size 640x480 with 1 Axes>"
      ]
     },
     "metadata": {},
     "output_type": "display_data"
    },
    {
     "data": {
      "image/png": "[encoded data removed]",
      "text/plain": [
       "<Figure size 640x480 with 1 Axes>"
      ]
     },
     "metadata": {},
     "output_type": "display_data"
    }
   ],
   "source": [
    "plt.scatter(y_valid_cur[:, 0], averaged_targets_test[:,0])\n",
    "plt.axline((0,0), slope = 1, c= \"black\")\n",
    "plt.show()\n",
    "plt.scatter(y_valid_cur[:,1], averaged_targets_test[:, 1])\n",
    "plt.axline((0,0), slope = 1, c= \"black\")\n",
    "plt.show()"
   ]
  }
 ],
 "metadata": {
  "kernelspec": {
   "display_name": "enkf",
   "language": "python",
   "name": "enkf"
  },
  "language_info": {
   "codemirror_mode": {
    "name": "ipython",
    "version": 3
   },
   "file_extension": ".py",
   "mimetype": "text/x-python",
   "name": "python",
   "nbconvert_exporter": "python",
   "pygments_lexer": "ipython3",
   "version": "3.11.3"
  }
 },
 "nbformat": 4,
 "nbformat_minor": 5
}

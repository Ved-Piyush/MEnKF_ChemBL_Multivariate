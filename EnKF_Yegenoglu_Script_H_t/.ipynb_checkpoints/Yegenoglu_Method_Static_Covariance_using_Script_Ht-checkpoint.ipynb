{
 "cells": [
  {
   "cell_type": "code",
   "execution_count": 1,
   "id": "aa53e19a-64db-4b1d-9378-c19c8efacd62",
   "metadata": {},
   "outputs": [
    {
     "name": "stderr",
     "output_type": "stream",
     "text": [
      "2023-06-09 19:16:41.495044: I tensorflow/core/util/port.cc:110] oneDNN custom operations are on. You may see slightly different numerical results due to floating-point round-off errors from different computation orders. To turn them off, set the environment variable `TF_ENABLE_ONEDNN_OPTS=0`.\n",
      "2023-06-09 19:16:41.497358: I tensorflow/tsl/cuda/cudart_stub.cc:28] Could not find cuda drivers on your machine, GPU will not be used.\n",
      "2023-06-09 19:16:41.535574: I tensorflow/tsl/cuda/cudart_stub.cc:28] Could not find cuda drivers on your machine, GPU will not be used.\n",
      "2023-06-09 19:16:41.536375: I tensorflow/core/platform/cpu_feature_guard.cc:182] This TensorFlow binary is optimized to use available CPU instructions in performance-critical operations.\n",
      "To enable the following instructions: AVX2 AVX512F AVX512_VNNI FMA, in other operations, rebuild TensorFlow with the appropriate compiler flags.\n",
      "2023-06-09 19:16:42.651224: W tensorflow/compiler/tf2tensorrt/utils/py_utils.cc:38] TF-TRT Warning: Could not find TensorRT\n"
     ]
    }
   ],
   "source": [
    "import pandas as pd\n",
    "import numpy as np\n",
    "from sklearn.model_selection import KFold\n",
    "from sklearn.feature_selection import VarianceThreshold\n",
    "import random\n",
    "import pickle\n",
    "from sklearn.preprocessing import StandardScaler\n",
    "import os\n",
    "import tensorflow as tf\n",
    "from tqdm.notebook import tqdm\n",
    "from scipy.stats import multivariate_normal as mvn\n",
    "import matplotlib.pyplot as plt\n",
    "from scipy.linalg import block_diag"
   ]
  },
  {
   "cell_type": "code",
   "execution_count": 2,
   "id": "d459b853-f520-4181-a9a9-310a6dd20de1",
   "metadata": {},
   "outputs": [],
   "source": [
    "def get_targets_with_weights(batch_data, initial_ensembles, size_ens, ann): \n",
    "    \n",
    "    target_dim = 1\n",
    "    \n",
    "    weights_ann_1 = ann.get_weights()\n",
    "    \n",
    "    h1  = ann.layers[1].output.shape[-1]\n",
    "\n",
    "    n_hidden_1 = len(weights_ann_1[0].ravel())\n",
    "    \n",
    "    hidden_weights_1 = initial_ensembles[:,:n_hidden_1].reshape( size_ens, batch_data.shape[1], h1)\n",
    "    \n",
    "    \n",
    "    hidden_output_1 = np.einsum('ij,kjl->kil', batch_data, hidden_weights_1)\n",
    "\n",
    "    \n",
    "    hidden_layer_bias_1 = initial_ensembles[:,n_hidden_1:(n_hidden_1 + h1)].reshape(size_ens, 1,  h1)\n",
    "\n",
    "\n",
    "    hidden_output_1 = hidden_output_1 + hidden_layer_bias_1\n",
    "\n",
    "    n_pred_weights_1 = len(weights_ann_1[2].ravel())\n",
    "\n",
    "    output_weights_1 = initial_ensembles[:,(n_hidden_1 + h1):(n_hidden_1 + h1 + n_pred_weights_1) ].reshape(size_ens, h1, target_dim)\n",
    "\n",
    "\n",
    "    output_1 = np.einsum('ijk,ikl->ijl', hidden_output_1, output_weights_1)\n",
    "\n",
    "\n",
    "    output_layer_bias_1 = initial_ensembles[:,(n_hidden_1 + h1 + n_pred_weights_1):(n_hidden_1 + h1 + n_pred_weights_1 + target_dim)].reshape(size_ens, 1, target_dim)\n",
    "\n",
    "\n",
    "    final_output_1 = output_1 + output_layer_bias_1\n",
    "    \n",
    "    final_output_1 = final_output_1[:,:, 0]\n",
    "    \n",
    "    # print(final_output_1.shape, initial_ensembles.shape)\n",
    "    \n",
    "    stack = np.hstack((final_output_1, initial_ensembles))\n",
    "\n",
    "    \n",
    "    return final_output_1, stack"
   ]
  },
  {
   "cell_type": "code",
   "execution_count": 3,
   "id": "2a66ee4c-4112-4dca-a9cc-68a60d4e316f",
   "metadata": {},
   "outputs": [],
   "source": [
    "def ann(hidden = 32, input_shape = 256, output_shape = 1): \n",
    "    input_layer = tf.keras.layers.Input(shape = (input_shape))\n",
    "    hidden_layer = tf.keras.layers.Dense(hidden)\n",
    "    hidden_output = hidden_layer(input_layer)\n",
    "    pred_layer = tf.keras.layers.Dense(output_shape, activation = \"relu\")\n",
    "    pred_output = pred_layer(hidden_output)\n",
    "#     pred_output = tf.keras.layers.Activation(\"softmax\")(pred_output)\n",
    "    model = tf.keras.models.Model(input_layer, pred_output)\n",
    "    return model"
   ]
  },
  {
   "cell_type": "code",
   "execution_count": 4,
   "id": "e0b9ef03-af61-4ce4-99ff-2f0b5dca639d",
   "metadata": {},
   "outputs": [],
   "source": [
    "def generate_initial_ensembles(num_weights, lambda1, size_ens):\n",
    "    mean_vec = np.zeros((num_weights,))\n",
    "    cov_matrix = lambda1*np.identity(num_weights)\n",
    "    mvn_samp = mvn(mean_vec, cov_matrix)\n",
    "    return mvn_samp.rvs(size_ens)"
   ]
  },
  {
   "cell_type": "code",
   "execution_count": 5,
   "id": "fe2ea2b5-13a4-41c4-8257-c6c18708501b",
   "metadata": {},
   "outputs": [],
   "source": [
    "def expit(x):\n",
    "    \"\"\"Compute softmax values for each sets of scores in x.\"\"\"\n",
    "#     e_x = np.exp(x - np.max(x))\n",
    "    return 1 / (1 + np.exp(-x))"
   ]
  },
  {
   "cell_type": "code",
   "execution_count": 6,
   "id": "b5f741d7-ba99-4803-8441-5bf2ad3d72f7",
   "metadata": {},
   "outputs": [],
   "source": [
    "def get_initial_X_t(data1, data2, size_ens):\n",
    "    samp_ann =  ann(hidden = 16, input_shape = 32, output_shape = 1)\n",
    "    \n",
    "    initial_ensembles1 = generate_initial_ensembles(samp_ann.count_params(), 1, size_ens)\n",
    "    data1_out1, data1_stack1 = get_targets_with_weights(data1, initial_ensembles1, size_ens = size_ens, ann = samp_ann)\n",
    "    \n",
    "    initial_ensembles2 = generate_initial_ensembles(samp_ann.count_params(), 1, size_ens)\n",
    "    data1_out2, data1_stack2 = get_targets_with_weights(data1, initial_ensembles2, size_ens = size_ens, ann = samp_ann)\n",
    "    \n",
    "    initial_ensembles3 = generate_initial_ensembles(samp_ann.count_params(), 1, size_ens)\n",
    "    data2_out1, data2_stack1 = get_targets_with_weights(data2, initial_ensembles3, size_ens = size_ens, ann = samp_ann)\n",
    "    \n",
    "    initial_ensembles4 = generate_initial_ensembles(samp_ann.count_params(), 1, size_ens)\n",
    "    data2_out2, data2_stack2 = get_targets_with_weights(data2, initial_ensembles4, size_ens = size_ens, ann = samp_ann)   \n",
    "    \n",
    "    X_t = np.concatenate((np.expand_dims(data1_stack1, -1), np.expand_dims(data1_stack2, -1), \n",
    "                         np.expand_dims(data2_stack1, -1), np.expand_dims(data2_stack2, -1)), axis = -1)\n",
    "    \n",
    "    initial_ensembles_for_weights = generate_initial_ensembles(4, 1, size_ens)\n",
    "    initial_ensembles_for_weights = np.expand_dims(initial_ensembles_for_weights,1)\n",
    "    \n",
    "    # print(X_t.shape, initial_ensembles_for_weights.shape)\n",
    "    \n",
    "    X_t = np.concatenate((X_t, initial_ensembles_for_weights), axis = 1)\n",
    "    \n",
    "    initial_ensembles = np.hstack((initial_ensembles1, initial_ensembles2, initial_ensembles3, initial_ensembles4))\n",
    "    \n",
    "    return X_t, initial_ensembles, initial_ensembles_for_weights[:,0,:]"
   ]
  },
  {
   "cell_type": "code",
   "execution_count": 7,
   "id": "6ac49c8c-6da0-4ee2-9561-e1d19365f182",
   "metadata": {},
   "outputs": [],
   "source": [
    "def get_weighted_targets_with_weights(batch_data, initial_ensembles, size_ens, ann, weights): \n",
    "    \n",
    "    target_dim = 1\n",
    "    \n",
    "    weights_ann_1 = ann.get_weights()\n",
    "    \n",
    "    h1  = ann.layers[1].output.shape[-1]\n",
    "\n",
    "    n_hidden_1 = len(weights_ann_1[0].ravel())\n",
    "    \n",
    "    hidden_weights_1 = initial_ensembles[:,:n_hidden_1].reshape( size_ens, batch_data.shape[1], h1)\n",
    "    \n",
    "    \n",
    "    hidden_output_1 = np.einsum('ij,kjl->kil', batch_data, hidden_weights_1)\n",
    "\n",
    "    \n",
    "    hidden_layer_bias_1 = initial_ensembles[:,n_hidden_1:(n_hidden_1 + h1)].reshape(size_ens, 1,  h1)\n",
    "\n",
    "\n",
    "    hidden_output_1 = hidden_output_1 + hidden_layer_bias_1\n",
    "\n",
    "    n_pred_weights_1 = len(weights_ann_1[2].ravel())\n",
    "\n",
    "    output_weights_1 = initial_ensembles[:,(n_hidden_1 + h1):(n_hidden_1 + h1 + n_pred_weights_1) ].reshape(size_ens, h1, target_dim)\n",
    "\n",
    "\n",
    "    output_1 = np.einsum('ijk,ikl->ijl', hidden_output_1, output_weights_1)\n",
    "\n",
    "\n",
    "    output_layer_bias_1 = initial_ensembles[:,(n_hidden_1 + h1 + n_pred_weights_1):(n_hidden_1 + h1 + n_pred_weights_1 + target_dim)].reshape(size_ens, 1, target_dim)\n",
    "\n",
    "\n",
    "    final_output_1 = output_1 + output_layer_bias_1\n",
    "    \n",
    "    final_output_1 = final_output_1[:,:, 0]\n",
    "    \n",
    "    final_output_1 = final_output_1*weights\n",
    "    \n",
    "    # print(final_output_1.shape, initial_ensembles.shape)\n",
    "    \n",
    "    stack = np.hstack((final_output_1, initial_ensembles))\n",
    "\n",
    "    \n",
    "    return final_output_1, stack"
   ]
  },
  {
   "cell_type": "code",
   "execution_count": 8,
   "id": "8f382d3e-e4dc-4e19-b19a-0eb954236a16",
   "metadata": {},
   "outputs": [],
   "source": [
    "alogp_bottleneck = np.load(\"..//Data/small_mol_phase_3_features_for_both.npy\")"
   ]
  },
  {
   "cell_type": "code",
   "execution_count": 9,
   "id": "76ccbcd4-20bd-4772-ac63-3aaef7ab95d8",
   "metadata": {},
   "outputs": [],
   "source": [
    "# y_valid"
   ]
  },
  {
   "cell_type": "code",
   "execution_count": 10,
   "id": "94e5e3f5-e4c6-40f8-ac40-b487543e3711",
   "metadata": {},
   "outputs": [],
   "source": [
    "y_valid = pd.read_csv(\"..//Data/smiles_with_rdkit_with_small_phase_3_outputs.csv\")"
   ]
  },
  {
   "cell_type": "code",
   "execution_count": 11,
   "id": "de38304b-6569-4387-8868-0837b195e462",
   "metadata": {},
   "outputs": [],
   "source": [
    "# y_valid"
   ]
  },
  {
   "cell_type": "code",
   "execution_count": 12,
   "id": "b697b7f9-3d50-4d71-a436-cdc6434909a5",
   "metadata": {},
   "outputs": [
    {
     "name": "stderr",
     "output_type": "stream",
     "text": [
      "/home/statgrads/vpiyush2/.conda/envs/enkf/lib/python3.11/site-packages/sklearn/base.py:318: UserWarning: Trying to unpickle estimator StandardScaler from version 1.1.2 when using version 1.2.2. This might lead to breaking code or invalid results. Use at your own risk. For more info please refer to:\n",
      "https://scikit-learn.org/stable/model_persistence.html#security-maintainability-limitations\n",
      "  warnings.warn(\n"
     ]
    }
   ],
   "source": [
    "std_targets = pickle.load( open('..//Data//target_scaler.pkl', 'rb'))"
   ]
  },
  {
   "cell_type": "code",
   "execution_count": 13,
   "id": "40aa1581-02a9-4c7f-a348-db236a77f6a7",
   "metadata": {},
   "outputs": [],
   "source": [
    "# y_valid"
   ]
  },
  {
   "cell_type": "code",
   "execution_count": 14,
   "id": "1ad7f00f-1bd3-40bc-b50b-de0406c72655",
   "metadata": {},
   "outputs": [],
   "source": [
    "y_train = y_valid.values[:,1:]"
   ]
  },
  {
   "cell_type": "code",
   "execution_count": 15,
   "id": "e3fe10a7-fcc3-430f-8ade-356a7f7b85b2",
   "metadata": {},
   "outputs": [
    {
     "name": "stderr",
     "output_type": "stream",
     "text": [
      "/home/statgrads/vpiyush2/.conda/envs/enkf/lib/python3.11/site-packages/sklearn/base.py:439: UserWarning: X does not have valid feature names, but StandardScaler was fitted with feature names\n",
      "  warnings.warn(\n"
     ]
    }
   ],
   "source": [
    "y_train = std_targets.transform(y_train)"
   ]
  },
  {
   "cell_type": "code",
   "execution_count": 16,
   "id": "6dfffa08-081b-4b5f-8181-ae94a920c932",
   "metadata": {},
   "outputs": [],
   "source": [
    "from sklearn.model_selection import train_test_split"
   ]
  },
  {
   "cell_type": "code",
   "execution_count": 17,
   "id": "f03896e4-b7c8-4237-a0a8-7af9ed6b1f0d",
   "metadata": {},
   "outputs": [],
   "source": [
    "x_train, x_valid, y_train, y_valid = train_test_split(alogp_bottleneck, y_train, test_size = 0.25, shuffle = True, \n",
    "                                                     random_state = 42)"
   ]
  },
  {
   "cell_type": "code",
   "execution_count": 18,
   "id": "e2ed02ca-e8a1-4767-8152-4fc17b1afe61",
   "metadata": {},
   "outputs": [
    {
     "data": {
      "text/plain": [
       "(719, 64)"
      ]
     },
     "execution_count": 18,
     "metadata": {},
     "output_type": "execute_result"
    }
   ],
   "source": [
    "x_train.shape"
   ]
  },
  {
   "cell_type": "code",
   "execution_count": 19,
   "id": "8660cfe1-5d14-4e88-b5ae-f5d39ec41932",
   "metadata": {},
   "outputs": [],
   "source": [
    "R_t = np.cov(y_train.T)"
   ]
  },
  {
   "cell_type": "code",
   "execution_count": 20,
   "id": "e2ea7e9a-2c5f-4603-984c-4acd309fb581",
   "metadata": {},
   "outputs": [
    {
     "data": {
      "text/plain": [
       "array([[ 2.00883439, -0.73234091],\n",
       "       [-0.73234091,  1.65672997]])"
      ]
     },
     "execution_count": 20,
     "metadata": {},
     "output_type": "execute_result"
    }
   ],
   "source": [
    "R_t"
   ]
  },
  {
   "cell_type": "code",
   "execution_count": 21,
   "id": "d156603a-c127-45b6-a74d-2735987d03ce",
   "metadata": {},
   "outputs": [],
   "source": [
    "var1 = R_t[0,0]\n",
    "var2 = R_t[1,1]\n",
    "cov = R_t[1,0]"
   ]
  },
  {
   "cell_type": "code",
   "execution_count": 22,
   "id": "cb69be39-625e-4a08-9bec-90a6d312df8d",
   "metadata": {},
   "outputs": [],
   "source": [
    "ul = var1*np.identity(x_train.shape[0])\n",
    "lr = var2*np.identity(x_train.shape[0])\n",
    "ur = cov*np.identity(x_train.shape[0])\n",
    "ll = ur.T"
   ]
  },
  {
   "cell_type": "code",
   "execution_count": 23,
   "id": "67930509-5afb-458b-90a6-a9bc5b1cb94d",
   "metadata": {},
   "outputs": [],
   "source": [
    "first_row = np.hstack((ul, ur))\n",
    "second_row = np.hstack((ll, lr))"
   ]
  },
  {
   "cell_type": "code",
   "execution_count": 24,
   "id": "534f2539-a9e7-4ab2-b84b-fcecf628d473",
   "metadata": {},
   "outputs": [
    {
     "data": {
      "text/plain": [
       "(719, 1438)"
      ]
     },
     "execution_count": 24,
     "metadata": {},
     "output_type": "execute_result"
    }
   ],
   "source": [
    "first_row.shape"
   ]
  },
  {
   "cell_type": "code",
   "execution_count": 25,
   "id": "2a9541bb-5cf5-4adb-baa8-69965781f7d2",
   "metadata": {},
   "outputs": [
    {
     "data": {
      "text/plain": [
       "(719, 1438)"
      ]
     },
     "execution_count": 25,
     "metadata": {},
     "output_type": "execute_result"
    }
   ],
   "source": [
    "second_row.shape"
   ]
  },
  {
   "cell_type": "code",
   "execution_count": 26,
   "id": "63e35567-c2b7-4e1f-9eae-9bbb1ccfd3af",
   "metadata": {},
   "outputs": [],
   "source": [
    "R_t = np.vstack((first_row, second_row))"
   ]
  },
  {
   "cell_type": "code",
   "execution_count": 27,
   "id": "2c29b851-3a1f-4d4a-a15a-e8b6bffd6de5",
   "metadata": {},
   "outputs": [
    {
     "data": {
      "text/plain": [
       "(1438, 1438)"
      ]
     },
     "execution_count": 27,
     "metadata": {},
     "output_type": "execute_result"
    }
   ],
   "source": [
    "R_t.shape"
   ]
  },
  {
   "cell_type": "code",
   "execution_count": 28,
   "id": "7b98c57b-e85d-46f9-92b4-09f2a1b179a8",
   "metadata": {},
   "outputs": [],
   "source": [
    "smiles_feats_train = x_train[:, :32]"
   ]
  },
  {
   "cell_type": "code",
   "execution_count": 29,
   "id": "3b91f4be-60b4-44ee-b992-80da2cbe5395",
   "metadata": {},
   "outputs": [],
   "source": [
    "rdkit_feats_train = x_train[:, 32:]"
   ]
  },
  {
   "cell_type": "code",
   "execution_count": 30,
   "id": "dfe0b04f-b7c9-4f72-ac4b-4ba7e50d128b",
   "metadata": {},
   "outputs": [],
   "source": [
    "smiles_feats_valid = x_valid[:, :32]\n",
    "rdkit_feats_valid = x_valid[:, 32:]"
   ]
  },
  {
   "cell_type": "code",
   "execution_count": 31,
   "id": "5932b6c7-8781-4514-8b67-1e760609c62d",
   "metadata": {},
   "outputs": [],
   "source": [
    "# size_ens = 250"
   ]
  },
  {
   "cell_type": "code",
   "execution_count": 32,
   "id": "2fc4c78d-3be7-49ef-9dc5-d754c7bf3ea0",
   "metadata": {},
   "outputs": [],
   "source": [
    "# X_t, initial_ensembles, initial_ensembles_for_weights = get_initial_X_t(smiles_feats_train, rdkit_feats_train, size_ens = size_ens)"
   ]
  },
  {
   "cell_type": "code",
   "execution_count": 33,
   "id": "ddb81461-5085-48da-8322-513d5277d09a",
   "metadata": {},
   "outputs": [],
   "source": [
    "# initial_ensembles_for_weights.shape"
   ]
  },
  {
   "cell_type": "code",
   "execution_count": 34,
   "id": "ef257e2f-de40-47cb-9439-847174516390",
   "metadata": {},
   "outputs": [],
   "source": [
    "# initial_ensembles.shape"
   ]
  },
  {
   "cell_type": "code",
   "execution_count": 35,
   "id": "4811f34b-7755-4b4b-8c7b-cab18f3cd911",
   "metadata": {},
   "outputs": [],
   "source": [
    "# initial_ensembles = np.hstack((initial_ensembles, initial_ensembles_for_weights))"
   ]
  },
  {
   "cell_type": "code",
   "execution_count": 36,
   "id": "866eefa3-0127-4307-801b-b4db3a35baad",
   "metadata": {},
   "outputs": [],
   "source": [
    "# initial_ensembles.shape"
   ]
  },
  {
   "cell_type": "code",
   "execution_count": 37,
   "id": "9d1a4f5e-7a0d-42b7-ad45-59c708b7b727",
   "metadata": {},
   "outputs": [],
   "source": [
    "def forward_operation(data1, data2, combined_ensembles , size_ens ):\n",
    "    samp_ann =  ann(hidden = 16, input_shape = 32, output_shape = 1)\n",
    "    params = samp_ann.count_params()\n",
    "    initial_ensembles1 = combined_ensembles[:, :params]\n",
    "    initial_ensembles2 = combined_ensembles[:, params:(2*params)]\n",
    "    initial_ensembles3 = combined_ensembles[:, (2*params):(3*params)]\n",
    "    initial_ensembles4 = combined_ensembles[:, (3*params):(4*params)]\n",
    "\n",
    "    \n",
    "    initial_ensembles_for_weights = combined_ensembles[:, (4*params):]\n",
    "    softmax_weights = tf.math.softmax(initial_ensembles_for_weights).numpy()\n",
    "    \n",
    "    model_1 = softmax_weights[:,:2].sum(1).reshape(-1,1)\n",
    "    \n",
    "    model_2 = softmax_weights[:,2:].sum(1).reshape(-1,1)\n",
    "    \n",
    "    data1_out1, data1_stack1 = get_weighted_targets_with_weights(data1, initial_ensembles1, size_ens = size_ens,\n",
    "                                                                 ann = samp_ann, weights=model_1)\n",
    "    \n",
    "    data1_out2, data1_stack2 = get_weighted_targets_with_weights(data1, initial_ensembles2, size_ens = size_ens,\n",
    "                                                                 ann = samp_ann, weights=model_1)\n",
    "    \n",
    "    data2_out1, data2_stack1 = get_weighted_targets_with_weights(data2, initial_ensembles3, size_ens = size_ens,\n",
    "                                                                 ann = samp_ann, weights=model_2)\n",
    "    \n",
    "    data2_out2, data2_stack2 = get_weighted_targets_with_weights(data2, initial_ensembles4, size_ens = size_ens,\n",
    "                                                                 ann = samp_ann, weights=model_2)   \n",
    "    \n",
    "    X_t = np.concatenate((np.expand_dims(data1_stack1, -1), np.expand_dims(data1_stack2, -1), \n",
    "                         np.expand_dims(data2_stack1, -1), np.expand_dims(data2_stack2, -1)), axis = -1)\n",
    "    \n",
    "    initial_ensembles = np.hstack((initial_ensembles1, initial_ensembles2, initial_ensembles3, initial_ensembles4, \n",
    "                        initial_ensembles_for_weights))\n",
    "    \n",
    "    # print(X_t.shape)\n",
    "    \n",
    "    initial_ensembles_for_weights = np.expand_dims(initial_ensembles_for_weights,1)\n",
    "    \n",
    "    # print(initial_ensembles_for_weights.shape)\n",
    "    \n",
    "    X_t = np.concatenate((X_t, initial_ensembles_for_weights), axis = 1)\n",
    "    \n",
    "    weighted_alogp = data1_out1 + data2_out1\n",
    "    \n",
    "    weighted_psa = data1_out2 + data2_out2\n",
    "    \n",
    "    return X_t, initial_ensembles, weighted_alogp, weighted_psa, model_1, model_2"
   ]
  },
  {
   "cell_type": "code",
   "execution_count": 38,
   "id": "e15b0bf7-ba00-40bc-933b-c1c3e062e98e",
   "metadata": {},
   "outputs": [
    {
     "name": "stderr",
     "output_type": "stream",
     "text": [
      "2023-06-09 19:16:44.631084: E tensorflow/compiler/xla/stream_executor/cuda/cuda_driver.cc:266] failed call to cuInit: CUDA_ERROR_NO_DEVICE: no CUDA-capable device is detected\n",
      "2023-06-09 19:16:44.631131: I tensorflow/compiler/xla/stream_executor/cuda/cuda_diagnostics.cc:168] retrieving CUDA diagnostic information for host: c3101.swan.hcc.unl.edu\n",
      "2023-06-09 19:16:44.631144: I tensorflow/compiler/xla/stream_executor/cuda/cuda_diagnostics.cc:175] hostname: c3101.swan.hcc.unl.edu\n",
      "2023-06-09 19:16:44.631304: I tensorflow/compiler/xla/stream_executor/cuda/cuda_diagnostics.cc:199] libcuda reported version is: 525.85.5\n",
      "2023-06-09 19:16:44.631336: I tensorflow/compiler/xla/stream_executor/cuda/cuda_diagnostics.cc:203] kernel reported version is: 525.85.5\n",
      "2023-06-09 19:16:44.631347: I tensorflow/compiler/xla/stream_executor/cuda/cuda_diagnostics.cc:309] kernel version seems to match DSO: 525.85.5\n"
     ]
    }
   ],
   "source": [
    "samp_ann =  ann(hidden = 16, input_shape = 32, output_shape = 1)"
   ]
  },
  {
   "cell_type": "code",
   "execution_count": 39,
   "id": "af3dd570-7ab3-4eae-bd8e-9a57a333b30a",
   "metadata": {},
   "outputs": [],
   "source": [
    "total_weights = samp_ann.count_params()*4 + 4"
   ]
  },
  {
   "cell_type": "code",
   "execution_count": 40,
   "id": "e820b010-4396-4b7a-8781-a8e6d503aad5",
   "metadata": {},
   "outputs": [],
   "source": [
    "reduction = 8"
   ]
  },
  {
   "cell_type": "code",
   "execution_count": 41,
   "id": "e5fbaaf7-afae-4008-a26c-e0691ef9b3f9",
   "metadata": {},
   "outputs": [],
   "source": [
    "size_ens = total_weights//reduction"
   ]
  },
  {
   "cell_type": "code",
   "execution_count": 42,
   "id": "a5111536-1a97-4390-9658-c9848a136a3f",
   "metadata": {},
   "outputs": [
    {
     "data": {
      "text/plain": [
       "273"
      ]
     },
     "execution_count": 42,
     "metadata": {},
     "output_type": "execute_result"
    }
   ],
   "source": [
    "size_ens"
   ]
  },
  {
   "cell_type": "code",
   "execution_count": 43,
   "id": "dad93ee9-a527-4663-9e18-d72039909c4a",
   "metadata": {},
   "outputs": [],
   "source": [
    "X_t, initial_ensembles, initial_ensembles_for_weights = get_initial_X_t(smiles_feats_train, rdkit_feats_train, size_ens = size_ens)"
   ]
  },
  {
   "cell_type": "code",
   "execution_count": 44,
   "id": "9c1bbad1-127a-4c27-8fb9-23783b072a24",
   "metadata": {},
   "outputs": [],
   "source": [
    "initial_ensembles = np.hstack((initial_ensembles, initial_ensembles_for_weights))"
   ]
  },
  {
   "cell_type": "code",
   "execution_count": 45,
   "id": "1ed41b34-97b7-4bcf-9809-340a0c7d40c4",
   "metadata": {},
   "outputs": [],
   "source": [
    "# X_t, initial_ensembles, weighted_alogp, weighted_psa = forward_operation(smiles_feats_train, rdkit_feats_train, combined_ensembles = initial_ensembles, size_ens = size_ens)"
   ]
  },
  {
   "cell_type": "code",
   "execution_count": 46,
   "id": "005e149b-1950-48d6-966e-da0c4db0c401",
   "metadata": {},
   "outputs": [],
   "source": [
    "# X_t.shape"
   ]
  },
  {
   "cell_type": "code",
   "execution_count": 47,
   "id": "dbb91bfb-b84e-4803-8868-1a7408f991be",
   "metadata": {},
   "outputs": [],
   "source": [
    "# X_t = X_t.transpose((0,2,1))\n",
    "# X_t = X_t.reshape(X_t.shape[0], X_t.shape[1]*X_t.shape[2])"
   ]
  },
  {
   "cell_type": "code",
   "execution_count": 48,
   "id": "5ab21326-930c-447f-a9dc-b2a74f84c630",
   "metadata": {},
   "outputs": [],
   "source": [
    "# X_t.shape"
   ]
  },
  {
   "cell_type": "code",
   "execution_count": 49,
   "id": "6d01f1e6-e8cd-456d-94e1-20240a82b654",
   "metadata": {},
   "outputs": [],
   "source": [
    "# smiles_feats_train.shape"
   ]
  },
  {
   "cell_type": "code",
   "execution_count": 50,
   "id": "9056b42e-b14b-4aed-be3f-e4771a495df4",
   "metadata": {},
   "outputs": [],
   "source": [
    "# samp_ann.count_params()"
   ]
  },
  {
   "cell_type": "code",
   "execution_count": 51,
   "id": "67386d7d-b9b0-446b-a73b-7c2e46902c01",
   "metadata": {},
   "outputs": [],
   "source": [
    "# smiles_feats_train.shape[0] + samp_ann.count_params() + 1"
   ]
  },
  {
   "cell_type": "code",
   "execution_count": 52,
   "id": "e3573513-4bd9-4e6e-bb01-a4150836ede0",
   "metadata": {},
   "outputs": [],
   "source": [
    "# H_t = np.hstack((np.identity(smiles_feats_train.shape[0]), np.zeros((smiles_feats_train.shape[0], samp_ann.count_params() + 1))))"
   ]
  },
  {
   "cell_type": "code",
   "execution_count": 53,
   "id": "9476f3a7-9008-4774-8fcd-af2a6fa34c1b",
   "metadata": {},
   "outputs": [],
   "source": [
    "# H_t.shape"
   ]
  },
  {
   "cell_type": "code",
   "execution_count": 54,
   "id": "3f598992-73d6-4b5a-906d-3184f1b9625f",
   "metadata": {},
   "outputs": [],
   "source": [
    "G_t = [[1, 0, 1, 0], [0, 1, 0, 1]]\n",
    "G_t = np.array(G_t).T"
   ]
  },
  {
   "cell_type": "code",
   "execution_count": 55,
   "id": "3073d2ce-5b22-47bb-80a3-9ad86ac3d6a4",
   "metadata": {},
   "outputs": [
    {
     "data": {
      "text/plain": [
       "array([[1, 0],\n",
       "       [0, 1],\n",
       "       [1, 0],\n",
       "       [0, 1]])"
      ]
     },
     "execution_count": 55,
     "metadata": {},
     "output_type": "execute_result"
    }
   ],
   "source": [
    "G_t"
   ]
  },
  {
   "cell_type": "code",
   "execution_count": 56,
   "id": "53a38ab4-84c2-4feb-8388-7453fd185cfd",
   "metadata": {},
   "outputs": [],
   "source": [
    "# script_H_t = np.kron(G_t.T, H_t)"
   ]
  },
  {
   "cell_type": "code",
   "execution_count": 57,
   "id": "1d5bac38-fca2-4fbf-8c3e-e5fd8d042e52",
   "metadata": {},
   "outputs": [],
   "source": [
    "# script_H_t.shape"
   ]
  },
  {
   "cell_type": "code",
   "execution_count": 58,
   "id": "ae469c9f-2421-40e0-947c-b89a892506d1",
   "metadata": {},
   "outputs": [],
   "source": [
    "# X_t.T[:,0].shape"
   ]
  },
  {
   "cell_type": "code",
   "execution_count": 59,
   "id": "57fb6e51-ce4a-4573-b626-56070b4df807",
   "metadata": {},
   "outputs": [],
   "source": [
    "# chk = (script_H_t@X_t.T)"
   ]
  },
  {
   "cell_type": "code",
   "execution_count": 60,
   "id": "54e4f22f-b3f0-4442-9b70-dbf0b90286be",
   "metadata": {},
   "outputs": [],
   "source": [
    "# chk = get_predictions(smiles_feats_train, rdkit_feats_train, initial_ensembles)"
   ]
  },
  {
   "cell_type": "code",
   "execution_count": 61,
   "id": "ea555b47-82a9-4499-bdd8-4f07dc00c05a",
   "metadata": {},
   "outputs": [],
   "source": [
    "# chk.shape"
   ]
  },
  {
   "cell_type": "code",
   "execution_count": 62,
   "id": "6a5f5f6c-4005-4f0f-be12-64a103a924d5",
   "metadata": {},
   "outputs": [],
   "source": [
    "# catch = Parallel(n_jobs = 15, verbose = 0)(delayed(inverse_transform)(chk, i)  for i in range(chk.shape[0]))"
   ]
  },
  {
   "cell_type": "code",
   "execution_count": 63,
   "id": "f534dae2-3e28-4d51-8277-235829eb7d66",
   "metadata": {},
   "outputs": [],
   "source": [
    "# np.array(catch).shape"
   ]
  },
  {
   "cell_type": "code",
   "execution_count": 64,
   "id": "a84cb0e3-2f5e-4207-b092-d2768b52205a",
   "metadata": {},
   "outputs": [],
   "source": [
    "def get_predictions(data1, data2, initial_ensembles): \n",
    "    _,_, weighted_alogp, weighted_psa, w1, w2 = forward_operation(data1, data2, initial_ensembles, size_ens = size_ens)\n",
    "    weighted_alogp = np.expand_dims(weighted_alogp,-1)\n",
    "    weighted_psa = np.expand_dims(weighted_psa,-1)\n",
    "    preds = np.concatenate((weighted_alogp, weighted_psa),-1)\n",
    "    return preds, w1, w2"
   ]
  },
  {
   "cell_type": "code",
   "execution_count": 65,
   "id": "3af0a9b9-6202-40e2-911f-3c890213099f",
   "metadata": {},
   "outputs": [],
   "source": [
    "def calculate_mu_bar_G_bar(data1, data2, initial_ensembles):\n",
    "    H_t = np.hstack((np.identity(data1.shape[0]), np.zeros((data1.shape[0], samp_ann.count_params() + 1))))\n",
    "    mu_bar = initial_ensembles.mean(0)\n",
    "    X_t,_, _, _, _, _ = forward_operation(data1, data2, initial_ensembles, size_ens = size_ens)\n",
    "    X_t = X_t.transpose((0,2,1))\n",
    "    X_t = X_t.reshape(X_t.shape[0], X_t.shape[1]*X_t.shape[2])\n",
    "    script_H_t = np.kron(G_t.T, H_t)\n",
    "    G_u = (script_H_t@X_t.T)\n",
    "    G_u = G_u.T\n",
    "    # weighted_alogp = np.expand_dims(weighted_alogp,-1)\n",
    "    # weighted_psa = np.expand_dims(weighted_psa,-1)\n",
    "    # G_u = np.concatenate((weighted_alogp, weighted_psa), axis = -1)\n",
    "    # G_u = G_u.transpose((0,2,1))\n",
    "    # G_u = G_u.reshape(G_u.shape[0], G_u.shape[1]*G_u.shape[2])\n",
    "    # G_u\n",
    "    G_bar = (G_u.mean(0)).ravel()\n",
    "    return mu_bar.reshape(-1,1), G_bar.reshape(-1,1), G_u"
   ]
  },
  {
   "cell_type": "code",
   "execution_count": 66,
   "id": "f2b864f3-fdc7-44c3-b924-c76a36695505",
   "metadata": {},
   "outputs": [],
   "source": [
    "# mu_bar, G_bar, G_u = calculate_mu_bar_G_bar(smiles_feats_train, rdkit_feats_train, initial_ensembles)"
   ]
  },
  {
   "cell_type": "code",
   "execution_count": 67,
   "id": "5f74521e-f4d7-4227-bb3e-6e65b1c5ec12",
   "metadata": {},
   "outputs": [],
   "source": [
    "# mu_bar.shape"
   ]
  },
  {
   "cell_type": "code",
   "execution_count": 68,
   "id": "97754169-7043-4c91-90b9-e1f7c866efe2",
   "metadata": {},
   "outputs": [],
   "source": [
    "# G_bar.shape"
   ]
  },
  {
   "cell_type": "code",
   "execution_count": 69,
   "id": "69f1e2b9-d819-40d8-abdb-f7764ab6863f",
   "metadata": {},
   "outputs": [],
   "source": [
    "# G_u.shape"
   ]
  },
  {
   "cell_type": "code",
   "execution_count": 70,
   "id": "7334c80c-cfcd-4d5b-b844-11cfb8c137df",
   "metadata": {},
   "outputs": [],
   "source": [
    "def calculate_C_u(initial_ensembles, mu_bar, G_bar, G_u): \n",
    "    u_j_minus_u_bar = initial_ensembles - mu_bar.reshape(1,-1)\n",
    "    G_u_minus_G_bar = G_u -  G_bar.reshape(1,-1)\n",
    "    c = np.zeros((total_weights, G_bar.shape[0]))\n",
    "    for i in range(0, size_ens): \n",
    "        c += np.kron(u_j_minus_u_bar[i, :].T.reshape(-1,1), G_u_minus_G_bar[i,:].reshape(-1,1).T)\n",
    "    return c/size_ens, G_u_minus_G_bar"
   ]
  },
  {
   "cell_type": "code",
   "execution_count": 71,
   "id": "9148779c-1a3f-455d-a6ad-00fc1bf69c1f",
   "metadata": {},
   "outputs": [],
   "source": [
    "def calculate_D_u( G_bar, G_u): \n",
    "    G_u_minus_G_bar = G_u -  G_bar.reshape(1,-1)\n",
    "    d = np.zeros((G_bar.shape[0], G_bar.shape[0]))\n",
    "    for i in range(0, size_ens): \n",
    "        d += np.kron(G_u_minus_G_bar[i,:].T.reshape(-1,1), G_u_minus_G_bar[i,:].reshape(-1,1).T)\n",
    "    return d/size_ens"
   ]
  },
  {
   "cell_type": "code",
   "execution_count": 72,
   "id": "6e8459b0-68c1-4d1f-851e-3d7b99f0ffc5",
   "metadata": {},
   "outputs": [],
   "source": [
    "def get_updated_ensemble(data1, data2, initial_ensembles):\n",
    "    mu_bar, G_bar, G_u = calculate_mu_bar_G_bar(data1, data2, initial_ensembles)\n",
    "    C, G_u_minus_G_bar = calculate_C_u(initial_ensembles, mu_bar, G_bar, G_u)\n",
    "    D = calculate_D_u( G_bar, G_u)\n",
    "    mid_quant = C@np.linalg.inv(D + lambda_inv)\n",
    "    right_quant = y_train.T.flatten().reshape(-1,1) - G_u.T\n",
    "    mid_times_right = mid_quant@right_quant\n",
    "    updated_ensemble = (initial_ensembles.T + mid_times_right)\n",
    "    return updated_ensemble.T"
   ]
  },
  {
   "cell_type": "code",
   "execution_count": 73,
   "id": "c14b236d-6ebf-40e3-9085-97afd2990e4d",
   "metadata": {},
   "outputs": [],
   "source": [
    "target_dim = 2"
   ]
  },
  {
   "cell_type": "code",
   "execution_count": 74,
   "id": "346d07bc-5b61-4e75-a816-a6e22ffe9d76",
   "metadata": {},
   "outputs": [],
   "source": [
    "lambda_D = 1"
   ]
  },
  {
   "cell_type": "code",
   "execution_count": 75,
   "id": "18b0d48e-f557-4d11-acb8-8905f403e2fe",
   "metadata": {},
   "outputs": [],
   "source": [
    "# u_bar, G_bar, G_u = calculate_mu_bar_G_bar(smiles_feats_train, rdkit_feats_train, initial_ensembles)"
   ]
  },
  {
   "cell_type": "code",
   "execution_count": 76,
   "id": "9183ef8c-1730-4074-a982-680af10c67f8",
   "metadata": {},
   "outputs": [],
   "source": [
    "# G_bar.shape"
   ]
  },
  {
   "cell_type": "code",
   "execution_count": 77,
   "id": "15db8fc2-fc1a-4090-a6cd-851a93fc8ae5",
   "metadata": {},
   "outputs": [],
   "source": [
    "# lambda_inv = np.linalg.inv(lambda_D*np.identity(G_bar.shape[0]))\n",
    "# lambda_inv = np.linalg.inv(R_t)\n",
    "lambda_inv = R_t"
   ]
  },
  {
   "cell_type": "code",
   "execution_count": 78,
   "id": "3dcb7a3c-67c1-4e37-bd82-d5544d0d37a9",
   "metadata": {},
   "outputs": [
    {
     "data": {
      "text/plain": [
       "(1438, 1438)"
      ]
     },
     "execution_count": 78,
     "metadata": {},
     "output_type": "execute_result"
    }
   ],
   "source": [
    "lambda_inv.shape"
   ]
  },
  {
   "cell_type": "code",
   "execution_count": 79,
   "id": "13b223f8-0ecb-40e9-bfce-78439876cabc",
   "metadata": {},
   "outputs": [],
   "source": [
    "# G_u.shape"
   ]
  },
  {
   "cell_type": "code",
   "execution_count": 80,
   "id": "dc3a216a-4dbb-474d-8219-5f6c071250a4",
   "metadata": {},
   "outputs": [],
   "source": [
    "def inverse_transform(data, idx):\n",
    "    data_cur = data[idx, :, :]\n",
    "    inv_data_cur = std_targets.inverse_transform(data_cur)\n",
    "    return inv_data_cur"
   ]
  },
  {
   "cell_type": "code",
   "execution_count": 81,
   "id": "5abd35fb-ea92-449d-894a-162ed1f4aaec",
   "metadata": {},
   "outputs": [],
   "source": [
    "from joblib import Parallel, delayed"
   ]
  },
  {
   "cell_type": "code",
   "execution_count": 82,
   "id": "7f151faf-ada0-4d56-87b8-6c96aa4eb0c6",
   "metadata": {},
   "outputs": [],
   "source": [
    "# catch = Parallel(n_jobs = 15, verbose = 3)(delayed(inverse_transform)(G_u_test, i)  for i in range(G_u_test.shape[0]))"
   ]
  },
  {
   "cell_type": "code",
   "execution_count": 83,
   "id": "73cc2e8b-4608-4f17-be54-d50cdb6437ac",
   "metadata": {},
   "outputs": [],
   "source": [
    "# G_u_train.shape"
   ]
  },
  {
   "cell_type": "code",
   "execution_count": 84,
   "id": "347a9b2e-db6c-4c08-a111-446282063b60",
   "metadata": {},
   "outputs": [],
   "source": [
    "# G_u_train.shape"
   ]
  },
  {
   "cell_type": "code",
   "execution_count": 85,
   "id": "65bf21e9-92c6-4824-93c3-87274b072afa",
   "metadata": {},
   "outputs": [
    {
     "name": "stdout",
     "output_type": "stream",
     "text": [
      "[0.5045366302544511, 0.19919787799732402]\n",
      "[ 4.83197935 71.8523906 ] [1. 1.] [ 113.90266297 2501.31925655]\n",
      "[0.4966853313700291, 0.18056476406431216]\n",
      "[ 4.06401241 47.90166288] [1. 1.] [  86.60894506 2046.60779227]\n",
      "[0.5186871107378286, 0.1701534220223635]\n",
      "[ 3.61664518 57.75057876] [1. 1.] [  68.33712135 1602.20479571]\n",
      "[0.5427117724789676, 0.16052853564313277]\n",
      "[ 3.53363466 40.82843255] [1. 1.] [  57.1273149  1354.83437835]\n",
      "[0.5531115984096954, 0.1537437923828229]\n",
      "[ 3.75800019 39.78437125] [1. 1.] [  47.40345013 1175.36511627]\n",
      "[0.5652260447885642, 0.14585426007941404]\n",
      "[ 3.59294419 40.79684424] [1. 1.] [ 41.25701856 998.64548816]\n",
      "[0.5867937912115097, 0.13715069905333807]\n",
      "[ 3.32028004 39.57117445] [1. 1.] [ 35.21130027 849.65843453]\n",
      "[0.5853842761008915, 0.1338826509016982]\n",
      "[ 2.96605534 38.93291626] [1. 1.] [ 30.96250224 753.3382243 ]\n",
      "[0.597117465065219, 0.12546806368998176]\n",
      "[ 2.53894952 42.74878421] [1. 1.] [ 27.43892494 650.16504156]\n",
      "[0.608365338407615, 0.12001824418291825]\n",
      "[ 2.30987273 42.42895806] [1. 1.] [ 23.89875971 564.56003993]\n",
      "[0.632236675329533, 0.10838287320717645]\n",
      "[ 2.19825363 32.45078974] [1. 1.] [ 19.54539451 455.50467355]\n",
      "[0.6507315777492075, 0.09865823783937365]\n",
      "[ 2.04641912 33.77325781] [1. 1.] [ 15.93487253 371.83878078]\n",
      "[0.6479121183901292, 0.09287450282003777]\n",
      "[ 1.58996771 31.0266297 ] [1. 1.] [ 13.89944418 320.3583235 ]\n",
      "[0.6510865414302566, 0.08815706654247]\n",
      "[ 1.58563241 28.78624072] [1. 1.] [ 11.74794815 268.0411475 ]\n",
      "[0.6785749406342986, 0.07916142128378197]\n",
      "[ 1.36786319 22.67629179] [1. 1.] [  9.30388836 195.95751678]\n",
      "[0.6953588681832853, 0.07111894489332114]\n",
      "[ 1.28240528 19.71284001] [1. 1.] [  7.35291224 156.06565302]\n",
      "[0.6989024993407859, 0.06472827698515099]\n",
      "[ 1.08820357 14.69927939] [1. 1.] [  5.91837552 123.89141141]\n",
      "[0.6973245539728129, 0.060422728335818604]\n",
      "[ 0.6725264 11.0497846] [1. 1.] [  4.79599356 104.99370138]\n",
      "[0.6927492841848268, 0.05536271192203989]\n",
      "[0.45258911 8.43090631] [1. 1.] [ 3.79365833 79.21375487]\n",
      "[0.6893154593405061, 0.051349813122209764]\n",
      "[0.44438973 6.98387278] [1. 1.] [ 3.1822042  65.72870091]\n",
      "[0.686382629355255, 0.04747251282070781]\n",
      "[0.43020854 4.2068009 ] [1. 1.] [ 2.52646873 49.81667848]\n",
      "[0.6878078492813877, 0.04338245039504735]\n",
      "[0.38658658 3.4316465 ] [1. 1.] [ 2.00354249 43.61710476]\n",
      "[0.6888088977188507, 0.0402742567815477]\n",
      "[0.27862893 3.06668132] [0.99583333 1.        ] [ 1.70428087 34.87644356]\n",
      "[0.6847445506662326, 0.0373951880728872]\n",
      "[0.27051392 2.39330632] [0.99583333 1.        ] [ 1.59867362 31.34104849]\n",
      "[0.6854048690040158, 0.036025966416744534]\n",
      "[0.22887376 2.83652311] [0.99583333 1.        ] [ 1.363082   28.50230555]\n",
      "[0.683836948717886, 0.03451001198948481]\n",
      "[0.20732782 2.18572703] [0.99166667 1.        ] [ 1.21501584 24.60176178]\n",
      "[0.6837214496328554, 0.033483933999683836]\n",
      "[0.15117244 1.94329303] [0.99583333 1.        ] [ 1.08426993 22.06730548]\n",
      "[0.6840178430128575, 0.032631736958370634]\n",
      "[0.14202611 1.81818358] [0.99166667 1.        ] [ 0.96699055 20.44446682]\n",
      "[0.6851695804903014, 0.03174343071660906]\n",
      "[0.12364113 1.71668884] [0.99166667 1.        ] [ 0.88797124 18.16580219]\n",
      "[0.6848970871756731, 0.031226955577106072]\n",
      "[0.11537565 1.56767256] [0.99166667 1.        ] [ 0.8245468  17.28725404]\n",
      "[0.6852567202625891, 0.030726983661132874]\n",
      "[0.10759697 1.44443544] [0.99583333 1.        ] [ 0.78760719 16.45033273]\n",
      "[0.6855558468261809, 0.030310157893949394]\n",
      "[0.10116425 1.39224092] [0.99583333 1.        ] [ 0.76734907 16.03490774]\n",
      "[0.6858012263720834, 0.029941490809583474]\n",
      "[0.09663937 1.34713341] [0.99166667 1.        ] [ 0.73762436 15.4471438 ]\n",
      "[0.686079723896824, 0.029616016213709837]\n",
      "[0.09360748 1.29709307] [0.99166667 1.        ] [ 0.70200857 14.81316809]\n",
      "[0.6863783114060447, 0.02932767633040722]\n",
      "[0.09115141 1.25868385] [0.99166667 1.        ] [ 0.67171605 14.19255919]\n",
      "[0.6866980490976788, 0.029067761562591176]\n",
      "[0.08921795 1.23607617] [0.99583333 1.        ] [ 0.65081735 13.67489796]\n",
      "[0.6870496624577718, 0.028828447157466144]\n",
      "[0.08774885 1.22267244] [0.99583333 1.        ] [ 0.63372828 13.25151146]\n",
      "[0.6874186252495348, 0.02860753115297266]\n",
      "[0.08665684 1.21159761] [0.99583333 1.        ] [ 0.61949726 12.89043991]\n",
      "[0.6877973138914182, 0.028401976783542306]\n",
      "[0.08589685 1.19950539] [0.99583333 1.        ] [ 0.60814791 12.63131039]\n",
      "[0.6881808950415602, 0.02820756605102182]\n",
      "[0.08544803 1.18602247] [0.99166667 1.        ] [ 0.59966357 12.39350352]\n",
      "[0.6885585533387172, 0.028023378841587177]\n",
      "[0.08527562 1.17200574] [0.99166667 1.        ] [ 0.59192353 12.19347097]\n",
      "[0.6889166364314233, 0.027851955501027637]\n",
      "[0.08529665 1.1581111 ] [0.99166667 1.        ] [ 0.58520882 12.05733617]\n",
      "[0.6892394164324499, 0.02769634388236743]\n",
      "[0.08537204 1.14417491] [0.99166667 1.        ] [ 0.58048526 11.97803891]\n",
      "[0.6895120350059004, 0.027557271967913487]\n",
      "[0.08532162 1.12973897] [0.99166667 1.        ] [ 0.57433477 11.92954025]\n",
      "[0.6897318924988637, 0.027431601810346973]\n",
      "[0.08500456 1.1156336 ] [0.99166667 1.        ] [ 0.56887209 11.87107458]\n",
      "[0.6899166085419118, 0.027314337565163656]\n",
      "[0.08445345 1.10350383] [0.99166667 1.        ] [ 0.56479279 11.73929026]\n",
      "[0.6900914470738835, 0.02720270883685435]\n",
      "[0.08383596 1.09345727] [0.99166667 1.        ] [ 0.5604333  11.55782325]\n",
      "[0.6902718163309722, 0.02709640588536581]\n",
      "[0.08328252 1.08442438] [0.99166667 1.        ] [ 0.55700928 11.3956948 ]\n",
      "[0.6904610815215544, 0.026995556314266513]\n",
      "[0.08283366 1.07560637] [0.99166667 1.        ] [ 0.55270752 11.25812845]\n",
      "[0.6906565054444259, 0.026899860896357295]\n",
      "[0.082481   1.06680889] [0.99166667 1.        ] [ 0.5500877  11.11340863]\n",
      "[0.6908535234869589, 0.02680870959017586]\n",
      "[0.08220043 1.05812396] [0.99166667 1.        ] [ 0.54763208 11.00899738]\n",
      "[0.6910472668571123, 0.02672146689168603]\n",
      "[0.08196049 1.04959646] [0.99166667 1.        ] [ 0.54248051 10.8730099 ]\n",
      "[0.6912327979196937, 0.02663766255950966]\n",
      "[0.08172395 1.0411358 ] [0.99166667 1.        ] [ 0.53719975 10.7630117 ]\n",
      "[0.6914053840694855, 0.026557011484338137]\n",
      "[0.08145646 1.03265119] [0.99166667 1.        ] [ 0.53162003 10.64104069]\n",
      "[0.6915615284145393, 0.026479127068975237]\n",
      "[0.08114028 1.02420953] [0.99166667 1.        ] [ 0.52454277 10.51254498]\n",
      "[0.69170030339353, 0.026403143451695962]\n",
      "[0.0807783  1.01602347] [0.99166667 1.        ] [ 0.51767838 10.36930594]\n",
      "[0.691823745352027, 0.026327751239828612]\n",
      "[0.0803848  1.00830251] [0.99166667 1.        ] [ 0.51086438 10.23741825]\n",
      "[0.6919358658223587, 0.026251692044512675]\n",
      "[0.07997423 1.00115501] [0.99166667 1.        ] [ 0.50169258 10.08710319]\n",
      "[0.6920410817855577, 0.026174249804456585]\n",
      "[0.07955608 0.99460382] [0.99166667 1.        ] [0.49384124 9.94884943]\n",
      "[0.6921430032719116, 0.02609536904743878]\n",
      "[0.07913502 0.98863013] [0.99166667 1.        ] [0.48662725 9.81955977]\n",
      "[0.692243918661716, 0.026015432050077485]\n",
      "[0.07871322 0.98318193] [0.99166667 1.        ] [0.47877608 9.69713907]\n",
      "[0.6923448308349965, 0.02593496938456914]\n",
      "[0.07829268 0.97816103] [0.99166667 1.        ] [0.47182105 9.60526859]\n",
      "[0.6924457410266185, 0.025854505746038602]\n",
      "[0.07787613 0.97342186] [0.99166667 1.        ] [0.46577297 9.50292965]\n",
      "[0.6925459568833846, 0.02577454251879993]\n",
      "[0.07746654 0.9687908 ] [0.99166667 1.        ] [0.4605682  9.39897773]\n",
      "[0.6926443538330824, 0.025695582465236736]\n",
      "[0.07706618 0.96409406] [0.99166667 1.        ] [0.45535542 9.29992565]\n",
      "[0.6927396105732018, 0.02561813014498794]\n",
      "[0.07667627 0.95918139] [0.99166667 1.        ] [0.4508766  9.20044085]\n",
      "[0.6928304364931481, 0.025542658785644826]\n",
      "[0.07629729 0.95394119] [0.99166667 1.        ] [0.44609588 9.09347494]\n",
      "[0.6929157626952662, 0.025469563321595733]\n",
      "[0.07592964 0.94830786] [0.99166667 1.        ] [0.44184307 9.01627426]\n",
      "[0.6929948485540237, 0.025399121251515208]\n",
      "[0.07557403 0.94226321] [0.99166667 1.        ] [0.43781824 8.9309739 ]\n",
      "[0.6930672844838238, 0.025331474838242187]\n",
      "[0.0752315  0.93583226] [0.99166667 1.        ] [0.43314976 8.83860475]\n",
      "[0.6931329165762011, 0.025266637269946254]\n",
      "[0.07490324 0.92907454] [0.99166667 1.        ] [0.428969   8.75837983]\n",
      "[0.693191742250376, 0.02520451556129479]\n",
      "[0.07459031 0.92207287] [0.99166667 1.        ] [0.42557362 8.70230677]\n",
      "[0.6932438198159204, 0.025144939320002974]\n",
      "[0.07429349 0.91492186] [0.99166667 1.        ] [0.42309767 8.64779355]\n",
      "[0.6932892135736329, 0.025087687659037006]\n",
      "[0.07401315 0.90771794] [0.99166667 1.        ] [0.42002106 8.59020987]\n",
      "[0.693327976210467, 0.025032512104911045]\n",
      "[0.07374933 0.90055189] [0.99166667 1.        ] [0.41683478 8.53708985]\n",
      "[0.6933601593123547, 0.02497915701042955]\n",
      "[0.07350173 0.89350396] [0.99166667 1.        ] [0.41376852 8.49254253]\n",
      "[0.6933858403669876, 0.024927379278330084]\n",
      "[0.07326991 0.88664117] [0.99166667 1.        ] [0.41102843 8.44300927]\n",
      "[0.6934051565735075, 0.024876967103931762]\n",
      "[0.0730533  0.88001624] [0.99166667 1.        ] [0.4080036  8.39103692]\n",
      "[0.6934183380512295, 0.02482775499959038]\n",
      "[0.07285133 0.87366735] [0.99166667 1.        ] [0.40553488 8.34510868]\n",
      "[0.6934257337920526, 0.024779631500696016]\n",
      "[0.07266344 0.86761824] [0.99166667 1.        ] [0.40318764 8.29588749]\n",
      "[0.6934278236970062, 0.024732537448930676]\n",
      "[0.07248904 0.86187867] [0.99166667 1.        ] [0.40077789 8.24849491]\n",
      "[0.6934252112997307, 0.024686455775443365]\n",
      "[0.07232749 0.85644547] [0.99166667 1.        ] [0.39885499 8.21283161]\n",
      "[0.6934185955434564, 0.024641396412490454]\n",
      "[0.07217807 0.85130451] [0.99166667 1.        ] [0.39663988 8.1690445 ]\n",
      "[0.6934087254806828, 0.02459738080128835]\n",
      "[0.07203996 0.84643343] [0.99166667 1.        ] [0.39478866 8.12944471]\n",
      "[0.693396346684466, 0.024554429255456995]\n",
      "[0.07191226 0.84180502] [0.99166667 1.        ] [0.39287448 8.09289973]\n",
      "[0.6933821502366654, 0.024512552308336728]\n",
      "[0.07179401 0.83739058] [0.99166667 1.        ] [0.39120223 8.04411978]\n",
      "[0.6933667336720246, 0.02447174553077504]\n",
      "[0.07168426 0.83316276] [0.99166667 1.        ] [0.38942095 7.99941314]\n",
      "[0.6933505792844642, 0.02443198683174089]\n",
      "[0.0715821  0.82909761] [0.99166667 1.        ] [0.38751087 7.96366747]\n",
      "[0.6933340506683776, 0.02439323565319441]\n",
      "[0.0714867  0.82517572] [0.99166667 1.        ] [0.38561759 7.92836794]\n",
      "[0.6933174048241595, 0.024355433993067024]\n",
      "[0.07139735 0.8213825 ] [0.99166667 1.        ] [0.38330385 7.89246934]\n",
      "[0.693300815172731, 0.024318509295836347]\n",
      "[0.07131344 0.81770786] [0.99166667 1.        ] [0.3814153  7.85928673]\n",
      "[0.6932844001589807, 0.024282378905559548]\n",
      "[0.0712345  0.81414556] [0.99166667 1.        ] [0.37981062 7.83296246]\n",
      "[0.6932682522697834, 0.024246955312461748]\n",
      "[0.07116015 0.81069229] [0.99166667 1.        ] [0.37807463 7.8077288 ]\n",
      "[0.6932524629013426, 0.0242121512057213]\n",
      "[0.07109008 0.80734675] [0.99166667 1.        ] [0.37604162 7.77497428]\n",
      "[0.6932371395155918, 0.024177883520253032]\n",
      "[0.07102405 0.80410872] [0.99166667 1.        ] [0.37435788 7.74919721]\n",
      "[0.6932224129947191, 0.02414407611867299]\n",
      "[0.07096184 0.80097825] [0.99166667 1.        ] [0.37260792 7.72733971]\n",
      "[0.6932084350028448, 0.024110661224104848]\n",
      "[0.07090328 0.79795489] [0.99166667 1.        ] [0.37111282 7.70335375]\n",
      "[0.6931953672010625, 0.02407757999441951]\n",
      "[0.0708482  0.79503701] [0.99166667 1.        ] [0.36951564 7.67239462]\n",
      "[0.6931833658177232, 0.024044782637534363]\n",
      "[0.07079646 0.79222134] [0.99166667 1.        ] [0.36811407 7.63869301]\n",
      "[0.6931725658273157, 0.024012228297605045]\n",
      "[0.07074793 0.78950264] [0.99166667 1.        ] [0.36685037 7.6048425 ]\n",
      "[0.6931630685902733, 0.02397988474157259]\n",
      "[0.07070248 0.78687362] [0.99166667 1.        ] [0.36552779 7.57651397]\n",
      "[0.6931549354320595, 0.023947727753152015]\n",
      "[0.07065999 0.78432515] [0.99166667 1.        ] [0.36417004 7.54909238]\n",
      "[0.6931481878224437, 0.0239157401248639]\n",
      "[0.07062028 0.78184671] [0.99166667 1.        ] [0.3630591  7.52185734]\n",
      "[0.6931428131754438, 0.02388391019930538]\n",
      "[0.07058318 0.77942702] [0.99166667 1.        ] [0.36181454 7.4936058 ]\n",
      "[0.693138774264915, 0.023852230007653914]\n",
      "[0.07054845 0.77705475] [0.99166667 1.        ] [0.36081866 7.46254645]\n",
      "[0.6931360199616371, 0.023820693157282663]\n",
      "[0.07051585 0.77471916] [0.99166667 1.        ] [0.35959332 7.43563281]\n",
      "[0.6931344952941657, 0.023789292711137923]\n",
      "[0.0704851  0.77241066] [0.99166667 1.        ] [0.35844838 7.40794502]\n",
      "[0.6931341494424756, 0.02375801935792564]\n",
      "[0.07045591 0.77012113] [0.99166667 1.        ] [0.35730112 7.37940033]\n",
      "[0.6931349409357659, 0.023726860171862846]\n",
      "[0.07042798 0.76784405] [0.99166667 1.        ] [0.35632328 7.35251343]\n",
      "[0.6931368398858738, 0.023695798190975916]\n",
      "[0.07040105 0.76557453] [0.99166667 1.        ] [0.35526435 7.32856216]\n",
      "[0.693139827489146, 0.0236648129110364]\n",
      "[0.07037484 0.76330917] [0.99166667 1.        ] [0.3544004  7.30571661]\n",
      "[0.6931438932818919, 0.023633881627091603]\n",
      "[0.07034913 0.76104589] [0.99166667 1.        ] [0.35376447 7.28345148]\n",
      "[0.6931490307726867, 0.02360298139714039]\n",
      "[0.07032371 0.75878381] [0.99166667 1.        ] [0.35308306 7.26960228]\n",
      "[0.6931552321328975, 0.023572091291221845]\n",
      "[0.07029837 0.75652306] [0.99166667 1.        ] [0.35229155 7.253431  ]\n",
      "[0.693162482628286, 0.02354119454749453]\n",
      "[0.07027296 0.75426466] [0.99166667 1.        ] [0.35128444 7.23709606]\n",
      "[0.6931707554324388, 0.023510280288214527]\n",
      "[0.0702473  0.75201049] [0.99166667 1.        ] [0.35013219 7.22237104]\n"
     ]
    },
    {
     "name": "stderr",
     "output_type": "stream",
     "text": [
      "\n",
      "KeyboardInterrupt\n",
      "\n"
     ]
    }
   ],
   "source": [
    "w1_catch = []\n",
    "w2_catch = []\n",
    "w1_sd_catch = []\n",
    "w2_sd_catch = []\n",
    "for i in range(0,10000):\n",
    "    \n",
    "    initial_ensembles = get_updated_ensemble(smiles_feats_train, rdkit_feats_train, initial_ensembles)\n",
    "    G_u_train, w1, w2 = get_predictions(smiles_feats_train, rdkit_feats_train, initial_ensembles)\n",
    "    \n",
    "    w1_catch.append(w1.mean())\n",
    "    w1_sd_catch.append(w1.std())\n",
    "    \n",
    "    w2_catch.append(w2.mean())\n",
    "    w2_sd_catch.append(w2.std())  \n",
    "    \n",
    "    print([w1.mean(), w1.std()])\n",
    "    # print(w2.mean(), w2.std())\n",
    "    \n",
    "    # G_u_train = get_targets_with_weights(smiles_feats_train, rdkit_feats_train, initial_ensembles, size_ens = size_ens)\n",
    "    catch = Parallel(n_jobs = 15, verbose = 0)(delayed(inverse_transform)(G_u_train, i)  for i in range(G_u_train.shape[0]))\n",
    "    G_u_train = np.array(catch)\n",
    "    \n",
    "    y_train_cur = std_targets.inverse_transform(y_train)\n",
    "    \n",
    "    li_train = np.percentile(G_u_train, axis = 0, q = (2.5, 97.5))[0,:,:]   \n",
    "    ui_train = np.percentile(G_u_train, axis = 0, q = (2.5, 97.5))[1,:,:]\n",
    "    \n",
    "    width_train = ui_train - li_train\n",
    "    avg_width_train = width_train.mean(0)\n",
    "    \n",
    "    ind_train = (y_train_cur >= li_train) & (y_train_cur <= ui_train)\n",
    "    coverage_train= ind_train.mean(0)\n",
    "    \n",
    "    averaged_targets_train = G_u_train.mean(0)\n",
    "    rmse_train = np.sqrt(((y_train_cur -averaged_targets_train)**2).mean(0))\n",
    "    # print(rmse_train, coverage_train, avg_width_train)\n",
    "    \n",
    "    G_u_test, _, _ = get_predictions(smiles_feats_valid, rdkit_feats_valid, initial_ensembles)\n",
    "    \n",
    "    catch = Parallel(n_jobs = 15, verbose = 0)(delayed(inverse_transform)(G_u_test, i)  for i in range(G_u_test.shape[0]))\n",
    "    G_u_test = np.array(catch)\n",
    "    \n",
    "    y_valid_cur = std_targets.inverse_transform(y_valid)    \n",
    "    \n",
    "    li_test = np.percentile(G_u_test, axis = 0, q = (2.5, 97.5))[0,:,:]   \n",
    "    ui_test = np.percentile(G_u_test, axis = 0, q = (2.5, 97.5))[1,:,:]\n",
    "    \n",
    "    width_test = ui_test - li_test\n",
    "    avg_width_test = width_test.mean(0)\n",
    "    \n",
    "    ind_test = (y_valid_cur >= li_test) & (y_valid_cur <= ui_test)\n",
    "    coverage_test= ind_test.mean(0)\n",
    "    \n",
    "    averaged_targets_test = G_u_test.mean(0)\n",
    "    rmse_test = np.sqrt(((y_valid_cur -averaged_targets_test)**2).mean(0))    \n",
    "    \n",
    "    # plt.scatter(y_valid[:, 0], averaged_targets_test[:,0])\n",
    "    # plt.axline((0,0), slope = 1, c= \"black\")\n",
    "    # plt.show()\n",
    "    # plt.scatter(y_valid[:,1], averaged_targets_test[:, 1])\n",
    "    # plt.axline((0,0), slope = 1, c= \"black\")\n",
    "    # plt.show()\n",
    "    \n",
    "    if coverage_train.mean() < 0.95:\n",
    "        break\n",
    "    \n",
    "    print(rmse_test, coverage_test, avg_width_test)"
   ]
  },
  {
   "cell_type": "code",
   "execution_count": 86,
   "id": "a81eb6c3-e084-4e43-aa5e-3f9b0f5ee016",
   "metadata": {},
   "outputs": [
    {
     "data": {
      "text/plain": [
       "(273, 240, 2)"
      ]
     },
     "execution_count": 86,
     "metadata": {},
     "output_type": "execute_result"
    }
   ],
   "source": [
    "G_u_test.shape"
   ]
  },
  {
   "cell_type": "code",
   "execution_count": 87,
   "id": "96d8df43-9ae3-47f6-9c69-ac77c38a6eb6",
   "metadata": {},
   "outputs": [],
   "source": [
    "import random"
   ]
  },
  {
   "cell_type": "code",
   "execution_count": 88,
   "id": "47207771-df91-48f0-9963-9a78989bcfe3",
   "metadata": {},
   "outputs": [],
   "source": [
    "random_idx = random.sample(range(y_valid_cur.shape[0]), k = 8)"
   ]
  },
  {
   "cell_type": "code",
   "execution_count": 89,
   "id": "af5f17ea-a47c-421d-bd32-7a0dc0f1af60",
   "metadata": {},
   "outputs": [
    {
     "data": {
      "image/png": "[encoded data removed]",
      "text/plain": [
       "<Figure size 1500x1500 with 16 Axes>"
      ]
     },
     "metadata": {},
     "output_type": "display_data"
    }
   ],
   "source": [
    "fig, axs = plt.subplots(8, 2,figsize=(15, 15))\n",
    "# axs = axs.ravel()\n",
    "# counter = 0\n",
    "for idx, i in enumerate(random_idx):\n",
    "    # print(counter)\n",
    "    truth = y_valid_cur[i,:]\n",
    "    preds = G_u_test[:, i,:]\n",
    "    percts = np.percentile(preds, axis = 0, q = (2.5, 97.5))\n",
    "    lis = percts[0,:]\n",
    "    uis = percts[1,:]\n",
    "    \n",
    "    \n",
    "    axs[idx, 0].hist(preds[:,0])\n",
    "    axs[idx, 0].axvline(truth[0], color='green', linewidth=2)\n",
    "    axs[idx, 0].axvline(lis[0], color='red', linewidth=2)\n",
    "    axs[idx, 0].axvline(uis[0], color='red', linewidth=2)\n",
    "    \n",
    "    axs[idx, 1].hist(preds[:,1])\n",
    "    axs[idx, 1].axvline(truth[1], color='green', linewidth=2)\n",
    "    axs[idx, 1].axvline(lis[1], color='red', linewidth=2)\n",
    "    axs[idx, 1].axvline(uis[1], color='red', linewidth=2)\n",
    "    \n",
    "    # counter+=2\n",
    "    # print(counter)\n",
    "    \n",
    "    # plt.show()\n",
    "plt.savefig('prediction_intervals.png', bbox_inches='tight')"
   ]
  },
  {
   "cell_type": "code",
   "execution_count": 90,
   "id": "3230a62b-f36f-4ec0-9c7d-0ba75c9de369",
   "metadata": {},
   "outputs": [
    {
     "data": {
      "image/png": "[encoded data removed]",
      "text/plain": [
       "<Figure size 640x480 with 1 Axes>"
      ]
     },
     "metadata": {},
     "output_type": "display_data"
    },
    {
     "data": {
      "image/png": "[encoded data removed]",
      "text/plain": [
       "<Figure size 640x480 with 1 Axes>"
      ]
     },
     "metadata": {},
     "output_type": "display_data"
    }
   ],
   "source": [
    "plt.scatter(y_valid_cur[:, 0], averaged_targets_test[:,0])\n",
    "plt.axline((0,0), slope = 1, c= \"black\")\n",
    "plt.show()\n",
    "plt.scatter(y_valid_cur[:,1], averaged_targets_test[:, 1])\n",
    "plt.axline((0,0), slope = 1, c= \"black\")\n",
    "plt.show()"
   ]
  },
  {
   "cell_type": "code",
   "execution_count": 91,
   "id": "0a36715c-20fa-406e-9ac6-55a56152d3e3",
   "metadata": {},
   "outputs": [
    {
     "data": {
      "text/plain": [
       "<ErrorbarContainer object of 3 artists>"
      ]
     },
     "execution_count": 91,
     "metadata": {},
     "output_type": "execute_result"
    },
    {
     "data": {
      "image/png": "[encoded data removed]",
      "text/plain": [
       "<Figure size 640x480 with 1 Axes>"
      ]
     },
     "metadata": {},
     "output_type": "display_data"
    }
   ],
   "source": [
    "plt.errorbar(range(0, len(w1_catch)), w1_catch, w1_sd_catch)"
   ]
  }
 ],
 "metadata": {
  "kernelspec": {
   "display_name": "enkf",
   "language": "python",
   "name": "enkf"
  },
  "language_info": {
   "codemirror_mode": {
    "name": "ipython",
    "version": 3
   },
   "file_extension": ".py",
   "mimetype": "text/x-python",
   "name": "python",
   "nbconvert_exporter": "python",
   "pygments_lexer": "ipython3",
   "version": "3.11.3"
  }
 },
 "nbformat": 4,
 "nbformat_minor": 5
}

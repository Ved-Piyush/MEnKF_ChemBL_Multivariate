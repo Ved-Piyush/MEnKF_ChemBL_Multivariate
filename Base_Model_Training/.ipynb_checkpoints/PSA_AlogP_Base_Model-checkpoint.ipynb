{
 "cells": [
  {
   "cell_type": "code",
   "execution_count": 1,
   "id": "df9c8395-c525-42ef-a10a-26197b948303",
   "metadata": {},
   "outputs": [
    {
     "name": "stderr",
     "output_type": "stream",
     "text": [
      "2023-08-02 17:00:16.346390: I tensorflow/core/util/util.cc:169] oneDNN custom operations are on. You may see slightly different numerical results due to floating-point round-off errors from different computation orders. To turn them off, set the environment variable `TF_ENABLE_ONEDNN_OPTS=0`.\n"
     ]
    }
   ],
   "source": [
    "import tensorflow as tf\n",
    "import pandas as pd"
   ]
  },
  {
   "cell_type": "code",
   "execution_count": null,
   "id": "524ffbd6-fb9d-477b-9e25-3d762060ad1f",
   "metadata": {},
   "outputs": [],
   "source": [
    "x_train = pd.read_csv(\"..//Data//x_train.csv\")\n",
    "x_valid = pd.read_csv(\"..//Data//x_valid.csv\")"
   ]
  },
  {
   "cell_type": "code",
   "execution_count": null,
   "id": "08b4672a-1a79-4a4a-a23e-4e9718556521",
   "metadata": {},
   "outputs": [],
   "source": [
    "y_train = pd.read_csv(\"..//Data//y_train.csv\")\n",
    "y_valid = pd.read_csv(\"..//Data//y_valid.csv\")"
   ]
  },
  {
   "cell_type": "code",
   "execution_count": null,
   "id": "d96626d0-9b16-4ae9-9690-57d218ee70ef",
   "metadata": {},
   "outputs": [],
   "source": [
    "x_train.shape"
   ]
  },
  {
   "cell_type": "code",
   "execution_count": null,
   "id": "0058aed0-edd3-41e9-b293-d1dc49759066",
   "metadata": {},
   "outputs": [],
   "source": [
    "x_valid.shape"
   ]
  },
  {
   "cell_type": "code",
   "execution_count": 4,
   "id": "5ac3002d-c12c-4922-aa53-e1a1f41b2de0",
   "metadata": {},
   "outputs": [
    {
     "data": {
      "text/html": [
       "<div>\n",
       "<style scoped>\n",
       "    .dataframe tbody tr th:only-of-type {\n",
       "        vertical-align: middle;\n",
       "    }\n",
       "\n",
       "    .dataframe tbody tr th {\n",
       "        vertical-align: top;\n",
       "    }\n",
       "\n",
       "    .dataframe thead th {\n",
       "        text-align: right;\n",
       "    }\n",
       "</style>\n",
       "<table border=\"1\" class=\"dataframe\">\n",
       "  <thead>\n",
       "    <tr style=\"text-align: right;\">\n",
       "      <th></th>\n",
       "      <th>AlogP</th>\n",
       "      <th>Polar Surface Area</th>\n",
       "    </tr>\n",
       "  </thead>\n",
       "  <tbody>\n",
       "    <tr>\n",
       "      <th>0</th>\n",
       "      <td>1.79</td>\n",
       "      <td>80.75</td>\n",
       "    </tr>\n",
       "    <tr>\n",
       "      <th>1</th>\n",
       "      <td>5.24</td>\n",
       "      <td>88.13</td>\n",
       "    </tr>\n",
       "    <tr>\n",
       "      <th>2</th>\n",
       "      <td>2.27</td>\n",
       "      <td>118.16</td>\n",
       "    </tr>\n",
       "    <tr>\n",
       "      <th>3</th>\n",
       "      <td>1.71</td>\n",
       "      <td>60.77</td>\n",
       "    </tr>\n",
       "    <tr>\n",
       "      <th>4</th>\n",
       "      <td>4.85</td>\n",
       "      <td>94.17</td>\n",
       "    </tr>\n",
       "  </tbody>\n",
       "</table>\n",
       "</div>"
      ],
      "text/plain": [
       "   AlogP  Polar Surface Area\n",
       "0   1.79               80.75\n",
       "1   5.24               88.13\n",
       "2   2.27              118.16\n",
       "3   1.71               60.77\n",
       "4   4.85               94.17"
      ]
     },
     "execution_count": 4,
     "metadata": {},
     "output_type": "execute_result"
    }
   ],
   "source": [
    "y_train.head()"
   ]
  },
  {
   "cell_type": "code",
   "execution_count": 5,
   "id": "66494472-e7b1-4cf2-afa1-5e2c2c39c58c",
   "metadata": {},
   "outputs": [
    {
     "data": {
      "text/plain": [
       "AlogP                 0\n",
       "Polar Surface Area    0\n",
       "dtype: int64"
      ]
     },
     "execution_count": 5,
     "metadata": {},
     "output_type": "execute_result"
    }
   ],
   "source": [
    "y_train.isnull().sum()"
   ]
  },
  {
   "cell_type": "code",
   "execution_count": 6,
   "id": "4f74542f-87ef-445d-b0e4-a9b3eef812fb",
   "metadata": {},
   "outputs": [],
   "source": [
    "# y_train_psa = y_train.iloc[:,1].values\n",
    "# y_valid_psa = y_valid.iloc[:,1].values"
   ]
  },
  {
   "cell_type": "code",
   "execution_count": 7,
   "id": "f0cc8bed-485f-453c-9888-951e57b783ee",
   "metadata": {},
   "outputs": [
    {
     "name": "stderr",
     "output_type": "stream",
     "text": [
      "2023-06-06 18:08:18.609551: I tensorflow/core/platform/cpu_feature_guard.cc:193] This TensorFlow binary is optimized with oneAPI Deep Neural Network Library (oneDNN) to use the following CPU instructions in performance-critical operations:  SSE4.1 SSE4.2 AVX AVX2 AVX512F AVX512_VNNI FMA\n",
      "To enable them in other operations, rebuild TensorFlow with the appropriate compiler flags.\n",
      "2023-06-06 18:08:19.407484: I tensorflow/core/common_runtime/gpu/gpu_device.cc:1532] Created device /job:localhost/replica:0/task:0/device:GPU:0 with 78942 MB memory:  -> device: 0, name: NVIDIA A100 80GB PCIe, pci bus id: 0000:98:00.0, compute capability: 8.0\n"
     ]
    }
   ],
   "source": [
    "input_layer_smiles = tf.keras.layers.Input(shape = (1,), dtype=tf.string)\n",
    "text_vec = tf.keras.layers.TextVectorization(standardize=None,\n",
    "    split='character', output_mode = \"int\")\n",
    "text_vec.adapt(x_train[\"Smiles\"], batch_size = 100000)"
   ]
  },
  {
   "cell_type": "code",
   "execution_count": 8,
   "id": "caa38b69-3aec-4cb0-8fb1-d9381290bf43",
   "metadata": {},
   "outputs": [],
   "source": [
    "text_vec_output = text_vec(input_layer_smiles)"
   ]
  },
  {
   "cell_type": "code",
   "execution_count": 9,
   "id": "73d51772-83d7-4e43-9e01-26b732331fe1",
   "metadata": {},
   "outputs": [],
   "source": [
    "embedding_layer = tf.keras.layers.Embedding(len(text_vec.get_vocabulary()), 512)\n",
    "embedding_output = embedding_layer(text_vec_output)\n",
    "lstm_layer = tf.keras.layers.LSTM(256)\n",
    "lstm_output = lstm_layer(embedding_output)"
   ]
  },
  {
   "cell_type": "code",
   "execution_count": 10,
   "id": "46ed8cba-f622-40c1-8a6b-7f1c9c02532c",
   "metadata": {},
   "outputs": [],
   "source": [
    "# batch_norm_layer_smiles = tf.keras.layers.BatchNormalization()"
   ]
  },
  {
   "cell_type": "code",
   "execution_count": 11,
   "id": "138052e6-6f0d-4278-a5f2-9106a6817946",
   "metadata": {},
   "outputs": [],
   "source": [
    "# batch_norm_smiles_out = batch_norm_layer_smiles(lstm_output)"
   ]
  },
  {
   "cell_type": "code",
   "execution_count": 12,
   "id": "974b66c3-a2f1-48ad-9033-212566ff8e2b",
   "metadata": {},
   "outputs": [],
   "source": [
    "bottleneck_layer_smiles = tf.keras.layers.Dense(32)"
   ]
  },
  {
   "cell_type": "code",
   "execution_count": 13,
   "id": "aa884805-0029-4317-9d9c-5d8efeacefde",
   "metadata": {},
   "outputs": [],
   "source": [
    "bottleneck_layer_smiles_out = bottleneck_layer_smiles(lstm_output)"
   ]
  },
  {
   "cell_type": "code",
   "execution_count": 14,
   "id": "345ad136-b2d8-42d9-b113-4e72c94a2b7a",
   "metadata": {},
   "outputs": [],
   "source": [
    "# dropout_layer_smiles_output = tf.keras.layers.Dropout(0.5)(bottleneck_layer_smiles_out)"
   ]
  },
  {
   "cell_type": "code",
   "execution_count": 15,
   "id": "4b6081cc-42b9-4169-acc5-170c7687d49e",
   "metadata": {},
   "outputs": [],
   "source": [
    "# dropout_layer_smiles_output"
   ]
  },
  {
   "cell_type": "code",
   "execution_count": 16,
   "id": "5def9bc1-49c2-4b30-a03a-a69e5dbdad96",
   "metadata": {},
   "outputs": [],
   "source": [
    "rdkit_shape = int(x_train.iloc[:,1:].shape[1])"
   ]
  },
  {
   "cell_type": "code",
   "execution_count": 17,
   "id": "6bb8e3f5-ca53-4498-be59-4c032cafc6ce",
   "metadata": {},
   "outputs": [],
   "source": [
    "input_layer_rdkit = tf.keras.layers.Input(shape = (rdkit_shape,))"
   ]
  },
  {
   "cell_type": "code",
   "execution_count": 18,
   "id": "4b2dbddb-2392-49c8-95cd-6c2c36571092",
   "metadata": {},
   "outputs": [],
   "source": [
    "# batch_norm_layer_rdkit = tf.keras.layers.BatchNormalization()"
   ]
  },
  {
   "cell_type": "code",
   "execution_count": 19,
   "id": "8f7074c8-7089-4388-9522-9a5457d7c6ee",
   "metadata": {},
   "outputs": [],
   "source": [
    "# batch_norm_rdkit_out = batch_norm_layer_rdkit(input_layer_rdkit)"
   ]
  },
  {
   "cell_type": "code",
   "execution_count": 20,
   "id": "48020314-c086-41f8-9c3e-93b8c5bcc2a6",
   "metadata": {},
   "outputs": [],
   "source": [
    "bottleneck_layer_rdkit = tf.keras.layers.Dense(32)"
   ]
  },
  {
   "cell_type": "code",
   "execution_count": 21,
   "id": "5f896f6d-8cdf-4ac8-8591-c5e1a6133832",
   "metadata": {},
   "outputs": [],
   "source": [
    "bottleneck_layer_rdkit_out = bottleneck_layer_rdkit(input_layer_rdkit)"
   ]
  },
  {
   "cell_type": "code",
   "execution_count": 22,
   "id": "83555f04-ac66-4303-9acb-8b1821be61c2",
   "metadata": {},
   "outputs": [],
   "source": [
    "# dropout_layer_rdkit_out = tf.keras.layers.Dropout(0.5)(bottleneck_layer_rdkit_out)"
   ]
  },
  {
   "cell_type": "code",
   "execution_count": 23,
   "id": "29c896eb-6485-47bc-8a27-adfb12a88bd4",
   "metadata": {},
   "outputs": [],
   "source": [
    "concatenated_outputs = tf.keras.layers.Concatenate()([bottleneck_layer_smiles_out, bottleneck_layer_rdkit_out])"
   ]
  },
  {
   "cell_type": "code",
   "execution_count": 24,
   "id": "f004dba9-d94a-4cf4-9d07-59e6951a4963",
   "metadata": {},
   "outputs": [],
   "source": [
    "final_pred_layer = tf.keras.layers.Dense(2)"
   ]
  },
  {
   "cell_type": "code",
   "execution_count": 25,
   "id": "e2cf26c8-3aaf-4771-b362-4b1035b43ea5",
   "metadata": {},
   "outputs": [],
   "source": [
    "final_pred_output = final_pred_layer(concatenated_outputs)"
   ]
  },
  {
   "cell_type": "code",
   "execution_count": 26,
   "id": "342b5760-3512-4ec4-bf98-46ad738409a0",
   "metadata": {},
   "outputs": [],
   "source": [
    "model_both = tf.keras.models.Model([input_layer_smiles, input_layer_rdkit], final_pred_output)"
   ]
  },
  {
   "cell_type": "code",
   "execution_count": 27,
   "id": "1dd08c53-10ea-4a88-a2b0-089bedd03c01",
   "metadata": {},
   "outputs": [],
   "source": [
    "model_both.compile(loss = tf.keras.losses.MeanSquaredError(), \n",
    "                    optimizer = tf.keras.optimizers.Adam(1e-3), \n",
    "                    metrics = tf.keras.metrics.RootMeanSquaredError())"
   ]
  },
  {
   "cell_type": "code",
   "execution_count": 28,
   "id": "9faf3191-121e-4972-bb5c-27a3780a5fbb",
   "metadata": {},
   "outputs": [
    {
     "name": "stdout",
     "output_type": "stream",
     "text": [
      "Model: \"model\"\n",
      "__________________________________________________________________________________________________\n",
      " Layer (type)                   Output Shape         Param #     Connected to                     \n",
      "==================================================================================================\n",
      " input_1 (InputLayer)           [(None, 1)]          0           []                               \n",
      "                                                                                                  \n",
      " text_vectorization (TextVector  (None, None)        0           ['input_1[0][0]']                \n",
      " ization)                                                                                         \n",
      "                                                                                                  \n",
      " embedding (Embedding)          (None, None, 512)    22016       ['text_vectorization[0][0]']     \n",
      "                                                                                                  \n",
      " lstm (LSTM)                    (None, 256)          787456      ['embedding[0][0]']              \n",
      "                                                                                                  \n",
      " input_2 (InputLayer)           [(None, 104)]        0           []                               \n",
      "                                                                                                  \n",
      " dense (Dense)                  (None, 32)           8224        ['lstm[0][0]']                   \n",
      "                                                                                                  \n",
      " dense_1 (Dense)                (None, 32)           3360        ['input_2[0][0]']                \n",
      "                                                                                                  \n",
      " concatenate (Concatenate)      (None, 64)           0           ['dense[0][0]',                  \n",
      "                                                                  'dense_1[0][0]']                \n",
      "                                                                                                  \n",
      " dense_2 (Dense)                (None, 2)            130         ['concatenate[0][0]']            \n",
      "                                                                                                  \n",
      "==================================================================================================\n",
      "Total params: 821,186\n",
      "Trainable params: 821,186\n",
      "Non-trainable params: 0\n",
      "__________________________________________________________________________________________________\n"
     ]
    }
   ],
   "source": [
    "model_both.summary()"
   ]
  },
  {
   "cell_type": "code",
   "execution_count": 29,
   "id": "8488b9ad-d999-44d8-8e70-09b7e4764f58",
   "metadata": {},
   "outputs": [],
   "source": [
    "import numpy as np"
   ]
  },
  {
   "cell_type": "code",
   "execution_count": 30,
   "id": "dc152a4d-c4e8-4221-bed4-6a8aa269c505",
   "metadata": {},
   "outputs": [],
   "source": [
    "# x_train.iloc[:,1:].isnull().sum().sum()"
   ]
  },
  {
   "cell_type": "code",
   "execution_count": 31,
   "id": "92c30e5c-8edc-48bb-b77d-7a94d36bf5c1",
   "metadata": {},
   "outputs": [
    {
     "data": {
      "text/plain": [
       "0"
      ]
     },
     "execution_count": 31,
     "metadata": {},
     "output_type": "execute_result"
    }
   ],
   "source": [
    "x_train.isnull().sum().sum()"
   ]
  },
  {
   "cell_type": "code",
   "execution_count": 32,
   "id": "52bd4ce2-b838-4764-9d32-7bf951bdde0a",
   "metadata": {},
   "outputs": [],
   "source": [
    "from sklearn.preprocessing import StandardScaler"
   ]
  },
  {
   "cell_type": "code",
   "execution_count": 33,
   "id": "97b79ca7-a076-4155-ab75-e1746e31ac47",
   "metadata": {},
   "outputs": [],
   "source": [
    "std_targets = StandardScaler()"
   ]
  },
  {
   "cell_type": "code",
   "execution_count": 34,
   "id": "4414f09d-9a33-4034-b81f-eebc55bd987a",
   "metadata": {},
   "outputs": [],
   "source": [
    "y_train = std_targets.fit_transform(y_train)"
   ]
  },
  {
   "cell_type": "code",
   "execution_count": 35,
   "id": "61fe7b47-9830-4668-93ff-2e940ffd0feb",
   "metadata": {},
   "outputs": [],
   "source": [
    "y_valid = std_targets.transform(y_valid)"
   ]
  },
  {
   "cell_type": "code",
   "execution_count": 36,
   "id": "754f8d37-2809-406d-bb99-fb3160f1e5da",
   "metadata": {},
   "outputs": [
    {
     "data": {
      "text/plain": [
       "(564815, 2)"
      ]
     },
     "execution_count": 36,
     "metadata": {},
     "output_type": "execute_result"
    }
   ],
   "source": [
    "y_valid.shape"
   ]
  },
  {
   "cell_type": "code",
   "execution_count": 37,
   "id": "ddd4a3aa-1815-4e17-add6-cc63c97120d0",
   "metadata": {},
   "outputs": [
    {
     "data": {
      "text/plain": [
       "array([0.99959917, 0.9982202 ])"
      ]
     },
     "execution_count": 37,
     "metadata": {},
     "output_type": "execute_result"
    }
   ],
   "source": [
    "np.sqrt(((y_valid - y_valid.mean(0))**2).mean(0))"
   ]
  },
  {
   "cell_type": "code",
   "execution_count": 38,
   "id": "adcd3e1e-deb9-4b65-ad42-c97f698ba8a6",
   "metadata": {},
   "outputs": [],
   "source": [
    "import pickle"
   ]
  },
  {
   "cell_type": "code",
   "execution_count": 39,
   "id": "73405c31-bd77-4c32-b684-142800d25f60",
   "metadata": {},
   "outputs": [],
   "source": [
    "pickle.dump(std_targets, open('..//Data//target_scaler.pkl', 'wb'))"
   ]
  },
  {
   "cell_type": "code",
   "execution_count": 40,
   "id": "b241c830-3691-4b42-b6c0-ceb72323e9a8",
   "metadata": {},
   "outputs": [
    {
     "name": "stdout",
     "output_type": "stream",
     "text": [
      "Epoch 1/10000\n"
     ]
    },
    {
     "name": "stderr",
     "output_type": "stream",
     "text": [
      "2023-06-06 18:08:31.539286: I tensorflow/stream_executor/cuda/cuda_dnn.cc:384] Loaded cuDNN version 8401\n",
      "2023-06-06 18:08:31.539518: I tensorflow/stream_executor/cuda/cuda_blas.cc:1786] TensorFloat-32 will be used for the matrix multiplication. This will only be logged once.\n",
      "Could not load symbol cublasGetSmCountTarget from libcublas.so.11. Error: /home/statgrads/vpiyush2/.conda/envs/tensorflow-gpu-2.9-custom/lib/python3.9/site-packages/tensorflow/python/../../../../libcublas.so.11: undefined symbol: cublasGetSmCountTarget\n"
     ]
    },
    {
     "name": "stdout",
     "output_type": "stream",
     "text": [
      "1356/1356 [==============================] - 61s 43ms/step - loss: 0.0511 - root_mean_squared_error: 0.2260 - val_loss: 0.0149 - val_root_mean_squared_error: 0.1221\n",
      "Epoch 2/10000\n",
      "1356/1356 [==============================] - 59s 43ms/step - loss: 0.0179 - root_mean_squared_error: 0.1338 - val_loss: 0.0143 - val_root_mean_squared_error: 0.1196\n",
      "Epoch 3/10000\n",
      "1356/1356 [==============================] - 59s 43ms/step - loss: 0.0271 - root_mean_squared_error: 0.1647 - val_loss: 0.0133 - val_root_mean_squared_error: 0.1155\n",
      "Epoch 4/10000\n",
      "1356/1356 [==============================] - 59s 43ms/step - loss: 0.0181 - root_mean_squared_error: 0.1346 - val_loss: 0.0133 - val_root_mean_squared_error: 0.1154\n",
      "Epoch 5/10000\n",
      "1356/1356 [==============================] - 59s 43ms/step - loss: 0.0201 - root_mean_squared_error: 0.1418 - val_loss: 0.0126 - val_root_mean_squared_error: 0.1125\n",
      "Epoch 6/10000\n",
      "1356/1356 [==============================] - 59s 43ms/step - loss: 0.0160 - root_mean_squared_error: 0.1264 - val_loss: 0.0125 - val_root_mean_squared_error: 0.1118\n",
      "Epoch 7/10000\n",
      "1356/1356 [==============================] - 59s 43ms/step - loss: 0.0193 - root_mean_squared_error: 0.1387 - val_loss: 0.0124 - val_root_mean_squared_error: 0.1113\n",
      "Epoch 8/10000\n",
      "1356/1356 [==============================] - 59s 43ms/step - loss: 0.0194 - root_mean_squared_error: 0.1393 - val_loss: 0.0124 - val_root_mean_squared_error: 0.1113\n",
      "Epoch 9/10000\n",
      "1356/1356 [==============================] - 59s 43ms/step - loss: 0.0162 - root_mean_squared_error: 0.1274 - val_loss: 0.0121 - val_root_mean_squared_error: 0.1102\n",
      "Epoch 10/10000\n",
      "1356/1356 [==============================] - 59s 44ms/step - loss: 0.0193 - root_mean_squared_error: 0.1388 - val_loss: 0.0121 - val_root_mean_squared_error: 0.1098\n",
      "Epoch 11/10000\n",
      "1356/1356 [==============================] - 59s 43ms/step - loss: 0.0156 - root_mean_squared_error: 0.1249 - val_loss: 0.0132 - val_root_mean_squared_error: 0.1151\n",
      "Epoch 12/10000\n",
      "1356/1356 [==============================] - 59s 44ms/step - loss: 0.0141 - root_mean_squared_error: 0.1186 - val_loss: 0.0098 - val_root_mean_squared_error: 0.0991\n",
      "Epoch 13/10000\n",
      "1356/1356 [==============================] - 59s 43ms/step - loss: 0.0095 - root_mean_squared_error: 0.0977 - val_loss: 0.0071 - val_root_mean_squared_error: 0.0842\n",
      "Epoch 14/10000\n",
      "1356/1356 [==============================] - 59s 44ms/step - loss: 0.0152 - root_mean_squared_error: 0.1233 - val_loss: 0.0102 - val_root_mean_squared_error: 0.1011\n",
      "Epoch 15/10000\n",
      "1356/1356 [==============================] - 59s 44ms/step - loss: 0.0099 - root_mean_squared_error: 0.0997 - val_loss: 0.0063 - val_root_mean_squared_error: 0.0795\n",
      "Epoch 16/10000\n",
      "1356/1356 [==============================] - 59s 44ms/step - loss: 0.0059 - root_mean_squared_error: 0.0765 - val_loss: 0.0017 - val_root_mean_squared_error: 0.0414\n",
      "Epoch 17/10000\n",
      "1356/1356 [==============================] - 59s 43ms/step - loss: 0.0044 - root_mean_squared_error: 0.0663 - val_loss: 0.0013 - val_root_mean_squared_error: 0.0358\n",
      "Epoch 18/10000\n",
      "1356/1356 [==============================] - 59s 43ms/step - loss: 0.0035 - root_mean_squared_error: 0.0591 - val_loss: 9.4472e-04 - val_root_mean_squared_error: 0.0307\n",
      "Epoch 19/10000\n",
      "1356/1356 [==============================] - 59s 44ms/step - loss: 0.0031 - root_mean_squared_error: 0.0559 - val_loss: 7.1565e-04 - val_root_mean_squared_error: 0.0268\n",
      "Epoch 20/10000\n",
      "1356/1356 [==============================] - 59s 44ms/step - loss: 0.0029 - root_mean_squared_error: 0.0538 - val_loss: 0.0026 - val_root_mean_squared_error: 0.0514\n",
      "Epoch 21/10000\n",
      "1356/1356 [==============================] - 59s 43ms/step - loss: 0.0038 - root_mean_squared_error: 0.0620 - val_loss: 6.0346e-04 - val_root_mean_squared_error: 0.0246\n",
      "Epoch 22/10000\n",
      "1356/1356 [==============================] - 59s 44ms/step - loss: 0.0014 - root_mean_squared_error: 0.0380 - val_loss: 4.7763e-04 - val_root_mean_squared_error: 0.0219\n",
      "Epoch 23/10000\n",
      "1356/1356 [==============================] - 59s 44ms/step - loss: 0.0016 - root_mean_squared_error: 0.0401 - val_loss: 5.9145e-04 - val_root_mean_squared_error: 0.0243\n",
      "Epoch 24/10000\n",
      "1356/1356 [==============================] - 59s 44ms/step - loss: 0.0024 - root_mean_squared_error: 0.0487 - val_loss: 0.0013 - val_root_mean_squared_error: 0.0355\n",
      "Epoch 25/10000\n",
      "1356/1356 [==============================] - 59s 43ms/step - loss: 0.0024 - root_mean_squared_error: 0.0492 - val_loss: 5.6192e-04 - val_root_mean_squared_error: 0.0237\n",
      "Epoch 26/10000\n",
      "1356/1356 [==============================] - 59s 44ms/step - loss: 0.0021 - root_mean_squared_error: 0.0454 - val_loss: 3.4001e-04 - val_root_mean_squared_error: 0.0184\n",
      "Epoch 27/10000\n",
      "1356/1356 [==============================] - 59s 44ms/step - loss: 0.0020 - root_mean_squared_error: 0.0445 - val_loss: 3.0880e-04 - val_root_mean_squared_error: 0.0176\n",
      "Epoch 28/10000\n",
      "1356/1356 [==============================] - 59s 44ms/step - loss: 0.0015 - root_mean_squared_error: 0.0390 - val_loss: 2.8173e-04 - val_root_mean_squared_error: 0.0168\n",
      "Epoch 29/10000\n",
      "1356/1356 [==============================] - 59s 43ms/step - loss: 0.0012 - root_mean_squared_error: 0.0352 - val_loss: 7.4966e-04 - val_root_mean_squared_error: 0.0274\n",
      "Epoch 30/10000\n",
      "1356/1356 [==============================] - 59s 44ms/step - loss: 0.0017 - root_mean_squared_error: 0.0408 - val_loss: 3.4208e-04 - val_root_mean_squared_error: 0.0185\n",
      "Epoch 31/10000\n",
      "1356/1356 [==============================] - 59s 44ms/step - loss: 0.0014 - root_mean_squared_error: 0.0377 - val_loss: 0.0012 - val_root_mean_squared_error: 0.0344\n",
      "Epoch 32/10000\n",
      "1356/1356 [==============================] - 59s 44ms/step - loss: 0.0014 - root_mean_squared_error: 0.0372 - val_loss: 3.2486e-04 - val_root_mean_squared_error: 0.0180\n",
      "Epoch 33/10000\n",
      "1356/1356 [==============================] - 59s 44ms/step - loss: 0.0013 - root_mean_squared_error: 0.0364 - val_loss: 7.1035e-04 - val_root_mean_squared_error: 0.0267\n",
      "Epoch 34/10000\n",
      "1356/1356 [==============================] - 59s 43ms/step - loss: 0.0010 - root_mean_squared_error: 0.0323 - val_loss: 1.8853e-04 - val_root_mean_squared_error: 0.0137\n",
      "Epoch 35/10000\n",
      "1356/1356 [==============================] - 59s 43ms/step - loss: 4.9864e-04 - root_mean_squared_error: 0.0223 - val_loss: 2.5008e-04 - val_root_mean_squared_error: 0.0158\n",
      "Epoch 36/10000\n",
      "1356/1356 [==============================] - 59s 44ms/step - loss: 0.0011 - root_mean_squared_error: 0.0329 - val_loss: 3.2002e-04 - val_root_mean_squared_error: 0.0179\n",
      "Epoch 37/10000\n",
      "1356/1356 [==============================] - 59s 43ms/step - loss: 0.0013 - root_mean_squared_error: 0.0359 - val_loss: 2.3609e-04 - val_root_mean_squared_error: 0.0154\n",
      "Epoch 38/10000\n",
      "1356/1356 [==============================] - 59s 44ms/step - loss: 9.9538e-04 - root_mean_squared_error: 0.0315 - val_loss: 2.0188e-04 - val_root_mean_squared_error: 0.0142\n",
      "Epoch 39/10000\n",
      "1356/1356 [==============================] - 59s 43ms/step - loss: 5.5803e-04 - root_mean_squared_error: 0.0236 - val_loss: 1.5899e-04 - val_root_mean_squared_error: 0.0126\n",
      "Epoch 40/10000\n",
      "1356/1356 [==============================] - 59s 44ms/step - loss: 0.0012 - root_mean_squared_error: 0.0343 - val_loss: 1.6253e-04 - val_root_mean_squared_error: 0.0127\n",
      "Epoch 41/10000\n",
      "1356/1356 [==============================] - 59s 44ms/step - loss: 5.8897e-04 - root_mean_squared_error: 0.0243 - val_loss: 1.8930e-04 - val_root_mean_squared_error: 0.0138\n",
      "Epoch 42/10000\n",
      "1356/1356 [==============================] - 59s 43ms/step - loss: 8.6862e-04 - root_mean_squared_error: 0.0295 - val_loss: 5.8045e-04 - val_root_mean_squared_error: 0.0241\n",
      "Epoch 43/10000\n",
      "1356/1356 [==============================] - 59s 44ms/step - loss: 0.0012 - root_mean_squared_error: 0.0348 - val_loss: 2.1497e-04 - val_root_mean_squared_error: 0.0147\n",
      "Epoch 44/10000\n",
      "1356/1356 [==============================] - 59s 44ms/step - loss: 5.9955e-04 - root_mean_squared_error: 0.0245 - val_loss: 1.4086e-04 - val_root_mean_squared_error: 0.0119\n",
      "Epoch 45/10000\n",
      "1356/1356 [==============================] - 59s 44ms/step - loss: 7.0338e-04 - root_mean_squared_error: 0.0265 - val_loss: 1.3793e-04 - val_root_mean_squared_error: 0.0117\n",
      "Epoch 46/10000\n",
      "1356/1356 [==============================] - 59s 44ms/step - loss: 7.4043e-04 - root_mean_squared_error: 0.0272 - val_loss: 2.2168e-04 - val_root_mean_squared_error: 0.0149\n",
      "Epoch 47/10000\n",
      "1356/1356 [==============================] - 59s 43ms/step - loss: 7.2549e-04 - root_mean_squared_error: 0.0269 - val_loss: 1.3620e-04 - val_root_mean_squared_error: 0.0117\n",
      "Epoch 48/10000\n",
      "1356/1356 [==============================] - 59s 44ms/step - loss: 6.2639e-04 - root_mean_squared_error: 0.0250 - val_loss: 1.2402e-04 - val_root_mean_squared_error: 0.0111\n",
      "Epoch 49/10000\n",
      "1356/1356 [==============================] - 59s 44ms/step - loss: 4.9978e-04 - root_mean_squared_error: 0.0224 - val_loss: 1.7979e-04 - val_root_mean_squared_error: 0.0134\n",
      "Epoch 50/10000\n",
      "1356/1356 [==============================] - 59s 44ms/step - loss: 6.3232e-04 - root_mean_squared_error: 0.0251 - val_loss: 2.5687e-04 - val_root_mean_squared_error: 0.0160\n",
      "Epoch 51/10000\n",
      "1356/1356 [==============================] - 59s 44ms/step - loss: 5.8746e-04 - root_mean_squared_error: 0.0242 - val_loss: 2.2460e-04 - val_root_mean_squared_error: 0.0150\n",
      "Epoch 52/10000\n",
      "1356/1356 [==============================] - 59s 44ms/step - loss: 4.4107e-04 - root_mean_squared_error: 0.0210 - val_loss: 0.0137 - val_root_mean_squared_error: 0.1171\n",
      "Epoch 53/10000\n",
      "1356/1356 [==============================] - 59s 44ms/step - loss: 0.0013 - root_mean_squared_error: 0.0363 - val_loss: 1.2806e-04 - val_root_mean_squared_error: 0.0113\n",
      "Epoch 54/10000\n",
      "1356/1356 [==============================] - 59s 44ms/step - loss: 9.8466e-05 - root_mean_squared_error: 0.0099 - val_loss: 1.1991e-04 - val_root_mean_squared_error: 0.0110\n",
      "Epoch 55/10000\n",
      "1356/1356 [==============================] - 59s 43ms/step - loss: 1.8457e-04 - root_mean_squared_error: 0.0136 - val_loss: 1.2927e-04 - val_root_mean_squared_error: 0.0114\n",
      "Epoch 56/10000\n",
      "1356/1356 [==============================] - 59s 44ms/step - loss: 4.3582e-04 - root_mean_squared_error: 0.0209 - val_loss: 4.7575e-04 - val_root_mean_squared_error: 0.0218\n",
      "Epoch 57/10000\n",
      "1356/1356 [==============================] - 59s 44ms/step - loss: 8.8294e-04 - root_mean_squared_error: 0.0297 - val_loss: 1.1070e-04 - val_root_mean_squared_error: 0.0105\n",
      "Epoch 58/10000\n",
      "1356/1356 [==============================] - 59s 44ms/step - loss: 1.9671e-04 - root_mean_squared_error: 0.0140 - val_loss: 1.2203e-04 - val_root_mean_squared_error: 0.0110\n",
      "Epoch 59/10000\n",
      "1356/1356 [==============================] - 59s 44ms/step - loss: 3.9435e-04 - root_mean_squared_error: 0.0199 - val_loss: 1.0390e-04 - val_root_mean_squared_error: 0.0102\n",
      "Epoch 60/10000\n",
      "1356/1356 [==============================] - 59s 43ms/step - loss: 6.7228e-04 - root_mean_squared_error: 0.0259 - val_loss: 1.7690e-04 - val_root_mean_squared_error: 0.0133\n",
      "Epoch 61/10000\n",
      "1356/1356 [==============================] - 59s 43ms/step - loss: 4.3855e-04 - root_mean_squared_error: 0.0209 - val_loss: 1.0103e-04 - val_root_mean_squared_error: 0.0101\n",
      "Epoch 62/10000\n",
      "1356/1356 [==============================] - 59s 44ms/step - loss: 6.8131e-04 - root_mean_squared_error: 0.0261 - val_loss: 1.2577e-04 - val_root_mean_squared_error: 0.0112\n",
      "Epoch 63/10000\n",
      "1356/1356 [==============================] - 59s 44ms/step - loss: 3.8493e-04 - root_mean_squared_error: 0.0196 - val_loss: 1.8964e-04 - val_root_mean_squared_error: 0.0138\n",
      "Epoch 64/10000\n",
      "1356/1356 [==============================] - 59s 44ms/step - loss: 2.4368e-04 - root_mean_squared_error: 0.0156 - val_loss: 1.4034e-04 - val_root_mean_squared_error: 0.0118\n",
      "Epoch 65/10000\n",
      "1356/1356 [==============================] - 59s 43ms/step - loss: 4.6303e-04 - root_mean_squared_error: 0.0215 - val_loss: 9.3936e-05 - val_root_mean_squared_error: 0.0097\n",
      "Epoch 66/10000\n",
      "1356/1356 [==============================] - 59s 43ms/step - loss: 2.2697e-04 - root_mean_squared_error: 0.0151 - val_loss: 1.0502e-04 - val_root_mean_squared_error: 0.0102\n",
      "Epoch 67/10000\n",
      "1356/1356 [==============================] - 59s 44ms/step - loss: 6.1168e-04 - root_mean_squared_error: 0.0247 - val_loss: 1.1421e-04 - val_root_mean_squared_error: 0.0107\n",
      "Epoch 68/10000\n",
      "1356/1356 [==============================] - 59s 43ms/step - loss: 3.3260e-04 - root_mean_squared_error: 0.0182 - val_loss: 9.3705e-05 - val_root_mean_squared_error: 0.0097\n",
      "Epoch 69/10000\n",
      "1356/1356 [==============================] - 59s 44ms/step - loss: 2.8934e-04 - root_mean_squared_error: 0.0170 - val_loss: 2.2053e-04 - val_root_mean_squared_error: 0.0149\n",
      "Epoch 70/10000\n",
      "1356/1356 [==============================] - 59s 43ms/step - loss: 2.8931e-04 - root_mean_squared_error: 0.0170 - val_loss: 1.0434e-04 - val_root_mean_squared_error: 0.0102\n",
      "Epoch 71/10000\n",
      "1356/1356 [==============================] - 59s 43ms/step - loss: 3.2062e-04 - root_mean_squared_error: 0.0179 - val_loss: 2.9416e-04 - val_root_mean_squared_error: 0.0172\n",
      "Epoch 72/10000\n",
      "1356/1356 [==============================] - 59s 44ms/step - loss: 1.9652e-04 - root_mean_squared_error: 0.0140 - val_loss: 9.6812e-05 - val_root_mean_squared_error: 0.0098\n",
      "Epoch 73/10000\n",
      "1356/1356 [==============================] - 59s 44ms/step - loss: 3.5148e-04 - root_mean_squared_error: 0.0187 - val_loss: 2.2285e-04 - val_root_mean_squared_error: 0.0149\n",
      "Epoch 74/10000\n",
      "1356/1356 [==============================] - 59s 43ms/step - loss: 2.0343e-04 - root_mean_squared_error: 0.0143 - val_loss: 9.3399e-05 - val_root_mean_squared_error: 0.0097\n",
      "Epoch 75/10000\n",
      "1356/1356 [==============================] - 59s 44ms/step - loss: 4.9210e-04 - root_mean_squared_error: 0.0222 - val_loss: 8.3923e-05 - val_root_mean_squared_error: 0.0092\n",
      "Epoch 76/10000\n",
      "1356/1356 [==============================] - 59s 44ms/step - loss: 2.2176e-04 - root_mean_squared_error: 0.0149 - val_loss: 8.3777e-05 - val_root_mean_squared_error: 0.0092\n",
      "Epoch 77/10000\n",
      "1356/1356 [==============================] - 59s 43ms/step - loss: 3.3792e-04 - root_mean_squared_error: 0.0184 - val_loss: 2.6035e-04 - val_root_mean_squared_error: 0.0161\n",
      "Epoch 78/10000\n",
      "1356/1356 [==============================] - 59s 44ms/step - loss: 3.4181e-04 - root_mean_squared_error: 0.0185 - val_loss: 1.1905e-04 - val_root_mean_squared_error: 0.0109\n",
      "Epoch 79/10000\n",
      "1356/1356 [==============================] - 59s 43ms/step - loss: 1.6743e-04 - root_mean_squared_error: 0.0129 - val_loss: 1.7981e-04 - val_root_mean_squared_error: 0.0134\n",
      "Epoch 80/10000\n",
      "1356/1356 [==============================] - 59s 44ms/step - loss: 2.8635e-04 - root_mean_squared_error: 0.0169 - val_loss: 1.2923e-04 - val_root_mean_squared_error: 0.0114\n",
      "Epoch 81/10000\n",
      "1356/1356 [==============================] - 59s 44ms/step - loss: 1.5910e-04 - root_mean_squared_error: 0.0126 - val_loss: 7.4521e-05 - val_root_mean_squared_error: 0.0086\n",
      "Epoch 82/10000\n",
      "1356/1356 [==============================] - 59s 44ms/step - loss: 2.8836e-04 - root_mean_squared_error: 0.0170 - val_loss: 9.5556e-05 - val_root_mean_squared_error: 0.0098\n",
      "Epoch 83/10000\n",
      "1356/1356 [==============================] - 59s 43ms/step - loss: 2.2330e-04 - root_mean_squared_error: 0.0149 - val_loss: 8.9843e-05 - val_root_mean_squared_error: 0.0095\n",
      "Epoch 84/10000\n",
      "1356/1356 [==============================] - 59s 43ms/step - loss: 3.7185e-04 - root_mean_squared_error: 0.0193 - val_loss: 1.1700e-04 - val_root_mean_squared_error: 0.0108\n",
      "Epoch 85/10000\n",
      "1356/1356 [==============================] - 59s 43ms/step - loss: 1.9161e-04 - root_mean_squared_error: 0.0138 - val_loss: 7.7455e-05 - val_root_mean_squared_error: 0.0088\n",
      "Epoch 86/10000\n",
      "1356/1356 [==============================] - 59s 43ms/step - loss: 1.9066e-04 - root_mean_squared_error: 0.0138 - val_loss: 7.0730e-05 - val_root_mean_squared_error: 0.0084\n",
      "Epoch 87/10000\n",
      "1356/1356 [==============================] - 59s 44ms/step - loss: 1.4805e-04 - root_mean_squared_error: 0.0122 - val_loss: 2.1608e-04 - val_root_mean_squared_error: 0.0147\n",
      "Epoch 88/10000\n",
      "1356/1356 [==============================] - 59s 44ms/step - loss: 2.3937e-04 - root_mean_squared_error: 0.0155 - val_loss: 7.7118e-05 - val_root_mean_squared_error: 0.0088\n",
      "Epoch 89/10000\n",
      "1356/1356 [==============================] - 59s 44ms/step - loss: 1.6570e-04 - root_mean_squared_error: 0.0129 - val_loss: 8.3507e-05 - val_root_mean_squared_error: 0.0091\n",
      "Epoch 90/10000\n",
      "1356/1356 [==============================] - 59s 44ms/step - loss: 1.5246e-04 - root_mean_squared_error: 0.0123 - val_loss: 1.6147e-04 - val_root_mean_squared_error: 0.0127\n",
      "Epoch 91/10000\n",
      "1356/1356 [==============================] - 59s 43ms/step - loss: 2.0599e-04 - root_mean_squared_error: 0.0144 - val_loss: 1.4987e-04 - val_root_mean_squared_error: 0.0122\n",
      "Epoch 92/10000\n",
      "1356/1356 [==============================] - 59s 44ms/step - loss: 2.1580e-04 - root_mean_squared_error: 0.0147 - val_loss: 8.3046e-05 - val_root_mean_squared_error: 0.0091\n",
      "Epoch 93/10000\n",
      "1356/1356 [==============================] - 59s 44ms/step - loss: 1.8490e-04 - root_mean_squared_error: 0.0136 - val_loss: 9.7770e-05 - val_root_mean_squared_error: 0.0099\n",
      "Epoch 94/10000\n",
      "1356/1356 [==============================] - 59s 43ms/step - loss: 1.9723e-04 - root_mean_squared_error: 0.0140 - val_loss: 8.5179e-05 - val_root_mean_squared_error: 0.0092\n",
      "Epoch 95/10000\n",
      "1356/1356 [==============================] - 59s 43ms/step - loss: 1.6244e-04 - root_mean_squared_error: 0.0127 - val_loss: 8.7760e-05 - val_root_mean_squared_error: 0.0094\n",
      "Epoch 96/10000\n",
      "1356/1356 [==============================] - 59s 44ms/step - loss: 2.4334e-04 - root_mean_squared_error: 0.0156 - val_loss: 8.0572e-05 - val_root_mean_squared_error: 0.0090\n"
     ]
    }
   ],
   "source": [
    "history = model_both.fit([x_train[\"Smiles\"].values, x_train.iloc[:,1:].values], y_train, \n",
    "          batch_size = 1250, epochs = 10000, verbose = 1,\n",
    "          validation_data=([x_valid[\"Smiles\"].values, x_valid.iloc[:,1:].values], y_valid),\n",
    "          # validation_split = 0.25,\n",
    "            callbacks = tf.keras.callbacks.EarlyStopping(monitor = \"val_loss\", patience = 10, restore_best_weights=True,\n",
    "                                                       mode = \"min\"), \n",
    "         validation_batch_size = 1250)"
   ]
  },
  {
   "cell_type": "code",
   "execution_count": 41,
   "id": "30ba8135-a393-4be5-b221-636c23822df8",
   "metadata": {},
   "outputs": [
    {
     "name": "stderr",
     "output_type": "stream",
     "text": [
      "WARNING:absl:Found untraced functions such as lstm_cell_layer_call_fn, lstm_cell_layer_call_and_return_conditional_losses while saving (showing 2 of 2). These functions will not be directly callable after loading.\n"
     ]
    },
    {
     "name": "stdout",
     "output_type": "stream",
     "text": [
      "INFO:tensorflow:Assets written to: ..//Base_Models//Model_BOTH/assets\n"
     ]
    },
    {
     "name": "stderr",
     "output_type": "stream",
     "text": [
      "INFO:tensorflow:Assets written to: ..//Base_Models//Model_BOTH/assets\n"
     ]
    }
   ],
   "source": [
    "model_both.save(\"..//Base_Models//Model_BOTH\")"
   ]
  },
  {
   "cell_type": "code",
   "execution_count": 42,
   "id": "e3ebd686-b1ce-46bb-a20a-5481fff10397",
   "metadata": {},
   "outputs": [],
   "source": [
    "model_both = tf.keras.models.load_model(\"..//Base_Models//Model_BOTH\")"
   ]
  },
  {
   "cell_type": "code",
   "execution_count": 43,
   "id": "20bec373-fab8-4b37-a918-856ac4688e10",
   "metadata": {},
   "outputs": [
    {
     "name": "stdout",
     "output_type": "stream",
     "text": [
      "113/113 [==============================] - 8s 65ms/step - loss: 6.9949e-05 - root_mean_squared_error: 0.0084\n"
     ]
    },
    {
     "data": {
      "text/plain": [
       "[6.994865543674678e-05, 0.008363530971109867]"
      ]
     },
     "execution_count": 43,
     "metadata": {},
     "output_type": "execute_result"
    }
   ],
   "source": [
    "model_both.evaluate([x_valid[\"Smiles\"].values, x_valid.iloc[:,1:].values], y_valid, batch_size = 5000)"
   ]
  },
  {
   "cell_type": "code",
   "execution_count": 44,
   "id": "05798ecd-d9c3-47d5-9d37-6eaa68e2537e",
   "metadata": {},
   "outputs": [],
   "source": [
    "# now get predictions for the small molecule phase 3\n",
    "small_mol_phase_3_features = pd.read_csv(\"..//Data/smiles_with_rdkit_with_small_phase_3_features.csv\")"
   ]
  },
  {
   "cell_type": "code",
   "execution_count": 45,
   "id": "632e7998-75da-4bc4-a103-32abf3cd498f",
   "metadata": {},
   "outputs": [],
   "source": [
    "small_mol_phase_3_outputs = pd.read_csv(\"..//Data/smiles_with_rdkit_with_small_phase_3_outputs.csv\")"
   ]
  },
  {
   "cell_type": "code",
   "execution_count": 46,
   "id": "04e234c8-957d-482f-8120-42dbb0edb4f0",
   "metadata": {},
   "outputs": [],
   "source": [
    "# small_mol_phase_3_outputs.iloc[:,2].values"
   ]
  },
  {
   "cell_type": "code",
   "execution_count": 47,
   "id": "89b4f830-6358-4513-aa4c-c1eb18042910",
   "metadata": {},
   "outputs": [],
   "source": [
    "# small_mol_phase_3_outputs.iloc[:,0:].values"
   ]
  },
  {
   "cell_type": "code",
   "execution_count": 48,
   "id": "5ddb0e3c-2565-4649-b4d1-18b4f58a863f",
   "metadata": {},
   "outputs": [],
   "source": [
    "from sklearn.preprocessing import StandardScaler"
   ]
  },
  {
   "cell_type": "code",
   "execution_count": 49,
   "id": "6f1abce7-7079-4126-b511-1ca6d809e915",
   "metadata": {},
   "outputs": [],
   "source": [
    "# std_targets = StandardScaler()"
   ]
  },
  {
   "cell_type": "code",
   "execution_count": 50,
   "id": "922f3eb0-5881-48de-a45a-23405af8edc7",
   "metadata": {},
   "outputs": [],
   "source": [
    "import pickle"
   ]
  },
  {
   "cell_type": "code",
   "execution_count": 51,
   "id": "e89222da-cfdc-46d0-a3d2-5c456f41cdf9",
   "metadata": {},
   "outputs": [],
   "source": [
    "std_targets = pickle.load( open('..//Data//target_scaler.pkl', 'rb'))"
   ]
  },
  {
   "cell_type": "code",
   "execution_count": 52,
   "id": "334c4378-6e1a-4c39-a3d6-9b03ede2793d",
   "metadata": {},
   "outputs": [
    {
     "name": "stderr",
     "output_type": "stream",
     "text": [
      "/home/statgrads/vpiyush2/.conda/envs/tensorflow-gpu-2.9-custom/lib/python3.9/site-packages/sklearn/base.py:450: UserWarning: X does not have valid feature names, but StandardScaler was fitted with feature names\n",
      "  warnings.warn(\n"
     ]
    }
   ],
   "source": [
    "y_test_std = std_targets.transform(small_mol_phase_3_outputs.iloc[:,1:].values)"
   ]
  },
  {
   "cell_type": "code",
   "execution_count": 53,
   "id": "c1a393fd-15ca-47e9-bc45-8a159a45556d",
   "metadata": {},
   "outputs": [
    {
     "name": "stdout",
     "output_type": "stream",
     "text": [
      "1/1 [==============================] - 0s 31ms/step - loss: 0.0013 - root_mean_squared_error: 0.0355\n"
     ]
    },
    {
     "data": {
      "text/plain": [
       "[0.0012630610726773739, 0.035539571195840836]"
      ]
     },
     "execution_count": 53,
     "metadata": {},
     "output_type": "execute_result"
    }
   ],
   "source": [
    "model_both.evaluate([small_mol_phase_3_features[\"Smiles\"].values, small_mol_phase_3_features.iloc[:,1:].values],\n",
    "                     y_test_std, batch_size = 2500)"
   ]
  },
  {
   "cell_type": "code",
   "execution_count": 54,
   "id": "f3e644d0-7a1d-42e8-9b12-819edd103f0c",
   "metadata": {},
   "outputs": [
    {
     "name": "stdout",
     "output_type": "stream",
     "text": [
      "1/1 [==============================] - 1s 555ms/step\n"
     ]
    }
   ],
   "source": [
    "small_mol_phase_3_psa_preds = model_both.predict([small_mol_phase_3_features[\"Smiles\"].values, small_mol_phase_3_features.iloc[:,1:].values],\n",
    "                                                    batch_size = 2500)"
   ]
  },
  {
   "cell_type": "code",
   "execution_count": 55,
   "id": "5108ad51-d5aa-4b9a-b33c-9dd123d5d788",
   "metadata": {},
   "outputs": [],
   "source": [
    "from sklearn.metrics import mean_squared_error"
   ]
  },
  {
   "cell_type": "code",
   "execution_count": 56,
   "id": "ef8ade59-0780-4423-97de-41c4464dbcc0",
   "metadata": {},
   "outputs": [
    {
     "data": {
      "text/plain": [
       "0.046549357566851524"
      ]
     },
     "execution_count": 56,
     "metadata": {},
     "output_type": "execute_result"
    }
   ],
   "source": [
    "np.sqrt(mean_squared_error(y_test_std[:,0], small_mol_phase_3_psa_preds[:,0]))"
   ]
  },
  {
   "cell_type": "code",
   "execution_count": 57,
   "id": "3be04706-e070-4c66-9deb-f5baa779ed60",
   "metadata": {},
   "outputs": [
    {
     "data": {
      "text/plain": [
       "0.018954673617117047"
      ]
     },
     "execution_count": 57,
     "metadata": {},
     "output_type": "execute_result"
    }
   ],
   "source": [
    "np.sqrt(mean_squared_error(y_test_std[:,1], small_mol_phase_3_psa_preds[:,1]))"
   ]
  },
  {
   "cell_type": "code",
   "execution_count": 58,
   "id": "c3fa7fa8-7846-4df8-8831-5550edcbfcf6",
   "metadata": {},
   "outputs": [],
   "source": [
    "small_mol_phase_3_psa_preds = std_targets.inverse_transform(small_mol_phase_3_psa_preds)"
   ]
  },
  {
   "cell_type": "code",
   "execution_count": 59,
   "id": "585405db-ebe9-4a92-ac0b-ba2606debd79",
   "metadata": {},
   "outputs": [],
   "source": [
    "y_test_actual = small_mol_phase_3_outputs.iloc[:,1:].values"
   ]
  },
  {
   "cell_type": "code",
   "execution_count": 60,
   "id": "b5300e76-fa94-4240-96dd-77e6c9e64ffd",
   "metadata": {},
   "outputs": [
    {
     "data": {
      "text/plain": [
       "0.08785313178701441"
      ]
     },
     "execution_count": 60,
     "metadata": {},
     "output_type": "execute_result"
    }
   ],
   "source": [
    "np.sqrt(mean_squared_error(y_test_actual[:,0], small_mol_phase_3_psa_preds[:,0]))"
   ]
  },
  {
   "cell_type": "code",
   "execution_count": 61,
   "id": "0a637258-0e96-4f79-a87b-4cd9eb1c946b",
   "metadata": {},
   "outputs": [
    {
     "data": {
      "text/plain": [
       "0.8180017505902519"
      ]
     },
     "execution_count": 61,
     "metadata": {},
     "output_type": "execute_result"
    }
   ],
   "source": [
    "np.sqrt(mean_squared_error(y_test_actual[:,1], small_mol_phase_3_psa_preds[:,1]))"
   ]
  },
  {
   "cell_type": "code",
   "execution_count": 62,
   "id": "a1a42498-4339-49da-aed3-7c1779915e16",
   "metadata": {},
   "outputs": [],
   "source": [
    "# np.sqrt(((y_test_actual - small_mol_phase_3_psa_preds.mean(0))**2).mean(0))"
   ]
  },
  {
   "cell_type": "code",
   "execution_count": 63,
   "id": "20e07936-290d-4003-bdc9-5de4f766e3e6",
   "metadata": {},
   "outputs": [],
   "source": [
    "import matplotlib.pyplot as plt"
   ]
  },
  {
   "cell_type": "code",
   "execution_count": 64,
   "id": "cbd4cc3c-1047-4a5a-a426-af49af6656d9",
   "metadata": {},
   "outputs": [
    {
     "data": {
      "image/png": "[encoded data removed]",
      "text/plain": [
       "<Figure size 640x480 with 1 Axes>"
      ]
     },
     "metadata": {},
     "output_type": "display_data"
    }
   ],
   "source": [
    "plt.scatter(small_mol_phase_3_outputs.iloc[:,1].values,small_mol_phase_3_psa_preds[:,0])\n",
    "plt.axline((0,0), slope = 1, c = \"black\")\n",
    "# plt.ylim(0,500)\n",
    "plt.show()"
   ]
  },
  {
   "cell_type": "code",
   "execution_count": 65,
   "id": "531bfe67-3c35-4fb7-97ef-b74017756074",
   "metadata": {},
   "outputs": [
    {
     "data": {
      "image/png": "[encoded data removed]",
      "text/plain": [
       "<Figure size 640x480 with 1 Axes>"
      ]
     },
     "metadata": {},
     "output_type": "display_data"
    }
   ],
   "source": [
    "plt.scatter(small_mol_phase_3_outputs.iloc[:,2].values,small_mol_phase_3_psa_preds[:,1])\n",
    "plt.axline((0,0), slope = 1, c = \"black\")\n",
    "plt.ylim(0,500)\n",
    "plt.show()"
   ]
  }
 ],
 "metadata": {
  "kernelspec": {
   "display_name": "Python (enkf_gpu)",
   "language": "python",
   "name": "tf_custom_gayara_2"
  },
  "language_info": {
   "codemirror_mode": {
    "name": "ipython",
    "version": 3
   },
   "file_extension": ".py",
   "mimetype": "text/x-python",
   "name": "python",
   "nbconvert_exporter": "python",
   "pygments_lexer": "ipython3",
   "version": "3.9.13"
  }
 },
 "nbformat": 4,
 "nbformat_minor": 5
}

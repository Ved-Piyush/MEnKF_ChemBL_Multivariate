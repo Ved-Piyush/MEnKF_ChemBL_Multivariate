{
 "cells": [
  {
   "cell_type": "code",
   "execution_count": 1,
   "id": "9fbbb9b7-40d8-4c29-9ba9-38f33dfcb677",
   "metadata": {},
   "outputs": [],
   "source": [
    "import pandas as pd"
   ]
  },
  {
   "cell_type": "code",
   "execution_count": 2,
   "id": "746609f3-f18c-4a0d-81f6-ae57f430f7ca",
   "metadata": {},
   "outputs": [],
   "source": [
    "# read the bigger dataset\n",
    "bigger_data = pd.read_csv(\"..//Data//No_Filters.csv\", on_bad_lines=\"skip\", sep = \";\")"
   ]
  },
  {
   "cell_type": "code",
   "execution_count": 3,
   "id": "de0f6c04-092b-466d-9fee-5f9a24e62f0e",
   "metadata": {},
   "outputs": [
    {
     "data": {
      "text/html": [
       "<div>\n",
       "<style scoped>\n",
       "    .dataframe tbody tr th:only-of-type {\n",
       "        vertical-align: middle;\n",
       "    }\n",
       "\n",
       "    .dataframe tbody tr th {\n",
       "        vertical-align: top;\n",
       "    }\n",
       "\n",
       "    .dataframe thead th {\n",
       "        text-align: right;\n",
       "    }\n",
       "</style>\n",
       "<table border=\"1\" class=\"dataframe\">\n",
       "  <thead>\n",
       "    <tr style=\"text-align: right;\">\n",
       "      <th></th>\n",
       "      <th>ChEMBL ID</th>\n",
       "      <th>Name</th>\n",
       "      <th>Synonyms</th>\n",
       "      <th>Type</th>\n",
       "      <th>Max Phase</th>\n",
       "      <th>Molecular Weight</th>\n",
       "      <th>Targets</th>\n",
       "      <th>Bioactivities</th>\n",
       "      <th>AlogP</th>\n",
       "      <th>Polar Surface Area</th>\n",
       "      <th>...</th>\n",
       "      <th>Heavy Atoms</th>\n",
       "      <th>HBA (Lipinski)</th>\n",
       "      <th>HBD (Lipinski)</th>\n",
       "      <th>#RO5 Violations (Lipinski)</th>\n",
       "      <th>Molecular Weight (Monoisotopic)</th>\n",
       "      <th>Np Likeness Score</th>\n",
       "      <th>Molecular Species</th>\n",
       "      <th>Molecular Formula</th>\n",
       "      <th>Smiles</th>\n",
       "      <th>Inchi Key</th>\n",
       "    </tr>\n",
       "  </thead>\n",
       "  <tbody>\n",
       "    <tr>\n",
       "      <th>0</th>\n",
       "      <td>CHEMBL248825</td>\n",
       "      <td>NaN</td>\n",
       "      <td>NaN</td>\n",
       "      <td>Small molecule</td>\n",
       "      <td>NaN</td>\n",
       "      <td>337.20</td>\n",
       "      <td>4.0</td>\n",
       "      <td>5.0</td>\n",
       "      <td>5.27</td>\n",
       "      <td>39.44</td>\n",
       "      <td>...</td>\n",
       "      <td>22.0</td>\n",
       "      <td>3.0</td>\n",
       "      <td>0.0</td>\n",
       "      <td>1.0</td>\n",
       "      <td>336.0320</td>\n",
       "      <td>-0.69</td>\n",
       "      <td>NEUTRAL</td>\n",
       "      <td>C17H14Cl2O3</td>\n",
       "      <td>O=C(OCc1ccco1)C1=C(c2ccc(Cl)c(Cl)c2)CCC1</td>\n",
       "      <td>GBLKVAKAYJPCCZ-UHFFFAOYSA-N</td>\n",
       "    </tr>\n",
       "    <tr>\n",
       "      <th>1</th>\n",
       "      <td>CHEMBL149936</td>\n",
       "      <td>NaN</td>\n",
       "      <td>NaN</td>\n",
       "      <td>Small molecule</td>\n",
       "      <td>NaN</td>\n",
       "      <td>426.52</td>\n",
       "      <td>2.0</td>\n",
       "      <td>2.0</td>\n",
       "      <td>4.31</td>\n",
       "      <td>77.74</td>\n",
       "      <td>...</td>\n",
       "      <td>29.0</td>\n",
       "      <td>6.0</td>\n",
       "      <td>0.0</td>\n",
       "      <td>0.0</td>\n",
       "      <td>426.0708</td>\n",
       "      <td>-1.44</td>\n",
       "      <td>NEUTRAL</td>\n",
       "      <td>C21H18N2O4S2</td>\n",
       "      <td>CCOC(=O)c1csc2nc(-c3ccccc3)c(-c3ccc(S(C)(=O)=O...</td>\n",
       "      <td>DAWMTLYDEHXOQA-UHFFFAOYSA-N</td>\n",
       "    </tr>\n",
       "    <tr>\n",
       "      <th>2</th>\n",
       "      <td>CHEMBL4169504</td>\n",
       "      <td>NaN</td>\n",
       "      <td>NaN</td>\n",
       "      <td>Small molecule</td>\n",
       "      <td>NaN</td>\n",
       "      <td>365.53</td>\n",
       "      <td>6.0</td>\n",
       "      <td>7.0</td>\n",
       "      <td>1.95</td>\n",
       "      <td>43.43</td>\n",
       "      <td>...</td>\n",
       "      <td>27.0</td>\n",
       "      <td>5.0</td>\n",
       "      <td>2.0</td>\n",
       "      <td>0.0</td>\n",
       "      <td>365.2579</td>\n",
       "      <td>-0.81</td>\n",
       "      <td>BASE</td>\n",
       "      <td>C22H31N5</td>\n",
       "      <td>Cc1cccnc1CN(C)C[C@H]1Cc2c(cccc2N2CCNCC2)CN1</td>\n",
       "      <td>PVNIDCOYVLXXDG-LJQANCHMSA-N</td>\n",
       "    </tr>\n",
       "    <tr>\n",
       "      <th>3</th>\n",
       "      <td>CHEMBL3915507</td>\n",
       "      <td>NaN</td>\n",
       "      <td>NaN</td>\n",
       "      <td>Small molecule</td>\n",
       "      <td>NaN</td>\n",
       "      <td>488.55</td>\n",
       "      <td>3.0</td>\n",
       "      <td>3.0</td>\n",
       "      <td>3.69</td>\n",
       "      <td>89.66</td>\n",
       "      <td>...</td>\n",
       "      <td>36.0</td>\n",
       "      <td>8.0</td>\n",
       "      <td>1.0</td>\n",
       "      <td>0.0</td>\n",
       "      <td>488.2248</td>\n",
       "      <td>-1.27</td>\n",
       "      <td>NEUTRAL</td>\n",
       "      <td>C26H26F2N8</td>\n",
       "      <td>N#CCC1(n2cc(-c3ncnc4[nH]ccc34)cn2)CN(C2CCN(Cc3...</td>\n",
       "      <td>PXTAZAMVQUUMPE-UHFFFAOYSA-N</td>\n",
       "    </tr>\n",
       "    <tr>\n",
       "      <th>4</th>\n",
       "      <td>CHEMBL1306661</td>\n",
       "      <td>NaN</td>\n",
       "      <td>NaN</td>\n",
       "      <td>Small molecule</td>\n",
       "      <td>NaN</td>\n",
       "      <td>452.29</td>\n",
       "      <td>7.0</td>\n",
       "      <td>8.0</td>\n",
       "      <td>3.86</td>\n",
       "      <td>106.45</td>\n",
       "      <td>...</td>\n",
       "      <td>30.0</td>\n",
       "      <td>8.0</td>\n",
       "      <td>2.0</td>\n",
       "      <td>0.0</td>\n",
       "      <td>451.0702</td>\n",
       "      <td>-1.16</td>\n",
       "      <td>NEUTRAL</td>\n",
       "      <td>C20H19Cl2N3O5</td>\n",
       "      <td>COC(CNC(=O)c1cc(C(=O)c2c(-c3c(Cl)cccc3Cl)noc2C...</td>\n",
       "      <td>CTGKDJWQALIMRS-UHFFFAOYSA-N</td>\n",
       "    </tr>\n",
       "  </tbody>\n",
       "</table>\n",
       "<p>5 rows × 33 columns</p>\n",
       "</div>"
      ],
      "text/plain": [
       "       ChEMBL ID Name Synonyms            Type  Max Phase  Molecular Weight   \n",
       "0   CHEMBL248825  NaN      NaN  Small molecule        NaN            337.20  \\\n",
       "1   CHEMBL149936  NaN      NaN  Small molecule        NaN            426.52   \n",
       "2  CHEMBL4169504  NaN      NaN  Small molecule        NaN            365.53   \n",
       "3  CHEMBL3915507  NaN      NaN  Small molecule        NaN            488.55   \n",
       "4  CHEMBL1306661  NaN      NaN  Small molecule        NaN            452.29   \n",
       "\n",
       "   Targets  Bioactivities  AlogP  Polar Surface Area  ...  Heavy Atoms   \n",
       "0      4.0            5.0   5.27               39.44  ...         22.0  \\\n",
       "1      2.0            2.0   4.31               77.74  ...         29.0   \n",
       "2      6.0            7.0   1.95               43.43  ...         27.0   \n",
       "3      3.0            3.0   3.69               89.66  ...         36.0   \n",
       "4      7.0            8.0   3.86              106.45  ...         30.0   \n",
       "\n",
       "   HBA (Lipinski)  HBD (Lipinski)  #RO5 Violations (Lipinski)   \n",
       "0             3.0             0.0                         1.0  \\\n",
       "1             6.0             0.0                         0.0   \n",
       "2             5.0             2.0                         0.0   \n",
       "3             8.0             1.0                         0.0   \n",
       "4             8.0             2.0                         0.0   \n",
       "\n",
       "  Molecular Weight (Monoisotopic)  Np Likeness Score  Molecular Species   \n",
       "0                        336.0320              -0.69            NEUTRAL  \\\n",
       "1                        426.0708              -1.44            NEUTRAL   \n",
       "2                        365.2579              -0.81               BASE   \n",
       "3                        488.2248              -1.27            NEUTRAL   \n",
       "4                        451.0702              -1.16            NEUTRAL   \n",
       "\n",
       "   Molecular Formula                                             Smiles   \n",
       "0        C17H14Cl2O3           O=C(OCc1ccco1)C1=C(c2ccc(Cl)c(Cl)c2)CCC1  \\\n",
       "1       C21H18N2O4S2  CCOC(=O)c1csc2nc(-c3ccccc3)c(-c3ccc(S(C)(=O)=O...   \n",
       "2           C22H31N5        Cc1cccnc1CN(C)C[C@H]1Cc2c(cccc2N2CCNCC2)CN1   \n",
       "3         C26H26F2N8  N#CCC1(n2cc(-c3ncnc4[nH]ccc34)cn2)CN(C2CCN(Cc3...   \n",
       "4      C20H19Cl2N3O5  COC(CNC(=O)c1cc(C(=O)c2c(-c3c(Cl)cccc3Cl)noc2C...   \n",
       "\n",
       "                     Inchi Key  \n",
       "0  GBLKVAKAYJPCCZ-UHFFFAOYSA-N  \n",
       "1  DAWMTLYDEHXOQA-UHFFFAOYSA-N  \n",
       "2  PVNIDCOYVLXXDG-LJQANCHMSA-N  \n",
       "3  PXTAZAMVQUUMPE-UHFFFAOYSA-N  \n",
       "4  CTGKDJWQALIMRS-UHFFFAOYSA-N  \n",
       "\n",
       "[5 rows x 33 columns]"
      ]
     },
     "execution_count": 3,
     "metadata": {},
     "output_type": "execute_result"
    }
   ],
   "source": [
    "bigger_data.head()"
   ]
  },
  {
   "cell_type": "code",
   "execution_count": 4,
   "id": "25960234-2997-4a25-ad3b-fac60bf7926e",
   "metadata": {},
   "outputs": [],
   "source": [
    "bigger_data = bigger_data[[\"ChEMBL ID\", \"Smiles\", \"AlogP\", \"Polar Surface Area\"]]"
   ]
  },
  {
   "cell_type": "code",
   "execution_count": 5,
   "id": "9d7859a0-104d-4d40-abc8-936fa8cf5c92",
   "metadata": {},
   "outputs": [],
   "source": [
    "## read the smaller data\n",
    "smaller_data = pd.read_csv(\"..//Data//Small_Molecule_Phase_3.csv\", on_bad_lines=\"skip\", sep = \";\")"
   ]
  },
  {
   "cell_type": "code",
   "execution_count": 6,
   "id": "c34aefcc-3323-4cf3-9cc0-57c5c69bf418",
   "metadata": {},
   "outputs": [],
   "source": [
    "smaller_data = smaller_data[[\"ChEMBL ID\", \"Smiles\", \"AlogP\", \"Polar Surface Area\"]]"
   ]
  },
  {
   "cell_type": "code",
   "execution_count": 7,
   "id": "31975401-7223-4c91-81c0-4c16b2fd6058",
   "metadata": {},
   "outputs": [],
   "source": [
    "combined_data = pd.concat([bigger_data, smaller_data], ignore_index = True, axis = 0)"
   ]
  },
  {
   "cell_type": "code",
   "execution_count": 8,
   "id": "290a36de-2c1f-4255-9426-9b76c723ca59",
   "metadata": {},
   "outputs": [
    {
     "data": {
      "text/plain": [
       "True"
      ]
     },
     "execution_count": 8,
     "metadata": {},
     "output_type": "execute_result"
    }
   ],
   "source": [
    "combined_data.shape[0] == smaller_data.shape[0] + bigger_data.shape[0]"
   ]
  },
  {
   "cell_type": "code",
   "execution_count": 9,
   "id": "76552eb8-305f-4b27-85c9-0ad382a3a775",
   "metadata": {},
   "outputs": [
    {
     "data": {
      "text/plain": [
       "(2356075, 4)"
      ]
     },
     "execution_count": 9,
     "metadata": {},
     "output_type": "execute_result"
    }
   ],
   "source": [
    "combined_data.shape"
   ]
  },
  {
   "cell_type": "code",
   "execution_count": 10,
   "id": "e6b13bf7-55a5-4f43-816f-f9dd2643fd4f",
   "metadata": {},
   "outputs": [
    {
     "data": {
      "text/plain": [
       "ChEMBL ID                 0\n",
       "Smiles                27107\n",
       "AlogP                 85115\n",
       "Polar Surface Area    85115\n",
       "dtype: int64"
      ]
     },
     "execution_count": 10,
     "metadata": {},
     "output_type": "execute_result"
    }
   ],
   "source": [
    "combined_data.isnull().sum()"
   ]
  },
  {
   "cell_type": "code",
   "execution_count": 11,
   "id": "88fcb8fc-4913-4f1a-b53d-226e71baa0c7",
   "metadata": {},
   "outputs": [],
   "source": [
    "combined_data = combined_data.dropna()"
   ]
  },
  {
   "cell_type": "code",
   "execution_count": 12,
   "id": "dc0bc318-d672-45c3-8a59-c0b46e68d8dd",
   "metadata": {},
   "outputs": [
    {
     "data": {
      "text/plain": [
       "ChEMBL ID             0\n",
       "Smiles                0\n",
       "AlogP                 0\n",
       "Polar Surface Area    0\n",
       "dtype: int64"
      ]
     },
     "execution_count": 12,
     "metadata": {},
     "output_type": "execute_result"
    }
   ],
   "source": [
    "combined_data.isnull().sum()"
   ]
  },
  {
   "cell_type": "code",
   "execution_count": null,
   "id": "928b1836-4eeb-4f03-92a7-55632bf3ad48",
   "metadata": {},
   "outputs": [],
   "source": [
    "combined_data.to_csv(\"..//Data//combined_data.csv\", index = False)"
   ]
  }
 ],
 "metadata": {
  "kernelspec": {
   "display_name": "enkf",
   "language": "python",
   "name": "enkf"
  },
  "language_info": {
   "codemirror_mode": {
    "name": "ipython",
    "version": 3
   },
   "file_extension": ".py",
   "mimetype": "text/x-python",
   "name": "python",
   "nbconvert_exporter": "python",
   "pygments_lexer": "ipython3",
   "version": "3.11.3"
  }
 },
 "nbformat": 4,
 "nbformat_minor": 5
}

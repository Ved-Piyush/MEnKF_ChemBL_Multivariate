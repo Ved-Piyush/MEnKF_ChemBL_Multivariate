{
 "cells": [
  {
   "cell_type": "code",
   "execution_count": 1,
   "id": "9e004c45-b933-4606-943a-7580c6c2fdb9",
   "metadata": {},
   "outputs": [
    {
     "name": "stderr",
     "output_type": "stream",
     "text": [
      "2023-06-05 01:16:52.626677: I tensorflow/core/util/util.cc:169] oneDNN custom operations are on. You may see slightly different numerical results due to floating-point round-off errors from different computation orders. To turn them off, set the environment variable `TF_ENABLE_ONEDNN_OPTS=0`.\n"
     ]
    }
   ],
   "source": [
    "import tensorflow as tf"
   ]
  },
  {
   "cell_type": "code",
   "execution_count": 2,
   "id": "a88da504-15b5-4566-9ba6-ad3c0f37aba8",
   "metadata": {},
   "outputs": [],
   "source": [
    "import pandas as pd"
   ]
  },
  {
   "cell_type": "code",
   "execution_count": 3,
   "id": "30223025-730c-4bad-bb20-e2b110273e14",
   "metadata": {},
   "outputs": [],
   "source": [
    "smiles_with_rdkit = pd.read_csv(\"..//Data//combined_data_with_rdkit.csv\")"
   ]
  },
  {
   "cell_type": "code",
   "execution_count": 4,
   "id": "d06379cd-6ab7-47de-a6e3-0629a71ff476",
   "metadata": {},
   "outputs": [
    {
     "data": {
      "text/plain": [
       "(2272938, 211)"
      ]
     },
     "execution_count": 4,
     "metadata": {},
     "output_type": "execute_result"
    }
   ],
   "source": [
    "smiles_with_rdkit.shape"
   ]
  },
  {
   "cell_type": "code",
   "execution_count": 5,
   "id": "9cf241bf-f492-47fd-9745-6043c0c59853",
   "metadata": {},
   "outputs": [],
   "source": [
    "smiles_with_rdkit = smiles_with_rdkit.dropna()"
   ]
  },
  {
   "cell_type": "code",
   "execution_count": 6,
   "id": "b674b834-a470-46e4-8bbb-4556ee8b5ed4",
   "metadata": {},
   "outputs": [
    {
     "data": {
      "text/plain": [
       "(2263096, 211)"
      ]
     },
     "execution_count": 6,
     "metadata": {},
     "output_type": "execute_result"
    }
   ],
   "source": [
    "smiles_with_rdkit.shape"
   ]
  },
  {
   "cell_type": "code",
   "execution_count": 7,
   "id": "5ee5dde0-6fdf-49a8-a72d-81cb2411b331",
   "metadata": {},
   "outputs": [],
   "source": [
    "smiles_with_rdkit = smiles_with_rdkit.drop_duplicates([\"ChEMBL ID\"])"
   ]
  },
  {
   "cell_type": "code",
   "execution_count": 8,
   "id": "62fa72b2-da88-47de-b97b-7b172fe0d619",
   "metadata": {},
   "outputs": [
    {
     "data": {
      "text/plain": [
       "(2260219, 211)"
      ]
     },
     "execution_count": 8,
     "metadata": {},
     "output_type": "execute_result"
    }
   ],
   "source": [
    "smiles_with_rdkit.shape"
   ]
  },
  {
   "cell_type": "code",
   "execution_count": 9,
   "id": "6806e734-6d12-482a-bac9-b21330ec6df5",
   "metadata": {},
   "outputs": [],
   "source": [
    "# smiles_with_rdkit[\"ChEMBL ID\"].nunique()"
   ]
  },
  {
   "cell_type": "code",
   "execution_count": 10,
   "id": "242f9c05-1047-4b29-9717-a43c36a33358",
   "metadata": {},
   "outputs": [],
   "source": [
    "# read in the small molecule phase 3 data\n",
    "smaller_data = pd.read_csv(\"..//Data//Small_Molecule_Phase_3.csv\", on_bad_lines=\"skip\", sep = \";\")"
   ]
  },
  {
   "cell_type": "code",
   "execution_count": 11,
   "id": "215ff212-f65d-4d2b-ab20-69fd42ed36db",
   "metadata": {},
   "outputs": [
    {
     "data": {
      "text/html": [
       "<div>\n",
       "<style scoped>\n",
       "    .dataframe tbody tr th:only-of-type {\n",
       "        vertical-align: middle;\n",
       "    }\n",
       "\n",
       "    .dataframe tbody tr th {\n",
       "        vertical-align: top;\n",
       "    }\n",
       "\n",
       "    .dataframe thead th {\n",
       "        text-align: right;\n",
       "    }\n",
       "</style>\n",
       "<table border=\"1\" class=\"dataframe\">\n",
       "  <thead>\n",
       "    <tr style=\"text-align: right;\">\n",
       "      <th></th>\n",
       "      <th>ChEMBL ID</th>\n",
       "      <th>Name</th>\n",
       "      <th>Synonyms</th>\n",
       "      <th>Type</th>\n",
       "      <th>Max Phase</th>\n",
       "      <th>Molecular Weight</th>\n",
       "      <th>Targets</th>\n",
       "      <th>Bioactivities</th>\n",
       "      <th>AlogP</th>\n",
       "      <th>Polar Surface Area</th>\n",
       "      <th>...</th>\n",
       "      <th>Heavy Atoms</th>\n",
       "      <th>HBA (Lipinski)</th>\n",
       "      <th>HBD (Lipinski)</th>\n",
       "      <th>#RO5 Violations (Lipinski)</th>\n",
       "      <th>Molecular Weight (Monoisotopic)</th>\n",
       "      <th>Np Likeness Score</th>\n",
       "      <th>Molecular Species</th>\n",
       "      <th>Molecular Formula</th>\n",
       "      <th>Smiles</th>\n",
       "      <th>Inchi Key</th>\n",
       "    </tr>\n",
       "  </thead>\n",
       "  <tbody>\n",
       "    <tr>\n",
       "      <th>0</th>\n",
       "      <td>CHEMBL4297324</td>\n",
       "      <td>REMIMAZOLAM TOSYLATE</td>\n",
       "      <td>REMIMAZOLAM TOSILATE|REMIMAZOLAM TOSYLATE</td>\n",
       "      <td>Small molecule</td>\n",
       "      <td>3.0</td>\n",
       "      <td>611.52</td>\n",
       "      <td>NaN</td>\n",
       "      <td>NaN</td>\n",
       "      <td>4.18</td>\n",
       "      <td>69.37</td>\n",
       "      <td>...</td>\n",
       "      <td>28</td>\n",
       "      <td>6</td>\n",
       "      <td>0</td>\n",
       "      <td>0</td>\n",
       "      <td>438.0691</td>\n",
       "      <td>-0.59</td>\n",
       "      <td>NEUTRAL</td>\n",
       "      <td>C28H27BrN4O5S</td>\n",
       "      <td>COC(=O)CC[C@@H]1N=C(c2ccccn2)c2cc(Br)ccc2-n2c(...</td>\n",
       "      <td>UNLWPYSYFQLJSV-LMOVPXPDSA-N</td>\n",
       "    </tr>\n",
       "    <tr>\n",
       "      <th>1</th>\n",
       "      <td>CHEMBL4297424</td>\n",
       "      <td>RUBIDIUM RB-82</td>\n",
       "      <td>RUBIDIUM (82 RB)|RUBIDIUM (RB-82)|RUBIDIUM RB-...</td>\n",
       "      <td>Small molecule</td>\n",
       "      <td>3.0</td>\n",
       "      <td>81.92</td>\n",
       "      <td>NaN</td>\n",
       "      <td>NaN</td>\n",
       "      <td>None</td>\n",
       "      <td>None</td>\n",
       "      <td>...</td>\n",
       "      <td>None</td>\n",
       "      <td>None</td>\n",
       "      <td>None</td>\n",
       "      <td>None</td>\n",
       "      <td>84.9118</td>\n",
       "      <td>None</td>\n",
       "      <td>None</td>\n",
       "      <td>Rb</td>\n",
       "      <td>[82Rb]</td>\n",
       "      <td>IGLNJRXAVVLDKE-OIOBTWANSA-N</td>\n",
       "    </tr>\n",
       "    <tr>\n",
       "      <th>2</th>\n",
       "      <td>CHEMBL545437</td>\n",
       "      <td>AMIBEGRON HYDROCHLORIDE</td>\n",
       "      <td>AMIBEGRON HCL|Amibegron hydrochloride|SR-58611...</td>\n",
       "      <td>Small molecule</td>\n",
       "      <td>3.0</td>\n",
       "      <td>440.37</td>\n",
       "      <td>4.0</td>\n",
       "      <td>10.0</td>\n",
       "      <td>3.46</td>\n",
       "      <td>67.79</td>\n",
       "      <td>...</td>\n",
       "      <td>28</td>\n",
       "      <td>5</td>\n",
       "      <td>2</td>\n",
       "      <td>0</td>\n",
       "      <td>403.1550</td>\n",
       "      <td>-0.80</td>\n",
       "      <td>BASE</td>\n",
       "      <td>C22H27Cl2NO4</td>\n",
       "      <td>CCOC(=O)COc1ccc2c(c1)C[C@@H](NC[C@H](O)c1cccc(...</td>\n",
       "      <td>NQIZCDQCNYCVAS-RQBPZYBGSA-N</td>\n",
       "    </tr>\n",
       "    <tr>\n",
       "      <th>3</th>\n",
       "      <td>CHEMBL3039533</td>\n",
       "      <td>GRAZOPREVIR</td>\n",
       "      <td>GRAZOPREVIR</td>\n",
       "      <td>Small molecule</td>\n",
       "      <td>3.0</td>\n",
       "      <td>784.93</td>\n",
       "      <td>NaN</td>\n",
       "      <td>NaN</td>\n",
       "      <td>3.30</td>\n",
       "      <td>195.22</td>\n",
       "      <td>...</td>\n",
       "      <td>54</td>\n",
       "      <td>15</td>\n",
       "      <td>3</td>\n",
       "      <td>2</td>\n",
       "      <td>766.3360</td>\n",
       "      <td>0.23</td>\n",
       "      <td>ACID</td>\n",
       "      <td>C38H52N6O10S</td>\n",
       "      <td>C=C[C@@H]1C[C@]1(NC(=O)[C@@H]1C[C@@H]2CN1C(=O)...</td>\n",
       "      <td>RXSARIJMSJWJLZ-CIAYNJNFSA-N</td>\n",
       "    </tr>\n",
       "    <tr>\n",
       "      <th>4</th>\n",
       "      <td>CHEMBL4297407</td>\n",
       "      <td>ALTROPANE I-123</td>\n",
       "      <td>(123I)ALTROPANE|123I-ALTROPANE|ALTROPANE I-123...</td>\n",
       "      <td>Small molecule</td>\n",
       "      <td>3.0</td>\n",
       "      <td>425.27</td>\n",
       "      <td>NaN</td>\n",
       "      <td>NaN</td>\n",
       "      <td>3.88</td>\n",
       "      <td>29.54</td>\n",
       "      <td>...</td>\n",
       "      <td>23</td>\n",
       "      <td>3</td>\n",
       "      <td>0</td>\n",
       "      <td>0</td>\n",
       "      <td>429.0601</td>\n",
       "      <td>0.19</td>\n",
       "      <td>NEUTRAL</td>\n",
       "      <td>C18H21FINO2</td>\n",
       "      <td>COC(=O)[C@H]1[C@@H](c2ccc(F)cc2)C[C@@H]2CC[C@H...</td>\n",
       "      <td>GTQLIPQFXVKRKJ-HYRAKNMCSA-N</td>\n",
       "    </tr>\n",
       "  </tbody>\n",
       "</table>\n",
       "<p>5 rows × 33 columns</p>\n",
       "</div>"
      ],
      "text/plain": [
       "       ChEMBL ID                     Name  \\\n",
       "0  CHEMBL4297324     REMIMAZOLAM TOSYLATE   \n",
       "1  CHEMBL4297424           RUBIDIUM RB-82   \n",
       "2   CHEMBL545437  AMIBEGRON HYDROCHLORIDE   \n",
       "3  CHEMBL3039533              GRAZOPREVIR   \n",
       "4  CHEMBL4297407          ALTROPANE I-123   \n",
       "\n",
       "                                            Synonyms            Type  \\\n",
       "0          REMIMAZOLAM TOSILATE|REMIMAZOLAM TOSYLATE  Small molecule   \n",
       "1  RUBIDIUM (82 RB)|RUBIDIUM (RB-82)|RUBIDIUM RB-...  Small molecule   \n",
       "2  AMIBEGRON HCL|Amibegron hydrochloride|SR-58611...  Small molecule   \n",
       "3                                        GRAZOPREVIR  Small molecule   \n",
       "4  (123I)ALTROPANE|123I-ALTROPANE|ALTROPANE I-123...  Small molecule   \n",
       "\n",
       "   Max Phase  Molecular Weight  Targets  Bioactivities AlogP  \\\n",
       "0        3.0            611.52      NaN            NaN  4.18   \n",
       "1        3.0             81.92      NaN            NaN  None   \n",
       "2        3.0            440.37      4.0           10.0  3.46   \n",
       "3        3.0            784.93      NaN            NaN  3.30   \n",
       "4        3.0            425.27      NaN            NaN  3.88   \n",
       "\n",
       "  Polar Surface Area  ... Heavy Atoms HBA (Lipinski) HBD (Lipinski)  \\\n",
       "0              69.37  ...          28              6              0   \n",
       "1               None  ...        None           None           None   \n",
       "2              67.79  ...          28              5              2   \n",
       "3             195.22  ...          54             15              3   \n",
       "4              29.54  ...          23              3              0   \n",
       "\n",
       "  #RO5 Violations (Lipinski) Molecular Weight (Monoisotopic)  \\\n",
       "0                          0                        438.0691   \n",
       "1                       None                         84.9118   \n",
       "2                          0                        403.1550   \n",
       "3                          2                        766.3360   \n",
       "4                          0                        429.0601   \n",
       "\n",
       "  Np Likeness Score Molecular Species Molecular Formula  \\\n",
       "0             -0.59           NEUTRAL     C28H27BrN4O5S   \n",
       "1              None              None                Rb   \n",
       "2             -0.80              BASE      C22H27Cl2NO4   \n",
       "3              0.23              ACID      C38H52N6O10S   \n",
       "4              0.19           NEUTRAL       C18H21FINO2   \n",
       "\n",
       "                                              Smiles  \\\n",
       "0  COC(=O)CC[C@@H]1N=C(c2ccccn2)c2cc(Br)ccc2-n2c(...   \n",
       "1                                             [82Rb]   \n",
       "2  CCOC(=O)COc1ccc2c(c1)C[C@@H](NC[C@H](O)c1cccc(...   \n",
       "3  C=C[C@@H]1C[C@]1(NC(=O)[C@@H]1C[C@@H]2CN1C(=O)...   \n",
       "4  COC(=O)[C@H]1[C@@H](c2ccc(F)cc2)C[C@@H]2CC[C@H...   \n",
       "\n",
       "                     Inchi Key  \n",
       "0  UNLWPYSYFQLJSV-LMOVPXPDSA-N  \n",
       "1  IGLNJRXAVVLDKE-OIOBTWANSA-N  \n",
       "2  NQIZCDQCNYCVAS-RQBPZYBGSA-N  \n",
       "3  RXSARIJMSJWJLZ-CIAYNJNFSA-N  \n",
       "4  GTQLIPQFXVKRKJ-HYRAKNMCSA-N  \n",
       "\n",
       "[5 rows x 33 columns]"
      ]
     },
     "execution_count": 11,
     "metadata": {},
     "output_type": "execute_result"
    }
   ],
   "source": [
    "smaller_data.head()"
   ]
  },
  {
   "cell_type": "code",
   "execution_count": 12,
   "id": "1ca911af-21af-4d47-8457-d692542cf527",
   "metadata": {},
   "outputs": [
    {
     "data": {
      "text/plain": [
       "(1110, 33)"
      ]
     },
     "execution_count": 12,
     "metadata": {},
     "output_type": "execute_result"
    }
   ],
   "source": [
    "smaller_data.shape"
   ]
  },
  {
   "cell_type": "code",
   "execution_count": 13,
   "id": "5f19cb79-d6ce-49d0-bac5-8bc6c501a0b5",
   "metadata": {},
   "outputs": [],
   "source": [
    "smaller_data = smaller_data.drop_duplicates([\"ChEMBL ID\"])"
   ]
  },
  {
   "cell_type": "code",
   "execution_count": 14,
   "id": "d0e66bfb-c753-4194-806c-9537569f55f6",
   "metadata": {},
   "outputs": [
    {
     "data": {
      "text/plain": [
       "(1110, 33)"
      ]
     },
     "execution_count": 14,
     "metadata": {},
     "output_type": "execute_result"
    }
   ],
   "source": [
    "smaller_data.shape"
   ]
  },
  {
   "cell_type": "code",
   "execution_count": 15,
   "id": "69c49bcc-a65c-4010-8773-993eefe8775d",
   "metadata": {},
   "outputs": [],
   "source": [
    "# remove smaller data samples from smiles with rdkit\n",
    "smiles_with_rdkit_wo_small_phase_3 = smiles_with_rdkit[~smiles_with_rdkit[\"ChEMBL ID\"].isin(smaller_data[\"ChEMBL ID\"].values)]"
   ]
  },
  {
   "cell_type": "code",
   "execution_count": 16,
   "id": "53200aa6-bc95-47c3-88c5-a42618403797",
   "metadata": {},
   "outputs": [
    {
     "data": {
      "text/plain": [
       "(2259260, 211)"
      ]
     },
     "execution_count": 16,
     "metadata": {},
     "output_type": "execute_result"
    }
   ],
   "source": [
    "smiles_with_rdkit_wo_small_phase_3.shape"
   ]
  },
  {
   "cell_type": "code",
   "execution_count": 17,
   "id": "1dbf0a71-466a-4568-9e1f-48569cd25b73",
   "metadata": {},
   "outputs": [],
   "source": [
    "features = smiles_with_rdkit_wo_small_phase_3.drop([\"ChEMBL ID\", \"AlogP\", \"Polar Surface Area\"], axis = 1)"
   ]
  },
  {
   "cell_type": "code",
   "execution_count": 18,
   "id": "775969c9-dcc5-4310-bc19-6c6e4b16ea49",
   "metadata": {},
   "outputs": [
    {
     "data": {
      "text/html": [
       "<div>\n",
       "<style scoped>\n",
       "    .dataframe tbody tr th:only-of-type {\n",
       "        vertical-align: middle;\n",
       "    }\n",
       "\n",
       "    .dataframe tbody tr th {\n",
       "        vertical-align: top;\n",
       "    }\n",
       "\n",
       "    .dataframe thead th {\n",
       "        text-align: right;\n",
       "    }\n",
       "</style>\n",
       "<table border=\"1\" class=\"dataframe\">\n",
       "  <thead>\n",
       "    <tr style=\"text-align: right;\">\n",
       "      <th></th>\n",
       "      <th>Smiles</th>\n",
       "      <th>MaxAbsEStateIndex</th>\n",
       "      <th>MaxEStateIndex</th>\n",
       "      <th>MinAbsEStateIndex</th>\n",
       "      <th>MinEStateIndex</th>\n",
       "      <th>qed</th>\n",
       "      <th>MolWt</th>\n",
       "      <th>HeavyAtomMolWt</th>\n",
       "      <th>ExactMolWt</th>\n",
       "      <th>NumValenceElectrons</th>\n",
       "      <th>...</th>\n",
       "      <th>fr_sulfide</th>\n",
       "      <th>fr_sulfonamd</th>\n",
       "      <th>fr_sulfone</th>\n",
       "      <th>fr_term_acetylene</th>\n",
       "      <th>fr_tetrazole</th>\n",
       "      <th>fr_thiazole</th>\n",
       "      <th>fr_thiocyan</th>\n",
       "      <th>fr_thiophene</th>\n",
       "      <th>fr_unbrch_alkane</th>\n",
       "      <th>fr_urea</th>\n",
       "    </tr>\n",
       "  </thead>\n",
       "  <tbody>\n",
       "    <tr>\n",
       "      <th>0</th>\n",
       "      <td>O=C(OCc1ccco1)C1=C(c2ccc(Cl)c(Cl)c2)CCC1</td>\n",
       "      <td>12.295307</td>\n",
       "      <td>12.295307</td>\n",
       "      <td>0.142845</td>\n",
       "      <td>-0.296322</td>\n",
       "      <td>0.713880</td>\n",
       "      <td>337.202</td>\n",
       "      <td>323.090</td>\n",
       "      <td>336.032000</td>\n",
       "      <td>114.0</td>\n",
       "      <td>...</td>\n",
       "      <td>0.0</td>\n",
       "      <td>0.0</td>\n",
       "      <td>0.0</td>\n",
       "      <td>0.0</td>\n",
       "      <td>0.0</td>\n",
       "      <td>0.0</td>\n",
       "      <td>0.0</td>\n",
       "      <td>0.0</td>\n",
       "      <td>0.0</td>\n",
       "      <td>0.0</td>\n",
       "    </tr>\n",
       "    <tr>\n",
       "      <th>1</th>\n",
       "      <td>CCOC(=O)c1csc2nc(-c3ccccc3)c(-c3ccc(S(C)(=O)=O...</td>\n",
       "      <td>12.491187</td>\n",
       "      <td>12.491187</td>\n",
       "      <td>0.235375</td>\n",
       "      <td>-3.305778</td>\n",
       "      <td>0.444525</td>\n",
       "      <td>426.519</td>\n",
       "      <td>408.375</td>\n",
       "      <td>426.070799</td>\n",
       "      <td>148.0</td>\n",
       "      <td>...</td>\n",
       "      <td>0.0</td>\n",
       "      <td>0.0</td>\n",
       "      <td>1.0</td>\n",
       "      <td>0.0</td>\n",
       "      <td>0.0</td>\n",
       "      <td>1.0</td>\n",
       "      <td>0.0</td>\n",
       "      <td>0.0</td>\n",
       "      <td>0.0</td>\n",
       "      <td>0.0</td>\n",
       "    </tr>\n",
       "    <tr>\n",
       "      <th>2</th>\n",
       "      <td>Cc1cccnc1CN(C)C[C@H]1Cc2c(cccc2N2CCNCC2)CN1</td>\n",
       "      <td>4.547914</td>\n",
       "      <td>4.547914</td>\n",
       "      <td>0.482022</td>\n",
       "      <td>0.482022</td>\n",
       "      <td>0.847856</td>\n",
       "      <td>365.525</td>\n",
       "      <td>334.277</td>\n",
       "      <td>365.257946</td>\n",
       "      <td>144.0</td>\n",
       "      <td>...</td>\n",
       "      <td>0.0</td>\n",
       "      <td>0.0</td>\n",
       "      <td>0.0</td>\n",
       "      <td>0.0</td>\n",
       "      <td>0.0</td>\n",
       "      <td>0.0</td>\n",
       "      <td>0.0</td>\n",
       "      <td>0.0</td>\n",
       "      <td>0.0</td>\n",
       "      <td>0.0</td>\n",
       "    </tr>\n",
       "    <tr>\n",
       "      <th>3</th>\n",
       "      <td>N#CCC1(n2cc(-c3ncnc4[nH]ccc34)cn2)CN(C2CCN(Cc3...</td>\n",
       "      <td>14.045580</td>\n",
       "      <td>14.045580</td>\n",
       "      <td>0.355489</td>\n",
       "      <td>-0.548433</td>\n",
       "      <td>0.445375</td>\n",
       "      <td>488.546</td>\n",
       "      <td>462.338</td>\n",
       "      <td>488.224849</td>\n",
       "      <td>184.0</td>\n",
       "      <td>...</td>\n",
       "      <td>0.0</td>\n",
       "      <td>0.0</td>\n",
       "      <td>0.0</td>\n",
       "      <td>0.0</td>\n",
       "      <td>0.0</td>\n",
       "      <td>0.0</td>\n",
       "      <td>0.0</td>\n",
       "      <td>0.0</td>\n",
       "      <td>0.0</td>\n",
       "      <td>0.0</td>\n",
       "    </tr>\n",
       "    <tr>\n",
       "      <th>4</th>\n",
       "      <td>COC(CNC(=O)c1cc(C(=O)c2c(-c3c(Cl)cccc3Cl)noc2C...</td>\n",
       "      <td>13.161794</td>\n",
       "      <td>13.161794</td>\n",
       "      <td>0.146870</td>\n",
       "      <td>-0.576299</td>\n",
       "      <td>0.397212</td>\n",
       "      <td>452.294</td>\n",
       "      <td>433.142</td>\n",
       "      <td>451.070176</td>\n",
       "      <td>158.0</td>\n",
       "      <td>...</td>\n",
       "      <td>0.0</td>\n",
       "      <td>0.0</td>\n",
       "      <td>0.0</td>\n",
       "      <td>0.0</td>\n",
       "      <td>0.0</td>\n",
       "      <td>0.0</td>\n",
       "      <td>0.0</td>\n",
       "      <td>0.0</td>\n",
       "      <td>0.0</td>\n",
       "      <td>0.0</td>\n",
       "    </tr>\n",
       "  </tbody>\n",
       "</table>\n",
       "<p>5 rows × 208 columns</p>\n",
       "</div>"
      ],
      "text/plain": [
       "                                              Smiles  MaxAbsEStateIndex  \\\n",
       "0           O=C(OCc1ccco1)C1=C(c2ccc(Cl)c(Cl)c2)CCC1          12.295307   \n",
       "1  CCOC(=O)c1csc2nc(-c3ccccc3)c(-c3ccc(S(C)(=O)=O...          12.491187   \n",
       "2        Cc1cccnc1CN(C)C[C@H]1Cc2c(cccc2N2CCNCC2)CN1           4.547914   \n",
       "3  N#CCC1(n2cc(-c3ncnc4[nH]ccc34)cn2)CN(C2CCN(Cc3...          14.045580   \n",
       "4  COC(CNC(=O)c1cc(C(=O)c2c(-c3c(Cl)cccc3Cl)noc2C...          13.161794   \n",
       "\n",
       "   MaxEStateIndex  MinAbsEStateIndex  MinEStateIndex       qed    MolWt  \\\n",
       "0       12.295307           0.142845       -0.296322  0.713880  337.202   \n",
       "1       12.491187           0.235375       -3.305778  0.444525  426.519   \n",
       "2        4.547914           0.482022        0.482022  0.847856  365.525   \n",
       "3       14.045580           0.355489       -0.548433  0.445375  488.546   \n",
       "4       13.161794           0.146870       -0.576299  0.397212  452.294   \n",
       "\n",
       "   HeavyAtomMolWt  ExactMolWt  NumValenceElectrons  ...  fr_sulfide  \\\n",
       "0         323.090  336.032000                114.0  ...         0.0   \n",
       "1         408.375  426.070799                148.0  ...         0.0   \n",
       "2         334.277  365.257946                144.0  ...         0.0   \n",
       "3         462.338  488.224849                184.0  ...         0.0   \n",
       "4         433.142  451.070176                158.0  ...         0.0   \n",
       "\n",
       "   fr_sulfonamd  fr_sulfone  fr_term_acetylene  fr_tetrazole  fr_thiazole  \\\n",
       "0           0.0         0.0                0.0           0.0          0.0   \n",
       "1           0.0         1.0                0.0           0.0          1.0   \n",
       "2           0.0         0.0                0.0           0.0          0.0   \n",
       "3           0.0         0.0                0.0           0.0          0.0   \n",
       "4           0.0         0.0                0.0           0.0          0.0   \n",
       "\n",
       "   fr_thiocyan  fr_thiophene  fr_unbrch_alkane  fr_urea  \n",
       "0          0.0           0.0               0.0      0.0  \n",
       "1          0.0           0.0               0.0      0.0  \n",
       "2          0.0           0.0               0.0      0.0  \n",
       "3          0.0           0.0               0.0      0.0  \n",
       "4          0.0           0.0               0.0      0.0  \n",
       "\n",
       "[5 rows x 208 columns]"
      ]
     },
     "execution_count": 18,
     "metadata": {},
     "output_type": "execute_result"
    }
   ],
   "source": [
    "features.head()"
   ]
  },
  {
   "cell_type": "code",
   "execution_count": 19,
   "id": "715cd5c5-908a-4279-aa9d-b37ca9869cfd",
   "metadata": {},
   "outputs": [],
   "source": [
    "targets = smiles_with_rdkit_wo_small_phase_3[[\"AlogP\", \"Polar Surface Area\"]]"
   ]
  },
  {
   "cell_type": "code",
   "execution_count": 20,
   "id": "337b172f-00a7-4a0e-b745-6ff2502b4604",
   "metadata": {},
   "outputs": [
    {
     "data": {
      "text/html": [
       "<div>\n",
       "<style scoped>\n",
       "    .dataframe tbody tr th:only-of-type {\n",
       "        vertical-align: middle;\n",
       "    }\n",
       "\n",
       "    .dataframe tbody tr th {\n",
       "        vertical-align: top;\n",
       "    }\n",
       "\n",
       "    .dataframe thead th {\n",
       "        text-align: right;\n",
       "    }\n",
       "</style>\n",
       "<table border=\"1\" class=\"dataframe\">\n",
       "  <thead>\n",
       "    <tr style=\"text-align: right;\">\n",
       "      <th></th>\n",
       "      <th>AlogP</th>\n",
       "      <th>Polar Surface Area</th>\n",
       "    </tr>\n",
       "  </thead>\n",
       "  <tbody>\n",
       "    <tr>\n",
       "      <th>0</th>\n",
       "      <td>5.27</td>\n",
       "      <td>39.44</td>\n",
       "    </tr>\n",
       "    <tr>\n",
       "      <th>1</th>\n",
       "      <td>4.31</td>\n",
       "      <td>77.74</td>\n",
       "    </tr>\n",
       "    <tr>\n",
       "      <th>2</th>\n",
       "      <td>1.95</td>\n",
       "      <td>43.43</td>\n",
       "    </tr>\n",
       "    <tr>\n",
       "      <th>3</th>\n",
       "      <td>3.69</td>\n",
       "      <td>89.66</td>\n",
       "    </tr>\n",
       "    <tr>\n",
       "      <th>4</th>\n",
       "      <td>3.86</td>\n",
       "      <td>106.45</td>\n",
       "    </tr>\n",
       "  </tbody>\n",
       "</table>\n",
       "</div>"
      ],
      "text/plain": [
       "   AlogP  Polar Surface Area\n",
       "0   5.27               39.44\n",
       "1   4.31               77.74\n",
       "2   1.95               43.43\n",
       "3   3.69               89.66\n",
       "4   3.86              106.45"
      ]
     },
     "execution_count": 20,
     "metadata": {},
     "output_type": "execute_result"
    }
   ],
   "source": [
    "targets.head()"
   ]
  },
  {
   "cell_type": "code",
   "execution_count": 21,
   "id": "98123be4-e5df-4f8d-959d-eb584eef5e32",
   "metadata": {},
   "outputs": [],
   "source": [
    "import matplotlib.pyplot as plt"
   ]
  },
  {
   "cell_type": "code",
   "execution_count": 22,
   "id": "a02d692b-1ddb-42ad-a9c3-f793dde6eb51",
   "metadata": {},
   "outputs": [],
   "source": [
    "# plt.hist(targets)\n",
    "# plt.show()"
   ]
  },
  {
   "cell_type": "code",
   "execution_count": 23,
   "id": "320a2f45-d78e-4a18-986a-17be61e00949",
   "metadata": {},
   "outputs": [],
   "source": [
    "from sklearn.model_selection import train_test_split"
   ]
  },
  {
   "cell_type": "code",
   "execution_count": 24,
   "id": "5a0514b2-fc66-460b-b241-5a5b8a1bcaea",
   "metadata": {},
   "outputs": [],
   "source": [
    "x_train, x_valid, y_train, y_valid = train_test_split(features, targets, test_size = 0.25, shuffle = True, \n",
    "                                                     random_state = 42)"
   ]
  },
  {
   "cell_type": "code",
   "execution_count": 25,
   "id": "f6a5e5c6-7538-4dfa-b403-8657f78c5bbc",
   "metadata": {},
   "outputs": [
    {
     "data": {
      "text/html": [
       "<div>\n",
       "<style scoped>\n",
       "    .dataframe tbody tr th:only-of-type {\n",
       "        vertical-align: middle;\n",
       "    }\n",
       "\n",
       "    .dataframe tbody tr th {\n",
       "        vertical-align: top;\n",
       "    }\n",
       "\n",
       "    .dataframe thead th {\n",
       "        text-align: right;\n",
       "    }\n",
       "</style>\n",
       "<table border=\"1\" class=\"dataframe\">\n",
       "  <thead>\n",
       "    <tr style=\"text-align: right;\">\n",
       "      <th></th>\n",
       "      <th>Smiles</th>\n",
       "      <th>MaxAbsEStateIndex</th>\n",
       "      <th>MaxEStateIndex</th>\n",
       "      <th>MinAbsEStateIndex</th>\n",
       "      <th>MinEStateIndex</th>\n",
       "      <th>qed</th>\n",
       "      <th>MolWt</th>\n",
       "      <th>HeavyAtomMolWt</th>\n",
       "      <th>ExactMolWt</th>\n",
       "      <th>NumValenceElectrons</th>\n",
       "      <th>...</th>\n",
       "      <th>fr_sulfide</th>\n",
       "      <th>fr_sulfonamd</th>\n",
       "      <th>fr_sulfone</th>\n",
       "      <th>fr_term_acetylene</th>\n",
       "      <th>fr_tetrazole</th>\n",
       "      <th>fr_thiazole</th>\n",
       "      <th>fr_thiocyan</th>\n",
       "      <th>fr_thiophene</th>\n",
       "      <th>fr_unbrch_alkane</th>\n",
       "      <th>fr_urea</th>\n",
       "    </tr>\n",
       "  </thead>\n",
       "  <tbody>\n",
       "    <tr>\n",
       "      <th>653009</th>\n",
       "      <td>CN(C(=O)COC(=O)c1ccc(C(C)(C)C)cc1)C1CCS(=O)(=O)C1</td>\n",
       "      <td>12.116300</td>\n",
       "      <td>12.116300</td>\n",
       "      <td>0.011179</td>\n",
       "      <td>-3.066142</td>\n",
       "      <td>0.758054</td>\n",
       "      <td>367.467</td>\n",
       "      <td>342.267</td>\n",
       "      <td>367.145344</td>\n",
       "      <td>138.0</td>\n",
       "      <td>...</td>\n",
       "      <td>0.0</td>\n",
       "      <td>0.0</td>\n",
       "      <td>1.0</td>\n",
       "      <td>0.0</td>\n",
       "      <td>0.0</td>\n",
       "      <td>0.0</td>\n",
       "      <td>0.0</td>\n",
       "      <td>0.0</td>\n",
       "      <td>0.0</td>\n",
       "      <td>0.0</td>\n",
       "    </tr>\n",
       "    <tr>\n",
       "      <th>2201368</th>\n",
       "      <td>CCOP(=O)(OCC)C(CC1CCCC(C)C1=O)P(=O)(OCC)OCC</td>\n",
       "      <td>13.483605</td>\n",
       "      <td>13.483605</td>\n",
       "      <td>0.049496</td>\n",
       "      <td>-3.788657</td>\n",
       "      <td>0.405067</td>\n",
       "      <td>412.400</td>\n",
       "      <td>378.128</td>\n",
       "      <td>412.177977</td>\n",
       "      <td>154.0</td>\n",
       "      <td>...</td>\n",
       "      <td>0.0</td>\n",
       "      <td>0.0</td>\n",
       "      <td>0.0</td>\n",
       "      <td>0.0</td>\n",
       "      <td>0.0</td>\n",
       "      <td>0.0</td>\n",
       "      <td>0.0</td>\n",
       "      <td>0.0</td>\n",
       "      <td>0.0</td>\n",
       "      <td>0.0</td>\n",
       "    </tr>\n",
       "    <tr>\n",
       "      <th>217562</th>\n",
       "      <td>CC1CN(c2ccc(Nc3ncc4c(n3)n(C3CCCC3)c(=O)c3nnnn3...</td>\n",
       "      <td>13.203823</td>\n",
       "      <td>13.203823</td>\n",
       "      <td>0.099583</td>\n",
       "      <td>-0.210295</td>\n",
       "      <td>0.472687</td>\n",
       "      <td>460.546</td>\n",
       "      <td>432.322</td>\n",
       "      <td>460.244756</td>\n",
       "      <td>176.0</td>\n",
       "      <td>...</td>\n",
       "      <td>0.0</td>\n",
       "      <td>0.0</td>\n",
       "      <td>0.0</td>\n",
       "      <td>0.0</td>\n",
       "      <td>1.0</td>\n",
       "      <td>0.0</td>\n",
       "      <td>0.0</td>\n",
       "      <td>0.0</td>\n",
       "      <td>0.0</td>\n",
       "      <td>0.0</td>\n",
       "    </tr>\n",
       "    <tr>\n",
       "      <th>1289860</th>\n",
       "      <td>CN1C(=O)[C@@H](O)[C@@H](c2ccccc2)[C@@H]1[C@@H]...</td>\n",
       "      <td>12.199822</td>\n",
       "      <td>12.199822</td>\n",
       "      <td>0.352931</td>\n",
       "      <td>-1.128924</td>\n",
       "      <td>0.906376</td>\n",
       "      <td>297.354</td>\n",
       "      <td>278.202</td>\n",
       "      <td>297.136493</td>\n",
       "      <td>114.0</td>\n",
       "      <td>...</td>\n",
       "      <td>0.0</td>\n",
       "      <td>0.0</td>\n",
       "      <td>0.0</td>\n",
       "      <td>0.0</td>\n",
       "      <td>0.0</td>\n",
       "      <td>0.0</td>\n",
       "      <td>0.0</td>\n",
       "      <td>0.0</td>\n",
       "      <td>0.0</td>\n",
       "      <td>0.0</td>\n",
       "    </tr>\n",
       "    <tr>\n",
       "      <th>1489876</th>\n",
       "      <td>CCC(=O)NCC(C)(C)C(=O)N1CCCC[C@H]1C(=O)O[C@H](C...</td>\n",
       "      <td>13.608971</td>\n",
       "      <td>13.608971</td>\n",
       "      <td>0.105869</td>\n",
       "      <td>-0.840324</td>\n",
       "      <td>0.388304</td>\n",
       "      <td>538.685</td>\n",
       "      <td>496.349</td>\n",
       "      <td>538.304287</td>\n",
       "      <td>212.0</td>\n",
       "      <td>...</td>\n",
       "      <td>0.0</td>\n",
       "      <td>0.0</td>\n",
       "      <td>0.0</td>\n",
       "      <td>0.0</td>\n",
       "      <td>0.0</td>\n",
       "      <td>0.0</td>\n",
       "      <td>0.0</td>\n",
       "      <td>0.0</td>\n",
       "      <td>0.0</td>\n",
       "      <td>0.0</td>\n",
       "    </tr>\n",
       "  </tbody>\n",
       "</table>\n",
       "<p>5 rows × 208 columns</p>\n",
       "</div>"
      ],
      "text/plain": [
       "                                                    Smiles  MaxAbsEStateIndex  \\\n",
       "653009   CN(C(=O)COC(=O)c1ccc(C(C)(C)C)cc1)C1CCS(=O)(=O)C1          12.116300   \n",
       "2201368        CCOP(=O)(OCC)C(CC1CCCC(C)C1=O)P(=O)(OCC)OCC          13.483605   \n",
       "217562   CC1CN(c2ccc(Nc3ncc4c(n3)n(C3CCCC3)c(=O)c3nnnn3...          13.203823   \n",
       "1289860  CN1C(=O)[C@@H](O)[C@@H](c2ccccc2)[C@@H]1[C@@H]...          12.199822   \n",
       "1489876  CCC(=O)NCC(C)(C)C(=O)N1CCCC[C@H]1C(=O)O[C@H](C...          13.608971   \n",
       "\n",
       "         MaxEStateIndex  MinAbsEStateIndex  MinEStateIndex       qed    MolWt  \\\n",
       "653009        12.116300           0.011179       -3.066142  0.758054  367.467   \n",
       "2201368       13.483605           0.049496       -3.788657  0.405067  412.400   \n",
       "217562        13.203823           0.099583       -0.210295  0.472687  460.546   \n",
       "1289860       12.199822           0.352931       -1.128924  0.906376  297.354   \n",
       "1489876       13.608971           0.105869       -0.840324  0.388304  538.685   \n",
       "\n",
       "         HeavyAtomMolWt  ExactMolWt  NumValenceElectrons  ...  fr_sulfide  \\\n",
       "653009          342.267  367.145344                138.0  ...         0.0   \n",
       "2201368         378.128  412.177977                154.0  ...         0.0   \n",
       "217562          432.322  460.244756                176.0  ...         0.0   \n",
       "1289860         278.202  297.136493                114.0  ...         0.0   \n",
       "1489876         496.349  538.304287                212.0  ...         0.0   \n",
       "\n",
       "         fr_sulfonamd  fr_sulfone  fr_term_acetylene  fr_tetrazole  \\\n",
       "653009            0.0         1.0                0.0           0.0   \n",
       "2201368           0.0         0.0                0.0           0.0   \n",
       "217562            0.0         0.0                0.0           1.0   \n",
       "1289860           0.0         0.0                0.0           0.0   \n",
       "1489876           0.0         0.0                0.0           0.0   \n",
       "\n",
       "         fr_thiazole  fr_thiocyan  fr_thiophene  fr_unbrch_alkane  fr_urea  \n",
       "653009           0.0          0.0           0.0               0.0      0.0  \n",
       "2201368          0.0          0.0           0.0               0.0      0.0  \n",
       "217562           0.0          0.0           0.0               0.0      0.0  \n",
       "1289860          0.0          0.0           0.0               0.0      0.0  \n",
       "1489876          0.0          0.0           0.0               0.0      0.0  \n",
       "\n",
       "[5 rows x 208 columns]"
      ]
     },
     "execution_count": 25,
     "metadata": {},
     "output_type": "execute_result"
    }
   ],
   "source": [
    "x_train.head()"
   ]
  },
  {
   "cell_type": "code",
   "execution_count": 26,
   "id": "ab44d1c5-aa4c-4907-9799-c550b77f962a",
   "metadata": {},
   "outputs": [
    {
     "data": {
      "text/plain": [
       "0"
      ]
     },
     "execution_count": 26,
     "metadata": {},
     "output_type": "execute_result"
    }
   ],
   "source": [
    "x_train.isnull().sum().sum()"
   ]
  },
  {
   "cell_type": "code",
   "execution_count": 27,
   "id": "aa69d8c9-6f2d-400d-9a98-369857723768",
   "metadata": {},
   "outputs": [
    {
     "data": {
      "text/plain": [
       "0"
      ]
     },
     "execution_count": 27,
     "metadata": {},
     "output_type": "execute_result"
    }
   ],
   "source": [
    "x_valid.isnull().sum().sum()"
   ]
  },
  {
   "cell_type": "code",
   "execution_count": 28,
   "id": "dd0686bf-0ed4-44c7-a1ab-949fe60fa4d0",
   "metadata": {},
   "outputs": [],
   "source": [
    "from sklearn.feature_selection import VarianceThreshold"
   ]
  },
  {
   "cell_type": "code",
   "execution_count": 29,
   "id": "16a9c0e3-c524-47e7-a69d-b14cae807133",
   "metadata": {},
   "outputs": [],
   "source": [
    "vt = VarianceThreshold(1)"
   ]
  },
  {
   "cell_type": "code",
   "execution_count": 30,
   "id": "0bca6635-3afc-45d7-9a9f-2e020670c14b",
   "metadata": {},
   "outputs": [],
   "source": [
    "x_train_rdkit_selected = vt.fit_transform(x_train.iloc[:,1:])"
   ]
  },
  {
   "cell_type": "code",
   "execution_count": 31,
   "id": "46322285-92c8-4295-b435-17e4b1b19651",
   "metadata": {},
   "outputs": [],
   "source": [
    "from sklearn.preprocessing import StandardScaler"
   ]
  },
  {
   "cell_type": "code",
   "execution_count": 32,
   "id": "1e3f675f-97a5-42d9-a231-f35fa783793d",
   "metadata": {},
   "outputs": [],
   "source": [
    "std = StandardScaler()"
   ]
  },
  {
   "cell_type": "code",
   "execution_count": 33,
   "id": "f10c26d5-39a4-4ef9-a974-a3563a148f6e",
   "metadata": {},
   "outputs": [],
   "source": [
    "x_train_rdkit_selected = std.fit_transform(x_train_rdkit_selected)"
   ]
  },
  {
   "cell_type": "code",
   "execution_count": 34,
   "id": "1455b1d0-912a-4139-a5a6-c56e1751e597",
   "metadata": {},
   "outputs": [],
   "source": [
    "import pickle"
   ]
  },
  {
   "cell_type": "code",
   "execution_count": 35,
   "id": "2de78820-d728-4485-ba0f-3992b630b1f2",
   "metadata": {},
   "outputs": [],
   "source": [
    "pickle.dump(std, open('..//Data//std_scaler.pkl', 'wb'))"
   ]
  },
  {
   "cell_type": "code",
   "execution_count": 36,
   "id": "431a0040-1ebf-447c-9585-f2553de73a14",
   "metadata": {},
   "outputs": [],
   "source": [
    "x_valid_rdkit_selected = vt.transform(x_valid.iloc[:,1:])"
   ]
  },
  {
   "cell_type": "code",
   "execution_count": 37,
   "id": "91975cfa-06ac-4767-a336-03186774a77b",
   "metadata": {},
   "outputs": [],
   "source": [
    "x_valid_rdkit_selected = std.transform(x_valid_rdkit_selected)"
   ]
  },
  {
   "cell_type": "code",
   "execution_count": 38,
   "id": "06aa2c60-c448-4171-aa4a-fd2c8fce4893",
   "metadata": {},
   "outputs": [
    {
     "data": {
      "text/plain": [
       "(1694445, 104)"
      ]
     },
     "execution_count": 38,
     "metadata": {},
     "output_type": "execute_result"
    }
   ],
   "source": [
    "x_train_rdkit_selected.shape"
   ]
  },
  {
   "cell_type": "code",
   "execution_count": 39,
   "id": "0213893e-95b8-40db-86bc-71425d8c405a",
   "metadata": {},
   "outputs": [
    {
     "data": {
      "text/plain": [
       "(1694445, 208)"
      ]
     },
     "execution_count": 39,
     "metadata": {},
     "output_type": "execute_result"
    }
   ],
   "source": [
    "x_train.shape"
   ]
  },
  {
   "cell_type": "code",
   "execution_count": 40,
   "id": "9a04e0fe-fee8-4139-ae70-49229244ed67",
   "metadata": {},
   "outputs": [],
   "source": [
    "# vt.variances_"
   ]
  },
  {
   "cell_type": "code",
   "execution_count": 41,
   "id": "296867ff-fbcf-4108-ab4e-b4b60ca309fa",
   "metadata": {},
   "outputs": [],
   "source": [
    "# len(vt.get_feature_names_out(vt.feature_names_in_))"
   ]
  },
  {
   "cell_type": "code",
   "execution_count": 42,
   "id": "94800906-81dc-4a2d-9ebf-a57c152c54c5",
   "metadata": {},
   "outputs": [],
   "source": [
    "x_train = pd.concat([x_train[[\"Smiles\"]].reset_index(drop = True), pd.DataFrame(x_train_rdkit_selected)], axis = 1)"
   ]
  },
  {
   "cell_type": "code",
   "execution_count": 43,
   "id": "0507ba33-ede7-4cbe-a138-648f94d21dc7",
   "metadata": {},
   "outputs": [
    {
     "data": {
      "text/plain": [
       "(1694445, 105)"
      ]
     },
     "execution_count": 43,
     "metadata": {},
     "output_type": "execute_result"
    }
   ],
   "source": [
    "x_train.shape"
   ]
  },
  {
   "cell_type": "code",
   "execution_count": 44,
   "id": "5f627258-3f42-498b-b3ed-a8f68bee5fa6",
   "metadata": {},
   "outputs": [
    {
     "data": {
      "text/plain": [
       "(564815, 208)"
      ]
     },
     "execution_count": 44,
     "metadata": {},
     "output_type": "execute_result"
    }
   ],
   "source": [
    "x_valid.shape"
   ]
  },
  {
   "cell_type": "code",
   "execution_count": 45,
   "id": "fcff5ad4-f13c-43a5-9f36-2a9a9dba40ed",
   "metadata": {},
   "outputs": [
    {
     "name": "stderr",
     "output_type": "stream",
     "text": [
      "/tmp/ipykernel_1763297/1857118243.py:1: FutureWarning: In a future version of pandas all arguments of concat except for the argument 'objs' will be keyword-only.\n",
      "  x_valid = pd.concat([x_valid[[\"Smiles\"]].reset_index(drop = True), pd.DataFrame(x_valid_rdkit_selected)], 1)\n"
     ]
    }
   ],
   "source": [
    "x_valid = pd.concat([x_valid[[\"Smiles\"]].reset_index(drop = True), pd.DataFrame(x_valid_rdkit_selected)], 1)"
   ]
  },
  {
   "cell_type": "code",
   "execution_count": 46,
   "id": "e21c08ed-74bf-4c6c-bad6-5cfd898f7e2b",
   "metadata": {},
   "outputs": [
    {
     "data": {
      "text/plain": [
       "(564815, 105)"
      ]
     },
     "execution_count": 46,
     "metadata": {},
     "output_type": "execute_result"
    }
   ],
   "source": [
    "x_valid.shape"
   ]
  },
  {
   "cell_type": "code",
   "execution_count": 47,
   "id": "fad083ac-4404-4de5-92a9-bd569264147f",
   "metadata": {},
   "outputs": [],
   "source": [
    "# x_train.isnull().sum().sum()"
   ]
  },
  {
   "cell_type": "code",
   "execution_count": 48,
   "id": "cd268ae4-e519-4934-a97d-98246644edc2",
   "metadata": {},
   "outputs": [],
   "source": [
    "## save\n",
    "x_train.to_csv(\"..//Data//x_train.csv\", index = False)\n",
    "x_valid.to_csv(\"..//Data//x_valid.csv\", index = False)"
   ]
  },
  {
   "cell_type": "code",
   "execution_count": 49,
   "id": "5dcdfa69-6fc5-4da9-bfe4-7f669d1fd912",
   "metadata": {},
   "outputs": [],
   "source": [
    "y_train.to_csv(\"..//Data//y_train.csv\", index = False)\n",
    "y_valid.to_csv(\"..//Data//y_valid.csv\", index = False)"
   ]
  },
  {
   "cell_type": "code",
   "execution_count": 50,
   "id": "1e03fab8-b211-4d7c-8f8c-3305bde1f583",
   "metadata": {},
   "outputs": [],
   "source": [
    "# remove smaller data samples from smiles with rdkit\n",
    "smiles_with_rdkit_with_small_phase_3 = smiles_with_rdkit[smiles_with_rdkit[\"ChEMBL ID\"].isin(smaller_data[\"ChEMBL ID\"].values)]"
   ]
  },
  {
   "cell_type": "code",
   "execution_count": 51,
   "id": "aec02782-cb1a-415e-9dbd-83cf8cc416d1",
   "metadata": {},
   "outputs": [],
   "source": [
    "# smiles_with_rdkit_with_small_phase_3.shape"
   ]
  },
  {
   "cell_type": "code",
   "execution_count": 52,
   "id": "58ec23ed-53f6-44df-872d-05d3b4e2b620",
   "metadata": {},
   "outputs": [],
   "source": [
    "smiles_with_rdkit_with_small_phase_3_features, smiles_with_rdkit_with_small_phase_3_outputs = \\\n",
    "smiles_with_rdkit_with_small_phase_3.drop([\"ChEMBL ID\", \"AlogP\", \"Polar Surface Area\"], axis = 1), \\\n",
    "smiles_with_rdkit_with_small_phase_3[[\"ChEMBL ID\", \"AlogP\", \"Polar Surface Area\"]]                     "
   ]
  },
  {
   "cell_type": "code",
   "execution_count": 53,
   "id": "e8b6b7aa-5826-4a3e-8340-cab6c74b0b73",
   "metadata": {},
   "outputs": [
    {
     "data": {
      "text/plain": [
       "(959, 208)"
      ]
     },
     "execution_count": 53,
     "metadata": {},
     "output_type": "execute_result"
    }
   ],
   "source": [
    "smiles_with_rdkit_with_small_phase_3_features.shape"
   ]
  },
  {
   "cell_type": "code",
   "execution_count": 54,
   "id": "f46bbb93-ed95-4385-976c-7f77c84673ea",
   "metadata": {},
   "outputs": [],
   "source": [
    "smiles_with_rdkit_with_small_phase_3_features_selected = vt.transform(smiles_with_rdkit_with_small_phase_3_features.iloc[:,1:])"
   ]
  },
  {
   "cell_type": "code",
   "execution_count": 55,
   "id": "109cc6ef-2edf-4eb2-94b1-9ed76695d4ec",
   "metadata": {},
   "outputs": [],
   "source": [
    "smiles_with_rdkit_with_small_phase_3_features_selected = std.transform(smiles_with_rdkit_with_small_phase_3_features_selected)"
   ]
  },
  {
   "cell_type": "code",
   "execution_count": 56,
   "id": "73fc29de-570a-4f3f-b836-9abe79a49b8b",
   "metadata": {},
   "outputs": [
    {
     "name": "stderr",
     "output_type": "stream",
     "text": [
      "/tmp/ipykernel_1763297/3565475699.py:1: FutureWarning: In a future version of pandas all arguments of concat except for the argument 'objs' will be keyword-only.\n",
      "  smiles_with_rdkit_with_small_phase_3_features = pd.concat([smiles_with_rdkit_with_small_phase_3_features[[\"Smiles\"]].reset_index(drop = True), pd.DataFrame(smiles_with_rdkit_with_small_phase_3_features_selected)], 1)\n"
     ]
    }
   ],
   "source": [
    "smiles_with_rdkit_with_small_phase_3_features = pd.concat([smiles_with_rdkit_with_small_phase_3_features[[\"Smiles\"]].reset_index(drop = True), pd.DataFrame(smiles_with_rdkit_with_small_phase_3_features_selected)], 1)"
   ]
  },
  {
   "cell_type": "code",
   "execution_count": 57,
   "id": "a53f5058-2e90-423b-ba4b-3a385d6e2e60",
   "metadata": {},
   "outputs": [
    {
     "data": {
      "text/plain": [
       "(959, 105)"
      ]
     },
     "execution_count": 57,
     "metadata": {},
     "output_type": "execute_result"
    }
   ],
   "source": [
    "smiles_with_rdkit_with_small_phase_3_features.shape"
   ]
  },
  {
   "cell_type": "code",
   "execution_count": 58,
   "id": "43d888c3-4afb-4722-a1c3-e5d09ccbc0c2",
   "metadata": {},
   "outputs": [
    {
     "data": {
      "text/plain": [
       "(959, 3)"
      ]
     },
     "execution_count": 58,
     "metadata": {},
     "output_type": "execute_result"
    }
   ],
   "source": [
    "smiles_with_rdkit_with_small_phase_3_outputs.shape"
   ]
  },
  {
   "cell_type": "code",
   "execution_count": 59,
   "id": "592f8f43-5cb2-4ecd-9e93-827750314c4b",
   "metadata": {},
   "outputs": [],
   "source": [
    "# len(smiles_with_rdkit_with_small_phase_3_features.columns == features.columns)"
   ]
  },
  {
   "cell_type": "code",
   "execution_count": 60,
   "id": "3b7bb524-d543-420e-8dd7-1a3135a0d7f9",
   "metadata": {},
   "outputs": [],
   "source": [
    "smiles_with_rdkit_with_small_phase_3_features.to_csv(\"..//Data//smiles_with_rdkit_with_small_phase_3_features.csv\", index = False)\n",
    "smiles_with_rdkit_with_small_phase_3_outputs.to_csv(\"..//Data//smiles_with_rdkit_with_small_phase_3_outputs.csv\", index = False)"
   ]
  },
  {
   "cell_type": "code",
   "execution_count": 61,
   "id": "a27baea9-3f38-4f0b-8d15-1b796e67a0fb",
   "metadata": {},
   "outputs": [],
   "source": [
    "# smiles_with_rdkit_with_small_phase_3.to_csv(\"smiles_with_rdkit_with_small_phase_3.csv\", index = False)"
   ]
  }
 ],
 "metadata": {
  "kernelspec": {
   "display_name": "Python (enkf_gpu)",
   "language": "python",
   "name": "tf_custom_gayara_2"
  },
  "language_info": {
   "codemirror_mode": {
    "name": "ipython",
    "version": 3
   },
   "file_extension": ".py",
   "mimetype": "text/x-python",
   "name": "python",
   "nbconvert_exporter": "python",
   "pygments_lexer": "ipython3",
   "version": "3.9.13"
  }
 },
 "nbformat": 4,
 "nbformat_minor": 5
}
